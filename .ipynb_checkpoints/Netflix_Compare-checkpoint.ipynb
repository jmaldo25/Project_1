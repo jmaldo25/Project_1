{
 "cells": [
  {
   "cell_type": "code",
   "execution_count": 1,
   "metadata": {},
   "outputs": [
    {
     "data": {
      "text/html": [
       "<div>\n",
       "<style scoped>\n",
       "    .dataframe tbody tr th:only-of-type {\n",
       "        vertical-align: middle;\n",
       "    }\n",
       "\n",
       "    .dataframe tbody tr th {\n",
       "        vertical-align: top;\n",
       "    }\n",
       "\n",
       "    .dataframe thead th {\n",
       "        text-align: right;\n",
       "    }\n",
       "</style>\n",
       "<table border=\"1\" class=\"dataframe\">\n",
       "  <thead>\n",
       "    <tr style=\"text-align: right;\">\n",
       "      <th></th>\n",
       "      <th>show_id</th>\n",
       "      <th>type</th>\n",
       "      <th>title</th>\n",
       "      <th>director</th>\n",
       "      <th>cast</th>\n",
       "      <th>country</th>\n",
       "      <th>country.1</th>\n",
       "      <th>country.2</th>\n",
       "      <th>YEAR_added</th>\n",
       "      <th>release_year</th>\n",
       "      <th>rating</th>\n",
       "      <th>duration</th>\n",
       "      <th>TYPE1/listed_in</th>\n",
       "      <th>TYPE2</th>\n",
       "      <th>TYPE3</th>\n",
       "      <th>description</th>\n",
       "    </tr>\n",
       "  </thead>\n",
       "  <tbody>\n",
       "    <tr>\n",
       "      <th>0</th>\n",
       "      <td>s1</td>\n",
       "      <td>TV Show</td>\n",
       "      <td>3%</td>\n",
       "      <td>NaN</td>\n",
       "      <td>João Miguel, Bianca Comparato, Michel Gomes, R...</td>\n",
       "      <td>Brazil</td>\n",
       "      <td>NaN</td>\n",
       "      <td>NaN</td>\n",
       "      <td>2020.0</td>\n",
       "      <td>2020</td>\n",
       "      <td>TV-MA</td>\n",
       "      <td>4 Seasons</td>\n",
       "      <td>International TV Shows</td>\n",
       "      <td>TV Dramas</td>\n",
       "      <td>TV Sci-Fi &amp; Fantasy</td>\n",
       "      <td>In a future where the elite inhabit an island ...</td>\n",
       "    </tr>\n",
       "    <tr>\n",
       "      <th>1</th>\n",
       "      <td>s2</td>\n",
       "      <td>Movie</td>\n",
       "      <td>7:19</td>\n",
       "      <td>Jorge Michel Grau</td>\n",
       "      <td>Demián Bichir, Héctor Bonilla, Oscar Serrano, ...</td>\n",
       "      <td>Mexico</td>\n",
       "      <td>NaN</td>\n",
       "      <td>NaN</td>\n",
       "      <td>2016.0</td>\n",
       "      <td>2016</td>\n",
       "      <td>TV-MA</td>\n",
       "      <td>93 min</td>\n",
       "      <td>Dramas</td>\n",
       "      <td>International Movies</td>\n",
       "      <td>NaN</td>\n",
       "      <td>After a devastating earthquake hits Mexico Cit...</td>\n",
       "    </tr>\n",
       "    <tr>\n",
       "      <th>2</th>\n",
       "      <td>s3</td>\n",
       "      <td>Movie</td>\n",
       "      <td>23:59</td>\n",
       "      <td>Gilbert Chan</td>\n",
       "      <td>Tedd Chan, Stella Chung, Henley Hii, Lawrence ...</td>\n",
       "      <td>Singapore</td>\n",
       "      <td>NaN</td>\n",
       "      <td>NaN</td>\n",
       "      <td>2018.0</td>\n",
       "      <td>2011</td>\n",
       "      <td>R</td>\n",
       "      <td>78 min</td>\n",
       "      <td>Horror Movies</td>\n",
       "      <td>International Movies</td>\n",
       "      <td>NaN</td>\n",
       "      <td>When an army recruit is found dead, his fellow...</td>\n",
       "    </tr>\n",
       "    <tr>\n",
       "      <th>3</th>\n",
       "      <td>s4</td>\n",
       "      <td>Movie</td>\n",
       "      <td>9</td>\n",
       "      <td>Shane Acker</td>\n",
       "      <td>Elijah Wood, John C. Reilly, Jennifer Connelly...</td>\n",
       "      <td>United States</td>\n",
       "      <td>NaN</td>\n",
       "      <td>NaN</td>\n",
       "      <td>2017.0</td>\n",
       "      <td>2009</td>\n",
       "      <td>PG-13</td>\n",
       "      <td>80 min</td>\n",
       "      <td>Action &amp; Adventure</td>\n",
       "      <td>Independent Movies</td>\n",
       "      <td>Sci-Fi &amp; Fantasy</td>\n",
       "      <td>In a postapocalyptic world, rag-doll robots hi...</td>\n",
       "    </tr>\n",
       "    <tr>\n",
       "      <th>4</th>\n",
       "      <td>s5</td>\n",
       "      <td>Movie</td>\n",
       "      <td>21</td>\n",
       "      <td>Robert Luketic</td>\n",
       "      <td>Jim Sturgess, Kevin Spacey, Kate Bosworth, Aar...</td>\n",
       "      <td>United States</td>\n",
       "      <td>NaN</td>\n",
       "      <td>NaN</td>\n",
       "      <td>2020.0</td>\n",
       "      <td>2008</td>\n",
       "      <td>PG-13</td>\n",
       "      <td>123 min</td>\n",
       "      <td>Dramas</td>\n",
       "      <td>NaN</td>\n",
       "      <td>NaN</td>\n",
       "      <td>A brilliant group of students become card-coun...</td>\n",
       "    </tr>\n",
       "  </tbody>\n",
       "</table>\n",
       "</div>"
      ],
      "text/plain": [
       "  show_id     type  title           director  \\\n",
       "0      s1  TV Show     3%                NaN   \n",
       "1      s2    Movie   7:19  Jorge Michel Grau   \n",
       "2      s3    Movie  23:59       Gilbert Chan   \n",
       "3      s4    Movie      9        Shane Acker   \n",
       "4      s5    Movie     21     Robert Luketic   \n",
       "\n",
       "                                                cast        country country.1  \\\n",
       "0  João Miguel, Bianca Comparato, Michel Gomes, R...         Brazil       NaN   \n",
       "1  Demián Bichir, Héctor Bonilla, Oscar Serrano, ...         Mexico       NaN   \n",
       "2  Tedd Chan, Stella Chung, Henley Hii, Lawrence ...      Singapore       NaN   \n",
       "3  Elijah Wood, John C. Reilly, Jennifer Connelly...  United States       NaN   \n",
       "4  Jim Sturgess, Kevin Spacey, Kate Bosworth, Aar...  United States       NaN   \n",
       "\n",
       "  country.2  YEAR_added  release_year rating   duration  \\\n",
       "0       NaN      2020.0          2020  TV-MA  4 Seasons   \n",
       "1       NaN      2016.0          2016  TV-MA     93 min   \n",
       "2       NaN      2018.0          2011      R     78 min   \n",
       "3       NaN      2017.0          2009  PG-13     80 min   \n",
       "4       NaN      2020.0          2008  PG-13    123 min   \n",
       "\n",
       "          TYPE1/listed_in                  TYPE2                 TYPE3  \\\n",
       "0  International TV Shows              TV Dramas   TV Sci-Fi & Fantasy   \n",
       "1                  Dramas   International Movies                   NaN   \n",
       "2           Horror Movies   International Movies                   NaN   \n",
       "3      Action & Adventure     Independent Movies      Sci-Fi & Fantasy   \n",
       "4                  Dramas                    NaN                   NaN   \n",
       "\n",
       "                                         description  \n",
       "0  In a future where the elite inhabit an island ...  \n",
       "1  After a devastating earthquake hits Mexico Cit...  \n",
       "2  When an army recruit is found dead, his fellow...  \n",
       "3  In a postapocalyptic world, rag-doll robots hi...  \n",
       "4  A brilliant group of students become card-coun...  "
      ]
     },
     "execution_count": 1,
     "metadata": {},
     "output_type": "execute_result"
    }
   ],
   "source": [
    "# Dependencies and Setup\n",
    "import matplotlib.pyplot as plt\n",
    "import pandas as pd\n",
    "import scipy.stats as st\n",
    "import numpy as np\n",
    "from scipy import stats\n",
    "\n",
    "# Set up read of csv file\n",
    "netflix_path = \"netflix_template.csv\"\n",
    "\n",
    "netflix_info = pd.read_csv(netflix_path)\n",
    "\n",
    "# testing to ensure csv was read\n",
    "netflix_info.head()"
   ]
  },
  {
   "cell_type": "code",
   "execution_count": 11,
   "metadata": {},
   "outputs": [
    {
     "name": "stdout",
     "output_type": "stream",
     "text": [
      "<class 'pandas.core.frame.DataFrame'>\n",
      "Int64Index: 2410 entries, 0 to 7785\n",
      "Data columns (total 16 columns):\n",
      " #   Column           Non-Null Count  Dtype  \n",
      "---  ------           --------------  -----  \n",
      " 0   show_id          2410 non-null   object \n",
      " 1   type             2410 non-null   object \n",
      " 2   title            2410 non-null   object \n",
      " 3   director         184 non-null    object \n",
      " 4   cast             2118 non-null   object \n",
      " 5   country          2133 non-null   object \n",
      " 6   country.1        224 non-null    object \n",
      " 7   country.2        66 non-null     object \n",
      " 8   YEAR_added       2312 non-null   float64\n",
      " 9   release_year     2410 non-null   int64  \n",
      " 10  rating           2408 non-null   object \n",
      " 11  duration         2410 non-null   object \n",
      " 12  TYPE1/listed_in  2410 non-null   object \n",
      " 13  TYPE2            1923 non-null   object \n",
      " 14  TYPE3            1192 non-null   object \n",
      " 15  description      2410 non-null   object \n",
      "dtypes: float64(1), int64(1), object(14)\n",
      "memory usage: 320.1+ KB\n"
     ]
    }
   ],
   "source": [
    "# breaking down to have a data frame of only tv shows on Netflix\n",
    "netflix_tvshows = netflix_info.loc[netflix_info[\"type\"]==\"TV Show\"]\n",
    "netflix_tvshows_df = pd.DataFrame(netflix_tvshows)\n",
    "netflix_tvshows_df.info()"
   ]
  },
  {
   "cell_type": "code",
   "execution_count": 10,
   "metadata": {},
   "outputs": [
    {
     "name": "stdout",
     "output_type": "stream",
     "text": [
      "<class 'pandas.core.frame.DataFrame'>\n",
      "Int64Index: 5377 entries, 1 to 7786\n",
      "Data columns (total 16 columns):\n",
      " #   Column           Non-Null Count  Dtype  \n",
      "---  ------           --------------  -----  \n",
      " 0   show_id          5377 non-null   object \n",
      " 1   type             5377 non-null   object \n",
      " 2   title            5377 non-null   object \n",
      " 3   director         5214 non-null   object \n",
      " 4   cast             4951 non-null   object \n",
      " 5   country          5147 non-null   object \n",
      " 6   country.1        926 non-null    object \n",
      " 7   country.2        324 non-null    object \n",
      " 8   YEAR_added       5377 non-null   float64\n",
      " 9   release_year     5377 non-null   int64  \n",
      " 10  rating           5372 non-null   object \n",
      " 11  duration         5377 non-null   object \n",
      " 12  TYPE1/listed_in  5377 non-null   object \n",
      " 13  TYPE2            4063 non-null   object \n",
      " 14  TYPE3            2106 non-null   object \n",
      " 15  description      5377 non-null   object \n",
      "dtypes: float64(1), int64(1), object(14)\n",
      "memory usage: 714.1+ KB\n"
     ]
    }
   ],
   "source": [
    "# breaking down to have a data frame of only movies on Netflix\n",
    "netflix_movies = netflix_info.loc[netflix_info[\"type\"]==\"Movie\"]\n",
    "netflix_movies_df = pd.DataFrame(netflix_movies)\n",
    "netflix_movies_df.info()"
   ]
  },
  {
   "cell_type": "code",
   "execution_count": 3,
   "metadata": {},
   "outputs": [
    {
     "data": {
      "text/plain": [
       "2410"
      ]
     },
     "execution_count": 3,
     "metadata": {},
     "output_type": "execute_result"
    }
   ],
   "source": [
    "# getting the total number of tv shows\n",
    "show_counts = netflix_tvshows[\"show_id\"].value_counts()\n",
    "total_shows = len(show_counts)\n",
    "total_shows"
   ]
  },
  {
   "cell_type": "code",
   "execution_count": 12,
   "metadata": {},
   "outputs": [
    {
     "data": {
      "text/plain": [
       "5377"
      ]
     },
     "execution_count": 12,
     "metadata": {},
     "output_type": "execute_result"
    }
   ],
   "source": [
    "# getting the total number of movies\n",
    "movie_counts = netflix_movies[\"show_id\"].value_counts()\n",
    "total_movies = len(movie_counts)\n",
    "total_movies"
   ]
  },
  {
   "cell_type": "code",
   "execution_count": 4,
   "metadata": {},
   "outputs": [
    {
     "data": {
      "text/plain": [
       "24"
      ]
     },
     "execution_count": 4,
     "metadata": {},
     "output_type": "execute_result"
    }
   ],
   "source": [
    "# creating data frame of total number of tv shows and movies for 2014\n",
    "netflix_total_2014 = netflix_info.loc[netflix_info[\"YEAR_added\"]==2014]\n",
    "netflix_2014 = pd.DataFrame(netflix_total_2014)\n",
    "#netflix_2014\n",
    "\n",
    "# calculating total number of tv shows and movies for 2014\n",
    "netflix_2014_num = netflix_2014[\"show_id\"].value_counts()\n",
    "total_14 = len(netflix_2014_num)\n",
    "total_14"
   ]
  },
  {
   "cell_type": "code",
   "execution_count": 6,
   "metadata": {},
   "outputs": [
    {
     "name": "stdout",
     "output_type": "stream",
     "text": [
      "<class 'pandas.core.frame.DataFrame'>\n",
      "Int64Index: 5 entries, 2498 to 7520\n",
      "Data columns (total 16 columns):\n",
      " #   Column           Non-Null Count  Dtype  \n",
      "---  ------           --------------  -----  \n",
      " 0   show_id          5 non-null      object \n",
      " 1   type             5 non-null      object \n",
      " 2   title            5 non-null      object \n",
      " 3   director         0 non-null      object \n",
      " 4   cast             5 non-null      object \n",
      " 5   country          5 non-null      object \n",
      " 6   country.1        3 non-null      object \n",
      " 7   country.2        1 non-null      object \n",
      " 8   YEAR_added       5 non-null      float64\n",
      " 9   release_year     5 non-null      int64  \n",
      " 10  rating           5 non-null      object \n",
      " 11  duration         5 non-null      object \n",
      " 12  TYPE1/listed_in  5 non-null      object \n",
      " 13  TYPE2            3 non-null      object \n",
      " 14  TYPE3            1 non-null      object \n",
      " 15  description      5 non-null      object \n",
      "dtypes: float64(1), int64(1), object(14)\n",
      "memory usage: 680.0+ bytes\n"
     ]
    }
   ],
   "source": [
    "# breaking down data frame into shows added in 2014\n",
    "netflix_tvshows2014 = netflix_tvshows_df.loc[netflix_tvshows_df[\"YEAR_added\"]==2014]\n",
    "netflix_shows2014 = pd.DataFrame(netflix_tvshows2014)\n",
    "netflix_shows2014.info()"
   ]
  },
  {
   "cell_type": "code",
   "execution_count": 14,
   "metadata": {},
   "outputs": [
    {
     "name": "stdout",
     "output_type": "stream",
     "text": [
      "<class 'pandas.core.frame.DataFrame'>\n",
      "Int64Index: 19 entries, 914 to 7680\n",
      "Data columns (total 16 columns):\n",
      " #   Column           Non-Null Count  Dtype  \n",
      "---  ------           --------------  -----  \n",
      " 0   show_id          19 non-null     object \n",
      " 1   type             19 non-null     object \n",
      " 2   title            19 non-null     object \n",
      " 3   director         18 non-null     object \n",
      " 4   cast             15 non-null     object \n",
      " 5   country          19 non-null     object \n",
      " 6   country.1        4 non-null      object \n",
      " 7   country.2        2 non-null      object \n",
      " 8   YEAR_added       19 non-null     float64\n",
      " 9   release_year     19 non-null     int64  \n",
      " 10  rating           19 non-null     object \n",
      " 11  duration         19 non-null     object \n",
      " 12  TYPE1/listed_in  19 non-null     object \n",
      " 13  TYPE2            7 non-null      object \n",
      " 14  TYPE3            0 non-null      object \n",
      " 15  description      19 non-null     object \n",
      "dtypes: float64(1), int64(1), object(14)\n",
      "memory usage: 2.5+ KB\n"
     ]
    }
   ],
   "source": [
    "# breaking down data frame into movies added in 2014\n",
    "netflix_movies2014 = netflix_movies_df.loc[netflix_movies_df[\"YEAR_added\"]==2014]\n",
    "netflix_movies_14 = pd.DataFrame(netflix_movies2014)\n",
    "netflix_movies_14.info()"
   ]
  },
  {
   "cell_type": "code",
   "execution_count": 7,
   "metadata": {},
   "outputs": [
    {
     "data": {
      "text/plain": [
       "20.833333333333336"
      ]
     },
     "execution_count": 7,
     "metadata": {},
     "output_type": "execute_result"
    }
   ],
   "source": [
    "# creating calculations to show total count of tv shows in 2014\n",
    "show_counts14 = netflix_shows2014[\"show_id\"].value_counts()\n",
    "total_shows14 = len(show_counts14)\n",
    "#total_shows14\n",
    "\n",
    "# calculating percentage of tv shows in 2014\n",
    "shows_per_14 = (100*(total_shows14 / total_14))\n",
    "shows_per_14"
   ]
  },
  {
   "cell_type": "code",
   "execution_count": 18,
   "metadata": {},
   "outputs": [
    {
     "data": {
      "text/plain": [
       "79.16666666666666"
      ]
     },
     "execution_count": 18,
     "metadata": {},
     "output_type": "execute_result"
    }
   ],
   "source": [
    "# creating calculations to show total count of movies in 2014\n",
    "movie_counts14 = netflix_movies_14[\"show_id\"].value_counts()\n",
    "total_movies14 = len(movie_counts14)\n",
    "#total_movies14\n",
    "\n",
    "# calculating percentage of tv shows in 2014\n",
    "movies_per_14 = (100*(total_movies14 / total_14))\n",
    "movies_per_14"
   ]
  },
  {
   "cell_type": "code",
   "execution_count": null,
   "metadata": {},
   "outputs": [],
   "source": [
    "# creating pie chart for comparison\n"
   ]
  },
  {
   "cell_type": "code",
   "execution_count": 4,
   "metadata": {},
   "outputs": [
    {
     "name": "stdout",
     "output_type": "stream",
     "text": [
      "<class 'pandas.core.frame.DataFrame'>\n",
      "Int64Index: 21 entries, 610 to 7542\n",
      "Data columns (total 16 columns):\n",
      " #   Column           Non-Null Count  Dtype  \n",
      "---  ------           --------------  -----  \n",
      " 0   show_id          21 non-null     object \n",
      " 1   type             21 non-null     object \n",
      " 2   title            21 non-null     object \n",
      " 3   director         3 non-null      object \n",
      " 4   cast             19 non-null     object \n",
      " 5   country          20 non-null     object \n",
      " 6   country.1        4 non-null      object \n",
      " 7   country.2        1 non-null      object \n",
      " 8   YEAR_added       21 non-null     float64\n",
      " 9   release_year     21 non-null     int64  \n",
      " 10  rating           21 non-null     object \n",
      " 11  duration         21 non-null     object \n",
      " 12  TYPE1/listed_in  21 non-null     object \n",
      " 13  TYPE2            14 non-null     object \n",
      " 14  TYPE3            10 non-null     object \n",
      " 15  description      21 non-null     object \n",
      "dtypes: float64(1), int64(1), object(14)\n",
      "memory usage: 2.8+ KB\n"
     ]
    }
   ],
   "source": [
    "# breaking down data frame into shows added in 2015\n",
    "netflix_tvshows2015 = netflix_tvshows_df.loc[netflix_tvshows_df[\"YEAR_added\"]==2015]\n",
    "netflix_shows2015 = pd.DataFrame(netflix_tvshows2015)\n",
    "netflix_shows2015.info()"
   ]
  },
  {
   "cell_type": "code",
   "execution_count": 5,
   "metadata": {},
   "outputs": [
    {
     "name": "stdout",
     "output_type": "stream",
     "text": [
      "<class 'pandas.core.frame.DataFrame'>\n",
      "Int64Index: 174 entries, 137 to 7767\n",
      "Data columns (total 16 columns):\n",
      " #   Column           Non-Null Count  Dtype  \n",
      "---  ------           --------------  -----  \n",
      " 0   show_id          174 non-null    object \n",
      " 1   type             174 non-null    object \n",
      " 2   title            174 non-null    object \n",
      " 3   director         8 non-null      object \n",
      " 4   cast             160 non-null    object \n",
      " 5   country          164 non-null    object \n",
      " 6   country.1        27 non-null     object \n",
      " 7   country.2        14 non-null     object \n",
      " 8   YEAR_added       174 non-null    float64\n",
      " 9   release_year     174 non-null    int64  \n",
      " 10  rating           173 non-null    object \n",
      " 11  duration         174 non-null    object \n",
      " 12  TYPE1/listed_in  174 non-null    object \n",
      " 13  TYPE2            128 non-null    object \n",
      " 14  TYPE3            96 non-null     object \n",
      " 15  description      174 non-null    object \n",
      "dtypes: float64(1), int64(1), object(14)\n",
      "memory usage: 23.1+ KB\n"
     ]
    }
   ],
   "source": [
    "# breaking down data frame into shows added in 2016\n",
    "netflix_tvshows2016 = netflix_tvshows_df.loc[netflix_tvshows_df[\"YEAR_added\"]==2016]\n",
    "netflix_shows2016 = pd.DataFrame(netflix_tvshows2016)\n",
    "netflix_shows2016.info()"
   ]
  },
  {
   "cell_type": "code",
   "execution_count": 6,
   "metadata": {},
   "outputs": [
    {
     "name": "stdout",
     "output_type": "stream",
     "text": [
      "<class 'pandas.core.frame.DataFrame'>\n",
      "Int64Index: 337 entries, 5 to 7766\n",
      "Data columns (total 16 columns):\n",
      " #   Column           Non-Null Count  Dtype  \n",
      "---  ------           --------------  -----  \n",
      " 0   show_id          337 non-null    object \n",
      " 1   type             337 non-null    object \n",
      " 2   title            337 non-null    object \n",
      " 3   director         31 non-null     object \n",
      " 4   cast             304 non-null    object \n",
      " 5   country          296 non-null    object \n",
      " 6   country.1        24 non-null     object \n",
      " 7   country.2        8 non-null      object \n",
      " 8   YEAR_added       337 non-null    float64\n",
      " 9   release_year     337 non-null    int64  \n",
      " 10  rating           337 non-null    object \n",
      " 11  duration         337 non-null    object \n",
      " 12  TYPE1/listed_in  337 non-null    object \n",
      " 13  TYPE2            291 non-null    object \n",
      " 14  TYPE3            183 non-null    object \n",
      " 15  description      337 non-null    object \n",
      "dtypes: float64(1), int64(1), object(14)\n",
      "memory usage: 44.8+ KB\n"
     ]
    }
   ],
   "source": [
    "# breaking down data frame into shows added in 2017\n",
    "netflix_tvshows2017 = netflix_tvshows_df.loc[netflix_tvshows_df[\"YEAR_added\"]==2017]\n",
    "netflix_shows2017 = pd.DataFrame(netflix_tvshows2017)\n",
    "netflix_shows2017.info()"
   ]
  },
  {
   "cell_type": "code",
   "execution_count": 7,
   "metadata": {},
   "outputs": [
    {
     "name": "stdout",
     "output_type": "stream",
     "text": [
      "<class 'pandas.core.frame.DataFrame'>\n",
      "Int64Index: 406 entries, 11 to 7759\n",
      "Data columns (total 16 columns):\n",
      " #   Column           Non-Null Count  Dtype  \n",
      "---  ------           --------------  -----  \n",
      " 0   show_id          406 non-null    object \n",
      " 1   type             406 non-null    object \n",
      " 2   title            406 non-null    object \n",
      " 3   director         23 non-null     object \n",
      " 4   cast             349 non-null    object \n",
      " 5   country          331 non-null    object \n",
      " 6   country.1        39 non-null     object \n",
      " 7   country.2        11 non-null     object \n",
      " 8   YEAR_added       406 non-null    float64\n",
      " 9   release_year     406 non-null    int64  \n",
      " 10  rating           405 non-null    object \n",
      " 11  duration         406 non-null    object \n",
      " 12  TYPE1/listed_in  406 non-null    object \n",
      " 13  TYPE2            321 non-null    object \n",
      " 14  TYPE3            201 non-null    object \n",
      " 15  description      406 non-null    object \n",
      "dtypes: float64(1), int64(1), object(14)\n",
      "memory usage: 53.9+ KB\n"
     ]
    }
   ],
   "source": [
    "# breaking down data frame into shows added in 2018\n",
    "netflix_tvshows2018 = netflix_tvshows_df.loc[netflix_tvshows_df[\"YEAR_added\"]==2018]\n",
    "netflix_shows2018 = pd.DataFrame(netflix_tvshows2018)\n",
    "netflix_shows2018.info()"
   ]
  },
  {
   "cell_type": "code",
   "execution_count": 8,
   "metadata": {},
   "outputs": [
    {
     "name": "stdout",
     "output_type": "stream",
     "text": [
      "<class 'pandas.core.frame.DataFrame'>\n",
      "Int64Index: 639 entries, 12 to 7779\n",
      "Data columns (total 16 columns):\n",
      " #   Column           Non-Null Count  Dtype  \n",
      "---  ------           --------------  -----  \n",
      " 0   show_id          639 non-null    object \n",
      " 1   type             639 non-null    object \n",
      " 2   title            639 non-null    object \n",
      " 3   director         35 non-null     object \n",
      " 4   cast             567 non-null    object \n",
      " 5   country          556 non-null    object \n",
      " 6   country.1        45 non-null     object \n",
      " 7   country.2        9 non-null      object \n",
      " 8   YEAR_added       639 non-null    float64\n",
      " 9   release_year     639 non-null    int64  \n",
      " 10  rating           639 non-null    object \n",
      " 11  duration         639 non-null    object \n",
      " 12  TYPE1/listed_in  639 non-null    object \n",
      " 13  TYPE2            535 non-null    object \n",
      " 14  TYPE3            341 non-null    object \n",
      " 15  description      639 non-null    object \n",
      "dtypes: float64(1), int64(1), object(14)\n",
      "memory usage: 84.9+ KB\n"
     ]
    }
   ],
   "source": [
    "# breaking down data frame into shows added in 2019\n",
    "netflix_tvshows2019 = netflix_tvshows_df.loc[netflix_tvshows_df[\"YEAR_added\"]==2019]\n",
    "netflix_shows2019 = pd.DataFrame(netflix_tvshows2019)\n",
    "netflix_shows2019.info()"
   ]
  },
  {
   "cell_type": "code",
   "execution_count": 9,
   "metadata": {},
   "outputs": [
    {
     "name": "stdout",
     "output_type": "stream",
     "text": [
      "<class 'pandas.core.frame.DataFrame'>\n",
      "Int64Index: 696 entries, 0 to 7785\n",
      "Data columns (total 16 columns):\n",
      " #   Column           Non-Null Count  Dtype  \n",
      "---  ------           --------------  -----  \n",
      " 0   show_id          696 non-null    object \n",
      " 1   type             696 non-null    object \n",
      " 2   title            696 non-null    object \n",
      " 3   director         74 non-null     object \n",
      " 4   cast             596 non-null    object \n",
      " 5   country          638 non-null    object \n",
      " 6   country.1        66 non-null     object \n",
      " 7   country.2        20 non-null     object \n",
      " 8   YEAR_added       696 non-null    float64\n",
      " 9   release_year     696 non-null    int64  \n",
      " 10  rating           696 non-null    object \n",
      " 11  duration         696 non-null    object \n",
      " 12  TYPE1/listed_in  696 non-null    object \n",
      " 13  TYPE2            533 non-null    object \n",
      " 14  TYPE3            313 non-null    object \n",
      " 15  description      696 non-null    object \n",
      "dtypes: float64(1), int64(1), object(14)\n",
      "memory usage: 92.4+ KB\n"
     ]
    }
   ],
   "source": [
    "# breaking down data frame into shows added in 2020\n",
    "netflix_tvshows2020 = netflix_tvshows_df.loc[netflix_tvshows_df[\"YEAR_added\"]==2020]\n",
    "netflix_shows2020 = pd.DataFrame(netflix_tvshows2020)\n",
    "netflix_shows2020.info()"
   ]
  },
  {
   "cell_type": "code",
   "execution_count": 10,
   "metadata": {},
   "outputs": [
    {
     "name": "stdout",
     "output_type": "stream",
     "text": [
      "<class 'pandas.core.frame.DataFrame'>\n",
      "Int64Index: 29 entries, 980 to 6701\n",
      "Data columns (total 16 columns):\n",
      " #   Column           Non-Null Count  Dtype  \n",
      "---  ------           --------------  -----  \n",
      " 0   show_id          29 non-null     object \n",
      " 1   type             29 non-null     object \n",
      " 2   title            29 non-null     object \n",
      " 3   director         4 non-null      object \n",
      " 4   cast             24 non-null     object \n",
      " 5   country          24 non-null     object \n",
      " 6   country.1        3 non-null      object \n",
      " 7   country.2        1 non-null      object \n",
      " 8   YEAR_added       29 non-null     float64\n",
      " 9   release_year     29 non-null     int64  \n",
      " 10  rating           29 non-null     object \n",
      " 11  duration         29 non-null     object \n",
      " 12  TYPE1/listed_in  29 non-null     object \n",
      " 13  TYPE2            23 non-null     object \n",
      " 14  TYPE3            10 non-null     object \n",
      " 15  description      29 non-null     object \n",
      "dtypes: float64(1), int64(1), object(14)\n",
      "memory usage: 3.9+ KB\n"
     ]
    }
   ],
   "source": [
    "# breaking down data frame into shows added in 2021\n",
    "netflix_tvshows2021 = netflix_tvshows_df.loc[netflix_tvshows_df[\"YEAR_added\"]==2021]\n",
    "netflix_shows2021 = pd.DataFrame(netflix_tvshows2021)\n",
    "netflix_shows2021.info()"
   ]
  },
  {
   "cell_type": "code",
   "execution_count": null,
   "metadata": {},
   "outputs": [],
   "source": []
  },
  {
   "cell_type": "code",
   "execution_count": null,
   "metadata": {},
   "outputs": [],
   "source": []
  },
  {
   "cell_type": "code",
   "execution_count": null,
   "metadata": {},
   "outputs": [],
   "source": []
  },
  {
   "cell_type": "code",
   "execution_count": null,
   "metadata": {},
   "outputs": [],
   "source": []
  },
  {
   "cell_type": "code",
   "execution_count": null,
   "metadata": {},
   "outputs": [],
   "source": []
  },
  {
   "cell_type": "code",
   "execution_count": null,
   "metadata": {},
   "outputs": [],
   "source": []
  },
  {
   "cell_type": "code",
   "execution_count": null,
   "metadata": {},
   "outputs": [],
   "source": []
  },
  {
   "cell_type": "code",
   "execution_count": null,
   "metadata": {},
   "outputs": [],
   "source": []
  },
  {
   "cell_type": "code",
   "execution_count": null,
   "metadata": {},
   "outputs": [],
   "source": []
  },
  {
   "cell_type": "code",
   "execution_count": null,
   "metadata": {},
   "outputs": [],
   "source": []
  }
 ],
 "metadata": {
  "kernelspec": {
   "display_name": "Python 3",
   "language": "python",
   "name": "python3"
  },
  "language_info": {
   "codemirror_mode": {
    "name": "ipython",
    "version": 3
   },
   "file_extension": ".py",
   "mimetype": "text/x-python",
   "name": "python",
   "nbconvert_exporter": "python",
   "pygments_lexer": "ipython3",
   "version": "3.8.5"
  }
 },
 "nbformat": 4,
 "nbformat_minor": 4
}
