{
 "cells": [
  {
   "cell_type": "code",

   "execution_count": 122,

   "execution_count": 1,

   "metadata": {},
   "outputs": [
    {
     "data": {
      "text/html": [
       "<div>\n",
       "<style scoped>\n",
       "    .dataframe tbody tr th:only-of-type {\n",
       "        vertical-align: middle;\n",
       "    }\n",
       "\n",
       "    .dataframe tbody tr th {\n",
       "        vertical-align: top;\n",
       "    }\n",
       "\n",
       "    .dataframe thead th {\n",
       "        text-align: right;\n",
       "    }\n",
       "</style>\n",
       "<table border=\"1\" class=\"dataframe\">\n",
       "  <thead>\n",
       "    <tr style=\"text-align: right;\">\n",
       "      <th></th>\n",
       "      <th>show_id</th>\n",
       "      <th>type</th>\n",
       "      <th>title</th>\n",
       "      <th>director</th>\n",
       "      <th>cast</th>\n",
       "      <th>country</th>\n",
       "      <th>country.1</th>\n",
       "      <th>country.2</th>\n",
       "      <th>YEAR_added</th>\n",
       "      <th>release_year</th>\n",
       "      <th>rating</th>\n",
       "      <th>duration</th>\n",
       "      <th>TYPE1/listed_in</th>\n",
       "      <th>TYPE2</th>\n",
       "      <th>TYPE3</th>\n",
       "      <th>description</th>\n",
       "    </tr>\n",
       "  </thead>\n",
       "  <tbody>\n",
       "    <tr>\n",
       "      <th>0</th>\n",
       "      <td>s1</td>\n",
       "      <td>TV Show</td>\n",
       "      <td>3%</td>\n",
       "      <td>NaN</td>\n",
       "      <td>João Miguel, Bianca Comparato, Michel Gomes, R...</td>\n",
       "      <td>Brazil</td>\n",
       "      <td>NaN</td>\n",
       "      <td>NaN</td>\n",
       "      <td>2020.0</td>\n",
       "      <td>2020</td>\n",
       "      <td>TV-MA</td>\n",
       "      <td>4 Seasons</td>\n",
       "      <td>International TV Shows</td>\n",
       "      <td>TV Dramas</td>\n",
       "      <td>TV Sci-Fi &amp; Fantasy</td>\n",
       "      <td>In a future where the elite inhabit an island ...</td>\n",
       "    </tr>\n",
       "    <tr>\n",
       "      <th>1</th>\n",
       "      <td>s2</td>\n",
       "      <td>Movie</td>\n",
       "      <td>7:19</td>\n",
       "      <td>Jorge Michel Grau</td>\n",
       "      <td>Demián Bichir, Héctor Bonilla, Oscar Serrano, ...</td>\n",
       "      <td>Mexico</td>\n",
       "      <td>NaN</td>\n",
       "      <td>NaN</td>\n",
       "      <td>2016.0</td>\n",
       "      <td>2016</td>\n",
       "      <td>TV-MA</td>\n",
       "      <td>93 min</td>\n",
       "      <td>Dramas</td>\n",
       "      <td>International Movies</td>\n",
       "      <td>NaN</td>\n",
       "      <td>After a devastating earthquake hits Mexico Cit...</td>\n",
       "    </tr>\n",
       "    <tr>\n",
       "      <th>2</th>\n",
       "      <td>s3</td>\n",
       "      <td>Movie</td>\n",
       "      <td>23:59</td>\n",
       "      <td>Gilbert Chan</td>\n",
       "      <td>Tedd Chan, Stella Chung, Henley Hii, Lawrence ...</td>\n",
       "      <td>Singapore</td>\n",
       "      <td>NaN</td>\n",
       "      <td>NaN</td>\n",
       "      <td>2018.0</td>\n",
       "      <td>2011</td>\n",
       "      <td>R</td>\n",
       "      <td>78 min</td>\n",
       "      <td>Horror Movies</td>\n",
       "      <td>International Movies</td>\n",
       "      <td>NaN</td>\n",
       "      <td>When an army recruit is found dead, his fellow...</td>\n",
       "    </tr>\n",
       "    <tr>\n",
       "      <th>3</th>\n",
       "      <td>s4</td>\n",
       "      <td>Movie</td>\n",
       "      <td>9</td>\n",
       "      <td>Shane Acker</td>\n",
       "      <td>Elijah Wood, John C. Reilly, Jennifer Connelly...</td>\n",
       "      <td>United States</td>\n",
       "      <td>NaN</td>\n",
       "      <td>NaN</td>\n",
       "      <td>2017.0</td>\n",
       "      <td>2009</td>\n",
       "      <td>PG-13</td>\n",
       "      <td>80 min</td>\n",
       "      <td>Action &amp; Adventure</td>\n",
       "      <td>Independent Movies</td>\n",
       "      <td>Sci-Fi &amp; Fantasy</td>\n",
       "      <td>In a postapocalyptic world, rag-doll robots hi...</td>\n",
       "    </tr>\n",
       "    <tr>\n",
       "      <th>4</th>\n",
       "      <td>s5</td>\n",
       "      <td>Movie</td>\n",
       "      <td>21</td>\n",
       "      <td>Robert Luketic</td>\n",
       "      <td>Jim Sturgess, Kevin Spacey, Kate Bosworth, Aar...</td>\n",
       "      <td>United States</td>\n",
       "      <td>NaN</td>\n",
       "      <td>NaN</td>\n",
       "      <td>2020.0</td>\n",
       "      <td>2008</td>\n",
       "      <td>PG-13</td>\n",
       "      <td>123 min</td>\n",
       "      <td>Dramas</td>\n",
       "      <td>NaN</td>\n",
       "      <td>NaN</td>\n",
       "      <td>A brilliant group of students become card-coun...</td>\n",
       "    </tr>\n",
       "  </tbody>\n",
       "</table>\n",
       "</div>"
      ],
      "text/plain": [
       "  show_id     type  title           director  \\\n",
       "0      s1  TV Show     3%                NaN   \n",
       "1      s2    Movie   7:19  Jorge Michel Grau   \n",
       "2      s3    Movie  23:59       Gilbert Chan   \n",
       "3      s4    Movie      9        Shane Acker   \n",
       "4      s5    Movie     21     Robert Luketic   \n",
       "\n",
       "                                                cast        country country.1  \\\n",
       "0  João Miguel, Bianca Comparato, Michel Gomes, R...         Brazil       NaN   \n",
       "1  Demián Bichir, Héctor Bonilla, Oscar Serrano, ...         Mexico       NaN   \n",
       "2  Tedd Chan, Stella Chung, Henley Hii, Lawrence ...      Singapore       NaN   \n",
       "3  Elijah Wood, John C. Reilly, Jennifer Connelly...  United States       NaN   \n",
       "4  Jim Sturgess, Kevin Spacey, Kate Bosworth, Aar...  United States       NaN   \n",
       "\n",
       "  country.2  YEAR_added  release_year rating   duration  \\\n",
       "0       NaN      2020.0          2020  TV-MA  4 Seasons   \n",
       "1       NaN      2016.0          2016  TV-MA     93 min   \n",
       "2       NaN      2018.0          2011      R     78 min   \n",
       "3       NaN      2017.0          2009  PG-13     80 min   \n",
       "4       NaN      2020.0          2008  PG-13    123 min   \n",
       "\n",
       "          TYPE1/listed_in                  TYPE2                 TYPE3  \\\n",
       "0  International TV Shows              TV Dramas   TV Sci-Fi & Fantasy   \n",
       "1                  Dramas   International Movies                   NaN   \n",
       "2           Horror Movies   International Movies                   NaN   \n",
       "3      Action & Adventure     Independent Movies      Sci-Fi & Fantasy   \n",
       "4                  Dramas                    NaN                   NaN   \n",
       "\n",
       "                                         description  \n",
       "0  In a future where the elite inhabit an island ...  \n",
       "1  After a devastating earthquake hits Mexico Cit...  \n",
       "2  When an army recruit is found dead, his fellow...  \n",
       "3  In a postapocalyptic world, rag-doll robots hi...  \n",
       "4  A brilliant group of students become card-coun...  "
      ]
     },

     "execution_count": 122,

     "execution_count": 1,

     "metadata": {},
     "output_type": "execute_result"
    }
   ],
   "source": [
    "# Dependencies and Setup\n",
    "import matplotlib.pyplot as plt\n",
    "import pandas as pd\n",
    "import scipy.stats as st\n",
    "import numpy as np\n",
    "from scipy import stats\n",
    "\n",
    "# Set up read of csv file\n",
    "netflix_path = \"netflix_template.csv\"\n",
    "\n",
    "netflix_info = pd.read_csv(netflix_path)\n",
    "\n",
    "# testing to ensure csv was read\n",
    "netflix_info.head()"
   ]
  },
  {
   "cell_type": "code",

   "execution_count": 123,
   "metadata": {},
   "outputs": [],
   "source": [
    "import seaborn as sns\n",
    "# loc to find ratings and count on overall dataset\n",
    "netflix_info_ratings = netflix_info['rating'].value_counts()\n",
    "#netflix_info_ratings"
   ]
  },
  {
   "cell_type": "code",
   "execution_count": 124,
   "metadata": {},
   "outputs": [],
   "source": [
    "# create DFs for each rating to be used later\n",
    "netflix_info_tvma = netflix_info.loc[netflix_info[\"rating\"]== 'TV-MA']\n",
    "netflix_info_tvma = pd.DataFrame(netflix_info_tvma)\n",
    "\n",
    "netflix_info_tv14 = netflix_info.loc[netflix_info[\"rating\"]== 'TV-14']\n",
    "netflix_info_tv14 = pd.DataFrame(netflix_info_tv14)\n",
    "\n",
    "netflix_info_tvpg = netflix_info.loc[netflix_info[\"rating\"]=='TV-PG']\n",
    "netflix_info_tvpg =pd.DataFrame(netflix_info_tvpg)\n",
    "\n",
    "netflix_info_r = netflix_info.loc[netflix_info[\"rating\"]=='R']\n",
    "netflix_info_r =pd.DataFrame(netflix_info_r)\n",
    "\n",
    "netflix_info_pg13 = netflix_info.loc[netflix_info[\"rating\"]=='PG-13']\n",
    "netflix_info_pg13 =pd.DataFrame(netflix_info_pg13)\n",
    "\n",
    "netflix_info_tvy = netflix_info.loc[netflix_info[\"rating\"]=='TV-Y']\n",
    "netflix_info_tvy =pd.DataFrame(netflix_info_tvy)\n",
    "\n",
    "netflix_info_tvy7 = netflix_info.loc[netflix_info[\"rating\"]=='TV-Y7']\n",
    "netflix_info_tvy7 =pd.DataFrame(netflix_info_tvy7)\n",
    "\n",
    "netflix_info_pg = netflix_info.loc[netflix_info[\"rating\"]=='PG']\n",
    "netflix_info_pg =pd.DataFrame(netflix_info_pg)\n",
    "\n",
    "netflix_info_tvg = netflix_info.loc[netflix_info[\"rating\"]=='TV-G']\n",
    "netflix_info_tvg =pd.DataFrame(netflix_info_tvg)\n",
    "\n",
    "netflix_info_nr = netflix_info.loc[netflix_info[\"rating\"]=='NR']\n",
    "netflix_info_nr =pd.DataFrame(netflix_info_nr)\n",
    "\n",
    "netflix_info_g = netflix_info.loc[netflix_info[\"rating\"]=='G']\n",
    "netflix_info_g =pd.DataFrame(netflix_info_g)\n",
    "\n",
    "netflix_info_tvy7fv = netflix_info.loc[netflix_info[\"rating\"]=='TV-Y7-FV']\n",
    "netflix_info_tvy7fv =pd.DataFrame(netflix_info_tvy7fv)\n",
    "\n",
    "netflix_info_ur = netflix_info.loc[netflix_info[\"rating\"]=='UR']\n",
    "netflix_info_ur =pd.DataFrame(netflix_info_ur)\n",
    "\n",
    "netflix_info_nc17 = netflix_info.loc[netflix_info[\"rating\"]=='NC-17']\n",
    "netflix_info_nc17 =pd.DataFrame(netflix_info_nc17)\n"
   ]
  },
  {
   "cell_type": "code",
   "execution_count": 125,
   "metadata": {},
   "outputs": [],
   "source": [
    "# find percentage of each rating\n",
    "percent_tvma = len(netflix_info_tvma) / len(netflix_info) *100\n",
    "percent_tv14 = len(netflix_info_tv14) / len(netflix_info) *100\n",
    "percent_tvpg = len(netflix_info_tvpg) / len(netflix_info) *100\n",
    "percent_r = len(netflix_info_r) / len(netflix_info) *100\n",
    "percent_pg13 = len(netflix_info_pg13) / len(netflix_info) *100\n",
    "percent_tvy = len(netflix_info_tvy) / len(netflix_info) *100\n",
    "percent_tvy7 = len(netflix_info_tvy7) / len(netflix_info) *100\n",
    "percent_pg = len(netflix_info_pg) / len(netflix_info) *100\n",
    "percent_tvg = len(netflix_info_tvg) / len(netflix_info) *100\n",
    "percent_nr = len(netflix_info_nr) / len(netflix_info) *100\n",
    "percent_g = len(netflix_info_g) / len(netflix_info) *100\n",
    "percent_tvy7fv = len(netflix_info_tvy7fv) / len(netflix_info) *100\n",
    "percent_ur = len(netflix_info_ur) / len(netflix_info) *100\n",
    "percent_nc17 = len(netflix_info_nc17) / len(netflix_info) *100\n",
    "\n",
    "\n",
    "percentage_ratings = pd.DataFrame({ 'Rating': ['TV-MA', 'TV-14', 'TV-PG', 'R', 'PG-13', 'TV-Y', 'TV-Y7', 'PG',\n",
    "                                                     'TV-G', 'NR', 'G', 'TV-Y7-FV', 'UR', 'NC-17'],\n",
    "                                          'Percentage': [percent_tvma, percent_tv14, percent_tvpg, percent_r, percent_pg13, percent_tvy, percent_tvy7,\n",
    "                                                         percent_pg, percent_tvg, percent_nr, percent_g, percent_tvy7fv, percent_ur, percent_nc17]})\n",
    "#percentage_ratings"
   ]
  },
  {
   "cell_type": "code",
   "execution_count": 126,
   "metadata": {},
   "outputs": [],
   "source": [
    "values = percentage_ratings['Percentage']\n",
    "labels = percentage_ratings['Rating']\n",
    "#plt.pie(values,labels = labels,autopct='%1.1f%%',explode=(0.1,0,0,0,0,0,0,0,0,0,0,0,0,0))\n",
    "#plt.title('Overall Ratings for Netflix')\n",
    "#plt.legend(labels,loc=3)"
   ]
  },
  {
   "cell_type": "code",
   "execution_count": 127,
   "metadata": {},
   "outputs": [
    {
     "data": {
      "image/png": "iVBORw0KGgoAAAANSUhEUgAAA1sAAAFNCAYAAAD2LHWqAAAAOXRFWHRTb2Z0d2FyZQBNYXRwbG90bGliIHZlcnNpb24zLjMuMiwgaHR0cHM6Ly9tYXRwbG90bGliLm9yZy8vihELAAAACXBIWXMAAAsTAAALEwEAmpwYAAAqL0lEQVR4nO3debhkVX3v//eHeZ4alEntCMYJtcWj6FUMBhXwhyig0kTjEG9QLsSLiYrG5KY13tyfRoKJMthGIprYIMjgcCMaDQESApwmjTSggoIKMjZjCzJ+7x+1DxbHM3Vz9qk6Ve/X89TTVWuvvfZ3134q8slae59UFZIkSZKk2bVOrwuQJEmSpEFk2JIkSZKkFhi2JEmSJKkFhi1JkiRJaoFhS5IkSZJaYNiSJEmSpBYYtiRJfSHJkiT/2LxfmKSSrDdHxz4xyZ/PxbEkScPDsCVJQyzJ25NcnuTeJDclOSHJVr2uazpJrktyX5LVTd1fSLLZDPd9e5ILutuq6t1V9Zct1DkWGlc3r+uSfHC2j/N4JDk3yX/vdR2SNIgMW5I0pJL8CfBx4P3AlsCLgacA30mywSwfq40ZqtdW1WbAIuD5wIdaOMZs2aqp9VDgfyXZd012nqsZPknS7DJsSdIQSrIF8BHgj6rqW1X1YFVdB7yJTuB6S5Idm9mjbbr2e36S25Ks33z+gyRXJbkjyTlJntLVt5IckeRq4Oqm7W+T/DzJ3UmWJ9nz8Z5LVd0EnEMndI0d+4NJfpzkniRXJjmwaX8mcCLwkmam6c6m/QtJPta83yvJ9Un+JMktSW5M8o6usRck+XpzDpck+dj4mbIpar0QuALYrRlrTb+/1yVZ0Rz7x2OhLcmWST7f1HpDU9O6zba3J7kgySeb41ybZL9m2/8G9gQ+03wfn2naJ71OSTZOcnIz1lVJPpDk+q7tOyb5apJbm2O9Z0YXUpIGkGFLkobTfwM2As7obqyq1cA/A6+qql8AFwIHd3X5PeD0qnowyeuBPwUOArYDzgeWjTvO64E9gGc1ny+hE4q2Ab4MnJZko8dzIkl2BvYDrulq/jGdELElnVD5j0l2qKqrgHcDF1bVZlW11STDbt/suxPwTuC4JFs3244Dftn0eVvzmkmdSfJS4NnAf63p95fkRcAX6cxEbgW8HLiu6Xcy8BCwK51ZvlcD3UsD9wB+CGwLfAL4fJJU1Yeb4x7ZfB9HNv2nuk5/ASwEngq8CnhL1zmuA3wduIzOd7c3cFSSfWbyHUnSoDFsSdJw2ha4raoemmDbjc126PyH9qHQCQvA4qYN4F3A/6mqq5px/gpY1D0702y/varuA6iqf6yqVVX1UFUdA2wIPH0tz+GsJPcAPwduoRMCaI5zWlX9oqoeqapT6cwMvWgNxn4Q+Ggz4/d/gdXA05vZooOBv6iqe6vqSjpBZzq3AbcDfw98sKq+y5p/f+8ETqqq7zTndUNV/SDJE+mEzaOq6pdVdQtwLJ1rNeanVfW5qnq4qXcH4ImTFTvNdXoT8FdVdUdVXQ/8XdeuLwS2q6qPVtUDVfUT4HPjapGkoWHYkqThdBuw7ST3Au3QbAc4nc6Sux3pzKQUnZkQ6Cw3/NskdzbL8W4HQmdGY8zPuwduluZdleSuZp8t+XWwW1Ovr6rNgb2AZ3SPk+StzXK7sdp2W8PjrBoXRO8FNqMzA7Uejz2vx5zjJLatqq2r6plVNRZO1vT7exKdGbvxngKsD9zYNdZngSd09blp7E1V3du8nfSBItNcpx2Z/PyfAuw4Vkez758yRbCTpEFm2JKk4XQhcD+dJWyPSrIpnVmS7wJU1Z3At+nMZvwesKyqqun+c+BdVbVV12vjqvqPriGra+w9gaObsbZulvDdRSdgrLWq+jfgC8Anm+M8hc5sypHAguY4K7uOU785yozdSme53s5dbU9ay7HW6Ptr+u8yyTj30wl0Y+NsUVXPnmEdj/k+ZnCdbmTy8/85cO24c9q8ql4zw1okaaAYtiRpCFXVXXTuZfp0kn2TrJ9kIXAacD3wpa7uXwbeSmf53Je72k8EPpTk2fDoQxreOMVhN6cTVG4F1kvyv4AtZumUPgW8KskiYFM6AeLWpq530DyQonEzsHPW4omLzTK8M4AlSTZJ8gw6383aWNPv7/PAO5LsnWSdJDsleUZV3UgnEB+TZItm2y5JfmeGddxM5/6rMdNdp680dW+dZCc6oXbMxcDdSY5uHqSxbpLdkrxwhrVI0kAxbEnSkKqqT9BZ4vVJ4G7gIjozE3tX1f1dXb8GPA24uaou69r/TDqPjj8lyd10Zo/2m+KQ59B5+MaPgJ8Cv2JmS/Bmci630nl4xJ8391EdQ2f27mbgOcC/d3X/Hp0nAt6U5LbxY83AkXSW1d1EJ5QuozOztKY1r9H3V1UXA++gcz/WXcC/0Vm2B53AtwFwJXAHneWfO8ywlL8F3tA8XfDvmP46fZROIL8W+JfmWPc3NT4MvJbOwzWupbMc9e/pfF+SNHTy69UgkiRpTSX5OLB9Vc3oqYSDJsnhwOKqmulMmiQNDWe2JElaA0mekeS5zaPcX0TnKYFn9rquuZJkhyQvbZYrPh34E4bo/CVpTfgX6SVJWjOb01k6uCOdR84fA5zd04rm1gZ0nnb4W8CdwCnA8b0sSJL6lcsIJUmSJKkFLiOUJEmSpBYYtiRJkiSpBd6zNY1tt922Fi5c2OsyJEmSJPWp5cuX31ZV241vN2xNY+HChYyOjva6DEmSJEl9KslPJ2o3bE3joVtv59YT/rHXZUiSJEkCtjv8Lb0uYca8Z0uSJEmSWmDYkiRJkqQWGLYkSZIkqQV9EbaSLEiyonndlOSGrs/7jOt7VJLjx7UtTFJJ/rKrbdskDyb5zLi+lyVZ1u4ZSZIkSRp2fRG2qmpVVS2qqkXAicCxzfsTgMXjui8GJgpLPwH27/r8RuCK7g5JnknnnF+eZNPZqV6SJEmSflNfhK0pnA7sn2RD6MxgATsCF0zQ9z7gqiQjzedDgK+M6/N7wJeAbwMHtFGwJEmSJEGfh62qWgVcDOzbNC0GTq2qmmSXU4DFSXYGHgZ+MW77IcCpdGbGDp39iiVJkiSpo6/DVmMZv15KONkSwjHfAl5FJ0id2r0hyQuBW6vqp8B3gd2TbD3RIEkOSzKaZHTV6rsfb/2SJEmShtB8CFtnAXsn2R3YuKouTbJH1wM0Hl0OWFUPAMuBPwG+Om6cQ4FnJLkO+DGwBXDwRAesqqVVNVJVIws222L2z0iSJEnSwFuv1wVMp6pWJzkXOIlmVquqLgIWjfVp7uUacwzwb1W1KsnY9nXoPDDjuVV1Q9P2CuDPgL9v/SQkSZIkDZ35MLMFnZD1PDr3ZE2pqq6oqpPHNb8cuGEsaDXOA56VZIfZK1OSJEmSOvpuZquqlkzQdiaQKfa5DthtgvYvAF9oPr543LaHAYOWJEmSpFbMl5ktSZIkSZpXDFuSJEmS1IK+W0bYb9bbbhu2O/wtvS5DkiRJ0jzjzJYkSZIktcCwJUmSJEktMGxJkiRJUgu8Z2saD97yM2447ohelyFJkh6nnY44rtclSBoyzmxJkiRJUgsMW5IkSZLUAsOWJEmSJLWg78JWkgVJVjSvm5Lc0PV5n3F9j0py/ARjfCvJnUm+MckxPp1kdVvnIEmSJEl9F7aqalVVLaqqRcCJwLHN+xOAxeO6LwaWTTDMXwO/P9H4SUaArWarXkmSJEmaSN+FrSmcDuyfZEOAJAuBHYELxnesqu8C94xvT7IunSD2gVYrlSRJkjT05k3YqqpVwMXAvk3TYuDUqqo1GOZI4GtVdeNs1ydJkiRJ3eZN2Gos49dLCSdbQjihJDsCbwQ+PYO+hyUZTTK6avV9a1WoJEmSpOE238LWWcDeSXYHNq6qS5Ps0fUAjQOm2Pf5wK7ANUmuAzZJcs1EHatqaVWNVNXIgs02nu1zkCRJkjQE1ut1AWuiqlYnORc4iWZWq6ouAhbNYN9vAtuPfU6yuqp2badSSZIkScNuvs1sQSdkPQ84ZbIOSc4HTqMzC3b9+EfGS5IkSVLb+npmq6qWTNB2JpBp9ttzBmNvtvaVSZIkSdLU5uPMliRJkiT1PcOWJEmSJLXAsCVJkiRJLejre7b6wfpPeDI7HXFcr8uQJEmSNM84syVJkiRJLTBsSZIkSVILDFuSJEmS1ALv2ZrG6tuu4fzP7d/rMqR5a88//EavS5AkSeoJZ7YkSZIkqQWGLUmSJElqgWFLkiRJklrQV2EryYIkK5rXTUlu6Pq8z7i+RyU5flzbwiT3Nf2vTHJiknWabU9L8o0kP06yPMm/Jnn5XJ6fJEmSpOHRV2GrqlZV1aKqWgScCBzbvD8BWDyu+2Jg2QTD/LjZ57nAs4DXJ9kI+CawtKp2qaoXAH8EPLWVE5EkSZI09PoqbE3hdGD/JBtCZwYL2BG4YLIdquoh4D+AXYE3AxdW1de6tq+sqi+0WLMkSZKkITYvwlZVrQIuBvZtmhYDp1ZVTbZPkk2AvYHLgWcDl7ZdpyRJkiSNmRdhq7GMXy8lnGwJIcAuSVYA/w58s6r+eXyHJGcmWZnkjIkGSHJYktEko3fe88AslC5JkiRp2MynsHUWsHeS3YGNq+rSJHt0PUDjgKbfj5v7vp5fVUuatiuA3ccGqqoDgbcD20x0oKpaWlUjVTWy1eYbtHU+kiRJkgbYvAlbVbUaOBc4iWZWq6ouGnugRvf9WBP4MvDSrkAGsElrxUqSJEkaeuv1uoA1tAw4g998MuGUquq+JPsDf5PkU8DNwD3Ax2a9QkmSJEmij8NW1xLA7rYzgUyxz3XAbpNs+wHwmlkqT5IkSZKmNG+WEUqSJEnSfGLYkiRJkqQW9O0ywn6x2ba7sucffqPXZUiSJEmaZ5zZkiRJkqQWGLYkSZIkqQWGLUmSJElqgfdsTeP2VVez7Av79LoMaUYOffs5vS5BkiRJDWe2JEmSJKkFhi1JkiRJaoFhS5IkSZJaMFT3bCV5GLicznlfC/x+Vd3Z06IkSZIkDaRhm9m6r6oWVdVuwO3AEb0uSJIkSdJgGraw1e1CYKdeFyFJkiRpMA1l2EqyLrA38LVe1yJJkiRpMA1b2No4yQpgFbAN8J2JOiU5LMloktF77nlgLuuTJEmSNCCGLWzdV1WLgKcAGzDJPVtVtbSqRqpqZPPNN5jL+iRJkiQNiGELWwBU1V3Ae4D3JVm/1/VIkiRJGjxDGbYAquq/gMuAxb2uRZIkSdLgGaq/s1VVm437/Npe1SJJkiRpsA3tzJYkSZIktcmwJUmSJEktMGxJkiRJUguG6p6ttbHNgqdx6NvP6XUZkiRJkuYZZ7YkSZIkqQWGLUmSJElqgWFLkiRJklrgPVvTuOn2q/n4Kfv0ugw1jl7s/XOSJEmaH5zZkiRJkqQWGLYkSZIkqQWGLUmSJElqQV+FrSQPJ1mRZGWS05Js0rQ/McmXk/wkyfIkFyY5cJIx3pjkiiSPJBnpan9RM/aKJJdNtr8kSZIkzYa+ClvAfVW1qKp2Ax4A3p0kwFnAeVX11Kp6AbAY2HmSMVYCBwHnTdA+UlWLgH2BzybxASGSJEmSWtHPYeN84LnA7wIPVNWJYxuq6qfApyfaqaquAuhktMe039v1cSOgZrleSZIkSXpUv81sAdDMOO0HXA48G7h0lsbdI8kVzbjvrqqHJul3WJLRJKO/vOeB2Ti0JEmSpCHTb2Fr4yQrgFHgZ8Dnx3dIclxzz9Ulazp4VV1UVc8GXgh8KMlGk/RbWlUjVTWy6eYbrOlhJEmSJKnvlhHe19xT9ahmJurgsc9VdUSSbekEMpL8A/B84BdV9ZqZHKSqrkryS2C3sXEkSZIkaTb128zWRL4HbJTk8K62TcbeVNU7modqTBm0kvzW2AMxkjwFeDpwXQv1SpIkSVL/h62qKuD1wO8kuTbJxcDJwNET9U9yYJLrgZcA30xyTrPpZcBlzTLFM4H/UVW3tV2/JEmSpOHUV8sIq2qzSdpvpPO495mMcSadMDW+/UvAlx5XgZIkSZI0Q30/syVJkiRJ85FhS5IkSZJa0FfLCPvR9ts8jaMXnzN9R0mSJEnq4syWJEmSJLXAsCVJkiRJLTBsSZIkSVILvGdrGlffeR37nf22XpfRt/75dSf3ugRJkiSpLzmzJUmSJEktMGxJkiRJUgsMW5IkSZLUgnkXtpIsSLKied2U5Iauz/uM63tUkuOb909Icm2S7bu2H5/kg3N9DpIkSZIG37wLW1W1qqoWVdUi4ETg2Ob9CcDicd0XA8ua/W4BPg58EiDJ7sDLgGPmpnJJkiRJw2Teha0pnA7sn2RDgCQLgR2BC7r6LAV2SfIK4DPAkVX14FwXKkmSJGnwDUzYqqpVwMXAvk3TYuDUqqquPo8AhwNfBX5UVefNeaGSJEmShsLAhK3GMn69lPDRJYTdqmoFsBI4frJBkhyWZDTJ6AN3/6qNOiVJkiQNuEELW2cBezf3Y21cVZcm2aPrARoHNP0eaV4TqqqlVTVSVSMbbLHRHJQtSZIkadCs1+sCZlNVrU5yLnASv34wxkXAoh6WJUmSJGkIDdrMFnRC1vOAU3pdiCRJkqThNa9ntqpqyQRtZwKZZr+9WipJkiRJkoDBnNmSJEmSpJ4zbEmSJElSCwxbkiRJktSCeX3P1lx42lYL+efXndzrMiRJkiTNM85sSZIkSVILDFuSJEmS1AKXEU7j6jtv5v8741O9LqPvfPOgo3pdgiRJktTXnNmSJEmSpBYYtiRJkiSpBYYtSZIkSWrBjO7ZSnLQBM13AZdX1S2zWxIkWQB8t/m4PfAwcGvz+eiqOqer71HAb1fV/0jyBOAi4CVVdVOz/XjgZ8DPgfd3Hea5wO5VtWK265ckSZKkmT4g453AS4B/bT7vBfwn8NtJPlpVX5rNoqpqFbAIIMkSYHVVfTLJu4DFwDld3RfThKiquiXJx4FPAm9JsjvwMuAFVfUg8E/NmM8BzjZoSZIkSWrLTJcRPgI8s6oOrqqDgWcB9wN7AEe3VdwETgf2T7IhQJKFwI7ABV19lgK7JHkF8BngyCZodTsUWNZ+uZIkSZKG1UzD1sKqurnr8y10lu7dDowPMq1pZrwuBvZtmhYDp1ZVdfV5BDgc+Crwo6o6b4KhDsGwJUmSJKlFM11GeH6SbwCnNZ8PBs5LsilwZxuFTWEZnZB1dvPvH4zvUFUrkqwEjh+/LckewL1VtXKyAyQ5DDgMYKNtt56lsiVJkiQNk5nObB0BfIHOfVTPB74IHFFVv6yqV7RT2qTOAvZu7sfauKouTbJHkhXN64Cm3yPNa7zFTDOrVVVLq2qkqkY22HLTWS1ekiRJ0nCY0cxWs0zv9ObVU1W1Osm5wEk0oamqLqJ5oMZUkqwDvBF4eYslSpIkSdLMZraSHJTk6iR3Jbk7yT1J7m67uCksA54HnLKG+70cuL6qfjL7JUmSJEnSr830nq1PAK+tqqvaLGYiVbVkgrYzgUyz314TtJ0LvHiWSpMkSZKkSc30nq2bexG0JEmSJGm+munM1miSU+k8nOL+scaqOqONoiRJkiRpvptp2NoCuBd4dVdbAYYtSZIkSZpAuv4esCYwMjJSo6OjvS5DkiRJUp9KsryqRsa3TzmzleQDVfWJJJ+mM5P1GFX1nlmsUZIkSZIGxnTLCMceiuHUjiRJkiStgSnDVlV9vXl7b1Wd1r0tyRtbq0qSJEmS5rkZ3bOV5NKq2n26tkG01S5PrZd9/C97XUbPfOMNb+51CZIkSVJfW9t7tvYDXgPslOTvujZtATw0uyVKkiRJ0uCY7p6tX9C5X+sAYHlX+z3Ae9sqSpIkSZLmu+nu2boMuCzJl6vqwTmqSZIkSZLmvXVm2G9hktOTXJnkJ2OvVitbS0keTrIiycokpyXZpGl/YpIvN7UvT3JhkgN7Xa8kSZKkwTTTsPUPwAl07tN6BfBF4EttFfU43VdVi6pqN+AB4N1JApwFnFdVT62qFwCLgZ17WKckSZKkATbTsLVxVX2XztMLf1pVS4Dfba+sWXM+sCudWh+oqhPHNjTn8emeVSZJkiRpoE33gIwxv0qyDnB1kiOBG4AntFfW45dkPWA/4FvAs4FLe1uRJEmSpGEy05mto4BNgPcALwB+H3hrSzU9XhsnWUHnKYo/Az4/vkOS45JcluSSiQZIcliS0SSjD9x9d7vVSpIkSRpIM5rZqqqxULIaeEcza3QIcFFbhT0O91XVou6GJFcAB499rqojkmxLJ5D9hqpaCiyFzh81bq9USZIkSYNqypmtJFsk+VCSzyR5dTqOBK4B3jQ3Jc6K7wEbJTm8q22TXhUjSZIkafBNN7P1JeAO4ELgvwPvBzYAXl9VK9otbfZUVSV5PXBskg8AtwK/BI7uaWGSJEmSBtZ0YeupVfUcgCR/D9wGPLmq7mm9srVUVZtN0n4jnce9S5IkSVLrpntAxoNjb6rqYeDafg5akiRJktQvppvZel6Sscfxhc6T/u5u3ldVbdFqdZIkSZI0T00Ztqpq3bkqpF/tuvU2fOMNb+51GZIkSZLmmZn+nS1JkiRJ0howbEmSJElSCwxbkiRJktSC6R6QMfSuueNuXnf6Ob0u43E7+w379LoESZIkaag4syVJkiRJLTBsSZIkSVILDFuSJEmS1IK+D1tJFiRZ0bxuSnJD1+d9xvU9KsnxE4yxXpK/SnJ1174fnruzkCRJkjRs+j5sVdWqqlpUVYuAE4Fjm/cnAIvHdV8MLJtgmI8BOwLPafbdE1i/rZolSZIkaT4/jfB04GNJNqyq+5MspBOoLujulGQT4A+BhVX1K4CqugdYMrflSpIkSRomfT+zNZmqWgVcDOzbNC0GTq2qGtd1V+BnTcCSJEmSpDkxb8NWYxm/Xko42RLCx0jyjuaerZ8nedIkfQ5LMppk9IG775rFciVJkiQNi/kets4C9k6yO7BxVV2aZI+uh2AcAFwDPDnJ5gBV9Q/NfVt3AetONGhVLa2qkaoa2WCLLefmTCRJkiQNlPl8zxZVtTrJucBJNLNaVXURsKi7X5LPA59J8q6q+lWSdYEN5rhcSZIkSUNkvs9sQSdkPQ84ZYo+HwZuBFYm+S/gfOBk4BftlydJkiRpGM2rma2qWjJB25lAptnvQeCDzUuSJEmSWjcIM1uSJEmS1HcMW5IkSZLUAsOWJEmSJLVgXt2z1Qu7br0FZ79hn16XIUmSJGmecWZLkiRJklpg2JIkSZKkFhi2JEmSJKkF3rM1jZ/c8Sve9NUfzOqYXzn4GbM6niRJkqT+48yWJEmSJLXAsCVJkiRJLTBsSZIkSVILBipsJakkx3R9fl+SJc37JUluSLIiyZVJDu1ZoZIkSZIG3kCFLeB+4KAk206y/diqWgS8DvhskvXnrDJJkiRJQ2XQwtZDwFLgvVN1qqqrgXuBreeiKEmSJEnDZ9DCFsBxwJuTbDlZhyS7A1dX1S2TbD8syWiS0fvvvqOtOiVJkiQNsIELW1V1N/BF4D0TbH5vkh8CFwFLphhjaVWNVNXIhls4+SVJkiRpzQ1c2Gp8CngnsOm49mOr6unAIcAXk2w014VJkiRJGg4DGbaq6nbgK3QC10TbzwBGgbfNZV2SJEmShsdAhq3GMcBkTyUE+Cjwx0kG+TuQJEmS1CPr9bqA2VRVm3W9vxnYpOvzknF9lwNPn7PiJEmSJA0VZ3UkSZIkqQWGLUmSJElqwUAtI2zDU7feiK8c/IxelyFJkiRpnnFmS5IkSZJaYNiSJEmSpBYYtiRJkiSpBd6zNY1Vdz7EyWfcOm2/tx203RxUI0mSJGm+cGZLkiRJklpg2JIkSZKkFhi2JEmSJKkFQxO2kjwxyZeT/CTJ8iQXJjmw13VJkiRJGkxDEbaSBDgLOK+qnlpVLwAWAzv3tDBJkiRJA2tYnkb4u8ADVXXiWENV/RT4dO9KkiRJkjTIhmJmC3g2cGmvi5AkSZI0PIYlbD1GkuOSXJbkkkm2H5ZkNMnoPXetmuvyJEmSJA2AYQlbVwC7j32oqiOAvYEJ/xJxVS2tqpGqGtl8ywVzVKIkSZKkQTIsYet7wEZJDu9q26RXxUiSJEkafEMRtqqqgNcDv5Pk2iQXAycDR/e0MEmSJEkDa1ieRkhV3Ujnce+SJEmS1LqhmNmSJEmSpLlm2JIkSZKkFhi2JEmSJKkFQ3PP1tpasNV6vO2gCZ8QL0mSJEmTcmZLkiRJklpg2JIkSZKkFhi2pvHLVQ/1ugRJkiRJ85BhS5IkSZJaYNiSJEmSpBYYtiRJkiSpBa2ErSQLkqxoXjcluaHr8z7j+h6V5Pjm/ROSXJtk+67txyf5YJI3d42xIskjSRZNcOy9ktzV1e9fmrYLx/VbL8nNSXZo4zuQJEmSNNxa+TtbVbUKWASQZAmwuqo+meRdwGLgnK7ui4H3N/vdkuTjwCeBtyTZHXgZ8IKqehD4p2bM5wBnV9WKSUo4v6r2H/uQZB1g5yQLq+q6pvmVwMqquvHxn7EkSZIkPdZcLyM8Hdg/yYYASRYCOwIXdPVZCuyS5BXAZ4Ajm6DV7VBg2UwPWlWPAKcBh3Q1L16TMSRJkiRpTcxp2GpmvC4G9m2aFgOnVlV19XkEOBz4KvCjqjpvgqEOYeqgtGfXMsIPN23LmuPRhL3XNMeQJEmSpFnXyjLCaYyFnrObf/9gfIeqWpFkJXD8+G1J9gDuraqVUxzjMcsImzEvSbJZkqcDzwT+s6rumGjnJIcBhwFsv2DnmZ2VJEmSJHXpxdMIzwL2bu7H2riqLk2yR9dM1AFNv0ea13iPWf6X5MCufUemOfYpzf5TLiGsqqVVNVJVI1ttvmANTk2SJEmSOuZ8ZquqVic5FziJJvBU1UU0D9SYSvOgizcCL+8a70zgzK4+e00xxDI6M2pbAu9c09olSZIkaaZ69Xe2lgHPozPTtCZeDlxfVT9Zm4NW1ZXAvcD3quqXazOGJEmSJM1Eup5NoQk887cW1VXXruh1GZIkSZL6VJLlVfUbtzT1amZLkiRJkgaaYUuSJEmSWmDYkiRJkqQWGLamsemCXvwpMkmSJEnznWFLkiRJklpg2JIkSZKkFhi2JEmSJKkFhq1pPHjTA70uQZIkSdI8ZNiSJEmSpBYYtiRJkiSpBYYtSZIkSWrBQP0RqSQLgW9U1W5dbUuA1cBuwO8AdwEB/riqvtuDMiVJkiQNgWGb2Xp/VS0CjgJO7G0pkiRJkgbZsIWtMRcCO/W6CEmSJEmDa1jD1r7AWb0uQpIkSdLgGqh7toCapv2vk3wCeALw4skGSXIYcBjATls5ASZJkiRpzQ3azNYqYOtxbdsAtzXv3w/sCvwZcPJkg1TV0qoaqaqRBZtu00qhkiRJkgbbQIWtqloN3Jhkb4Ak29BZMnhBV59HgL8F1kmyT08KlSRJkjTwBipsNd4K/FmSFcD3gI9U1Y+7O1RVAR8DPjD35UmSJEkaBunkDk3meTs/ty67/vu9LkOSJElSn0qyvKpGxrcP4syWJEmSJPWcYUuSJEmSWmDYmsb622/Q6xIkSZIkzUOGLUmSJElqgWFLkiRJklpg2JIkSZKkFhi2JEmSJKkFhi1JkiRJaoFhS5IkSZJaYNiSJEmSpBb0VdhKUkmO6fr8viRLuj6/NcnKJFckuTLJ+yYZ56QktyRZOa791CQrmtd1SVa0dS6SJEmShltfhS3gfuCgJNuO35BkP+Ao4NVV9Wxgd+CuScb5ArDv+MaqOqSqFlXVIuCrwBmzU7YkSZIkPVa/ha2HgKXAeyfY9iHgfVX1C4Cq+lVVfW6iQarqPOD2yQ6SJMCbgGWPu2JJkiRJmkC/hS2A44A3J9lyXPtuwPJZOsaewM1VdfUsjSdJkiRJj9F3Yauq7ga+CLynxcMcyhSzWkkOSzKaZPTWW29tsQxJkiRJg6rvwlbjU8A7gU272q4AXjC+Y5IndT304t3TDZxkPeAg4NTJ+lTV0qoaqaqR7bbbbo2LlyRJkqS+DFtVdTvwFTqBa8z/AT6RZHuAJBsmeU9V/XzsoRdVdeIMhn8l8IOqun72K5ckSZKkjr4MW41jgEefSlhV/5fO/Vz/kuQKOvdvrTfRjkmWARcCT09yfZLu0LYYH4whSZIkqWWpql7X0NdGRkZqdHS012VIkiRJ6lNJllfVyPj2fp7ZkiRJkqR5y7AlSZIkSS0wbEmSJElSCwxbkiRJktQCw5YkSZIktcCnEU4jyT3AD3tdhx5jW+C2Xhehx/Ca9B+vSf/xmvQfr0l/8rr0H6/J9J5SVduNb5zw71TpMX440WMc1TtJRr0m/cVr0n+8Jv3Ha9J/vCb9yevSf7wma89lhJIkSZLUAsOWJEmSJLXAsDW9pb0uQL/Ba9J/vCb9x2vSf7wm/cdr0p+8Lv3Ha7KWfECGJEmSJLXAmS1JkiRJaoFhaxJJ9k3ywyTXJPlgr+sRJLkuyeVJViQZ7XU9wyrJSUluSbKyq22bJN9JcnXz79a9rHHYTHJNliS5ofm9rEjyml7WOGySPCnJvya5KskVSf5n0+5vpUemuCb+VnokyUZJLk5yWXNNPtK0+zvpkSmuib+TteQywgkkWRf4EfAq4HrgEuDQqrqyp4UNuSTXASNV5d956KEkLwdWA1+sqt2atk8At1fV/9/8Pye2rqqje1nnMJnkmiwBVlfVJ3tZ27BKsgOwQ1VdmmRzYDnweuDt+FvpiSmuyZvwt9ITSQJsWlWrk6wPXAD8T+Ag/J30xBTXZF/8nawVZ7Ym9iLgmqr6SVU9AJwCvK7HNUl9oarOA24f1/w64OTm/cl0/gNGc2SSa6Ieqqobq+rS5v09wFXATvhb6Zkprol6pDpWNx/Xb16Fv5OemeKaaC0Ztia2E/Dzrs/X4/9B7gcFfDvJ8iSH9boYPcYTq+pG6PwHDfCEHtejjiOTfL9ZZugynB5JshB4PnAR/lb6wrhrAv5WeibJuklWALcA36kqfyc9Nsk1AX8na8WwNbFM0Gaq772XVtXuwH7AEc3SKUkTOwHYBVgE3Agc09NqhlSSzYCvAkdV1d29rkcTXhN/Kz1UVQ9X1SJgZ+BFSXbrcUlDb5Jr4u9kLRm2JnY98KSuzzsDv+hRLWpU1S+af28BzqSz3FP94ebmfoix+yJu6XE9Q6+qbm7+B/MR4HP4e5lzzf0OXwX+qarOaJr9rfTQRNfE30p/qKo7gXPp3Bvk76QPdF8Tfydrz7A1sUuApyX5rSQbAIuBr/W4pqGWZNPmhmaSbAq8Glg59V6aQ18D3ta8fxtwdg9rEY/+B8qYA/H3Mqeam8w/D1xVVX/TtcnfSo9Mdk38rfROku2SbNW83xh4JfAD/J30zGTXxN/J2vNphJNoHmn5KWBd4KSq+t+9rWi4JXkqndksgPWAL3tNeiPJMmAvYFvgZuAvgLOArwBPBn4GvLGqfGDDHJnkmuxFZ7lHAdcB7xq7B0LtS/Iy4HzgcuCRpvlP6dwj5G+lB6a4Jofib6UnkjyXzgMw1qUzAfCVqvpokgX4O+mJKa7Jl/B3slYMW5IkSZLUApcRSpIkSVILDFuSJEmS1ALDliRJkiS1wLAlSZIkSS0wbEmSJElSCwxbkqR5L8nDSVYkWZnktCSb9KCGvZL8t7k+riSpfxm2JEmD4L6qWlRVuwEPAO+eyU5J1pvFGvYCDFuSpEcZtiRJg+Z8YNckmyY5KcklSf4ryesAkry9mf36OvDtJJsl+Ycklyf5fpKDm36vTnJhkkub/ps17dcl+UjTfnmSZyRZSCfgvbeZYdszyWuTXNQc+1+SPLHZf7sk32n2/2ySnybZttn2liQXN2N8Nsm6Pfj+JEmzxLAlSRoYzUzVfsDlwIeB71XVC4FXAH+dZNOm60uAt1XV7wJ/DtxVVc+pqucC32vCz58Br6yq3YFR4I+7DnVb034C8L6qug44ETi2mWE7H7gAeHFVPR84BfhAs+9fNHXtDpwJPLmp/ZnAIcBLq2oR8DDw5tn9hiRJc2k2l09IktQrGydZ0bw/H/g88B/AAUne17RvRBNsgO9U1e3N+1cCi8cGqqo7kuwPPAv49yQAGwAXdh3vjObf5cBBk9S0M3Bqkh2a/a9t2l8GHNgc61tJ7mja9wZeAFzSHHNj4JaZnLwkqT8ZtiRJg+C+ZjboUekkloOr6ofj2vcAftndBNS48UInkB06yfHub/59mMn/t/TTwN9U1deS7AUs6Rp7IgFOrqoPTbJdkjTPuIxQkjSozgH+qAldJHn+JP2+DRw59iHJ1sB/Ai9NsmvTtkmS357mePcAm3d93hK4oXn/tq72C4A3NeO+Gti6af8u8IYkT2i2bZPkKdMcU5LUxwxbkqRB9ZfA+sD3k6xsPk/kY8DWzWPjLwNeUVW3Am8HliX5Pp3w9Yxpjvd14MCxB2TQmck6Lcn5wG1d/T4CvDrJpXTuL7sRuKeqrqRzn9i3m2N+B9hhTU9aktQ/UjV+5YQkSWpLkg2Bh6vqoSQvAU4YvwRSkjQYvGdLkqS59WTgK0nWofM3wf6wx/VIklrizJYkSZIktcB7tiRJkiSpBYYtSZIkSWqBYUuSJEmSWmDYkiRJkqQWGLYkSZIkqQWGLUmSJElqwf8DFqwSmRebwlQAAAAASUVORK5CYII=\n",
      "text/plain": [
       "<Figure size 1008x360 with 1 Axes>"
      ]
     },
     "metadata": {
      "needs_background": "light"
     },
     "output_type": "display_data"
    }
   ],
   "source": [
    "#create bar graph to show data comparison\n",
    "plt.figure(figsize=(14,5))\n",
    "g = sns.barplot(x=values, y=labels)\n",
    "plt.title('Overall Rating Percentage')\n",
    "plt.xlabel('Percentage')\n",
    "plt.ylabel('Rating')\n",
    "plt.savefig(\"images/overall_rating_percentages.png\")\n",
    "plt.show()\n"
   ]
  },
  {
   "cell_type": "markdown",
   "metadata": {},
   "source": [
    "Breaking down 2014 info"
   ]
  },
  {
   "cell_type": "code",
   "execution_count": 128,
   "metadata": {},
   "outputs": [],
   "source": [
    "# find info for items added in 2014\n",
    "netflix_info_2014 = netflix_info.loc[netflix_info[\"YEAR_added\"]==2014]\n",
    "netflix_info_2014 = pd.DataFrame(netflix_info_2014)\n",
    "#netflix_info_2014.head()\n"
   ]
  },
  {
   "cell_type": "code",
   "execution_count": 129,
   "metadata": {},
   "outputs": [],
   "source": [
    "#Find overall count of ratings for 2014\n",
    "netflix_info_2014_ratings = netflix_info_2014['rating'].value_counts()\n",
    "#netflix_info_2014_ratings"
   ]
  },
  {
   "cell_type": "code",
   "execution_count": 130,
   "metadata": {},
   "outputs": [],
   "source": [
    "netflix_info_2014_tvma = netflix_info_2014.loc[netflix_info_2014[\"rating\"]== 'TV-MA']\n",
    "netflix_info_2014_tvma = pd.DataFrame(netflix_info_2014_tvma)\n",
    "\n",
    "netflix_info_2014_tv14 = netflix_info_2014.loc[netflix_info_2014[\"rating\"]== 'TV-14']\n",
    "netflix_info_2014_tv14 = pd.DataFrame(netflix_info_2014_tv14)\n",
    "\n",
    "netflix_info_2014_tvpg = netflix_info_2014.loc[netflix_info_2014[\"rating\"]=='TV-PG']\n",
    "netflix_info_2014_tvpg =pd.DataFrame(netflix_info_2014_tvpg)\n",
    "\n",
    "netflix_info_2014_r = netflix_info_2014.loc[netflix_info_2014[\"rating\"]=='R']\n",
    "netflix_info_2014_r =pd.DataFrame(netflix_info_2014_r)\n",
    "\n",
    "netflix_info_2014_pg13 = netflix_info_2014.loc[netflix_info_2014[\"rating\"]=='PG-13']\n",
    "netflix_info_2014_pg13 =pd.DataFrame(netflix_info_2014_pg13)\n",
    "\n",
    "netflix_info_2014_tvy = netflix_info_2014.loc[netflix_info_2014[\"rating\"]=='TV-Y']\n",
    "netflix_info_2014_tvy =pd.DataFrame(netflix_info_2014_tvy)\n",
    "\n",
    "netflix_info_2014_tvy7 = netflix_info_2014.loc[netflix_info_2014[\"rating\"]=='TV-Y7']\n",
    "netflix_info_2014_tvy7 =pd.DataFrame(netflix_info_2014_tvy7)\n",
    "\n",
    "netflix_info_2014_pg = netflix_info_2014.loc[netflix_info_2014[\"rating\"]=='PG']\n",
    "netflix_info_2014_pg =pd.DataFrame(netflix_info_2014_pg)\n",
    "\n",
    "netflix_info_2014_tvg = netflix_info_2014.loc[netflix_info_2014[\"rating\"]=='TV-G']\n",
    "netflix_info_2014_tvg =pd.DataFrame(netflix_info_2014_tvg)\n",
    "\n",
    "netflix_info_2014_nr = netflix_info_2014.loc[netflix_info_2014[\"rating\"]=='NR']\n",
    "netflix_info_2014_nr =pd.DataFrame(netflix_info_2014_nr)\n",
    "\n",
    "netflix_info_2014_g = netflix_info_2014.loc[netflix_info_2014[\"rating\"]=='G']\n",
    "netflix_info_2014_g =pd.DataFrame(netflix_info_2014_g)\n",
    "\n",
    "netflix_info_2014_tvy7fv = netflix_info_2014.loc[netflix_info_2014[\"rating\"]=='TV-Y7-FV']\n",
    "netflix_info_2014_tvy7fv =pd.DataFrame(netflix_info_2014_tvy7fv)\n",
    "\n",
    "netflix_info_2014_ur = netflix_info_2014.loc[netflix_info_2014[\"rating\"]=='UR']\n",
    "netflix_info_2014_ur =pd.DataFrame(netflix_info_2014_ur)\n",
    "\n",
    "netflix_info_2014_nc17 = netflix_info_2014.loc[netflix_info_2014[\"rating\"]=='NC-17']\n",
    "netflix_info_2014_nc17 =pd.DataFrame(netflix_info_2014_nc17)\n",
    "\n"
   ]
  },
  {
   "cell_type": "code",
   "execution_count": 131,
   "metadata": {},
   "outputs": [],
   "source": [
    "# find percentage of each rating\n",
    "percent_tvma_2014 = len(netflix_info_2014_tvma) / len(netflix_info_2014) *100\n",
    "percent_tv14_2014 = len(netflix_info_2014_tv14) / len(netflix_info_2014) *100\n",
    "percent_tvpg_2014 = len(netflix_info_2014_tvpg) / len(netflix_info_2014) *100\n",
    "percent_r_2014 = len(netflix_info_2014_r) / len(netflix_info_2014) *100\n",
    "percent_pg13_2014 = len(netflix_info_2014_pg13) / len(netflix_info_2014) *100\n",
    "percent_tvy_2014 = len(netflix_info_2014_tvy) / len(netflix_info_2014) *100\n",
    "percent_tvy7_2014 = len(netflix_info_2014_tvy7) / len(netflix_info_2014) *100\n",
    "percent_pg_2014 = len(netflix_info_2014_pg) / len(netflix_info_2014) *100\n",
    "percent_tvg_2014 = len(netflix_info_2014_tvg) / len(netflix_info_2014) *100\n",
    "percent_nr_2014 = len(netflix_info_2014_nr) / len(netflix_info_2014) *100\n",
    "percent_g_2014 = len(netflix_info_2014_g) / len(netflix_info_2014) *100\n",
    "percent_tvy7fv_2014 = len(netflix_info_2014_tvy7fv) / len(netflix_info_2014) *100\n",
    "percent_ur_2014 = len(netflix_info_2014_ur) / len(netflix_info_2014) *100\n",
    "percent_nc17_2014 = len(netflix_info_2014_nc17) / len(netflix_info_2014) *100\n",
    "\n",
    "\n",
    "percentage_ratings_2014 = pd.DataFrame({ 'Rating': ['TV-MA', 'TV-14', 'TV-PG', 'R', 'PG-13', 'TV-Y', 'TV-Y7', 'PG',\n",
    "                                                     'TV-G', 'NR', 'G', 'TV-Y7-FV', 'UR', 'NC-17'],\n",
    "                                          'Percentage': [percent_tvma_2014, percent_tv14_2014, percent_tvpg_2014, percent_r_2014, percent_pg13_2014,\n",
    "                                                         percent_tvy_2014, percent_tvy7_2014, percent_pg_2014, percent_tvg_2014, percent_nr_2014,\n",
    "                                                         percent_g_2014, percent_tvy7fv_2014, percent_ur_2014, percent_nc17_2014]})\n",
    "#percentage_ratings_2014"
   ]
  },
  {
   "cell_type": "code",
   "execution_count": 132,
   "metadata": {},
   "outputs": [],
   "source": [
    "#plt.pie(percentages_2014_ratings['Percentage'],labels = percentages_2014_ratings['Rating'],autopct='%1.1f%%',explode=(0.1,0,0,0,0,0,0))\n",
    "#plt.title('Ratings for 2014')\n"
   ]
  },
  {
   "cell_type": "code",
   "execution_count": 133,
   "metadata": {},
   "outputs": [
    {
     "data": {
      "image/png": "iVBORw0KGgoAAAANSUhEUgAAA1sAAAFNCAYAAAD2LHWqAAAAOXRFWHRTb2Z0d2FyZQBNYXRwbG90bGliIHZlcnNpb24zLjMuMiwgaHR0cHM6Ly9tYXRwbG90bGliLm9yZy8vihELAAAACXBIWXMAAAsTAAALEwEAmpwYAAApX0lEQVR4nO3debhlVX3n//cHihmZCxUQK4ozSgnXoK0iiD8BgyCDUjRGNGlRArExwalNuktjuttEQ9LKYCWiaGsxD0oGJSINJAjewkIK0YBSyExRyFDMw/f3x9lXDpd7q24Vd99z7znv1/Ocp85ee+21v+fUfrA+rr3XSVUhSZIkSZpca/W6AEmSJEnqR4YtSZIkSWqBYUuSJEmSWmDYkiRJkqQWGLYkSZIkqQWGLUmSJElqgWFLkjQwkrw5yS96XYckaTAYtiRJT5NkvSRfTXJjkvuT/CTJPqP67Jnk50keTPLDJC/s2rdH03ZvkqUrOc9bklSSz62kz/wkjyVZkeSeJP+e5A2r8VkqyQ4j21V1SVW9bKLHr44kFyV5uKn1riRnJ3l+G+daE0nen+TSXtchSYPEsCVJGm0WcBPwFmBT4M+B05PMAUiyFXB2074FMAyc1nX8A8DJwMfGO0GSdYC/Ay6fQD2nVdXGwFbAD4EzVu/jTKmjm1pfCmwGHLe6AyRZe7KLkiT1hmFLkvQ0VfVAVc2vqqVV9WRVnQ/cAOzSdDkQuKaqzqiqh4H5wE5JXt4cf0VVfRP41UpO86fA94Gfr0ZdjwPfArZNMhsgye8muayZ9botyZeTrNvsu7g59KpmtumQJLsnuXlkzCRLkxyb5KfNTNxpSdbv2v/xZtxbk/yX0TNlK6n1buAsYMdmnJcnuSDJ3Ul+keQ9Xef4epITk/xTkgeAPZK8oJkZW5ZkeZIvd/X/gyTXJvlNku+NmlWsJB9Ocl2z//h0vAI4CXjDyCxh0//3mpnL+5LclGR+9+dI8r5mhnN5kj9vvq+3NfvWSvLJJL9s9p+eZIuJ/F1K0qAwbEmSVirJc+nM1FzTNL0KuGpkf1U9APyyaZ/IeC8E/gD47GrWsS7wPmA58Jum+Qngo3Rmvd4A7An8UVPXbk2fnapq46o6jbG9B9gb+B3gNcD7m/PtDfwJ8DZgBzozfROtdSvgIOAnSTYCLgC+DWwNHAqckKT7+/rPwF8CzwEuA84HbgTmANsCpzbjvgv4b3QC72zgEmDhqNPvC7wO2Kn5bHtV1bXAh4HLmu9is6bvA3S+082A3wOObM5BklcCJwCHAc+nM8u5bdd5PgK8q/letqHzd3L8RL8jSRoEhi1J0ria2/2+BZxSVSOzUBsD947qei+doDAR/wf486paMcH+72lmYh4CPggc3MxyUVWLqupHVfV4VS0FvsJqhKKReqrq1mY26rvA3JHzAl+rqmuq6kHgMxMZq6n1KuA2OmFtX2BpVX2tqfNKOrNeB3cdd15V/VtVPUkn8G0DfKyZZXy4qkaetfoQ8L+q6trmO/ifwNzu2S3gf1fVPVX1azq3Xc5lHFV1UVVd3cxg/pROcBv5/g4GvltVl1bVo8B/B6rr8A8Bn66qm6vqEToznAcnmTWB70mSBoJhS5I0piRrAd8EHgWO7tq1AthkVPdNgPsnMOY7geesZJZpLKc3MzHPBZbw1O2MJHlpkvOT3J7kPjrhY6vVGBvg9q73D9IJk9AJPDd17et+P56PVNVmVbVtVR1WVcuAFwK7Nrc63tOEscOA540z9guAG0cC5SgvBP6ua5y7gfD0GafxPs8zJNk1ncVMliW5l87s18j397TP3wTO5aNqOaerlmvpzDQ+d7zzSdKgMWxJkp4hSYCv0vmH80FV9VjX7mvo3KI20ncj4MU8dZvhyuwJDDXh6HbgEOCYJOet6sCquovObMr8rlX+TqTz3NdLqmoTOrfYZQJ1TMRtwHZd2y9Yw3FuAv5fE8JGXhtX1ZFdfWpU/+3HmSG6CfjQqLE2qKp/n0AdNUbbt4HvAC+oqk3pPNc18v097fMn2QDYclQt+4yqZf2qumUCtUjSQDBsSZLGciLwCuCdVfXQqH3nADsmOahZTOK/Az8duc2wWThhfWCdzmbWH1m0gs4Khi+lc2vbXDr/0P974AMTKao5x/eAjzdNzwHuA1Y0C3QcOeqQO4AXTegTP9PpwAeSvCLJhnQ+55o4H3hpkt9Psk7zel2zaMVYrqATdP53ko2a7++Nzb6TgE+NPO+VZNMk755gHXcA23X9XUDn+7u7qh5O8rt0nh0bcSbwziT/qTnmMzw9yJ4E/OXILYxJZifZf4K1SNJAMGxJkp6m+cfzh+iEodub1etWJDkMoLk17iA6Czr8BtgVmNc1xG50nq/6J2D75v33m2Pvr6rbR17Nvgea56Um6q+BI5JsDRxLJyDcTye0jb49cT5wSnOr23tYDVX1z3SeL/shcD2dhSsAHlnNce4H3k7nO7qVzm1+nwfWG6f/E8A76SzK8WvgZjozgFTVOc2xpza3TS4B9hlrnDFcSGf28fYkdzVtfwR8Nsn9dMLk6V11XAP8MZ3FOW6j8x3fyVOf/+/ohOXvN8f/iM61IElqpGqsuwokSVK3ZiZqCbDeOM9T9bUkGwP30Lll84YelyNJM4IzW5IkjSPJAUnWTbI5nRml7w5S0EryziQbNs/lfQG4Glja26okaeYwbEmSNL4PAcvo/I7YEzzzmbB+tz+dWx9vBV4CzCtviZGkCfM2QkmSJElqgTNbkiRJktQCw5YkSZIktWCsH0xUl6222qrmzJnT6zIkSZIkTVOLFi26q6pmj243bK3CnDlzGB4e7nUZkiRJkqapJDeO1W7YWoXHl93NshP/b6/LkCRJkgTMPvK9vS5hwnxmS5IkSZJaYNiSJEmSpBYYtiRJkiSpBdMibCXZMsni5nV7klu6tvca1feYJCeMapuTpJL8RVfbVkkeS/LlUX2vSrKw3U8kSZIkadBNi7BVVcuram5VzQVOAo5r3p8IzBvVfR4wVlj6FbBv1/a7gWu6OyR5BZ3PvFuSjSanekmSJEl6pmkRtlbiTGDfJOtBZwYL2Aa4dIy+DwHXJhlqtg8BTh/V5z8D3wS+D+zXRsGSJEmSBNM8bFXVcuAKYO+maR5wWlXVOIecCsxLsh3wBHDrqP2HAKfRmRk7dPIrliRJkqSOaR22Ggt56lbC8W4hHPEvwP9HJ0id1r0jyeuAZVV1I/ADYOckm481SJIjkgwnGV6+4r5nW78kSZKkATQTwta5wJ5JdgY2qKork+zatYDGb28HrKpHgUXAnwJnjRrnUODlSZYCvwQ2AQ4a64RVtaCqhqpqaMuNN5n8TyRJkiSp783qdQGrUlUrklwEnEwzq1VVlwNzR/o0z3KN+CLw/6pqeZKR/WvRWTDjNVV1S9O2B/BnwD+0/iEkSZIkDZyZMLMFnZC1E51nslaqqq6pqlNGNe8G3DIStBoXA69M8vzJK1OSJEmSOqbdzFZVzR+j7RwgKzlmKbDjGO1fB77ebL5+1L4nAIOWJEmSpFbMlJktSZIkSZpRDFuSJEmS1IJpdxvhdDNr9hbMPvK9vS5DkiRJ0gzjzJYkSZIktcCwJUmSJEktMGxJkiRJUgt8ZmsVHrvz19xy/FG9LkNTZNujju91CZIkSeoTzmxJkiRJUgsMW5IkSZLUAsOWJEmSJLVg2oWtJFsmWdy8bk9yS9f2XqP6HpPkhDHG+Jck9yQ5f5xzfCnJirY+gyRJkiRNu7BVVcuram5VzQVOAo5r3p8IzBvVfR6wcIxh/hr4/bHGTzIEbDZZ9UqSJEnSWKZd2FqJM4F9k6wHkGQOsA1w6eiOVfUD4P7R7UnWphPEPt5qpZIkSZIG3owJW1W1HLgC2LtpmgecVlW1GsMcDXynqm6b7PokSZIkqduMCVuNhTx1K+F4txCOKck2wLuBL02g7xFJhpMML1/x0BoVKkmSJGmwzbSwdS6wZ5KdgQ2q6soku3YtoLHfSo59LbADcH2SpcCGSa4fq2NVLaiqoaoa2nLjDSb7M0iSJEkaALN6XcDqqKoVSS4CTqaZ1aqqy4G5Ezj2H4HnjWwnWVFVO7RTqSRJkqRBN9NmtqATsnYCTh2vQ5JLgDPozILdPHrJeEmSJElq27Se2aqq+WO0nQNkFce9eQJjb7zmlUmSJEnSys3EmS1JkiRJmvYMW5IkSZLUAsOWJEmSJLVgWj+zNR2ss/X2bHvU8b0uQ5IkSdIM48yWJEmSJLXAsCVJkiRJLTBsSZIkSVILfGZrFVbcdT2X/P2+vS5DatWbP3h+r0uQJEnqO85sSZIkSVILDFuSJEmS1ALDliRJkiS1YFqFrSRbJlncvG5PckvX9l6j+h6T5IRRbXOSPNT0/1mSk5Ks1ex7SZLzk/wyyaIkP0yy21R+PkmSJEmDY1qFrapaXlVzq2oucBJwXPP+RGDeqO7zgIVjDPPL5pjXAK8E3pVkfeAfgQVV9eKq2gX4Y+BFrXwQSZIkSQNvWoWtlTgT2DfJetCZwQK2AS4d74Cqehz4d2AH4DDgsqr6Ttf+JVX19RZrliRJkjTAZkTYqqrlwBXA3k3TPOC0qqrxjkmyIbAncDXwKuDKtuuUJEmSpBEzImw1FvLUrYTj3UII8OIki4F/A/6xqv55dIck5yRZkuTssQZIckSS4STD99z/6CSULkmSJGnQzKSwdS6wZ5KdgQ2q6soku3YtoLFf0++XzXNfr62q+U3bNcDOIwNV1QHA+4EtxjpRVS2oqqGqGtrsOeu29XkkSZIk9bEZE7aqagVwEXAyzaxWVV0+sqBG9/NYY/g28MauQAawYWvFSpIkSRp4s3pdwGpaCJzNM1cmXKmqeijJvsDfJPlb4A7gfuBzk16hJEmSJDGNw1bXLYDdbecAWckxS4Edx9n3c+Adk1SeJEmSJK3UjLmNUJIkSZJmEsOWJEmSJLVg2t5GOF1svNUOvPmD5/e6DEmSJEkzjDNbkiRJktQCw5YkSZIktcCwJUmSJEktMGxJkiRJUgsMW5IkSZLUAsOWJEmSJLXAsCVJkiRJLRio39lK8gRwNZ3PfQPw+1V1T0+LkiRJktSXBm1m66GqmltVOwJ3A0f1uiBJkiRJ/WnQwla3y4Bte12EJEmSpP40kGErydrAnsB3el2LJEmSpP40aGFrgySLgeXAFsAFY3VKckSS4STDy5Ytm8r6JEmSJPWJQQtbD1XVXOCFwLqM88xWVS2oqqGqGpo9e/ZU1idJkiSpTwxa2AKgqu4FPgIcm2SdXtcjSZIkqf8MZNgCqKqfAFcB83pdiyRJkqT+M1C/s1VVG4/afmevapEkSZLU3wZ2ZkuSJEmS2mTYkiRJkqQWGLYkSZIkqQWGLUmSJElqgWFLkiRJklpg2JIkSZKkFhi2JEmSJKkFhi1JkiRJaoFhS5IkSZJaYNiSJEmSpBYYtiRJkiSpBdMqbCV5IsniJEuSnJFkw6b9uUm+neRXSRYluSzJAeOM8e4k1yR5MslQV/vvNmMvTnLVeMdLkiRJ0mSYVmELeKiq5lbVjsCjwIeTBDgXuLiqXlRVuwDzgO3GGWMJcCBw8RjtQ1U1F9gb+EqSWS18BkmSJEliOoeNS4DXAG8FHq2qk0Z2VNWNwJfGOqiqrgXoZLSntT/Ytbk+UJNcryRJkiT91nSb2QKgmXHaB7gaeBVw5SSNu2uSa5pxP1xVj4/T74gkw0mGly1bNhmnliRJkjRgplvY2iDJYmAY+DXw1dEdkhzfPHP149UdvKour6pXAa8DPpVk/XH6Laiqoaoamj179uqeRpIkSZKm3W2EDzXPVP1WMxN10Mh2VR2VZCs6gYwkXwNeC9xaVe+YyEmq6tokDwA7jowjSZIkSZNpus1sjeVCYP0kR3a1bTjypqo+0CyqsdKgleR3RhbESPJC4GXA0hbqlSRJkqTpH7aqqoB3AW9JckOSK4BTgE+M1T/JAUluBt4A/GOS7zW73gRc1dymeA7wR1V1V9v1S5IkSRpM6WQZjWdoaKiGh73TUJIkSdLYkiyqqqHR7dN+ZkuSJEmSZiLDliRJkiS1wLAlSZIkSS0wbEmSJElSCwxbkiRJktQCw5YkSZIktWBWrwuY7q67Zyn7nHd4r8vQFPnn/U/pdQmSJEnqE85sSZIkSVILDFuSJEmS1ALDliRJkiS1YMaFrSRbJlncvG5PckvX9l6j+h6T5ITm/dZJbkjyvK79JyT55FR/BkmSJEn9b8aFrapaXlVzq2oucBJwXPP+RGDeqO7zgIXNcXcCnwe+AJBkZ+BNwBenpnJJkiRJg2TGha2VOBPYN8l6AEnmANsAl3b1WQC8OMkewJeBo6vqsakuVJIkSVL/65uwVVXLgSuAvZumecBpVVVdfZ4EjgTOAv6jqi6e8kIlSZIkDYS+CVuNhTx1K+FvbyHsVlWLgSXACeMNkuSIJMNJhh+97+E26pQkSZLU5/otbJ0L7Nk8j7VBVV2ZZNeuBTT2a/o92bzGVFULqmqoqobW3WT9KShbkiRJUr+Z1esCJlNVrUhyEXAyTy2McTkwt4dlSZIkSRpA/TazBZ2QtRNwaq8LkSRJkjS4ZvTMVlXNH6PtHCCrOG73lkqSJEmSJKA/Z7YkSZIkqecMW5IkSZLUAsOWJEmSJLVgRj+zNRVestkc/nn/U3pdhiRJkqQZxpktSZIkSWqBYUuSJEmSWmDYkiRJkqQWGLYkSZIkqQWGLUmSJElqgWFLkiRJklowoaXfkxw4RvO9wNVVdefklgRJtgR+0Gw+D3gCWNZsf6KqvtfV9xjgpVX1R0m2Bi4H3lBVtzf7TwB+DdwEfKzrNK8Bdq6qxZNdvyRJkiRN9He2/hB4A/DDZnt34EfAS5N8tqq+OZlFVdVyYC5AkvnAiqr6QpIPAfOA73V1n0cToqrqziSfB74AvDfJzsCbgF2q6jHgW82YrwbOM2hJkiRJastEbyN8EnhFVR1UVQcBrwQeAXYFPtFWcWM4E9g3yXoASeYA2wCXdvVZALw4yR7Al4Gjm6DV7VBgYfvlSpIkSRpUEw1bc6rqjq7tO+ncunc3MDrItKaZ8boC2LtpmgecVlXV1edJ4EjgLOA/quriMYY6BMOWJEmSpBZNNGxdkuT8JIcnORw4D7g4yUbAPa1VN7aFdEIWzZ/PCE3N7YFLgBNG70uyK/BgVS0Z7wRJjkgynGR42bJl43WTJEmSpHFNNGwdBXydznNUrwW+ARxVVQ9U1R7tlDauc4E9m+exNqiqK5PsmmRx89qv6fdk8xptzIDWraoWVNVQVQ3Nnj17UouXJEmSNBgmtEBGc5vemc2rp6pqRZKLgJNpQlNVXU6zoMbKJFkLeDewW4slSpIkSdLEZraSHJjkuiT3Jrkvyf1J7mu7uJVYCOwEnLqax+0G3FxVv5r8kiRJkiTpKelaW2L8Tsn1wDur6tr2S5pehoaGanh4uNdlSJIkSZqmkiyqqqHR7RN9ZuuOQQxakiRJkrSmJvqjxsNJTqOzOMUjI41VdXYbRUmSJEnSTDfRsLUJ8CDw9q62AgxbkiRJkjSGia5G+IG2C5EkSZKkfrLSsJXk41X1V0m+RGcm62mq6iOtVSZJkiRJM9iqZrZGFsVwOT5JkiRJWg0rDVtV9d3m7YNVdUb3viTvbq0qSZIkSZrhJvo7W1dW1c6rautHm734RfWmz/9Fr8uQWnX+wYf1ugRJkqQZa7zf2VrVM1v7AO8Atk3yf7p2bQI8PrklSpIkSVL/WNUzW7fSeV5rP2BRV/v9wEfbKkqSJEmSZrpVPbN1FXBVkm9X1WNTVJMkSZIkzXhrTbDfnCRnJvlZkl+NvFqtbA0leSLJ4iRLkpyRZMOm/blJvt3UvijJZUkO6HW9kiRJkvrTRMPW14AT6TyntQfwDeCbbRX1LD1UVXOrakfgUeDDSQKcC1xcVS+qql2AecB2PaxTkiRJUh+baNjaoKp+QGf1whuraj7w1vbKmjSXADvQqfXRqjppZEfzOb7Us8okSZIk9bVVLZAx4uEkawHXJTkauAXYur2ynr0ks4B9gH8BXgVc2duKJEmSJA2Sic5sHQNsCHwE2AX4feB9LdX0bG2QZDGdVRR/DXx1dIckxye5KsmPxxogyRFJhpMMP3rffe1WK0mSJKkvTWhmq6pGQskK4APNrNEhwOVtFfYsPFRVc7sbklwDHDSyXVVHJdmKTiB7hqpaACyAzo8at1eqJEmSpH610pmtJJsk+VSSLyd5ezqOBq4H3jM1JU6KC4H1kxzZ1bZhr4qRJEmS1P9WNbP1TeA3wGXAfwE+BqwLvKuqFrdb2uSpqkryLuC4JB8HlgEPAJ/oaWGSJEmS+taqwtaLqurVAEn+AbgL2L6q7m+9sjVUVRuP034bneXeJUmSJKl1q1og47GRN1X1BHDDdA5akiRJkjRdrGpma6ckI8vxhc5Kf/c176uqNmm1OkmSJEmaoVYatqpq7akqZLraYfMtOP/gw3pdhiRJkqQZZqK/syVJkiRJWg2GLUmSJElqgWFLkiRJklqwqgUyBt71v7mP/c/8Xq/LmHLnHbxXr0uQJEmSZjRntiRJkiSpBYYtSZIkSWqBYUuSJEmSWjDtw1aSLZMsbl63J7mla3uvUX2PSXLCGGPMSvI/k1zXdeynp+5TSJIkSRo00z5sVdXyqppbVXOBk4DjmvcnAvNGdZ8HLBxjmM8B2wCvbo59M7BOWzVLkiRJ0kxejfBM4HNJ1quqR5LMoROoLu3ulGRD4IPAnKp6GKCq7gfmT225kiRJkgbJtJ/ZGk9VLQeuAPZumuYBp1VVjeq6A/DrJmBJkiRJ0pSYsWGrsZCnbiUc7xbCp0nygeaZrZuSvGCcPkckGU4y/Oh9905iuZIkSZIGxUwPW+cCeybZGdigqq5MsmvXIhj7AdcD2yd5DkBVfa15buteYO2xBq2qBVU1VFVD626y6dR8EkmSJEl9ZSY/s0VVrUhyEXAyzaxWVV0OzO3ul+SrwJeTfKiqHk6yNrDuFJcrSZIkaYDM9Jkt6ISsnYBTV9Ln08BtwJIkPwEuAU4Bbm2/PEmSJEmDaEbNbFXV/DHazgGyiuMeAz7ZvCRJkiSpdf0wsyVJkiRJ045hS5IkSZJaYNiSJEmSpBbMqGe2emGHzTfhvIP36nUZkiRJkmYYZ7YkSZIkqQWGLUmSJElqgWFLkiRJklpg2JIkSZKkFhi2JEmSJKkFhi1JkiRJaoFhS5IkSZJa0FdhK0kl+WLX9rFJ5jfv5ye5JcniJD9LcmjPCpUkSZLU9/oqbAGPAAcm2Wqc/cdV1Vxgf+ArSdaZssokSZIkDZR+C1uPAwuAj66sU1VdBzwIbD4VRUmSJEkaPP0WtgCOBw5Lsul4HZLsDFxXVXeOs/+IJMNJhpctW9ZWnZIkSZL6WN+Fraq6D/gG8JExdn80yS+Ay4H5KxljQVUNVdXQ7Nmz2ylUkiRJUl/ru7DV+FvgD4GNRrUfV1UvAw4BvpFk/akuTJIkSdJg6MuwVVV3A6fTCVxj7T8bGAYOn8q6JEmSJA2OvgxbjS8C461KCPBZ4E+S9PN3IEmSJKlHZvW6gMlUVRt3vb8D2LBre/6ovouAl01ZcZIkSZIGirM6kiRJktQCw5YkSZIktcCwJUmSJEktMGxJkiRJUgsMW5IkSZLUAsOWJEmSJLWgr5Z+b8Pyex7nlLOX9bqMKXf4gbN7XYIkSZI0ozmzJUmSJEktMGxJkiRJUgsMW5IkSZLUgoEJW0mem+TbSX6VZFGSy5Ic0Ou6JEmSJPWngQhbSQKcC1xcVS+qql2AecB2PS1MkiRJUt8alNUI3wo8WlUnjTRU1Y3Al3pXkiRJkqR+NhAzW8CrgCt7XYQkSZKkwTEoYetpkhyf5KokPx5n/xFJhpMM33/v8qkuT5IkSVIfGJSwdQ2w88hGVR0F7AmM+cu9VbWgqoaqaug5m245RSVKkiRJ6ieDErYuBNZPcmRX24a9KkaSJElS/xuIsFVVBbwLeEuSG5JcAZwCfKKnhUmSJEnqW4OyGiFVdRud5d4lSZIkqXUDMbMlSZIkSVPNsCVJkiRJLTBsSZIkSVILBuaZrTW15WazOPzAMVeIlyRJkqRxObMlSZIkSS0wbEmSJElSCwxbkiRJktQCw5YkSZIktcCwJUmSJEktMGxJkiRJUgtaCVtJtkyyuHndnuSWru29RvU9JskJzfutk9yQ5Hld+09I8skkh3WNsTjJk0nmjnHu3ZPc29XvX5u2y0b1m5XkjiTPb+M7kCRJkjTYWvmdrapaDswFSDIfWFFVX0jyIWAe8L2u7vOAjzXH3Znk88AXgPcm2Rl4E7BLVT0GfKsZ89XAeVW1eJwSLqmqfUc2kqwFbJdkTlUtbZrfBiypqtue/SeWJEmSpKeb6tsIzwT2TbIeQJI5wDbApV19FgAvTrIH8GXg6CZodTsUWDjRk1bVk8AZwCFdzfNWZwxJkiRJWh1TGraaGa8rgL2bpnnAaVVVXX2eBI4EzgL+o6ouHmOoQ1h5UHpz122En27aFjbnowl772jOIUmSJEmTrpXbCFdhJPSc1/z5B6M7VNXiJEuAE0bvS7Ir8GBVLVnJOZ52G2Ez5o+TbJzkZcArgB9V1W/GOjjJEcARANtvv/3EPpUkSZIkdenFaoTnAns2z2NtUFVXJtm1ayZqv6bfk81rtKfd/pfkgK5jh1Zx7lOb41d6C2FVLaiqoaoamj179mp8NEmSJEnqmPKZrapakeQi4GSawFNVl9MsqLEyzUIX7wZ26xrvHOCcrj67r2SIhXRm1DYF/nB1a5ckSZKkierV72wtBHaiM9O0OnYDbq6qX63JSavqZ8CDwIVV9cCajCFJkiRJE5GutSk0hqGhoRoeHu51GZIkSZKmqSSLquoZjzT1amZLkiRJkvqaYUuSJEmSWmDYkiRJkqQWGLYkSZIkqQWGLUmSJElqgWFLkiRJklpg2JIkSZKkFhi2JEmSJKkFhi1JkiRJaoFhS5IkSZJaYNiSJEmSpBbM6nUBkynJHOD8qtqxq20+sALYEXgLcC8Q4E+q6gc9KFOSJEnSABi0ma2PVdVc4BjgpN6WIkmSJKmfDVrYGnEZsG2vi5AkSZLUvwY1bO0NnNvrIiRJkiT1r756ZguoVbT/dZK/ArYGXj/eIEmOAI4A2H777Se1QEmSJEmDod9mtpYDm49q2wK4q3n/MWAH4M+AU8YbpKoWVNVQVQ3Nnj27lUIlSZIk9be+CltVtQK4LcmeAEm2oHPL4KVdfZ4E/g5YK8lePSlUkiRJUt/rq7DVeB/wZ0kWAxcCn6mqX3Z3qKoCPgd8fOrLkyRJkjQI+u2ZLarqZ8AeY7S/f9T2WcBZU1SWJEmSpAHTjzNbkiRJktRzhi1JkiRJaoFhS5IkSZJaYNiSJEmSpBYYtiRJkiSpBYYtSZIkSWqBYUuSJEmSWmDYkiRJkqQWGLYkSZIkqQWGLUmSJElqwbQKW0kqyRe7to9NMr9r+31JliS5JsnPkhw7zjgnJ7kzyZJR7aclWdy8liZZ3NZnkSRJkjTYplXYAh4BDkyy1egdSfYBjgHeXlWvAnYG7h1nnK8De49urKpDqmpuVc0FzgLOnpyyJUmSJOnpplvYehxYAHx0jH2fAo6tqlsBqurhqvr7sQapqouBu8c7SZIA7wEWPuuKJUmSJGkM0y1sARwPHJZk01HtOwKLJukcbwbuqKrrJmk8SZIkSXqaaRe2quo+4BvAR1o8zaGsZFYryRFJhpMML1u2rMUyJEmSJPWraRe2Gn8L/CGwUVfbNcAuozsmeUHXohcfXtXASWYBBwKnjdenqhZU1VBVDc2ePXu1i5ckSZKkaRm2qupu4HQ6gWvE/wL+KsnzAJKsl+QjVXXTyKIXVXXSBIZ/G/Dzqrp58iuXJEmSpI5pGbYaXwR+uyphVf0Tnee5/jXJNXSe35o11oFJFgKXAS9LcnOS7tA2DxfGkCRJktSyVFWva5jWhoaGanh4uNdlSJIkSZqmkiyqqqHR7dN5ZkuSJEmSZizDliRJkiS1wLAlSZIkSS0wbEmSJElSCwxbkiRJktQCVyNchST3A7/odR3qG1sBd/W6CPUVrylNNq8pTTavKU226XhNvbCqZo9uHPN3qvQ0vxhrGUdpTSQZ9nrSZPKa0mTzmtJk85rSZJtJ15S3EUqSJElSCwxbkiRJktQCw9aqLeh1AeorXk+abF5TmmxeU5psXlOabDPmmnKBDEmSJElqgTNbkiRJktQCw9Y4kuyd5BdJrk/yyV7Xo5knyclJ7kyypKttiyQXJLmu+XPzXtaomSXJC5L8MMm1Sa5J8l+bdq8rrbYk6ye5IslVzfX0mabd60nPSpK1k/wkyfnNtteU1liSpUmuTrI4yXDTNmOuKcPWGJKsDRwP7AO8Ejg0ySt7W5VmoK8De49q+yTwg6p6CfCDZluaqMeBP62qVwCvB45q/tvkdaU18Qjw1qraCZgL7J3k9Xg96dn7r8C1XdteU3q29qiquV3Lvc+Ya8qwNbbfBa6vql9V1aPAqcD+Pa5JM0xVXQzcPap5f+CU5v0pwLumsibNbFV1W1Vd2by/n84/ZrbF60proDpWNJvrNK/C60nPQpLtgN8D/qGr2WtKk23GXFOGrbFtC9zUtX1z0yY9W8+tqtug8w9nYOse16MZKskc4LXA5XhdaQ01t3stBu4ELqgqryc9W38LfBx4sqvNa0rPRgHfT7IoyRFN24y5pmb1uoBpKmO0uWyjpGkhycbAWcAxVXVfMtZ/sqRVq6ongLlJNgPOSbJjj0vSDJZkX+DOqlqUZPcel6P+8caqujXJ1sAFSX7e64JWhzNbY7sZeEHX9nbArT2qRf3ljiTPB2j+vLPH9WiGSbIOnaD1rao6u2n2utKzUlX3ABfRec7U60lr6o3AfkmW0nkE461J/i9eU3oWqurW5s87gXPoPO4zY64pw9bYfgy8JMnvJFkXmAd8p8c1qT98Bzi8eX84cF4Pa9EMk84U1leBa6vqb7p2eV1ptSWZ3cxokWQD4G3Az/F60hqqqk9V1XZVNYfOv50urKr34jWlNZRkoyTPGXkPvB1Ywgy6pvxR43EkeQed+47XBk6uqr/sbUWaaZIsBHYHtgLuAP4HcC5wOrA98Gvg3VU1ehENaUxJ3gRcAlzNU89D/Dc6z215XWm1JHkNnQfL16bzf76eXlWfTbIlXk96lprbCI+tqn29prSmkryIzmwWdB5/+nZV/eVMuqYMW5IkSZLUAm8jlCRJkqQWGLYkSZIkqQWGLUmSJElqgWFLkiRJklpg2JIkSZKkFhi2JEkzXpInkixOsiTJGUk27EENuyf5T1N9XknS9GXYkiT1g4eqam5V7Qg8Cnx4IgclmTWJNewOGLYkSb9l2JIk9ZtLgB2SbJTk5CQ/TvKTJPsDJHl/M/v1XeD7STZO8rUkVyf5aZKDmn5vT3JZkiub/hs37UuTfKZpvzrJy5PMoRPwPtrMsL05yTuTXN6c+1+TPLc5fnaSC5rjv5LkxiRbNfvem+SKZoyvJFm7B9+fJGmSGLYkSX2jmanaB7ga+DRwYVW9DtgD+OskGzVd3wAcXlVvBf4cuLeqXl1VrwEubMLPnwFvq6qdgWHgT7pOdVfTfiJwbFUtBU4Cjmtm2C4BLgVeX1WvBU4FPt4c+z+aunYGzgG2b2p/BXAI8Maqmgs8ARw2ud+QJGkqTebtE5Ik9coGSRY37y8Bvgr8O7BfkmOb9vVpgg1wQVXd3bx/GzBvZKCq+k2SfYFXAv+WBGBd4LKu853d/LkIOHCcmrYDTkvy/Ob4G5r2NwEHNOf6lyS/adr3BHYBftyccwPgzol8eEnS9GTYkiT1g4ea2aDfSiexHFRVvxjVvivwQHcTUKPGC51Adug453uk+fMJxv/f0i8Bf1NV30myOzC/a+yxBDilqj41zn5J0gzjbYSSpH71PeCPm9BFkteO0+/7wNEjG0k2B34EvDHJDk3bhkleuorz3Q88p2t7U+CW5v3hXe2XAu9pxn07sHnT/gPg4CRbN/u2SPLCVZxTkjSNGbYkSf3qL4B1gJ8mWdJsj+VzwObNsvFXAXtU1TLg/cDCJD+lE75evorzfRc4YGSBDDozWWckuQS4q6vfZ4C3J7mSzvNltwH3V9XP6Dwn9v3mnBcAz1/dDy1Jmj5SNfrOCUmS1JYk6wFPVNXjSd4AnDj6FkhJUn/wmS1JkqbW9sDpSdai85tgH+xxPZKkljizJUmSJEkt8JktSZIkSWqBYUuSJEmSWmDYkiRJkqQWGLYkSZIkqQWGLUmSJElqgWFLkiRJklrw/wM0JD9Hvy+NDAAAAABJRU5ErkJggg==\n",
      "text/plain": [
       "<Figure size 1008x360 with 1 Axes>"
      ]
     },
     "metadata": {
      "needs_background": "light"
     },
     "output_type": "display_data"
    }
   ],
   "source": [
    "#create bar graph to show data comparison\n",
    "values = percentage_ratings_2014['Percentage']\n",
    "labels = percentage_ratings_2014['Rating']\n",
    "\n",
    "plt.figure(figsize=(14,5))\n",
    "g = sns.barplot(x=values, y=labels)\n",
    "plt.title('2014 Rating Percentage')\n",
    "plt.xlabel('Percentage')\n",
    "plt.ylabel('Rating')\n",
    "plt.savefig(\"images/2014_rating_percentages.png\")\n",
    "plt.show()"
   ]
  },
  {
   "cell_type": "markdown",
   "metadata": {},
   "source": [
    "Breaking down 2015 info"
   ]
  },
  {
   "cell_type": "code",
   "execution_count": 134,
   "metadata": {},
   "outputs": [],
   "source": [
    "# find info for items added in 2015\n",
    "netflix_info_2015 = netflix_info.loc[netflix_info[\"YEAR_added\"]==2015]\n",
    "netflix_info_2015 = pd.DataFrame(netflix_info_2015)\n",
    "#netflix_info_2015.head()"
   ]
  },
  {
   "cell_type": "code",
   "execution_count": 135,
   "metadata": {},
   "outputs": [],
   "source": [
    "#Find overall count of ratings for 2015\n",
    "netflix_info_2015_ratings = netflix_info_2015['rating'].value_counts()\n",
    "#netflix_info_2015_ratings"
   ]
  },
  {
   "cell_type": "code",
   "execution_count": 136,
   "metadata": {},
   "outputs": [],
   "source": [
    "netflix_info_2015_tvma = netflix_info_2015.loc[netflix_info_2015[\"rating\"]== 'TV-MA']\n",
    "netflix_info_2015_tvma = pd.DataFrame(netflix_info_2015_tvma)\n",
    "\n",
    "netflix_info_2015_tv14 = netflix_info_2015.loc[netflix_info_2015[\"rating\"]== 'TV-14']\n",
    "netflix_info_2015_tv14 = pd.DataFrame(netflix_info_2015_tv14)\n",
    "\n",
    "netflix_info_2015_tvpg = netflix_info_2015.loc[netflix_info_2015[\"rating\"]=='TV-PG']\n",
    "netflix_info_2015_tvpg =pd.DataFrame(netflix_info_2015_tvpg)\n",
    "\n",
    "netflix_info_2015_r = netflix_info_2015.loc[netflix_info_2015[\"rating\"]=='R']\n",
    "netflix_info_2015_r =pd.DataFrame(netflix_info_2015_r)\n",
    "\n",
    "netflix_info_2015_pg13 = netflix_info_2015.loc[netflix_info_2015[\"rating\"]=='PG-13']\n",
    "netflix_info_2015_pg13 =pd.DataFrame(netflix_info_2015_pg13)\n",
    "\n",
    "netflix_info_2015_tvy = netflix_info_2015.loc[netflix_info_2015[\"rating\"]=='TV-Y']\n",
    "netflix_info_2015_tvy =pd.DataFrame(netflix_info_2015_tvy)\n",
    "\n",
    "netflix_info_2015_tvy7 = netflix_info_2015.loc[netflix_info_2015[\"rating\"]=='TV-Y7']\n",
    "netflix_info_2015_tvy7 =pd.DataFrame(netflix_info_2015_tvy7)\n",
    "\n",
    "netflix_info_2015_pg = netflix_info_2015.loc[netflix_info_2015[\"rating\"]=='PG']\n",
    "netflix_info_2015_pg =pd.DataFrame(netflix_info_2015_pg)\n",
    "\n",
    "netflix_info_2015_tvg = netflix_info_2015.loc[netflix_info_2015[\"rating\"]=='TV-G']\n",
    "netflix_info_2015_tvg =pd.DataFrame(netflix_info_2015_tvg)\n",
    "\n",
    "netflix_info_2015_nr = netflix_info_2015.loc[netflix_info_2015[\"rating\"]=='NR']\n",
    "netflix_info_2015_nr =pd.DataFrame(netflix_info_2015_nr)\n",
    "\n",
    "netflix_info_2015_g = netflix_info_2015.loc[netflix_info_2015[\"rating\"]=='G']\n",
    "netflix_info_2015_g =pd.DataFrame(netflix_info_2015_g)\n",
    "\n",
    "netflix_info_2015_tvy7fv = netflix_info_2015.loc[netflix_info_2015[\"rating\"]=='TV-Y7-FV']\n",
    "netflix_info_2015_tvy7fv =pd.DataFrame(netflix_info_2015_tvy7fv)\n",
    "\n",
    "netflix_info_2015_ur = netflix_info_2015.loc[netflix_info_2015[\"rating\"]=='UR']\n",
    "netflix_info_2015_ur =pd.DataFrame(netflix_info_2015_ur)\n",
    "\n",
    "netflix_info_2015_nc17 = netflix_info_2015.loc[netflix_info_2015[\"rating\"]=='NC-17']\n",
    "netflix_info_2015_nc17 =pd.DataFrame(netflix_info_2015_nc17)\n"
   ]
  },
  {
   "cell_type": "code",
   "execution_count": 137,
   "metadata": {},
   "outputs": [],
   "source": [
    "# find percentage of each rating\n",
    "percent_tvma_2015 = len(netflix_info_2015_tvma) / len(netflix_info_2015) *100\n",
    "percent_tv14_2015 = len(netflix_info_2015_tv14) / len(netflix_info_2015) *100\n",
    "percent_tvpg_2015 = len(netflix_info_2015_tvpg) / len(netflix_info_2015) *100\n",
    "percent_r_2015 = len(netflix_info_2015_r) / len(netflix_info_2015) *100\n",
    "percent_pg13_2015 = len(netflix_info_2015_pg13) / len(netflix_info_2015) *100\n",
    "percent_tvy_2015 = len(netflix_info_2015_tvy) / len(netflix_info_2015) *100\n",
    "percent_tvy7_2015 = len(netflix_info_2015_tvy7) / len(netflix_info_2015) *100\n",
    "percent_pg_2015 = len(netflix_info_2015_pg) / len(netflix_info_2015) *100\n",
    "percent_tvg_2015 = len(netflix_info_2015_tvg) / len(netflix_info_2015) *100\n",
    "percent_nr_2015 = len(netflix_info_2015_nr) / len(netflix_info_2015) *100\n",
    "percent_g_2015= len(netflix_info_2015_g) / len(netflix_info_2015) *100\n",
    "percent_tvy7fv_2015 = len(netflix_info_2015_tvy7fv) / len(netflix_info_2015) *100\n",
    "percent_ur_2015 = len(netflix_info_2015_ur) / len(netflix_info_2015) *100\n",
    "percent_nc17_2015 = len(netflix_info_2015_nc17) / len(netflix_info_2015) *100\n",
    "\n",
    "\n",
    "percentage_ratings_2015 = pd.DataFrame({ 'Rating': ['TV-MA', 'TV-14', 'TV-PG', 'R', 'PG-13', 'TV-Y', 'TV-Y7', 'PG',\n",
    "                                                     'TV-G', 'NR', 'G', 'TV-Y7-FV', 'UR', 'NC-17'],\n",
    "                                          'Percentage': [percent_tvma_2015, percent_tv14_2015, percent_tvpg_2015, percent_r_2015, percent_pg13_2015,\n",
    "                                                         percent_tvy_2015, percent_tvy7_2015, percent_pg_2015, percent_tvg_2015, percent_nr_2015,\n",
    "                                                         percent_g_2015, percent_tvy7fv_2015, percent_ur_2015, percent_nc17_2015]})\n",
    "#percentage_ratings_2015"
   ]
  },
  {
   "cell_type": "code",
   "execution_count": 138,
   "metadata": {},
   "outputs": [
    {
     "data": {
      "image/png": "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\n",
      "text/plain": [
       "<Figure size 1008x360 with 1 Axes>"
      ]
     },
     "metadata": {
      "needs_background": "light"
     },
     "output_type": "display_data"
    }
   ],
   "source": [
    "#create bar graph to show data comparison\n",
    "values = percentage_ratings_2015['Percentage']\n",
    "labels = percentage_ratings_2015['Rating']\n",
    "\n",
    "plt.figure(figsize=(14,5))\n",
    "g = sns.barplot(x=values, y=labels)\n",
    "plt.title('2015 Rating Percentage')\n",
    "plt.xlabel('Percentage')\n",
    "plt.ylabel('Rating')\n",
    "plt.savefig(\"images/2015_rating_percentages.png\")\n",
    "plt.show()"
   ]
  },
  {
   "cell_type": "markdown",
   "metadata": {},
   "source": [
    "Breaking down 2016 info"
   ]
  },
  {
   "cell_type": "code",
   "execution_count": 139,
   "metadata": {},
   "outputs": [],
   "source": [
    "# find info for items added in 2016\n",
    "netflix_info_2016 = netflix_info.loc[netflix_info[\"YEAR_added\"]==2016]\n",
    "netflix_info_2016 = pd.DataFrame(netflix_info_2016)\n",
    "#netflix_info_2016.head()"
   ]
  },
  {
   "cell_type": "code",
   "execution_count": 140,
   "metadata": {},
   "outputs": [],
   "source": [
    "#Find overall count of ratings for 2016\n",
    "netflix_info_2016_ratings = netflix_info_2016['rating'].value_counts()\n",
    "#netflix_info_2016_ratings"
   ]
  },
  {
   "cell_type": "code",
   "execution_count": 141,
   "metadata": {},
   "outputs": [],
   "source": [
    "netflix_info_2016_tvma = netflix_info_2016.loc[netflix_info_2016[\"rating\"]== 'TV-MA']\n",
    "netflix_info_2016_tvma = pd.DataFrame(netflix_info_2016_tvma)\n",
    "\n",
    "netflix_info_2016_tv14 = netflix_info_2016.loc[netflix_info_2016[\"rating\"]== 'TV-14']\n",
    "netflix_info_2016_tv14 = pd.DataFrame(netflix_info_2016_tv14)\n",
    "\n",
    "netflix_info_2016_tvpg = netflix_info_2016.loc[netflix_info_2016[\"rating\"]=='TV-PG']\n",
    "netflix_info_2016_tvpg =pd.DataFrame(netflix_info_2016_tvpg)\n",
    "\n",
    "netflix_info_2016_r = netflix_info_2016.loc[netflix_info_2016[\"rating\"]=='R']\n",
    "netflix_info_2016_r =pd.DataFrame(netflix_info_2016_r)\n",
    "\n",
    "netflix_info_2016_pg13 = netflix_info_2016.loc[netflix_info_2016[\"rating\"]=='PG-13']\n",
    "netflix_info_2016_pg13 =pd.DataFrame(netflix_info_2016_pg13)\n",
    "\n",
    "netflix_info_2016_tvy = netflix_info_2016.loc[netflix_info_2016[\"rating\"]=='TV-Y']\n",
    "netflix_info_2016_tvy =pd.DataFrame(netflix_info_2016_tvy)\n",
    "\n",
    "netflix_info_2016_tvy7 = netflix_info_2016.loc[netflix_info_2016[\"rating\"]=='TV-Y7']\n",
    "netflix_info_2016_tvy7 =pd.DataFrame(netflix_info_2016_tvy7)\n",
    "\n",
    "netflix_info_2016_pg = netflix_info_2016.loc[netflix_info_2016[\"rating\"]=='PG']\n",
    "netflix_info_2016_pg =pd.DataFrame(netflix_info_2016_pg)\n",
    "\n",
    "netflix_info_2016_tvg = netflix_info_2016.loc[netflix_info_2016[\"rating\"]=='TV-G']\n",
    "netflix_info_2016_tvg =pd.DataFrame(netflix_info_2016_tvg)\n",
    "\n",
    "netflix_info_2016_nr = netflix_info_2016.loc[netflix_info_2016[\"rating\"]=='NR']\n",
    "netflix_info_2016_nr =pd.DataFrame(netflix_info_2016_nr)\n",
    "\n",
    "netflix_info_2016_g = netflix_info_2016.loc[netflix_info_2016[\"rating\"]=='G']\n",
    "netflix_info_2016_g =pd.DataFrame(netflix_info_2016_g)\n",
    "\n",
    "netflix_info_2016_tvy7fv = netflix_info_2016.loc[netflix_info_2016[\"rating\"]=='TV-Y7-FV']\n",
    "netflix_info_2016_tvy7fv =pd.DataFrame(netflix_info_2016_tvy7fv)\n",
    "\n",
    "netflix_info_2016_ur = netflix_info_2016.loc[netflix_info_2016[\"rating\"]=='UR']\n",
    "netflix_info_2016_ur =pd.DataFrame(netflix_info_2016_ur)\n",
    "\n",
    "netflix_info_2016_nc17 = netflix_info_2016.loc[netflix_info_2016[\"rating\"]=='NC-17']\n",
    "netflix_info_2016_nc17 =pd.DataFrame(netflix_info_2016_nc17)\n"
   ]
  },
  {
   "cell_type": "code",
   "execution_count": 142,
   "metadata": {},
   "outputs": [],
   "source": [
    "# find percentage of each rating\n",
    "percent_tvma_2016 = len(netflix_info_2016_tvma) / len(netflix_info_2016) *100\n",
    "percent_tv14_2016 = len(netflix_info_2016_tv14) / len(netflix_info_2016) *100\n",
    "percent_tvpg_2016 = len(netflix_info_2016_tvpg) / len(netflix_info_2016) *100\n",
    "percent_r_2016 = len(netflix_info_2016_r) / len(netflix_info_2016) *100\n",
    "percent_pg13_2016 = len(netflix_info_2016_pg13) / len(netflix_info_2016) *100\n",
    "percent_tvy_2016 = len(netflix_info_2016_tvy) / len(netflix_info_2016) *100\n",
    "percent_tvy7_2016 = len(netflix_info_2016_tvy7) / len(netflix_info_2016) *100\n",
    "percent_pg_2016 = len(netflix_info_2016_pg) / len(netflix_info_2016) *100\n",
    "percent_tvg_2016 = len(netflix_info_2016_tvg) / len(netflix_info_2016) *100\n",
    "percent_nr_2016 = len(netflix_info_2016_nr) / len(netflix_info_2016) *100\n",
    "percent_g_2016= len(netflix_info_2016_g) / len(netflix_info_2016) *100\n",
    "percent_tvy7fv_2016 = len(netflix_info_2016_tvy7fv) / len(netflix_info_2016) *100\n",
    "percent_ur_2016 = len(netflix_info_2016_ur) / len(netflix_info_2016) *100\n",
    "percent_nc17_2016 = len(netflix_info_2016_nc17) / len(netflix_info_2016) *100\n",
    "\n",
    "\n",
    "percentage_ratings_2016 = pd.DataFrame({ 'Rating': ['TV-MA', 'TV-14', 'TV-PG', 'R', 'PG-13', 'TV-Y', 'TV-Y7', 'PG',\n",
    "                                                     'TV-G', 'NR', 'G', 'TV-Y7-FV', 'UR', 'NC-17'],\n",
    "                                          'Percentage': [percent_tvma_2016, percent_tv14_2016, percent_tvpg_2016, percent_r_2016, percent_pg13_2016,\n",
    "                                                         percent_tvy_2016, percent_tvy7_2016, percent_pg_2016, percent_tvg_2016, percent_nr_2016,\n",
    "                                                         percent_g_2016, percent_tvy7fv_2016, percent_ur_2016, percent_nc17_2016]})\n",
    "#percentage_ratings_2015"
   ]
  },
  {
   "cell_type": "code",
   "execution_count": 143,
   "metadata": {},
   "outputs": [
    {
     "data": {
      "image/png": "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\n",
      "text/plain": [
       "<Figure size 1008x360 with 1 Axes>"
      ]
     },
     "metadata": {
      "needs_background": "light"
     },
     "output_type": "display_data"
    }
   ],
   "source": [
    "#create bar graph to show data comparison\n",
    "values = percentage_ratings_2016['Percentage']\n",
    "labels = percentage_ratings_2016['Rating']\n",
    "\n",
    "plt.figure(figsize=(14,5))\n",
    "g = sns.barplot(x=values, y=labels)\n",
    "plt.title('2016 Rating Percentage')\n",
    "plt.xlabel('Percentage')\n",
    "plt.ylabel('Rating')\n",
    "plt.savefig(\"images/2016_rating_percentages.png\")\n",
    "plt.show()"
   ]
  },
  {
   "cell_type": "markdown",
   "metadata": {},
   "source": [
    "Breaking down 2017"
   ]
  },
  {
   "cell_type": "code",
   "execution_count": 144,
   "metadata": {},
   "outputs": [],
   "source": [
    "# find info for items added in 2017\n",
    "netflix_info_2017 = netflix_info.loc[netflix_info[\"YEAR_added\"]==2017]\n",
    "netflix_info_2017 = pd.DataFrame(netflix_info_2017)\n",
    "#netflix_info_2017.head()"
   ]
  },
  {
   "cell_type": "code",
   "execution_count": 145,
   "metadata": {},
   "outputs": [],
   "source": [
    "#Find overall count of ratings for 2017\n",
    "netflix_info_2017_ratings = netflix_info_2017['rating'].value_counts()\n",
    "#netflix_info_2017_ratings"
   ]
  },
  {
   "cell_type": "code",
   "execution_count": 146,
   "metadata": {},
   "outputs": [],
   "source": [
    "netflix_info_2017_tvma = netflix_info_2017.loc[netflix_info_2017[\"rating\"]== 'TV-MA']\n",
    "netflix_info_2017_tvma = pd.DataFrame(netflix_info_2017_tvma)\n",
    "\n",
    "netflix_info_2017_tv14 = netflix_info_2017.loc[netflix_info_2017[\"rating\"]== 'TV-14']\n",
    "netflix_info_2017_tv14 = pd.DataFrame(netflix_info_2017_tv14)\n",
    "\n",
    "netflix_info_2017_tvpg = netflix_info_2017.loc[netflix_info_2017[\"rating\"]=='TV-PG']\n",
    "netflix_info_2017_tvpg =pd.DataFrame(netflix_info_2017_tvpg)\n",
    "\n",
    "netflix_info_2017_r = netflix_info_2017.loc[netflix_info_2017[\"rating\"]=='R']\n",
    "netflix_info_2017_r =pd.DataFrame(netflix_info_2017_r)\n",
    "\n",
    "netflix_info_2017_pg13 = netflix_info_2017.loc[netflix_info_2017[\"rating\"]=='PG-13']\n",
    "netflix_info_2017_pg13 =pd.DataFrame(netflix_info_2017_pg13)\n",
    "\n",
    "netflix_info_2017_tvy = netflix_info_2017.loc[netflix_info_2017[\"rating\"]=='TV-Y']\n",
    "netflix_info_2017_tvy =pd.DataFrame(netflix_info_2017_tvy)\n",
    "\n",
    "netflix_info_2017_tvy7 = netflix_info_2017.loc[netflix_info_2017[\"rating\"]=='TV-Y7']\n",
    "netflix_info_2017_tvy7 =pd.DataFrame(netflix_info_2017_tvy7)\n",
    "\n",
    "netflix_info_2017_pg = netflix_info_2017.loc[netflix_info_2017[\"rating\"]=='PG']\n",
    "netflix_info_2017_pg =pd.DataFrame(netflix_info_2017_pg)\n",
    "\n",
    "netflix_info_2017_tvg = netflix_info_2017.loc[netflix_info_2017[\"rating\"]=='TV-G']\n",
    "netflix_info_2017_tvg =pd.DataFrame(netflix_info_2017_tvg)\n",
    "\n",
    "netflix_info_2017_nr = netflix_info_2017.loc[netflix_info_2017[\"rating\"]=='NR']\n",
    "netflix_info_2017_nr =pd.DataFrame(netflix_info_2017_nr)\n",
    "\n",
    "netflix_info_2017_g = netflix_info_2017.loc[netflix_info_2017[\"rating\"]=='G']\n",
    "netflix_info_2017_g =pd.DataFrame(netflix_info_2017_g)\n",
    "\n",
    "netflix_info_2017_tvy7fv = netflix_info_2017.loc[netflix_info_2017[\"rating\"]=='TV-Y7-FV']\n",
    "netflix_info_2017_tvy7fv =pd.DataFrame(netflix_info_2017_tvy7fv)\n",
    "\n",
    "netflix_info_2017_ur = netflix_info_2017.loc[netflix_info_2017[\"rating\"]=='UR']\n",
    "netflix_info_2017_ur =pd.DataFrame(netflix_info_2017_ur)\n",
    "\n",
    "netflix_info_2017_nc17 = netflix_info_2017.loc[netflix_info_2017[\"rating\"]=='NC-17']\n",
    "netflix_info_2017_nc17 =pd.DataFrame(netflix_info_2017_nc17)\n"
   ]
  },
  {
   "cell_type": "code",
   "execution_count": 147,
   "metadata": {},
   "outputs": [],
   "source": [
    "# find percentage of each rating\n",
    "percent_tvma_2017 = len(netflix_info_2017_tvma) / len(netflix_info_2017) *100\n",
    "percent_tv14_2017 = len(netflix_info_2017_tv14) / len(netflix_info_2017) *100\n",
    "percent_tvpg_2017 = len(netflix_info_2017_tvpg) / len(netflix_info_2017) *100\n",
    "percent_r_2017 = len(netflix_info_2017_r) / len(netflix_info_2017) *100\n",
    "percent_pg13_2017 = len(netflix_info_2017_pg13) / len(netflix_info_2017) *100\n",
    "percent_tvy_2017 = len(netflix_info_2017_tvy) / len(netflix_info_2017) *100\n",
    "percent_tvy7_2017 = len(netflix_info_2017_tvy7) / len(netflix_info_2017) *100\n",
    "percent_pg_2017 = len(netflix_info_2017_pg) / len(netflix_info_2017) *100\n",
    "percent_tvg_2017 = len(netflix_info_2017_tvg) / len(netflix_info_2017) *100\n",
    "percent_nr_2017 = len(netflix_info_2017_nr) / len(netflix_info_2017) *100\n",
    "percent_g_2017 = len(netflix_info_2017_g) / len(netflix_info_2017) *100\n",
    "percent_tvy7fv_2017 = len(netflix_info_2017_tvy7fv) / len(netflix_info_2017) *100\n",
    "percent_ur_2017 = len(netflix_info_2017_ur) / len(netflix_info_2017) *100\n",
    "percent_nc17_2017 = len(netflix_info_2017_nc17) / len(netflix_info_2017) *100\n",
    "\n",
    "\n",
    "percentage_ratings_2017 = pd.DataFrame({ 'Rating': ['TV-MA', 'TV-14', 'TV-PG', 'R', 'PG-13', 'TV-Y', 'TV-Y7', 'PG',\n",
    "                                                     'TV-G', 'NR', 'G', 'TV-Y7-FV', 'UR', 'NC-17'],\n",
    "                                          'Percentage': [percent_tvma_2017, percent_tv14_2017, percent_tvpg_2017, percent_r_2017,\n",
    "                                                         percent_pg13_2017, percent_tvy_2017, percent_tvy7_2017, percent_pg_2017,\n",
    "                                                         percent_tvg_2017, percent_nr_2017, percent_g_2017, percent_tvy7fv_2017,\n",
    "                                                         percent_ur_2017, percent_nc17_2017]})\n",
    "#percentage_ratings_2017"
   ]
  },
  {
   "cell_type": "code",
   "execution_count": 148,
   "metadata": {},
   "outputs": [
    {
     "data": {
      "image/png": "iVBORw0KGgoAAAANSUhEUgAAA1sAAAFNCAYAAAD2LHWqAAAAOXRFWHRTb2Z0d2FyZQBNYXRwbG90bGliIHZlcnNpb24zLjMuMiwgaHR0cHM6Ly9tYXRwbG90bGliLm9yZy8vihELAAAACXBIWXMAAAsTAAALEwEAmpwYAAAqaUlEQVR4nO3debxkdX3n/9ebfd9BBcQO4o7SwlXiqASCI2BwAVSawYhJxlYCcTDjOiYzbWJmotFgoix2RhT9xWYHFZOgURkgQbAbG2lEg0qL7NBs3SyyfX5/1LlSlHdruOdW3Vuv5+NRj67zPd9zzqfqeOx+8z3fU6kqJEmSJEnTa51+FyBJkiRJc5FhS5IkSZJaYNiSJEmSpBYYtiRJkiSpBYYtSZIkSWqBYUuSJEmSWmDYkiQNjSSvTvKTftchSRoOhi1J0hMk2TDJ55P8IsnqJD9IclBPn/2T/DjJ/Um+m+RZXev2a9ruSbKyZ7tdkqzpeVWS/z5OLYuSPNz0uzvJvyd5xVp8lkqy2+hyVV1cVc+b8pexFpJcmOTBptY7kpyT5BltHOvJSPKOJJf0uw5JGiaGLUlSr/WAXwK/A2wJ/DlwRpJ5AEm2A85p2rcBlgKnd21/H3AK8P7eHVfV9VW12egLeDHwGHD2BPWc3vTdDvgucOZT+nTtOrap9bnAVsDxa7uDJOtOd1GSpP4wbEmSnqCq7quqRVW1sqoeq6rzgeuAvZouhwJXV9WZVfUgsAjYI8nzm+0vr6ovAz+fwuHeDlxUVSunUNcjwD8COyXZHiDJy5Nc2ox63Zzks0k2aNZd1Gx6ZTPadHiSfZPcMLrPJCuTvC/JD5uRuNOTbNS1/gPNfm9K8l97R8omqPVOOgFy92Y/z0/yrSR3JvlJkrd2HeOLSU5K8k9J7gP2S/LMZmTs9iSrkny2q/8fJrkmyV1JLugZVawk705ybbP+hHS8ADgZeMXoKGHT//eakct7k/wyyaLuz5Hk7c0I56okf958X69p1q2T5ENJftasPyPJNpN9N5I0TAxbkqQJJXkanZGaq5umFwFXjq6vqvuAnzXta+vtwKlTrGODpv8q4K6m+VHgvXRGvV4B7A/8cVPXPk2fPZqRtNMZ21uBA4HfAl4CvKM53oHAnwKvAXajM9I3Jc3o32HAD5JsCnwL+AqwA3AEcGKS7u/rvwB/BWwOXAqcD/wCmAfsBJzW7PdNwP+gE3i3By4GlvQc/mDgZcAezWc7oKquAd4NXNp8F1s1fe+j851uBfwecHRzDJK8EDgROBJ4Bp1Rzp26jvMe4E3N97IjnXNywlS/I0kaBoYtSdK4kqxPZzTp1Kr6cdO8GXBPT9d76ASFtdn3q4GnAWdN0vWtzUjMA8A7gTc3o1xU1bKq+l5VPdKMjn2OtQhFjb+vqpua0aivA/NHjwt8oaqurqr7gY9OZV9NrVcCN9MJawcDK6vqC02dV9AZ9Xpz13Zfrap/q6rH6AS+HYH3N6OMD1bV6FyrdwH/p6quab6D/w3M7x7dAv66qu6uquvp3HY5n3FU1YVVdVUzgvlDOsFt9Pt7M/D1qrqkqh4C/idQXZu/C/hIVd1QVb+iM8L55iTrTeF7kqShYNiSJI0pyTrAl4GHgGO7Vq0BtujpvgWwei0PcRRwdlWtmaTfGc1IzNOAFTx+OyNJnpvk/CS3JLmXTvjYbi3ruKXr/f10wiR0As8vu9Z1vx/Pe6pqq6raqaqOrKrbgWcBeze3Ot7dhLEjgaePs+9nAr8YDZQ9ngX8Xdd+7gTCE0ecxvs8vyHJ3uk8zOT2JPfQGf0a/f6e8PmbwLmqp5Zzu2q5hs5I49PGO54kDRvDliTpNyQJ8Hk6/3A+rKoe7lp9NZ1b1Eb7bgo8m8dvM5zK/jcG3sIUbyEEqKo76IymLOp6yt9JwI+B51TVFnRusctU9zmJm4Gdu5af+ST380vg/zUhbPS1WVUd3dWnevrvMs4I0S+Bd/Xsa+Oq+vcp1FFjtH0F+BrwzKraks68rtHv7wmfvzln2/bUclBPLRtV1Y1TqEWShoJhS5I0lpOAFwCvr6oHetadC+ye5LDmYRL/E/jh6G2GzYMTNgLW7yxmo9GHVnQ5BLibzm1uU9Yc4wLgA03T5sC9wJrmAR1H92xyK7Dr2hyjyxnAHyR5QZJN6HzOJ+N84LlJfj/J+s3rZc1DK8ZyOZ2g89dJNm2+v1c2604GPjw63yvJlkneMsU6bgV27jkXmwN3VtWDSV5OZ+7YqLOA1yf5T802H+WJQfZk4K9Gb2FMsn2SN06xFkkaCoYtSdITNP94fheduT635PHfwzoSoLk17jA6D3S4C9gbWNC1i33ozK/6J2CX5v03ew5zFPClqhprtGUyfwMsTLID8D46AWE18A888RH00JlHdGpzq9tbWQtV9c/A39MJhD+l8+AKgF+t5X5WA6+l8x3dROc2v48DG47T/1Hg9XQeynE9cANweLPu3Gbb05rbJlcAB421nzF8h87o4y1J7mja/hj4iySr6YTJM7rquBr4EzoP57iZznd8G49//r+jMyr2zWb779H534IkqZEn9/ecJEnDpRmJWgFsOM58qjktyWZ0RiOfU1XX9bkcSZoVHNmSJGkcSQ5JskGSremMKH19mIJWktcn2aSZl/dJ4CpgZX+rkqTZw7AlSdL43gXcTud3xB7lN+eEzXVvpHPr403Ac4AFT/LWT0kaSt5GKEmSJEktcGRLkiRJklpg2JIkSZKkFoz1g4nqst1229W8efP6XYYkSZKkAbVs2bI7qmr73nbD1iTmzZvH0qVL+12GJEmSpAGV5BdjtRu2JvHI7Xdy+0n/X7/LkCRJkgRsf/Tb+l3ClDlnS5IkSZJaYNiSJEmSpBYYtiRJkiSpBQMRtpJsm2R587olyY1dywf09D0uyYk9bfOSVJK/7GrbLsnDST7b0/fKJEva/USSJEmSht1AhK2qWlVV86tqPnAycHzz/iRgQU/3BcBYYennwMFdy28Bru7ukOQFdD7zPkk2nZ7qJUmSJOk3DUTYmsBZwMFJNoTOCBawI3DJGH0fAK5JMtIsHw6c0dPnvwBfBr4JvKGNgiVJkiQJBjxsVdUq4HLgwKZpAXB6VdU4m5wGLEiyM/AocFPP+sOB0+mMjB0x/RVLkiRJUsdAh63GEh6/lXC8WwhH/Qvwn+kEqdO7VyR5GXB7Vf0C+DawZ5Ktx9pJkoVJliZZumrNvU+1fkmSJElDaDaErfOA/ZPsCWxcVVck2bvrARq/vh2wqh4ClgH/HTi7Zz9HAM9PshL4GbAFcNhYB6yqxVU1UlUj2262xfR/IkmSJElz3nr9LmAyVbUmyYXAKTSjWlV1GTB/tE8zl2vUp4D/V1WrkoyuX4fOAzNeUlU3Nm37AX8G/N/WP4QkSZKkoTMbRragE7L2oDMna0JVdXVVndrTvA9w42jQalwEvDDJM6avTEmSJEnqGLiRrapaNEbbuUAm2GYlsPsY7V8Evtgs/nbPukcBg5YkSZKkVsyWkS1JkiRJmlUMW5IkSZLUgoG7jXDQrLf9Nmx/9Nv6XYYkSZKkWcaRLUmSJElqgWFLkiRJklpg2JIkSZKkFjhnaxIP33Y9N55wTL/LkCRJQ2inY07odwmSngJHtiRJkiSpBYYtSZIkSWqBYUuSJEmSWjBwYSvJtkmWN69bktzYtXxAT9/jkpw4xj7+JcndSc4f5xifSbKmrc8gSZIkSQMXtqpqVVXNr6r5wMnA8c37k4AFPd0XAEvG2M3fAL8/1v6TjABbTVe9kiRJkjSWgQtbEzgLODjJhgBJ5gE7Apf0dqyqbwOre9uTrEsniH2g1UolSZIkDb1ZE7aqahVwOXBg07QAOL2qai12cyzwtaq6ebrrkyRJkqRusyZsNZbw+K2E491COKYkOwJvAT4zhb4LkyxNsnTVmgeeVKGSJEmShttsC1vnAfsn2RPYuKquSLJ31wM03jDBti8FdgN+mmQlsEmSn47VsaoWV9VIVY1su9nG0/0ZJEmSJA2B9fpdwNqoqjVJLgROoRnVqqrLgPlT2PYbwNNHl5Osqard2qlUkiRJ0rCbbSNb0AlZewCnjdchycXAmXRGwW7ofWS8JEmSJLVtoEe2qmrRGG3nAplku1dPYd+bPfnKJEmSJGlis3FkS5IkSZIGnmFLkiRJklpg2JIkSZKkFgz0nK1BsP4Ou7DTMSf0uwxJkiRJs4wjW5IkSZLUAsOWJEmSJLXAsCVJkiRJLXDO1iTW3PFTLv6Hg/tdhqRZ7NXvPL/fJUiSpD5wZEuSJEmSWmDYkiRJkqQWGLYkSZIkqQUDFbaSbJtkefO6JcmNXcsH9PQ9LsmJPW3zkjzQ9P9RkpOTrNOse06S85P8LMmyJN9Nss9Mfj5JkiRJw2OgwlZVraqq+VU1HzgZOL55fxKwoKf7AmDJGLv5WbPNS4AXAm9KshHwDWBxVT27qvYC/gTYtZUPIkmSJGnoDVTYmsBZwMFJNoTOCBawI3DJeBtU1SPAvwO7AUcCl1bV17rWr6iqL7ZYsyRJkqQhNivCVlWtAi4HDmyaFgCnV1WNt02STYD9gauAFwFXtF2nJEmSJI2aFWGrsYTHbyUc7xZCgGcnWQ78G/CNqvrn3g5Jzk2yIsk5Y+0gycIkS5MsvXv1Q9NQuiRJkqRhM5vC1nnA/kn2BDauqiuS7N31AI03NP1+1sz7emlVLWrargb2HN1RVR0CvAPYZqwDVdXiqhqpqpGtNt+grc8jSZIkaQ6bNWGrqtYAFwKn0IxqVdVlow/U6J6PNYavAK/sCmQAm7RWrCRJkqSht16/C1hLS4Bz+M0nE06oqh5IcjDwt0k+DdwKrAY+Nu0VSpIkSRIDHLa6bgHsbjsXyATbrAR2H2fdj4HXTVN5kiRJkjShWXMboSRJkiTNJoYtSZIkSWrBwN5GOCg22243Xv3O8/tdhiRJkqRZxpEtSZIkSWqBYUuSJEmSWmDYkiRJkqQWOGdrEneuupYlXzyg32Voio54xwX9LkGSJEkCHNmSJEmSpFYYtiRJkiSpBYYtSZIkSWrBUM3ZSvIocBWdz30d8PtVdXdfi5IkSZI0Jw3byNYDVTW/qnYH7gSO6XdBkiRJkuamYQtb3S4Fdup3EZIkSZLmpqEMW0nWBfYHvtbvWiRJkiTNTcMWtjZOshxYBWwDfGusTkkWJlmaZOnq1Q/NZH2SJEmS5ohhC1sPVNV84FnABowzZ6uqFlfVSFWNbL75BjNZnyRJkqQ5YtjCFgBVdQ/wHuB9Sdbvdz2SJEmS5p6hDFsAVfUD4EpgQb9rkSRJkjT3DNXvbFXVZj3Lr+9XLZIkSZLmtqEd2ZIkSZKkNhm2JEmSJKkFhi1JkiRJasFQzdl6MrbZ9jkc8Y4L+l2GJEmSpFnGkS1JkiRJaoFhS5IkSZJaYNiSJEmSpBY4Z2sSt9x5LR8/7YB+lzGpDy5wXpkkSZI0SBzZkiRJkqQWGLYkSZIkqQWGLUmSJElqwUCFrSSPJlmeZEWSM5Ns0rQ/LclXkvw8ybIklyY5ZJx9vCXJ1UkeSzLS1f7yZt/Lk1w53vaSJEmSNB0GKmwBD1TV/KraHXgIeHeSAOcBF1XVrlW1F7AA2HmcfawADgUuGqN9pKrmAwcCn0viA0IkSZIktWKQw8bFwEuA3wUeqqqTR1dU1S+Az4y1UVVdA9DJaE9ov79rcSOgprleSZIkSfq1QRvZAqAZcToIuAp4EXDFNO137yRXN/t9d1U9Mk6/hUmWJll63+qHpuPQkiRJkobMoIWtjZMsB5YC1wOf7+2Q5IRmztX313bnVXVZVb0IeBnw4SQbjdNvcVWNVNXIpptvsLaHkSRJkqSBu43wgWZO1a81I1GHjS5X1TFJtqMTyEjyBeClwE1V9bqpHKSqrklyH7D76H4kSZIkaToN2sjWWL4DbJTk6K62TUbfVNUfNA/VmDBoJfmt0QdiJHkW8DxgZQv1SpIkSdLgh62qKuBNwO8kuS7J5cCpwAfH6p/kkCQ3AK8AvpHkgmbVq4Arm9sUzwX+uKruaLt+SZIkScNpoG4jrKrNxmm/mc7j3qeyj3PphKne9i8DX35KBUqSJEnSFA38yJYkSZIkzUaGLUmSJElqwUDdRjiInr7Nc/jgggsm7yhJkiRJXRzZkiRJkqQWGLYkSZIkqQWGLUmSJElqgXO2JnHt3Ss56KtH9buMVv3zG0/tdwmSJEnSnOPIliRJkiS1wLAlSZIkSS0wbEmSJElSC2Zd2EqybZLlzeuWJDd2LR/Q0/e4JCc273dIcl2Sp3etPzHJh2b6M0iSJEma+2Zd2KqqVVU1v6rmAycDxzfvTwIW9HRfACxptrsN+DjwSYAkewKvAj41M5VLkiRJGiazLmxN4Czg4CQbAiSZB+wIXNLVZzHw7CT7AZ8Fjq2qh2e6UEmSJElz35wJW1W1CrgcOLBpWgCcXlXV1ecx4GjgbOA/quqiGS9UkiRJ0lCYM2GrsYTHbyX89S2E3apqObACOHG8nSRZmGRpkqUP3ftgG3VKkiRJmuPmWtg6D9i/mY+1cVVdkWTvrgdovKHp91jzGlNVLa6qkaoa2WCLjWagbEmSJElzzXr9LmA6VdWaJBcCp/D4gzEuA+b3sSxJkiRJQ2iujWxBJ2TtAZzW70IkSZIkDa9ZPbJVVYvGaDsXyCTb7dtSSZIkSZIEzM2RLUmSJEnqO8OWJEmSJLXAsCVJkiRJLZjVc7ZmwnO2msc/v/HUfpchSZIkaZZxZEuSJEmSWmDYkiRJkqQWeBvhJK69+1Z+75xP97uMWeEbhx7X7xIkSZKkgeHIliRJkiS1wLAlSZIkSS0wbEmSJElSC6Y0ZyvJoWM03wNcVVW3TW9JkGRb4NvN4tOBR4Hbm+UPVtUFXX2PA55bVX+cZAfgMuAVVXVLs/5E4Hrgl8D7uw7zEmDPqlo+3fVLkiRJ0lQfkPFHwCuA7zbL+wLfA56b5C+q6svTWVRVrQLmAyRZBKypqk8meRewALigq/sCmhBVVbcl+TjwSeBtSfYEXgXsVVUPA//Y7PPFwFcNWpIkSZLaMtXbCB8DXlBVh1XVYcALgV8BewMfbKu4MZwFHJxkQ4Ak84AdgUu6+iwGnp1kP+CzwLFN0Op2BLCk/XIlSZIkDauphq15VXVr1/JtdG7duxPoDTKtaUa8LgcObJoWAKdXVXX1eQw4Gjgb+I+qumiMXR2OYUuSJElSi6Z6G+HFSc4HzmyWDwMuSrIpcHcbhU1gCZ2Q9dXmzz/s7VBVy5OsAE7sXZdkb+D+qlox3gGSLAQWAmy03dbTVLYkSZKkYTLVka1jgC/SmUf1UuBLwDFVdV9V7ddOaeM6D9i/mY+1cVVdkWTvJMub1xuafo81r14LmGRUq6oWV9VIVY1ssOWm01q8JEmSpOEwpZGt5ja9s5pXX1XVmiQXAqfQhKaquozmgRoTSbIO8BZgnxZLlCRJkqSpjWwlOTTJtUnuSXJvktVJ7m27uAksAfYATlvL7fYBbqiqn09/SZIkSZL0uKnO2foE8PqquqbNYsZSVYvGaDsXyCTb7TtG24XAb09TaZIkSZI0rqnO2bq1H0FLkiRJkmarqY5sLU1yOp2HU/xqtLGqzmmjKEmSJEma7aYatrYA7gde29VWgGFLkiRJksaQrt8D1hhGRkZq6dKl/S5DkiRJ0oBKsqyqRnrbJxzZSvKBqvpEks/QGcl6gqp6zzTWKEmSJElzxmS3EY4+FMOhHUmSJElaCxOGrar6evP2/qo6s3tdkre0VpUkSZIkzXJTmrOV5Iqq2nOytrloq2fvWq/6+F/27fjnv/nIvh1bkiRJ0uSe7Jytg4DXATsl+fuuVVsAj0xviZIkSZI0d0w2Z+smOvO13gAs62pfDby3raIkSZIkababbM7WlcCVSb5SVQ/PUE2SJEmSNOutM8V+85KcleRHSX4++mq1sicpyaNJlidZkeTMJJs07U9L8pWm9mVJLk1ySL/rlSRJkjQ3TTVsfQE4ic48rf2ALwFfbquop+iBqppfVbsDDwHvThLgPOCiqtq1qvYCFgA797FOSZIkSXPYVMPWxlX1bTpPL/xFVS0Cfre9sqbNxcBudGp9qKpOHl3RfI7P9K0ySZIkSXPaZA/IGPVgknWAa5McC9wI7NBeWU9dkvWAg4B/AV4EXNHfiiRJkiQNk6mObB0HbAK8B9gL+H3g7S3V9FRtnGQ5nacoXg98vrdDkhOSXJnk+2PtIMnCJEuTLH3o3nvbrVaSJEnSnDSlka2qGg0la4A/aEaNDgcua6uwp+CBqprf3ZDkauCw0eWqOibJdnQC2W+oqsXAYuj8qHF7pUqSJEmaqyYc2UqyRZIPJ/lsktem41jgp8BbZ6bEafEdYKMkR3e1bdKvYiRJkiTNfZONbH0ZuAu4FPivwPuBDYA3VdXydkubPlVVSd4EHJ/kA8DtwH3AB/tamCRJkqQ5a7KwtWtVvRggyf8F7gB2qarVrVf2JFXVZuO030znce+SJEmS1LrJHpDx8OibqnoUuG6Qg5YkSZIkDYrJRrb2SDL6OL7QedLfvc37qqotWq1OkiRJkmapCcNWVa07U4UMqt223obz33xkv8uQJEmSNMtM9Xe2JEmSJElrwbAlSZIkSS0wbEmSJElSCyZ7QMbQ++ld9/LGsy7odxm/9tU3H9DvEiRJkiRNgSNbkiRJktQCw5YkSZIktcCwJUmSJEktGPiwlWTbJMub1y1JbuxaPqCn73FJThxjH+sl+d9Jru3a9iMz9ykkSZIkDZuBD1tVtaqq5lfVfOBk4Pjm/UnAgp7uC4AlY+zmY8COwIubbV8NrN9WzZIkSZI0m59GeBbwsSQbVtWvksyjE6gu6e6UZBPgncC8qnoQoKpWA4tmtlxJkiRJw2TgR7bGU1WrgMuBA5umBcDpVVU9XXcDrm8CliRJkiTNiFkbthpLePxWwvFuIXyCJH/QzNn6ZZJnjtNnYZKlSZY+dO8901iuJEmSpGEx28PWecD+SfYENq6qK5Ls3fUQjDcAPwV2SbI5QFV9oZm3dQ+w7lg7rarFVTVSVSMbbLHlzHwSSZIkSXPKbJ6zRVWtSXIhcArNqFZVXQbM7+6X5PPAZ5O8q6oeTLIusMEMlytJkiRpiMz2kS3ohKw9gNMm6PMR4GZgRZIfABcDpwI3tV+eJEmSpGE0q0a2qmrRGG3nAplku4eBDzUvSZIkSWrdXBjZkiRJkqSBY9iSJEmSpBYYtiRJkiSpBbNqzlY/7Lb1Fnz1zQf0uwxJkiRJs4wjW5IkSZLUAsOWJEmSJLXAsCVJkiRJLXDO1iR+fteDvPXsH/e7jAmdcdjz+12CJEmSpB6ObEmSJElSCwxbkiRJktQCw5YkSZIktWBOha0kleRTXcvvS7Koeb8oyY1Jlif5UZIj+laoJEmSpDlvToUt4FfAoUm2G2f98VU1H3gj8Lkk689YZZIkSZKGylwLW48Ai4H3TtSpqq4F7ge2nomiJEmSJA2fuRa2AE4Ajkyy5XgdkuwJXFtVt42zfmGSpUmW/ureu9qqU5IkSdIcNufCVlXdC3wJeM8Yq9+b5CfAZcCiCfaxuKpGqmpkwy0c/JIkSZK09uZc2Gp8GvgjYNOe9uOr6nnA4cCXkmw004VJkiRJGg5zMmxV1Z3AGXQC11jrzwGWAkfNZF2SJEmShsecDFuNTwHjPZUQ4C+AP00yl78DSZIkSX2yXr8LmE5VtVnX+1uBTbqWF/X0XQY8b8aKkyRJkjRUHNWRJEmSpBYYtiRJkiSpBXPqNsI27Lr1Rpxx2PP7XYYkSZKkWcaRLUmSJElqgWFLkiRJklpg2JIkSZKkFjhnaxKr7n6EU8+5/Tfajzp0+z5UI0mSJGm2cGRLkiRJklpg2JIkSZKkFhi2JEmSJKkFQxO2kjwtyVeS/DzJsiSXJjmk33VJkiRJmpuGImwlCXAecFFV7VpVewELgJ37WpgkSZKkOWtYnkb4u8BDVXXyaENV/QL4TP9KkiRJkjSXDcXIFvAi4Ip+FyFJkiRpeAxL2HqCJCckuTLJ98dZvzDJ0iRLV9+zaqbLkyRJkjQHDEvYuhrYc3Shqo4B9gfG/GXiqlpcVSNVNbL5ltvOUImSJEmS5pJhCVvfATZKcnRX2yb9KkaSJEnS3DcUYauqCngT8DtJrktyOXAq8MG+FiZJkiRpzhqWpxFSVTfTedy7JEmSJLVuKEa2JEmSJGmmGbYkSZIkqQWGLUmSJElqwdDM2Xqytt1qPY46dMwnxEuSJEnSuBzZkiRJkqQWGLYkSZIkqQWGrUnct+qRfpcgSZIkaRYybEmSJElSCwxbkiRJktQCw5YkSZIktaCVsJVk2yTLm9ctSW7sWj6gp+9xSU5s3u+Q5LokT+9af2KSDyU5smsfy5M8lmT+GMfeN8k9Xf3+tWm7tKffekluTfKMNr4DSZIkScOtld/ZqqpVwHyAJIuANVX1ySTvAhYAF3R1XwC8v9nutiQfBz4JvC3JnsCrgL2q6mHgH5t9vhj4alUtH6eEi6vq4NGFJOsAOyeZV1Urm+bXACuq6uan/oklSZIk6Ylm+jbCs4CDk2wIkGQesCNwSVefxcCzk+wHfBY4tgla3Y4Alkz1oFX1GHAmcHhX84K12YckSZIkrY0ZDVvNiNflwIFN0wLg9Kqqrj6PAUcDZwP/UVUXjbGrw5k4KL266zbCjzRtS5rj0YS91zXHkCRJkqRp18pthJMYDT1fbf78w94OVbU8yQrgxN51SfYG7q+qFRMc4wm3ETb7/H6SzZI8D3gB8L2qumusjZMsBBYCPH3bnaf2qSRJkiSpSz+eRngesH8zH2vjqroiyd5dI1FvaPo91rx6PeH2vySHdG07MsmxT2u2n/AWwqpaXFUjVTWy1ebbrsVHkyRJkqSOGR/Zqqo1SS4ETqEJPFV1Gc0DNSbSPOjiLcA+Xfs7Fzi3q8++E+xiCZ0RtS2BP1rb2iVJkiRpqvr1O1tLgD3ojDStjX2AG6rq50/moFX1I+B+4DtVdd+T2YckSZIkTUW6nk2hMbzgt+bXNdct73cZkiRJkgZUkmVV9RtTmvo1siVJkiRJc5phS5IkSZJaYNiSJEmSpBYYtiax6bb9+CkySZIkSbOdYUuSJEmSWmDYkiRJkqQWGLYkSZIkqQWGrUk8fMtD/S5BkiRJ0ixk2JIkSZKkFhi2JEmSJKkFhi1JkiRJasGc+hGpJPOA86tq9662RcAaYHfgd4B7gAB/WlXf7kOZkiRJkobAsI1svb+q5gPHASf3txRJkiRJc9mwha1RlwI79bsISZIkSXPXsIatA4Hz+l2EJEmSpLlrTs3ZAmqS9r9J8glgB+C3x9tJkoXAQoCdtnIATJIkSdLam2sjW6uArXvatgHuaN6/H9gN+DPg1PF2UlWLq2qkqka23XSbVgqVJEmSNLfNqbBVVWuAm5PsD5BkGzq3DF7S1ecx4O+AdZIc0JdCJUmSJM15cypsNd4O/FmS5cB3gI9W1c+6O1RVAR8DPjDz5UmSJEkaBunkDo1nj51fUlfe8MN+lyFJkiRpQCVZVlUjve1zcWRLkiRJkvrOsCVJkiRJLTBsTWL9p2/Q7xIkSZIkzUKGLUmSJElqgWFLkiRJklpg2JIkSZKkFhi2JvHwbWv6XYIkSZKkWciwJUmSJEktMGxJkiRJUgsMW5IkSZLUgoEKW0kqyae6lt+XZFHX8tuTrEhydZIfJXnfOPs5JcltSVb0tJ+eZHnzWplkeVufRZIkSdJwG6iwBfwKODTJdr0rkhwEHAe8tqpeBOwJ3DPOfr4IHNjbWFWHV9X8qpoPnA2cMz1lS5IkSdITDVrYegRYDLx3jHUfBt5XVTcBVNWDVfUPY+2kqi4C7hzvIEkCvBVY8pQrliRJkqQxDFrYAjgBODLJlj3tuwPLpukYrwZuraprp2l/kiRJkvQEAxe2qupe4EvAe1o8zBFMMKqVZGGSpUmW3rnm7hbLkCRJkjRXDVzYanwa+CNg0662q4G9ejsmeWbXQy/ePdmOk6wHHAqcPl6fqlpcVSNVNbLNZlutbe2SJEmSNJhhq6ruBM6gE7hG/R/gE0meDpBkwyTvqapfjj70oqpOnsLuXwP8uKpumP7KJUmSJKljIMNW41PAr59KWFX/RGc+178muZrO/K31xtowyRLgUuB5SW5I0h3aFuCDMSRJkiS1LFXV7xoG2h67PL+uvP7H/S5DkiRJ0oBKsqyqRnrbB3lkS5IkSZJmLcOWJEmSJLXAsCVJkiRJLTBsTWL9HTbrdwmSJEmSZiHDliRJkiS1wKcRTiLJauAn/a5DbAfc0e8iBHguBonnYnB4LgaH52JweC4Gg+dhZjyrqrbvbRzzd6r0BD8Z6zGOmllJlnoeBoPnYnB4LgaH52JweC4Gh+diMHge+svbCCVJkiSpBYYtSZIkSWqBYWtyi/tdgADPwyDxXAwOz8Xg8FwMDs/F4PBcDAbPQx/5gAxJkiRJaoEjW5IkSZLUAsPWOJIcmOQnSX6a5EP9rmeYJVmZ5Koky5Ms7Xc9wyTJKUluS7Kiq22bJN9Kcm3z59b9rHFYjHMuFiW5sbk2lid5XT9rHAZJnpnku0muSXJ1kv/WtHtdzLAJzoXXxQxLslGSy5Nc2ZyLjzbtXhczbIJz4XXRJ95GOIYk6wL/Afxn4Abg+8ARVfWjvhY2pJKsBEaqyt+ImGFJ9gHWAF+qqt2btk8Ad1bVXzf/IWLrqvpgP+scBuOci0XAmqr6ZD9rGyZJngE8o6quSLI5sAx4E/AOvC5m1ATn4q14XcyoJAE2rao1SdYHLgH+G3AoXhczaoJzcSBeF33hyNbYXg78tKp+XlUPAacBb+xzTdKMq6qLgDt7mt8InNq8P5XOP27UsnHOhWZYVd1cVVc071cD1wA74XUx4yY4F5ph1bGmWVy/eRVeFzNugnOhPjFsjW0n4Jddyzfg/4H3UwHfTLIsycJ+FyOeVlU3Q+cfO8AOfa5n2B2b5IfNbYbeojODkswDXgpchtdFX/WcC/C6mHFJ1k2yHLgN+FZVeV30yTjnArwu+sKwNbaM0eZ/FeifV1bVnsBBwDHN7VSS4CTg2cB84GbgU32tZogk2Qw4Gziuqu7tdz3DbIxz4XXRB1X1aFXNB3YGXp5k9z6XNLTGORdeF31i2BrbDcAzu5Z3Bm7qUy1Dr6puav68DTiXzm2e6p9bm7kSo3MmbutzPUOrqm5t/lJ9DPgHvDZmRDMP4mzgH6vqnKbZ66IPxjoXXhf9VVV3AxfSmSPkddFH3efC66J/DFtj+z7wnCS/lWQDYAHwtT7XNJSSbNpMfCbJpsBrgRUTb6WWfQ04qnl/FPDVPtYy1Eb/EdM4BK+N1jWTzz8PXFNVf9u1yutiho13LrwuZl6S7ZNs1bzfGHgN8GO8LmbceOfC66J/fBrhOJpHYn4aWBc4par+qr8VDacku9IZzQJYD/iK52LmJFkC7AtsB9wK/C/gPOAMYBfgeuAtVeWDG1o2zrnYl84tIQWsBN41Oj9C7UjyKuBi4Crgsab5f9CZK+R1MYMmOBdH4HUxo5K8hM4DMNal8x/yz6iqv0iyLV4XM2qCc/FlvC76wrAlSZIkSS3wNkJJkiRJaoFhS5IkSZJaYNiSJEmSpBYYtiRJkiSpBYYtSZIkSWqBYUuSNOsleTTJ8iQrkpyZZJM+1LBvkv8008eVJA0uw5YkaS54oKrmV9XuwEPAu6eyUZL1prGGfQHDliTp1wxbkqS55mJgtySbJjklyfeT/CDJGwGSvKMZ/fo68M0kmyX5QpKrkvwwyWFNv9cmuTTJFU3/zZr2lUk+2rRfleT5SebRCXjvbUbYXp3k9Ukua479r0me1my/fZJvNdt/LskvkmzXrHtbksubfXwuybp9+P4kSdPEsCVJmjOakaqDgKuAjwDfqaqXAfsBf5Nk06brK4Cjqup3gT8H7qmqF1fVS4DvNOHnz4DXVNWewFLgT7sOdUfTfhLwvqpaCZwMHN+MsF0MXAL8dlW9FDgN+ECz7f9q6toTOBfYpan9BcDhwCuraj7wKHDk9H5DkqSZNJ23T0iS1C8bJ1nevL8Y+Dzw78Abkryvad+IJtgA36qqO5v3rwEWjO6oqu5KcjDwQuDfkgBsAFzadbxzmj+XAYeOU9POwOlJntFsf13T/irgkOZY/5LkrqZ9f2Av4PvNMTcGbpvKh5ckDSbDliRpLnigGQ36tXQSy2FV9ZOe9r2B+7qbgOrZX+gEsiPGOd6vmj8fZfy/Sz8D/G1VfS3JvsCirn2PJcCpVfXhcdZLkmYZbyOUJM1VFwB/0oQukrx0nH7fBI4dXUiyNfA94JVJdmvaNkny3EmOtxrYvGt5S+DG5v1RXe2XAG9t9vtaYOum/dvAm5Ps0KzbJsmzJjmmJGmAGbYkSXPVXwLrAz9MsqJZHsvHgK2bx8ZfCexXVbcD7wCWJPkhnfD1/EmO93XgkNEHZNAZyTozycXAHV39Pgq8NskVdOaX3Qysrqof0Zkn9s3mmN8CnrG2H1qSNDhS1XvnhCRJakuSDYFHq+qRJK8ATuq9BVKSNDc4Z0uSpJm1C3BGknXo/CbYO/tcjySpJY5sSZIkSVILnLMlSZIkSS0wbEmSJElSCwxbkiRJktQCw5YkSZIktcCwJUmSJEktMGxJkiRJUgv+f9vN+XPG6q+LAAAAAElFTkSuQmCC\n",
      "text/plain": [
       "<Figure size 1008x360 with 1 Axes>"
      ]
     },
     "metadata": {
      "needs_background": "light"
     },
     "output_type": "display_data"
    }
   ],
   "source": [
    "#create bar graph to show data comparison\n",
    "values = percentage_ratings_2017['Percentage']\n",
    "labels = percentage_ratings_2017['Rating']\n",
    "\n",
    "plt.figure(figsize=(14,5))\n",
    "g = sns.barplot(x=values, y=labels)\n",
    "plt.title('2017 Rating Percentage')\n",
    "plt.xlabel('Percentage')\n",
    "plt.ylabel('Rating')\n",
    "plt.savefig(\"images/2017_rating_percentages.png\")\n",
    "plt.show()"
   ]
  },
  {
   "cell_type": "markdown",
   "metadata": {},
   "source": [
    "Breaking Down 2018"
   ]
  },
  {
   "cell_type": "code",
   "execution_count": 149,
   "metadata": {},
   "outputs": [],
   "source": [
    "# find info for items added in 2018\n",
    "netflix_info_2018 = netflix_info.loc[netflix_info[\"YEAR_added\"]==2018]\n",
    "netflix_info_2018 = pd.DataFrame(netflix_info_2018)\n",
    "#netflix_info_2018.head()"
   ]
  },
  {
   "cell_type": "code",
   "execution_count": 150,
   "metadata": {},
   "outputs": [],
   "source": [
    "#Find overall count of ratings for 2018\n",
    "netflix_info_2018_ratings = netflix_info_2018['rating'].value_counts()\n",
    "#netflix_info_2018_ratings"
   ]
  },
  {
   "cell_type": "code",
   "execution_count": 151,
   "metadata": {},
   "outputs": [],
   "source": [
    "netflix_info_2018_tvma = netflix_info_2018.loc[netflix_info_2018[\"rating\"]== 'TV-MA']\n",
    "netflix_info_2018_tvma = pd.DataFrame(netflix_info_2018_tvma)\n",
    "\n",
    "netflix_info_2018_tv14 = netflix_info_2018.loc[netflix_info_2018[\"rating\"]== 'TV-14']\n",
    "netflix_info_2018_tv14 = pd.DataFrame(netflix_info_2018_tv14)\n",
    "\n",
    "netflix_info_2018_tvpg = netflix_info_2018.loc[netflix_info_2018[\"rating\"]=='TV-PG']\n",
    "netflix_info_2018_tvpg =pd.DataFrame(netflix_info_2018_tvpg)\n",
    "\n",
    "netflix_info_2018_r = netflix_info_2018.loc[netflix_info_2018[\"rating\"]=='R']\n",
    "netflix_info_2018_r =pd.DataFrame(netflix_info_2018_r)\n",
    "\n",
    "netflix_info_2018_pg13 = netflix_info_2018.loc[netflix_info_2018[\"rating\"]=='PG-13']\n",
    "netflix_info_2018_pg13 =pd.DataFrame(netflix_info_2018_pg13)\n",
    "\n",
    "netflix_info_2018_tvy = netflix_info_2018.loc[netflix_info_2018[\"rating\"]=='TV-Y']\n",
    "netflix_info_2018_tvy =pd.DataFrame(netflix_info_2018_tvy)\n",
    "\n",
    "netflix_info_2018_tvy7 = netflix_info_2018.loc[netflix_info_2018[\"rating\"]=='TV-Y7']\n",
    "netflix_info_2018_tvy7 =pd.DataFrame(netflix_info_2018_tvy7)\n",
    "\n",
    "netflix_info_2018_pg = netflix_info_2018.loc[netflix_info_2018[\"rating\"]=='PG']\n",
    "netflix_info_2018_pg =pd.DataFrame(netflix_info_2018_pg)\n",
    "\n",
    "netflix_info_2018_tvg = netflix_info_2018.loc[netflix_info_2018[\"rating\"]=='TV-G']\n",
    "netflix_info_2018_tvg =pd.DataFrame(netflix_info_2018_tvg)\n",
    "\n",
    "netflix_info_2018_nr = netflix_info_2018.loc[netflix_info_2018[\"rating\"]=='NR']\n",
    "netflix_info_2018_nr =pd.DataFrame(netflix_info_2018_nr)\n",
    "\n",
    "netflix_info_2018_g = netflix_info_2018.loc[netflix_info_2018[\"rating\"]=='G']\n",
    "netflix_info_2018_g =pd.DataFrame(netflix_info_2018_g)\n",
    "\n",
    "netflix_info_2018_tvy7fv = netflix_info_2018.loc[netflix_info_2018[\"rating\"]=='TV-Y7-FV']\n",
    "netflix_info_2018_tvy7fv =pd.DataFrame(netflix_info_2018_tvy7fv)\n",
    "\n",
    "netflix_info_2018_ur = netflix_info_2018.loc[netflix_info_2018[\"rating\"]=='UR']\n",
    "netflix_info_2018_ur =pd.DataFrame(netflix_info_2018_ur)\n",
    "\n",
    "netflix_info_2018_nc17 = netflix_info_2018.loc[netflix_info_2018[\"rating\"]=='NC-17']\n",
    "netflix_info_2018_nc17 =pd.DataFrame(netflix_info_2018_nc17)\n"
   ]
  },
  {
   "cell_type": "code",
   "execution_count": 152,
   "metadata": {},
   "outputs": [],
   "source": [
    "# find percentage of each rating\n",
    "percent_tvma_2018 = len(netflix_info_2018_tvma) / len(netflix_info_2018) *100\n",
    "percent_tv14_2018 = len(netflix_info_2018_tv14) / len(netflix_info_2018) *100\n",
    "percent_tvpg_2018 = len(netflix_info_2018_tvpg) / len(netflix_info_2018) *100\n",
    "percent_r_2018 = len(netflix_info_2018_r) / len(netflix_info_2018) *100\n",
    "percent_pg13_2018 = len(netflix_info_2018_pg13) / len(netflix_info_2018) *100\n",
    "percent_tvy_2018 = len(netflix_info_2018_tvy) / len(netflix_info_2018) *100\n",
    "percent_tvy7_2018 = len(netflix_info_2018_tvy7) / len(netflix_info_2018) *100\n",
    "percent_pg_2018 = len(netflix_info_2018_pg) / len(netflix_info_2018) *100\n",
    "percent_tvg_2018 = len(netflix_info_2018_tvg) / len(netflix_info_2018) *100\n",
    "percent_nr_2018 = len(netflix_info_2018_nr) / len(netflix_info_2018) *100\n",
    "percent_g_2018 = len(netflix_info_2018_g) / len(netflix_info_2018) *100\n",
    "percent_tvy7fv_2018 = len(netflix_info_2018_tvy7fv) / len(netflix_info_2018) *100\n",
    "percent_ur_2018 = len(netflix_info_2018_ur) / len(netflix_info_2018) *100\n",
    "percent_nc17_2018 = len(netflix_info_2018_nc17) / len(netflix_info_2018) *100\n",
    "\n",
    "\n",
    "percentage_ratings_2018 = pd.DataFrame({ 'Rating': ['TV-MA', 'TV-14', 'TV-PG', 'R', 'PG-13', 'TV-Y', 'TV-Y7', 'PG',\n",
    "                                                     'TV-G', 'NR', 'G', 'TV-Y7-FV', 'UR', 'NC-17'],\n",
    "                                          'Percentage': [percent_tvma_2018, percent_tv14_2018, percent_tvpg_2018, percent_r_2018,\n",
    "                                                         percent_pg13_2018, percent_tvy_2018, percent_tvy7_2018, percent_pg_2018,\n",
    "                                                         percent_tvg_2018, percent_nr_2018, percent_g_2018, percent_tvy7fv_2018,\n",
    "                                                         percent_ur_2018, percent_nc17_2018]})\n",
    "#percentage_ratings_2018"
   ]
  },
  {
   "cell_type": "code",
   "execution_count": 153,
   "metadata": {},
   "outputs": [
    {
     "data": {
      "image/png": "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\n",
      "text/plain": [
       "<Figure size 1008x360 with 1 Axes>"
      ]
     },
     "metadata": {
      "needs_background": "light"
     },
     "output_type": "display_data"
    }
   ],
   "source": [
    "#create bar graph to show data comparison\n",
    "values = percentage_ratings_2018['Percentage']\n",
    "labels = percentage_ratings_2018['Rating']\n",
    "\n",
    "plt.figure(figsize=(14,5))\n",
    "g = sns.barplot(x=values, y=labels)\n",
    "plt.title('2018 Rating Percentage')\n",
    "plt.xlabel('Percentage')\n",
    "plt.ylabel('Rating')\n",
    "plt.savefig(\"images/2018_rating_percentages.png\")\n",
    "plt.show()"
   ]
  },
  {
   "cell_type": "markdown",
   "metadata": {},
   "source": [
    "Breaking down 2019"
   ]
  },
  {
   "cell_type": "code",
   "execution_count": 154,
   "metadata": {},
   "outputs": [],
   "source": [
    "# find info for items added in 2019\n",
    "netflix_info_2019 = netflix_info.loc[netflix_info[\"YEAR_added\"]==2019]\n",
    "netflix_info_2019 = pd.DataFrame(netflix_info_2019)\n",
    "#netflix_info_2019.head()"
   ]
  },
  {
   "cell_type": "code",
   "execution_count": 155,
   "metadata": {},
   "outputs": [],
   "source": [
    "#Find overall count of ratings for 2019\n",
    "netflix_info_2019_ratings = netflix_info_2019['rating'].value_counts()\n",
    "#netflix_info_2019_ratings"
   ]
  },
  {
   "cell_type": "code",
   "execution_count": 156,
   "metadata": {},
   "outputs": [],
   "source": [
    "netflix_info_2019_tvma = netflix_info_2019.loc[netflix_info_2019[\"rating\"]== 'TV-MA']\n",
    "netflix_info_2019_tvma = pd.DataFrame(netflix_info_2019_tvma)\n",
    "\n",
    "netflix_info_2019_tv14 = netflix_info_2019.loc[netflix_info_2019[\"rating\"]== 'TV-14']\n",
    "netflix_info_2019_tv14 = pd.DataFrame(netflix_info_2019_tv14)\n",
    "\n",
    "netflix_info_2019_tvpg = netflix_info_2019.loc[netflix_info_2019[\"rating\"]=='TV-PG']\n",
    "netflix_info_2019_tvpg =pd.DataFrame(netflix_info_2019_tvpg)\n",
    "\n",
    "netflix_info_2019_r = netflix_info_2019.loc[netflix_info_2019[\"rating\"]=='R']\n",
    "netflix_info_2019_r =pd.DataFrame(netflix_info_2019_r)\n",
    "\n",
    "netflix_info_2019_pg13 = netflix_info_2019.loc[netflix_info_2019[\"rating\"]=='PG-13']\n",
    "netflix_info_2019_pg13 =pd.DataFrame(netflix_info_2019_pg13)\n",
    "\n",
    "netflix_info_2019_tvy = netflix_info_2019.loc[netflix_info_2019[\"rating\"]=='TV-Y']\n",
    "netflix_info_2019_tvy =pd.DataFrame(netflix_info_2019_tvy)\n",
    "\n",
    "netflix_info_2019_tvy7 = netflix_info_2019.loc[netflix_info_2019[\"rating\"]=='TV-Y7']\n",
    "netflix_info_2019_tvy7 =pd.DataFrame(netflix_info_2019_tvy7)\n",
    "\n",
    "netflix_info_2019_pg = netflix_info_2019.loc[netflix_info_2019[\"rating\"]=='PG']\n",
    "netflix_info_2019_pg =pd.DataFrame(netflix_info_2019_pg)\n",
    "\n",
    "netflix_info_2019_tvg = netflix_info_2019.loc[netflix_info_2019[\"rating\"]=='TV-G']\n",
    "netflix_info_2019_tvg =pd.DataFrame(netflix_info_2019_tvg)\n",
    "\n",
    "netflix_info_2019_nr = netflix_info_2019.loc[netflix_info_2019[\"rating\"]=='NR']\n",
    "netflix_info_2019_nr =pd.DataFrame(netflix_info_2019_nr)\n",
    "\n",
    "netflix_info_2019_g = netflix_info_2019.loc[netflix_info_2019[\"rating\"]=='G']\n",
    "netflix_info_2019_g =pd.DataFrame(netflix_info_2019_g)\n",
    "\n",
    "netflix_info_2019_tvy7fv = netflix_info_2019.loc[netflix_info_2019[\"rating\"]=='TV-Y7-FV']\n",
    "netflix_info_2019_tvy7fv =pd.DataFrame(netflix_info_2019_tvy7fv)\n",
    "\n",
    "netflix_info_2019_ur = netflix_info_2019.loc[netflix_info_2019[\"rating\"]=='UR']\n",
    "netflix_info_2019_ur =pd.DataFrame(netflix_info_2019_ur)\n",
    "\n",
    "netflix_info_2019_nc17 = netflix_info_2019.loc[netflix_info_2019[\"rating\"]=='NC-17']\n",
    "netflix_info_2019_nc17 =pd.DataFrame(netflix_info_2019_nc17)\n"
   ]
  },
  {
   "cell_type": "code",
   "execution_count": 157,
   "metadata": {},
   "outputs": [],
   "source": [
    "# find percentage of each rating\n",
    "percent_tvma_2019 = len(netflix_info_2019_tvma) / len(netflix_info_2019) *100\n",
    "percent_tv14_2019 = len(netflix_info_2019_tv14) / len(netflix_info_2019) *100\n",
    "percent_tvpg_2019 = len(netflix_info_2019_tvpg) / len(netflix_info_2019) *100\n",
    "percent_r_2019 = len(netflix_info_2019_r) / len(netflix_info_2019) *100\n",
    "percent_pg13_2019 = len(netflix_info_2019_pg13) / len(netflix_info_2019) *100\n",
    "percent_tvy_2019 = len(netflix_info_2019_tvy) / len(netflix_info_2019) *100\n",
    "percent_tvy7_2019 = len(netflix_info_2019_tvy7) / len(netflix_info_2019) *100\n",
    "percent_pg_2019 = len(netflix_info_2019_pg) / len(netflix_info_2019) *100\n",
    "percent_tvg_2019 = len(netflix_info_2019_tvg) / len(netflix_info_2019) *100\n",
    "percent_nr_2019 = len(netflix_info_2019_nr) / len(netflix_info_2019) *100\n",
    "percent_g_2019 = len(netflix_info_2019_g) / len(netflix_info_2019) *100\n",
    "percent_tvy7fv_2019 = len(netflix_info_2019_tvy7fv) / len(netflix_info_2019) *100\n",
    "percent_ur_2019 = len(netflix_info_2019_ur) / len(netflix_info_2019) *100\n",
    "percent_nc17_2019 = len(netflix_info_2019_nc17) / len(netflix_info_2019) *100\n",
    "\n",
    "\n",
    "percentage_ratings_2019 = pd.DataFrame({ 'Rating': ['TV-MA', 'TV-14', 'TV-PG', 'R', 'PG-13', 'TV-Y', 'TV-Y7', 'PG',\n",
    "                                                     'TV-G', 'NR', 'G', 'TV-Y7-FV', 'UR', 'NC-17'],\n",
    "                                          'Percentage': [percent_tvma_2019, percent_tv14_2019, percent_tvpg_2019, percent_r_2019,\n",
    "                                                         percent_pg13_2019, percent_tvy_2019, percent_tvy7_2019, percent_pg_2019,\n",
    "                                                         percent_tvg_2019, percent_nr_2019, percent_g_2019, percent_tvy7fv_2019,\n",
    "                                                         percent_ur_2019, percent_nc17_2019]})\n",
    "#percentage_ratings_2019"
   ]
  },
  {
   "cell_type": "code",
   "execution_count": 158,
   "metadata": {},
   "outputs": [
    {
     "data": {
      "image/png": "iVBORw0KGgoAAAANSUhEUgAAA1sAAAFNCAYAAAD2LHWqAAAAOXRFWHRTb2Z0d2FyZQBNYXRwbG90bGliIHZlcnNpb24zLjMuMiwgaHR0cHM6Ly9tYXRwbG90bGliLm9yZy8vihELAAAACXBIWXMAAAsTAAALEwEAmpwYAAAqtElEQVR4nO3debhlVX3n//eHeSjmQQTUiuKMUkIpMSqBYAsYFAGVonFK0pYSiI35ObZJd5mY7jgFE2Ww0qJox2IGFZOgUQkQESywkEI0qBTKDMVUxSDT9/fH2VdPXe9Uxd33nHvO+/U896mz11577e85mwP1Ye29bqoKSZIkSdL0Wq/XBUiSJEnSIDJsSZIkSVILDFuSJEmS1ALDliRJkiS1wLAlSZIkSS0wbEmSJElSCwxbkqShkeQVSX7S6zokScPBsCVJWkOSjZN8LskNSVYl+UGSg0b12T/Jj5M8kOQ7SZ7WtW+/pu3eJCvGGP/3klzejP3DJC+foJZFSR5JsjrJPUm+m+Sla/FeKsluI9tVdXFVPXuqx6+NJBcmeaip9c4k5yR5chvnWhdJ3pbkkl7XIUnDxLAlSRptA+CXwO8DWwF/CZyRZC5Aku2Bc5r2bYGlwOldx98PnAK8d/TASbYFvgp8HNga+BjwtSTbTFDP6VU1B9ge+A5w5rq/tdYd29T6LDrv7/i1HSDJ+tNdlCSpNwxbkqQ1VNX9VbWoqlZU1eNVdT5wPbBX0+Uw4JqqOrOqHgIWAXskeU5z/OVV9SXg52MM/3vAbc2xj1XV/wPuaMacrK5HgX8CdkmyA0CSlyS5tJn1uiXJZ5Js1Oy7qDn0qma26Ygk+ya5cWTMJCuSvKeZYbs3yelJNuna/75m3JuT/LfRM2UT1HoXcDawezPOc5J8M8ldSX6S5I1d5/hCkpOS/HOS+4H9kjylmRm7I8nKJJ/p6v/HSa5NcneSC0bNKlaSdya5rtl/QjqeC5wMvHRklrDp/4fNzOV9SX6ZZFH3+0jylmaGc2WSv2w+r1c2+9ZL8oEkP2v2n9GEaUlSw7AlSZpQkifRmam5pml6PnDVyP6quh/4WdM+6XDNz+i23adQx0bAW4CVwN1N82PAu+nMer0U2B/406aufZo+e1TVnKo6nbG9ETgQ+B3ghcDbmvMdCPw58EpgNzozfVPSzP4dDvwgyebAN4EvAzsCRwInJun+vP4r8DfAFsClwPnADcBcYBfgtGbc1wH/g0443QG4GFgy6vQHAy8G9mje2wFVdS3wTuDS5rPYuul7P53PdGvgD4Gjm3OQ5HnAicBRwJPpzHLu0nWedwGvaz6XnelckxOm+hlJ0jAwbEmSxpVkQzqzSadW1Y+b5jnAvaO63ksnKEzmu8DOSY5MsmGStwLPADab4Jg3NjMxDwJvB17fzHJRVVdU1feq6tGqWgF8lrUIRY1/qKqbm9morwHzRs4LfL6qrqmqB4APT2WsptargFvohLWDgRVV9fmmzivpzHq9vuu4r1TVf1TV43QC387Ae5tZxoeqauRZq3cA/6eqrm0+g/8NzOue3QL+tqruqapf0Lntch7jqKoLq+rqZgbzh3SC28jn93rga1V1SVU9DPxPoLoOfwfwoaq6sap+RWeG8/VJNpjC5yRJQ8GwJUkaU5L1gC8BDwPHdu1aDWw5qvuWwKrJxqyqlcAhdELIbXRmlP4NuHGCw85oZmKeBCznN7czkuRZSc5PcmuS++iEj+0nq2OUW7teP0AnTEIn8Pyya1/36/G8q6q2rqpdquqoqroDeBqwd3Or4z1NGDsK2GmcsZ8C3DASKEd5GvD3XePcRWdmsHvGabz381uS7J3OYiZ3JLmXzuzXyOe3xvtvAufKUbWc21XLtXRmGp803vkkadgYtiRJvyVJgM/R+Yvz4VX1SNfua+jcojbSd3M6s1PXMAVV9e9V9eKq2hZ4M/Bs4PIpHHcnndmURV2r/J0E/Bh4ZlVtSecWu9G3Ka6rW4Bdu7afso7j/BL49yaEjfzMqaqju/rUqP5PHWeG6JfAO0aNtWlVfXcKddQYbV+ms2DJU6pqKzrPdY18fmu8/ySbAtuNquWgUbVsUlU3TaEWSRoKhi1J0lhOAp4LvKaqHhy171xg9ySHN4tJ/E/ghyO3GTYLJ2wCbNjZzCYji1Y0+1/U3EK4JfAJ4MaqumAqRTXnuAB4X9O0BXAfsDqdBTqOHnXIbcDTp/6213AG8EdJnptks+Z9rovzgWcleXPzvjdM8uJm0YqxXE4n6Pxtks2bz+9lzb6TgQ+OPO+VZKskb5hiHbcBu3ZfCzqf311V9VCSl9B5dmzEWcBr0lmqfyM6t1F2B9mTgb8ZuYUxyQ5JDpliLZI0FAxbkqQ1NH95fgedZ31ubVavW53kKIDm1rjD6SzocDewN7Cga4h96Dxf9c/AU5vX3+ja/z7gTjozI08GDl3LEj8OLEyyI/AeOgFhFfCPrLkEPXSeIzq1udXtjayFqvoX4B/oPPf0UzoLVwD8ai3HWQW8is5ndDOd2/w+Cmw8Tv/HgNfQWZTjF3RusTyi2Xduc+xpzW2Ty4GDxhpnDN+mM/t4a5I7m7Y/Bf4qySo6YfKMrjquAf6MzuIct9D5jG/nN+//7+nMin2jOf57dP5ZkCQ1UjXWXQWSJKlbMxO1HNh4nOepBlqSOcA9dG7ZvL7H5UjSrODMliRJ40hyaJKN0vmlyx+lszrf0AStJK9JslnzXN4ngKuBFb2tSpJmD8OWJEnjewedX7r8Mzor7Y1+JmzQHULn1sebgWcCC8pbYiRpyryNUJIkSZJa4MyWJEmSJLXAsCVJkiRJLRjrFyaqy/bbb19z587tdRmSJEmS+tQVV1xxZ1XtMLrdsDWJuXPnsnTp0l6XIUmSJKlPJblhrHbD1iQeveMu7jjp//W6DEmSJEnADke/qdclTJnPbEmSJElSCwxbkiRJktQCw5YkSZIktaAvwlaS7ZIsa35uTXJT1/YBo/oel+TEUW1zk1SSv+5q2z7JI0k+M6rvVUmWtPuOJEmSJA27vghbVbWyquZV1TzgZOD45vVJwIJR3RcAY4WlnwMHd22/Abimu0OS59J5z/sk2Xx6qpckSZKk39YXYWsCZwEHJ9kYOjNYwM7AJWP0fRC4Nsn8ZvsI4IxRff4r8CXgG8Br2yhYkiRJkqDPw1ZVrQQuBw5smhYAp1dVjXPIacCCJLsCjwE3j9p/BHA6nZmxI6e/YkmSJEnq6Ouw1VjCb24lHO8WwhH/CvwXOkHq9O4dSV4M3FFVNwDfAvZMss1YgyRZmGRpkqUrV9/3ROuXJEmSNIRmQ9g6D9g/yZ7AplV1ZZK9uxbQ+PXtgFX1MHAF8P8BZ48a50jgOUlWAD8DtgQOH+uEVbW4quZX1fzt5mw5/e9IkiRJ0sDboNcFTKaqVie5EDiFZlarqi4D5o30aZ7lGvFJ4N+ramWSkf3r0Vkw44VVdVPTth/wF8D/bf1NSJIkSRo6s2FmCzohaw86z2RNqKquqapTRzXvA9w0ErQaFwHPS/Lk6StTkiRJkjr6bmarqhaN0XYukAmOWQHsPkb7F4AvNJu/O2rfY4BBS5IkSVIrZsvMliRJkiTNKoYtSZIkSWpB391G2G822GFbdjj6Tb0uQ5IkSdIs48yWJEmSJLXAsCVJkiRJLTBsSZIkSVILfGZrEo/c/gtuOuGYXpchSZJG2eWYE3pdgiRNyJktSZIkSWqBYUuSJEmSWmDYkiRJkqQW9F3YSrJdkmXNz61JburaPmBU3+OSnDjGGP+a5J4k549zjk8nWd3We5AkSZKkvgtbVbWyquZV1TzgZOD45vVJwIJR3RcAS8YY5uPAm8caP8l8YOvpqleSJEmSxtJ3YWsCZwEHJ9kYIMlcYGfgktEdq+pbwKrR7UnWpxPE3tdqpZIkSZKG3qwJW1W1ErgcOLBpWgCcXlW1FsMcC3y1qm6Z7vokSZIkqdusCVuNJfzmVsLxbiEcU5KdgTcAn55C34VJliZZunL1g+tUqCRJkqThNtvC1nnA/kn2BDatqiuT7N21gMZrJzj2RcBuwE+TrAA2S/LTsTpW1eKqml9V87ebs+l0vwdJkiRJQ2CDXhewNqpqdZILgVNoZrWq6jJg3hSO/Tqw08h2ktVVtVs7lUqSJEkadrNtZgs6IWsP4LTxOiS5GDiTzizYjaOXjJckSZKktvX1zFZVLRqj7Vwgkxz3iimMPWfdK5MkSZKkic3GmS1JkiRJ6nuGLUmSJElqgWFLkiRJklrQ189s9YMNd3wquxxzQq/LkCRJkjTLOLMlSZIkSS0wbEmSJElSCwxbkiRJktQCn9maxOo7f8rF/3hwr8uQeuoVbz+/1yVIkiTNOs5sSZIkSVILDFuSJEmS1ALDliRJkiS1oK/CVpLtkixrfm5NclPX9gGj+h6X5MRRbXOTPNj0/1GSk5Os1+x7ZpLzk/wsyRVJvpNkn5l8f5IkSZKGR1+FrapaWVXzqmoecDJwfPP6JGDBqO4LgCVjDPOz5pgXAs8DXpdkE+DrwOKqekZV7QX8GfD0Vt6IJEmSpKHXV2FrAmcBByfZGDozWMDOwCXjHVBVjwLfBXYDjgIuraqvdu1fXlVfaLFmSZIkSUNsVoStqloJXA4c2DQtAE6vqhrvmCSbAfsDVwPPB65su05JkiRJGjErwlZjCb+5lXC8WwgBnpFkGfAfwNer6l9Gd0hybpLlSc4Za4AkC5MsTbL0nlUPT0PpkiRJkobNbApb5wH7J9kT2LSqrkyyd9cCGq9t+v2see7rRVW1qGm7BthzZKCqOhR4G7DtWCeqqsVVNb+q5m+9xUZtvR9JkiRJA2zWhK2qWg1cCJxCM6tVVZeNLKjR/TzWGL4MvKwrkAFs1lqxkiRJkobeBr0uYC0tAc7ht1cmnFBVPZjkYODvknwKuA1YBXxk2iuUJEmSJPo4bHXdAtjddi6QCY5ZAew+zr4fA6+epvIkSZIkaUKz5jZCSZIkSZpNDFuSJEmS1IK+vY2wX8zZfjde8fbze12GJEmSpFnGmS1JkiRJaoFhS5IkSZJaYNiSJEmSpBb4zNYk7lp5HUu+cECvy5AGxpFvu6DXJUiSJM0IZ7YkSZIkqQWGLUmSJElqgWFLkiRJklowVM9sJXkMuJrO+74eeHNV3dPToiRJkiQNpGGb2XqwquZV1e7AXcAxvS5IkiRJ0mAatrDV7VJgl14XIUmSJGkwDWXYSrI+sD/w1V7XIkmSJGkwDVvY2jTJMmAlsC3wzbE6JVmYZGmSpatWPTyT9UmSJEkaEMMWth6sqnnA04CNGOeZrapaXFXzq2r+FltsNJP1SZIkSRoQwxa2AKiqe4F3Ae9JsmGv65EkSZI0eIYybAFU1Q+Aq4AFva5FkiRJ0uAZqt+zVVVzRm2/ple1SJIkSRpsQzuzJUmSJEltMmxJkiRJUgsMW5IkSZLUgqF6ZmtdbLvdMznybRf0ugxJkiRJs4wzW5IkSZLUAsOWJEmSJLXAsCVJkiRJLfCZrUncetd1fPS0A3pdhvrc+xf4XJ8kSZLW5MyWJEmSJLXAsCVJkiRJLTBsSZIkSVIL+ipsJXksybIky5OcmWSzpv1JSb6c5OdJrkhyaZJDxxnjDUmuSfJ4kvld7S9pxl6W5KrxjpckSZKk6dBXYQt4sKrmVdXuwMPAO5MEOA+4qKqeXlV7AQuAXccZYzlwGHDRGO3zq2oecCDw2SQuECJJkiSpFf0cNi4GXgj8AfBwVZ08sqOqbgA+PdZBVXUtQCejrdH+QNfmJkBNc72SJEmS9Gv9NrMFQDPjdBBwNfB84MppGnfvJNc0476zqh4dp9/CJEuTLL1/1cPTcWpJkiRJQ6bfwtamSZYBS4FfAJ8b3SHJCc0zV99f28Gr6rKqej7wYuCDSTYZp9/iqppfVfM332KjtT2NJEmSJPXdbYQPNs9U/VozE3X4yHZVHZNkezqBjCSfB14E3FxVr57KSarq2iT3A7uPjCNJkiRJ06nfZrbG8m1gkyRHd7VtNvKiqv6oWVRjwqCV5HdGFsRI8jTg2cCKFuqVJEmSpP4PW1VVwOuA309yfZLLgVOB94/VP8mhSW4EXgp8PckFza6XA1c1tymeC/xpVd3Zdv2SJEmShlNf3UZYVXPGab+FznLvUxnjXDphanT7l4AvPaECJUmSJGmK+n5mS5IkSZJmI8OWJEmSJLWgr24j7Ec7bftM3r/ggsk7SpIkSVIXZ7YkSZIkqQWGLUmSJElqgWFLkiRJklrgM1uTuO6eFRz0lbf2uoxp9y+HnNrrEiRJkqSB5syWJEmSJLXAsCVJkiRJLTBsSZIkSVILZl3YSrJdkmXNz61JburaPmBU3+OSnNi83jHJ9Ul26tp/YpIPzPR7kCRJkjT4Zl3YqqqVVTWvquYBJwPHN69PAhaM6r4AWNIcdzvwUeATAEn2BF4OfHJmKpckSZI0TGZd2JrAWcDBSTYGSDIX2Bm4pKvPYuAZSfYDPgMcW1WPzHShkiRJkgbfwIStqloJXA4c2DQtAE6vqurq8zhwNHA28J9VddGMFypJkiRpKAxM2Gos4Te3Ev76FsJuVbUMWA6cON4gSRYmWZpk6cP3PdRGnZIkSZIG3KCFrfOA/ZvnsTatqiuT7N21gMZrm36PNz9jqqrFVTW/quZvtOUmM1C2JEmSpEGzQa8LmE5VtTrJhcAp/GZhjMuAeT0sS5IkSdIQGrSZLeiErD2A03pdiCRJkqThNatntqpq0Rht5wKZ5Lh9WypJkiRJkoDBnNmSJEmSpJ4zbEmSJElSCwxbkiRJktSCWf3M1kx45tZz+ZdDTu11GZIkSZJmGWe2JEmSJKkFhi1JkiRJaoG3EU7iuntu4w/P+VSvy5h2Xz/suF6XIEmSJA00Z7YkSZIkqQWGLUmSJElqgWFLkiRJklowpWe2khw2RvO9wNVVdfv0lgRJtgO+1WzuBDwG3NFsv7+qLujqexzwrKr60yQ7ApcBL62qW5v9JwK/AH4JvLfrNC8E9qyqZdNdvyRJkiRNdYGMPwFeCnyn2d4X+B7wrCR/VVVfms6iqmolMA8gySJgdVV9Isk7gAXABV3dF9CEqKq6PclHgU8Ab0qyJ/ByYK+qegT4p2bMFwBfMWhJkiRJastUbyN8HHhuVR1eVYcDzwN+BewNvL+t4sZwFnBwko0BkswFdgYu6eqzGHhGkv2AzwDHNkGr25HAkvbLlSRJkjSsphq25lbVbV3bt9O5de8uYHSQaU0z43U5cGDTtAA4vaqqq8/jwNHA2cB/VtVFYwx1BIYtSZIkSS2a6m2EFyc5Hziz2T4cuCjJ5sA9bRQ2gSV0QtZXmj//eHSHqlqWZDlw4uh9SfYGHqiq5eOdIMlCYCHAJttvM01lS5IkSRomU53ZOgb4Ap3nqF4EfBE4pqrur6r92iltXOcB+zfPY21aVVcm2TvJsubntU2/x5uf0RYwyaxWVS2uqvlVNX+jrTaf1uIlSZIkDYcpzWw1t+md1fz0VFWtTnIhcApNaKqqy2gW1JhIkvWANwD7tFiiJEmSJE1tZivJYUmuS3JvkvuSrEpyX9vFTWAJsAdw2loetw9wY1X9fPpLkiRJkqTfmOozWx8DXlNV17ZZzFiqatEYbecCmeS4fcdouxD43WkqTZIkSZLGNdVntm7rRdCSJEmSpNlqqjNbS5OcTmdxil+NNFbVOW0UJUmSJEmz3VTD1pbAA8CrutoKMGxJkiRJ0hjS9fuANYb58+fX0qVLe12GJEmSpD6V5Iqqmj+6fcKZrSTvq6qPJfk0nZmsNVTVu6axRkmSJEkaGJPdRjiyKIZTO5IkSZK0FiYMW1X1teblA1V1Zve+JG9orSpJkiRJmuWm9MxWkiuras/J2gbR1s94er38o3/d6zJmrfNff1SvS5AkSZJata7PbB0EvBrYJck/dO3aEnh0ekuUJEmSpMEx2TNbN9N5Xuu1wBVd7auAd7dVlCRJkiTNdpM9s3UVcFWSL1fVIzNUkyRJkiTNeutNsd/cJGcl+VGSn4/8tFrZOkryWJJlSZYnOTPJZk37k5J8uan9iiSXJjm01/VKkiRJGkxTDVufB06i85zWfsAXgS+1VdQT9GBVzauq3YGHgXcmCXAecFFVPb2q9gIWALv2sE5JkiRJA2yqYWvTqvoWndULb6iqRcAftFfWtLkY2I1OrQ9X1ckjO5r38emeVSZJkiRpoE22QMaIh5KsB1yX5FjgJmDH9sp64pJsABwE/CvwfODK3lYkSZIkaZhMdWbrOGAz4F3AXsCbgbe0VNMTtWmSZXRWUfwF8LnRHZKckOSqJN8fa4AkC5MsTbL04fvua7daSZIkSQNpSjNbVTUSSlYDf9TMGh0BXNZWYU/Ag1U1r7shyTXA4SPbVXVMku3pBLLfUlWLgcXQ+aXG7ZUqSZIkaVBNOLOVZMskH0zymSSvSsexwE+BN85MidPi28AmSY7uatusV8VIkiRJGnyTzWx9CbgbuBT4b8B7gY2A11XVsnZLmz5VVUleBxyf5H3AHcD9wPt7WpgkSZKkgTVZ2Hp6Vb0AIMn/Be4EnlpVq1qvbB1V1Zxx2m+hs9y7JEmSJLVusgUyHhl5UVWPAdf3c9CSJEmSpH4x2czWHklGluMLnZX+7mteV1Vt2Wp1kiRJkjRLTRi2qmr9mSqkX+22zbac//qjel2GJEmSpFlmqr9nS5IkSZK0FgxbkiRJktQCw5YkSZIktWCyBTKG3k/vvo9Dzrqg12UA8JXXH9DrEiRJkiRNkTNbkiRJktQCw5YkSZIktcCwJUmSJEkt6PuwlWS7JMuan1uT3NS1fcCovsclOXGMMTZI8r+TXNd17Idm7l1IkiRJGjZ9H7aqamVVzauqecDJwPHN65OABaO6LwCWjDHMR4CdgRc0x74C2LCtmiVJkiRpNq9GeBbwkSQbV9WvksylE6gu6e6UZDPg7cDcqnoIoKpWAYtmtlxJkiRJw6TvZ7bGU1UrgcuBA5umBcDpVVWjuu4G/KIJWJIkSZI0I2Zt2Gos4Te3Eo53C+EakvxR88zWL5M8ZZw+C5MsTbL04fvuncZyJUmSJA2L2R62zgP2T7InsGlVXZlk765FMF4L/BR4apItAKrq881zW/cC6481aFUtrqr5VTV/oy23mpl3IkmSJGmgzOZntqiq1UkuBE6hmdWqqsuAed39knwO+EySd1TVQ0nWBzaa4XIlSZIkDZHZPrMFnZC1B3DaBH0+BNwCLE/yA+Bi4FTg5vbLkyRJkjSMZtXMVlUtGqPtXCCTHPcI8IHmR5IkSZJaNwgzW5IkSZLUdwxbkiRJktQCw5YkSZIktWBWPbPVC7ttsyVfef0BvS5DkiRJ0izjzJYkSZIktcCwJUmSJEktMGxJkiRJUgt8ZmsSP7/7Id549o9/vX3G4c/pYTWSJEmSZgtntiRJkiSpBYYtSZIkSWqBYUuSJEmSWjBQYStJJflk1/Z7kixqXi9KclOSZUl+lOTInhUqSZIkaeANVNgCfgUclmT7cfYfX1XzgEOAzybZcMYqkyRJkjRUBi1sPQosBt49Uaequg54ANhmJoqSJEmSNHwGLWwBnAAclWSr8Tok2RO4rqpuH2f/wiRLkyz91X13t1WnJEmSpAE2cGGrqu4Dvgi8a4zd707yE+AyYNEEYyyuqvlVNX/jLZ38kiRJkrT2Bi5sNT4F/Amw+aj246vq2cARwBeTbDLThUmSJEkaDgMZtqrqLuAMOoFrrP3nAEuBt85kXZIkSZKGx0CGrcYngfFWJQT4K+DPkwzyZyBJkiSpRzbodQHTqarmdL2+Ddisa3vRqL5XAM+eseIkSZIkDRVndSRJkiSpBYYtSZIkSWrBQN1G2Ianb7MJZxz+nF6XIUmSJGmWcWZLkiRJklpg2JIkSZKkFhi2JEmSJKkFPrM1iZX3PMqp59wx5r63HrbDDFcjSZIkabZwZkuSJEmSWmDYkiRJkqQWGLYkSZIkqQVDE7aSPCnJl5P8PMkVSS5Ncmiv65IkSZI0mIYibCUJcB5wUVU9var2AhYAu/a0MEmSJEkDa1hWI/wD4OGqOnmkoapuAD7du5IkSZIkDbKhmNkCng9c2esiJEmSJA2PYQlba0hyQpKrknx/nP0LkyxNsnTVvStnujxJkiRJA2BYwtY1wJ4jG1V1DLA/MOZvJa6qxVU1v6rmb7HVdjNUoiRJkqRBMixh69vAJkmO7mrbrFfFSJIkSRp8QxG2qqqA1wG/n+T6JJcDpwLv72lhkiRJkgbWsKxGSFXdQme5d0mSJElq3VDMbEmSJEnSTDNsSZIkSVILDFuSJEmS1IKheWZrXW239Qa89bAxV4iXJEmSpHE5syVJkiRJLTBsSZIkSVILDFuTuH/lo70uQZIkSdIsZNiSJEmSpBYYtiRJkiSpBYYtSZIkSWpBK2EryXZJljU/tya5qWv7gFF9j0tyYvN6xyTXJ9mpa/+JST6Q5KiuMZYleTzJvDHOvW+Se7v6/VvTdumofhskuS3Jk9v4DCRJkiQNt1Z+z1ZVrQTmASRZBKyuqk8keQewALigq/sC4L3Ncbcn+SjwCeBNSfYEXg7sVVWPAP/UjPkC4CtVtWycEi6uqoNHNpKsB+yaZG5VrWiaXwksr6pbnvg7liRJkqQ1zfRthGcBByfZGCDJXGBn4JKuPouBZyTZD/gMcGwTtLodCSyZ6kmr6nHgTOCIruYFazOGJEmSJK2NGQ1bzYzX5cCBTdMC4PSqqq4+jwNHA2cD/1lVF40x1BFMHJRe0XUb4YeatiXN+WjC3qubc0iSJEnStGvlNsJJjISerzR//vHoDlW1LMly4MTR+5LsDTxQVcsnOMcatxE2Y34/yZwkzwaeC3yvqu4e6+AkC4GFADttt+vU3pUkSZIkdenFaoTnAfs3z2NtWlVXJtm7aybqtU2/x5uf0da4/S/JoV3Hzp/k3Kc1x094C2FVLa6q+VU1f+sttluLtyZJkiRJHTM+s1VVq5NcCJxCE3iq6jKaBTUm0ix08QZgn67xzgXO7eqz7wRDLKEzo7YV8CdrW7skSZIkTVWvfs/WEmAPOjNNa2Mf4Maq+vm6nLSqfgQ8AHy7qu5flzEkSZIkaSrStTaFxvDc35lX116/rNdlSJIkSepTSa6oqt96pKlXM1uSJEmSNNAMW5IkSZLUAsOWJEmSJLXAsDWJzbfrxa8ikyRJkjTbGbYkSZIkqQWGLUmSJElqgWFLkiRJklpg2JrEI7c+zK0fv4FbP35Dr0uRJEmSNIsYtiRJkiSpBYYtSZIkSWqBYUuSJEmSWjBQv0QqyVzg/KravattEbAa2B34feBeIMCfV9W3elCmJEmSpCEwbDNb762qecBxwMm9LUWSJEnSIBu2sDXiUmCXXhchSZIkaXANa9g6EDiv10VIkiRJGlwD9cwWUJO0fzzJx4Adgd8db5AkC4GFALts7QSYJEmSpLU3aDNbK4FtRrVtC9zZvH4vsBvwF8Cp4w1SVYuran5Vzd9u821bKVSSJEnSYBuosFVVq4FbkuwPkGRbOrcMXtLV53Hg74H1khzQk0IlSZIkDbyBCluNtwB/kWQZ8G3gw1X1s+4OVVXAR4D3zXx5kiRJkobBoD2zRVX9CNhvjPa3jdo+Gzh7hsqSJEmSNGQGcWZLkiRJknrOsCVJkiRJLRi42win24Y7bcRO731ar8uQJEmSNMs4syVJkiRJLTBsSZIkSVILDFuSJEmS1ALD1iQeuX11r0uQJEmSNAsZtiRJkiSpBYYtSZIkSWqBYUuSJEmSWtBXYStJJflk1/Z7kizq2n5LkuVJrknyoyTvGWecU5LcnmT5qPbTkyxrflYkWdbWe5EkSZI03PoqbAG/Ag5Lsv3oHUkOAo4DXlVVzwf2BO4dZ5wvAAeObqyqI6pqXlXNA84GzpmesiVJkiRpTf0Wth4FFgPvHmPfB4H3VNXNAFX1UFX941iDVNVFwF3jnSRJgDcCS55wxZIkSZI0hn4LWwAnAEcl2WpU++7AFdN0jlcAt1XVddM0niRJkiStoe/CVlXdB3wReFeLpzmSCWa1kixMsjTJ0rtW39NiGZIkSZIGVd+FrcangD8BNu9quwbYa3THJE/pWvTinZMNnGQD4DDg9PH6VNXiqppfVfO3nbP12tYuSZIkSf0ZtqrqLuAMOoFrxP8BPpZkJ4AkGyd5V1X9cmTRi6o6eQrDvxL4cVXdOP2VS5IkSVJHX4atxieBX69KWFX/TOd5rn9Lcg2d57c2GOvAJEuAS4FnJ7kxSXdoW4ALY0iSJElqWaqq1zX0tT2e+py66hc/7nUZkiRJkvpUkiuqav7o9n6e2ZIkSZKkWcuwJUmSJEktMGxJkiRJUgsMW5PYcMc5vS5BkiRJ0ixk2JIkSZKkFrga4SSSrAJ+0us6tIbtgTt7XYTW4DXpP16T/uM16T9ek/7jNek/XpOpeVpV7TC6cczfU6U1/GSsZRzVO0mWek36i9ek/3hN+o/XpP94TfqP16T/eE2eGG8jlCRJkqQWGLYkSZIkqQWGrckt7nUB+i1ek/7jNek/XpP+4zXpP16T/uM16T9ekyfABTIkSZIkqQXObEmSJElSCwxb40hyYJKfJPlpkg/0uh5BkhVJrk6yLMnSXtczrJKckuT2JMu72rZN8s0k1zV/btPLGofNONdkUZKbmu/LsiSv7mWNwyTJU5J8J8m1Sa5J8t+bdr8nPTLBNfF70iNJNklyeZKrmmvy4abd70kPTXBd/K6sI28jHEOS9YH/BP4LcCPwfeDIqvpRTwsbcklWAPOryt/10ENJ9gFWA1+sqt2bto8Bd1XV3zb/c2Kbqnp/L+scJuNck0XA6qr6RC9rG0ZJngw8uaquTLIFcAXwOuBt+D3piQmuyRvxe9ITSQJsXlWrk2wIXAL8d+Aw/J70zATX5UD8rqwTZ7bG9hLgp1X186p6GDgNOKTHNUl9oaouAu4a1XwIcGrz+lQ6f4nRDBnnmqhHquqWqrqyeb0KuBbYBb8nPTPBNVGPVMfqZnPD5qfwe9JTE1wXrSPD1th2AX7ZtX0j/ku5HxTwjSRXJFnY62K0hidV1S3Q+UsNsGOP61HHsUl+2Nxm6K04PZBkLvAi4DL8nvSFUdcE/J70TJL1kywDbge+WVV+T/rAONcF/K6sE8PW2DJGm6m+915WVXsCBwHHNLdOSRrbScAzgHnALcAne1rNEEoyBzgbOK6q7ut1PRrzmvg96aGqeqyq5gG7Ai9JsnuPSxLjXhe/K+vIsDW2G4GndG3vCtzco1rUqKqbmz9vB86lc7un+sNtzTMRI89G3N7jeoZeVd3W/AfzceAf8fsyo5pnHc4G/qmqzmma/Z700FjXxO9Jf6iqe4AL6TwX5PekT3RfF78r686wNbbvA89M8jtJNgIWAF/tcU1DLcnmzUPNJNkceBWwfOKjNIO+Cry1ef1W4Cs9rEX8+i8pIw7F78uMaR4w/xxwbVX9Xdcuvyc9Mt418XvSO0l2SLJ183pT4JXAj/F70lPjXRe/K+vO1QjH0Sxp+SlgfeCUqvqb3lY03JI8nc5sFsAGwJe9Jr2RZAmwL7A9cBvwv4DzgDOApwK/AN5QVS7YMEPGuSb70rndo4AVwDtGnoNQu5K8HLgYuBp4vGn+H3SeEfJ70gMTXJMj8XvSE0leSGcBjPXp/M//M6rqr5Jsh9+TnpngunwJvyvrxLAlSZIkSS3wNkJJkiRJaoFhS5IkSZJaYNiSJEmSpBYYtiRJkiSpBYYtSZIkSWqBYUuSNOsleSzJsiTLk5yZZLMe1LBvkt+b6fNKkvqXYUuSNAgerKp5VbU78DDwzqkclGSDaaxhX8CwJUn6NcOWJGnQXAzslmTzJKck+X6SHyQ5BCDJ25rZr68B30gyJ8nnk1yd5IdJDm/6vSrJpUmubPrPadpXJPlw0351kuckmUsn4L27mWF7RZLXJLmsOfe/JXlSc/wOSb7ZHP/ZJDck2b7Z96YklzdjfDbJ+j34/CRJ08SwJUkaGM1M1UHA1cCHgG9X1YuB/YCPJ9m86fpS4K1V9QfAXwL3VtULquqFwLeb8PMXwCurak9gKfDnXae6s2k/CXhPVa0ATgaOb2bYLgYuAX63ql4EnAa8rzn2fzV17QmcCzy1qf25wBHAy6pqHvAYcNT0fkKSpJk0nbdPSJLUK5smWda8vhj4HPBd4LVJ3tO0b0ITbIBvVtVdzetXAgtGBqqqu5McDDwP+I8kABsBl3ad75zmzyuAw8apaVfg9CRPbo6/vml/OXBoc65/TXJ3074/sBfw/eacmwK3T+XNS5L6k2FLkjQIHmxmg34tncRyeFX9ZFT73sD93U1AjRovdALZkeOc71fNn48x/n9LPw38XVV9Ncm+wKKusccS4NSq+uA4+yVJs4y3EUqSBtUFwJ81oYskLxqn3zeAY0c2kmwDfA94WZLdmrbNkjxrkvOtArbo2t4KuKl5/dau9kuANzbjvgrYpmn/FvD6JDs2+7ZN8rRJzilJ6mOGLUnSoPprYEPgh0mWN9tj+QiwTbNs/FXAflV1B/A2YEmSH9IJX8+Z5HxfAw4dWSCDzkzWmUkuBu7s6vdh4FVJrqTzfNktwKqq+hGd58S+0Zzzm8CT1/ZNS5L6R6pG3zkhSZLakmRj4LGqejTJS4GTRt8CKUkaDD6zJUnSzHoqcEaS9ej8TrC397geSVJLnNmSJEmSpBb4zJYkSZIktcCwJUmSJEktMGxJkiRJUgsMW5IkSZLUAsOWJEmSJLXAsCVJkiRJLfj/AdMOB7uI8bsUAAAAAElFTkSuQmCC\n",
      "text/plain": [
       "<Figure size 1008x360 with 1 Axes>"
      ]
     },
     "metadata": {
      "needs_background": "light"
     },
     "output_type": "display_data"
    }
   ],
   "source": [
    "#create bar graph to show data comparison\n",
    "values = percentage_ratings_2019['Percentage']\n",
    "labels = percentage_ratings_2019['Rating']\n",
    "\n",
    "plt.figure(figsize=(14,5))\n",
    "g = sns.barplot(x=values, y=labels)\n",
    "plt.title('2019 Rating Percentage')\n",
    "plt.xlabel('Percentage')\n",
    "plt.ylabel('Rating')\n",
    "plt.savefig(\"images/2019_rating_percentages.png\")\n",
    "plt.show()"
   ]
  },
  {
   "cell_type": "markdown",
   "metadata": {},
   "source": [
    "Breaking down 2020"
   ]
  },
  {
   "cell_type": "code",
   "execution_count": 159,
   "metadata": {},
   "outputs": [],
   "source": [
    "# find info for items added in 2020\n",
    "netflix_info_2020 = netflix_info.loc[netflix_info[\"YEAR_added\"]==2020]\n",
    "netflix_info_2020 = pd.DataFrame(netflix_info_2020)\n",
    "#netflix_info_2020.head()"
   ]
  },
  {
   "cell_type": "code",
   "execution_count": 160,
   "metadata": {},
   "outputs": [],
   "source": [
    "#Find overall count of ratings for 2020\n",
    "netflix_info_2020_ratings = netflix_info_2020['rating'].value_counts()\n",
    "#netflix_info_2020_ratings"
   ]
  },
  {
   "cell_type": "code",
   "execution_count": 161,
   "metadata": {},
   "outputs": [],
   "source": [
    "netflix_info_2020_tvma = netflix_info_2020.loc[netflix_info_2020[\"rating\"]== 'TV-MA']\n",
    "netflix_info_2020_tvma = pd.DataFrame(netflix_info_2020_tvma)\n",
    "\n",
    "netflix_info_2020_tv14 = netflix_info_2020.loc[netflix_info_2020[\"rating\"]== 'TV-14']\n",
    "netflix_info_2020_tv14 = pd.DataFrame(netflix_info_2020_tv14)\n",
    "\n",
    "netflix_info_2020_tvpg = netflix_info_2020.loc[netflix_info_2020[\"rating\"]=='TV-PG']\n",
    "netflix_info_2020_tvpg =pd.DataFrame(netflix_info_2020_tvpg)\n",
    "\n",
    "netflix_info_2020_r = netflix_info_2020.loc[netflix_info_2020[\"rating\"]=='R']\n",
    "netflix_info_2020_r =pd.DataFrame(netflix_info_2020_r)\n",
    "\n",
    "netflix_info_2020_pg13 = netflix_info_2020.loc[netflix_info_2020[\"rating\"]=='PG-13']\n",
    "netflix_info_2020_pg13 =pd.DataFrame(netflix_info_2020_pg13)\n",
    "\n",
    "netflix_info_2020_tvy = netflix_info_2020.loc[netflix_info_2020[\"rating\"]=='TV-Y']\n",
    "netflix_info_2020_tvy =pd.DataFrame(netflix_info_2020_tvy)\n",
    "\n",
    "netflix_info_2020_tvy7 = netflix_info_2020.loc[netflix_info_2020[\"rating\"]=='TV-Y7']\n",
    "netflix_info_2020_tvy7 =pd.DataFrame(netflix_info_2020_tvy7)\n",
    "\n",
    "netflix_info_2020_pg = netflix_info_2020.loc[netflix_info_2020[\"rating\"]=='PG']\n",
    "netflix_info_2020_pg =pd.DataFrame(netflix_info_2020_pg)\n",
    "\n",
    "netflix_info_2020_tvg = netflix_info_2020.loc[netflix_info_2020[\"rating\"]=='TV-G']\n",
    "netflix_info_2020_tvg =pd.DataFrame(netflix_info_2020_tvg)\n",
    "\n",
    "netflix_info_2020_nr = netflix_info_2020.loc[netflix_info_2020[\"rating\"]=='NR']\n",
    "netflix_info_2020_nr =pd.DataFrame(netflix_info_2020_nr)\n",
    "\n",
    "netflix_info_2020_g = netflix_info_2020.loc[netflix_info_2020[\"rating\"]=='G']\n",
    "netflix_info_2020_g =pd.DataFrame(netflix_info_2020_g)\n",
    "\n",
    "netflix_info_2020_tvy7fv = netflix_info_2020.loc[netflix_info_2020[\"rating\"]=='TV-Y7-FV']\n",
    "netflix_info_2020_tvy7fv =pd.DataFrame(netflix_info_2020_tvy7fv)\n",
    "\n",
    "netflix_info_2020_ur = netflix_info_2020.loc[netflix_info_2020[\"rating\"]=='UR']\n",
    "netflix_info_2020_ur =pd.DataFrame(netflix_info_2020_ur)\n",
    "\n",
    "netflix_info_2020_nc17 = netflix_info_2020.loc[netflix_info_2020[\"rating\"]=='NC-17']\n",
    "netflix_info_2020_nc17 =pd.DataFrame(netflix_info_2020_nc17)\n"
   ]
  },
  {
   "cell_type": "code",
   "execution_count": 162,
   "metadata": {},
   "outputs": [],
   "source": [
    "# find percentage of each rating\n",
    "percent_tvma_2020 = len(netflix_info_2020_tvma) / len(netflix_info_2020) *100\n",
    "percent_tv14_2020 = len(netflix_info_2020_tv14) / len(netflix_info_2020) *100\n",
    "percent_tvpg_2020 = len(netflix_info_2020_tvpg) / len(netflix_info_2020) *100\n",
    "percent_r_2020 = len(netflix_info_2020_r) / len(netflix_info_2020) *100\n",
    "percent_pg13_2020 = len(netflix_info_2020_pg13) / len(netflix_info_2020) *100\n",
    "percent_tvy_2020 = len(netflix_info_2020_tvy) / len(netflix_info_2020) *100\n",
    "percent_tvy7_2020 = len(netflix_info_2020_tvy7) / len(netflix_info_2020) *100\n",
    "percent_pg_2020 = len(netflix_info_2020_pg) / len(netflix_info_2020) *100\n",
    "percent_tvg_2020 = len(netflix_info_2020_tvg) / len(netflix_info_2020) *100\n",
    "percent_nr_2020 = len(netflix_info_2020_nr) / len(netflix_info_2020) *100\n",
    "percent_g_2020 = len(netflix_info_2020_g) / len(netflix_info_2020) *100\n",
    "percent_tvy7fv_2020 = len(netflix_info_2020_tvy7fv) / len(netflix_info_2020) *100\n",
    "percent_ur_2020 = len(netflix_info_2020_ur) / len(netflix_info_2020) *100\n",
    "percent_nc17_2020 = len(netflix_info_2020_nc17) / len(netflix_info_2020) *100\n",
    "\n",
    "\n",
    "percentage_ratings_2020 = pd.DataFrame({ 'Rating': ['TV-MA', 'TV-14', 'TV-PG', 'R', 'PG-13', 'TV-Y', 'TV-Y7', 'PG',\n",
    "                                                     'TV-G', 'NR', 'G', 'TV-Y7-FV', 'UR', 'NC-17'],\n",
    "                                          'Percentage': [percent_tvma_2020, percent_tv14_2020, percent_tvpg_2020, percent_r_2020,\n",
    "                                                         percent_pg13_2020, percent_tvy_2020, percent_tvy7_2020, percent_pg_2020,\n",
    "                                                         percent_tvg_2020, percent_nr_2020, percent_g_2020, percent_tvy7fv_2020,\n",
    "                                                         percent_ur_2020, percent_nc17_2020]})\n",
    "#percentage_ratings_2020"
   ]
  },
  {
   "cell_type": "code",
   "execution_count": 163,
   "metadata": {},
   "outputs": [
    {
     "data": {
      "image/png": "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\n",
      "text/plain": [
       "<Figure size 1008x360 with 1 Axes>"
      ]
     },
     "metadata": {
      "needs_background": "light"
     },
     "output_type": "display_data"
    }
   ],
   "source": [
    "#create bar graph to show data comparison\n",
    "values = percentage_ratings_2020['Percentage']\n",
    "labels = percentage_ratings_2020['Rating']\n",
    "\n",
    "plt.figure(figsize=(14,5))\n",
    "g = sns.barplot(x=values, y=labels)\n",
    "plt.title('2020 Rating Percentage')\n",
    "plt.xlabel('Percentage')\n",
    "plt.ylabel('Rating')\n",
    "plt.savefig(\"images/2020_rating_percentages.png\")\n",
    "plt.show()"
   ]
  },
  {
   "cell_type": "markdown",
   "metadata": {},
   "source": [
    "Breaking Down 2021"
   ]
  },
  {
   "cell_type": "code",
   "execution_count": 164,
   "metadata": {},
   "outputs": [],
   "source": [
    "# find info for items added in 2021\n",
    "netflix_info_2021 = netflix_info.loc[netflix_info[\"YEAR_added\"]==2021]\n",
    "netflix_info_2021 = pd.DataFrame(netflix_info_2021)\n",
    "#netflix_info_2021.head()"
   ]
  },
  {
   "cell_type": "code",
   "execution_count": 165,
   "metadata": {},
   "outputs": [],
   "source": [
    "#Find overall count of ratings for 2021\n",
    "netflix_info_2021_ratings = netflix_info_2021['rating'].value_counts()\n",
    "#netflix_info_2021_ratings"
   ]
  },
  {
   "cell_type": "code",
   "execution_count": 166,
   "metadata": {},
   "outputs": [],
   "source": [
    "netflix_info_2021_tvma = netflix_info_2021.loc[netflix_info_2021[\"rating\"]== 'TV-MA']\n",
    "netflix_info_2021_tvma = pd.DataFrame(netflix_info_2021_tvma)\n",
    "\n",
    "netflix_info_2021_tv14 = netflix_info_2021.loc[netflix_info_2021[\"rating\"]== 'TV-14']\n",
    "netflix_info_2021_tv14 = pd.DataFrame(netflix_info_2021_tv14)\n",
    "\n",
    "netflix_info_2021_tvpg = netflix_info_2021.loc[netflix_info_2021[\"rating\"]=='TV-PG']\n",
    "netflix_info_2021_tvpg =pd.DataFrame(netflix_info_2021_tvpg)\n",
    "\n",
    "netflix_info_2021_r = netflix_info_2021.loc[netflix_info_2021[\"rating\"]=='R']\n",
    "netflix_info_2021_r =pd.DataFrame(netflix_info_2021_r)\n",
    "\n",
    "netflix_info_2021_pg13 = netflix_info_2021.loc[netflix_info_2021[\"rating\"]=='PG-13']\n",
    "netflix_info_2021_pg13 =pd.DataFrame(netflix_info_2021_pg13)\n",
    "\n",
    "netflix_info_2021_tvy = netflix_info_2021.loc[netflix_info_2021[\"rating\"]=='TV-Y']\n",
    "netflix_info_2021_tvy =pd.DataFrame(netflix_info_2021_tvy)\n",
    "\n",
    "netflix_info_2021_tvy7 = netflix_info_2021.loc[netflix_info_2021[\"rating\"]=='TV-Y7']\n",
    "netflix_info_2021_tvy7 =pd.DataFrame(netflix_info_2021_tvy7)\n",
    "\n",
    "netflix_info_2021_pg = netflix_info_2021.loc[netflix_info_2021[\"rating\"]=='PG']\n",
    "netflix_info_2021_pg =pd.DataFrame(netflix_info_2021_pg)\n",
    "\n",
    "netflix_info_2021_tvg = netflix_info_2021.loc[netflix_info_2021[\"rating\"]=='TV-G']\n",
    "netflix_info_2021_tvg =pd.DataFrame(netflix_info_2021_tvg)\n",
    "\n",
    "netflix_info_2021_nr = netflix_info_2021.loc[netflix_info_2021[\"rating\"]=='NR']\n",
    "netflix_info_2021_nr =pd.DataFrame(netflix_info_2021_nr)\n",
    "\n",
    "netflix_info_2021_g = netflix_info_2021.loc[netflix_info_2021[\"rating\"]=='G']\n",
    "netflix_info_2021_g =pd.DataFrame(netflix_info_2021_g)\n",
    "\n",
    "netflix_info_2021_tvy7fv = netflix_info_2021.loc[netflix_info_2021[\"rating\"]=='TV-Y7-FV']\n",
    "netflix_info_2021_tvy7fv =pd.DataFrame(netflix_info_2021_tvy7fv)\n",
    "\n",
    "netflix_info_2021_ur = netflix_info_2021.loc[netflix_info_2021[\"rating\"]=='UR']\n",
    "netflix_info_2021_ur =pd.DataFrame(netflix_info_2021_ur)\n",
    "\n",
    "netflix_info_2021_nc17 = netflix_info_2021.loc[netflix_info_2021[\"rating\"]=='NC-17']\n",
    "netflix_info_2021_nc17 =pd.DataFrame(netflix_info_2021_nc17)\n"
   ]
  },
  {
   "cell_type": "code",
   "execution_count": 167,
   "metadata": {},
   "outputs": [],
   "source": [
    "# find percentage of each rating\n",
    "percent_tvma_2021 = len(netflix_info_2021_tvma) / len(netflix_info_2021) *100\n",
    "percent_tv14_2021 = len(netflix_info_2021_tv14) / len(netflix_info_2021) *100\n",
    "percent_tvpg_2021 = len(netflix_info_2021_tvpg) / len(netflix_info_2021) *100\n",
    "percent_r_2021 = len(netflix_info_2021_r) / len(netflix_info_2021) *100\n",
    "percent_pg13_2021 = len(netflix_info_2021_pg13) / len(netflix_info_2021) *100\n",
    "percent_tvy_2021 = len(netflix_info_2021_tvy) / len(netflix_info_2021) *100\n",
    "percent_tvy7_2021 = len(netflix_info_2021_tvy7) / len(netflix_info_2021) *100\n",
    "percent_pg_2021 = len(netflix_info_2021_pg) / len(netflix_info_2021) *100\n",
    "percent_tvg_2021 = len(netflix_info_2021_tvg) / len(netflix_info_2021) *100\n",
    "percent_nr_2021 = len(netflix_info_2021_nr) / len(netflix_info_2021) *100\n",
    "percent_g_2021 = len(netflix_info_2021_g) / len(netflix_info_2021) *100\n",
    "percent_tvy7fv_2021 = len(netflix_info_2021_tvy7fv) / len(netflix_info_2021) *100\n",
    "percent_ur_2021 = len(netflix_info_2021_ur) / len(netflix_info_2021) *100\n",
    "percent_nc17_2021 = len(netflix_info_2021_nc17) / len(netflix_info_2021) *100\n",
    "\n",
    "\n",
    "percentage_ratings_2021 = pd.DataFrame({ 'Rating': ['TV-MA', 'TV-14', 'TV-PG', 'R', 'PG-13', 'TV-Y', 'TV-Y7', 'PG',\n",
    "                                                     'TV-G', 'NR', 'G', 'TV-Y7-FV', 'UR', 'NC-17'],\n",
    "                                          'Percentage': [percent_tvma_2021, percent_tv14_2021, percent_tvpg_2021, percent_r_2021,\n",
    "                                                         percent_pg13_2021, percent_tvy_2021, percent_tvy7_2021, percent_pg_2021,\n",
    "                                                         percent_tvg_2021, percent_nr_2021, percent_g_2021, percent_tvy7fv_2021,\n",
    "                                                         percent_ur_2021, percent_nc17_2021]})\n",
    "#percentage_ratings_2021"
   ]
  },
  {
   "cell_type": "code",
   "execution_count": 168,
   "metadata": {},
   "outputs": [
    {
     "data": {
      "image/png": "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\n",
      "text/plain": [
       "<Figure size 1008x360 with 1 Axes>"
      ]
     },
     "metadata": {
      "needs_background": "light"
     },
     "output_type": "display_data"
    }
   ],
   "source": [
    "#create bar graph to show data comparison\n",
    "values = percentage_ratings_2021['Percentage']\n",
    "labels = percentage_ratings_2021['Rating']\n",
    "\n",
    "plt.figure(figsize=(14,5))\n",
    "g = sns.barplot(x=values, y=labels)\n",
    "plt.title('2021 Rating Percentage so Far')\n",
    "plt.xlabel('Percentage')\n",
    "plt.ylabel('Rating')\n",
    "plt.savefig(\"images/2021_rating_percentages.png\")\n",
    "plt.show()"
   ]
  },
  {
   "cell_type": "markdown",
   "metadata": {},
   "source": [
    "Breakdown each year into adult and childrens ratings, to get better understanding of data"
   ]
  },
  {
   "cell_type": "markdown",
   "metadata": {},
   "source": [
    "2014"
   ]
  },
  {
   "cell_type": "code",
   "execution_count": 169,
   "metadata": {},
   "outputs": [],
   "source": [
    "#netflix_info_2014.head()"
   ]
  },
  {
   "cell_type": "code",
   "execution_count": 170,
   "metadata": {},
   "outputs": [],
   "source": [
    "#Break down each year to adult and childrens ratings\n",
    "netflix_info_revised_2014 = netflix_info_2014.drop(['type', 'title', 'director','cast', 'country', 'country.1', 'country.2', 'release_year',\n",
    "                                                    'duration', 'TYPE1/listed_in','TYPE2', 'TYPE3', 'description'], axis = 1)"
   ]
  },
  {
   "cell_type": "code",
   "execution_count": 171,
   "metadata": {},
   "outputs": [],
   "source": [
    "\n",
    "netflix_adult_2014 = netflix_info_revised_2014.loc[(netflix_info_revised_2014[\"rating\"]== 'TV-MA') | (netflix_info_revised_2014[\"rating\"]== 'R') |\n",
    "                                           (netflix_info_revised_2014[\"rating\"]== 'NR') | (netflix_info_revised_2014[\"rating\"]== 'NC-17')]\n",
    "netflix_adult_2014 = pd.DataFrame(netflix_adult_2014)"
   ]
  },
  {
   "cell_type": "code",
   "execution_count": 172,
   "metadata": {},
   "outputs": [],
   "source": [
    "adult_2014 = len(netflix_adult_2014)"
   ]
  },
  {
   "cell_type": "code",
   "execution_count": 173,
   "metadata": {},
   "outputs": [],
   "source": [
    "\n",
    "netflix_childrens_2014 = netflix_info_revised_2014.loc[(netflix_info_revised_2014[\"rating\"]== 'TV-14') | (netflix_info_revised_2014[\"rating\"]== 'TV-PG') | \n",
    "                                                       (netflix_info_revised_2014[\"rating\"]== 'PG-13') | (netflix_info_revised_2014[\"rating\"]== 'TV-Y') |\n",
    "                                                       (netflix_info_revised_2014[\"rating\"]== 'TV-Y7') | (netflix_info_revised_2014[\"rating\"]== 'PG') |\n",
    "                                                       (netflix_info_revised_2014[\"rating\"]== 'TV-G') | (netflix_info_revised_2014[\"rating\"]== 'G') | \n",
    "                                                       (netflix_info_revised_2014[\"rating\"]== 'TV-Y7-FV')]\n",
    "netflix_childrens_2014 = pd.DataFrame(netflix_childrens_2014)\n"
   ]
  },
  {
   "cell_type": "code",
   "execution_count": 174,
   "metadata": {},
   "outputs": [],
   "source": [
    "childrens_2014 = len(netflix_childrens_2014)"
   ]
  },
  {
   "cell_type": "markdown",
   "metadata": {},
   "source": [
    "2015"
   ]
  },
  {
   "cell_type": "code",
   "execution_count": 175,
   "metadata": {},
   "outputs": [],
   "source": [
    "netflix_info_revised_2015 = netflix_info_2015.drop(['type', 'title', 'director','cast', 'country', 'country.1', 'country.2', 'release_year',\n",
    "                                                    'duration', 'TYPE1/listed_in','TYPE2', 'TYPE3', 'description'], axis = 1)"

   "execution_count": 2,
   "metadata": {},
   "outputs": [
    {
     "data": {
      "text/plain": [
       "7787"
      ]
     },
     "execution_count": 2,
     "metadata": {},
     "output_type": "execute_result"
    }
   ],
   "source": [
    "# getting the total number on Netflix\n",
    "total_counts = netflix_info[\"show_id\"].value_counts()\n",
    "total_netflix = len(total_counts)\n",
    "total_netflix"

   ]
  },
  {
   "cell_type": "code",

   "execution_count": 176,
   "metadata": {},
   "outputs": [],
   "source": [
    "netflix_adult_2015 = netflix_info_revised_2015.loc[(netflix_info_revised_2015[\"rating\"]== 'TV-MA') | (netflix_info_revised_2015[\"rating\"]== 'R') |\n",
    "                                           (netflix_info_revised_2015[\"rating\"]== 'NR') | (netflix_info_revised_2015[\"rating\"]== 'NC-17')]\n",
    "netflix_adult_2015 = pd.DataFrame(netflix_adult_2015)"

   "execution_count": 3,
   "metadata": {},
   "outputs": [
    {
     "name": "stdout",
     "output_type": "stream",
     "text": [
      "<class 'pandas.core.frame.DataFrame'>\n",
      "Int64Index: 2410 entries, 0 to 7785\n",
      "Data columns (total 16 columns):\n",
      " #   Column           Non-Null Count  Dtype  \n",
      "---  ------           --------------  -----  \n",
      " 0   show_id          2410 non-null   object \n",
      " 1   type             2410 non-null   object \n",
      " 2   title            2410 non-null   object \n",
      " 3   director         184 non-null    object \n",
      " 4   cast             2118 non-null   object \n",
      " 5   country          2133 non-null   object \n",
      " 6   country.1        224 non-null    object \n",
      " 7   country.2        66 non-null     object \n",
      " 8   YEAR_added       2312 non-null   float64\n",
      " 9   release_year     2410 non-null   int64  \n",
      " 10  rating           2408 non-null   object \n",
      " 11  duration         2410 non-null   object \n",
      " 12  TYPE1/listed_in  2410 non-null   object \n",
      " 13  TYPE2            1923 non-null   object \n",
      " 14  TYPE3            1192 non-null   object \n",
      " 15  description      2410 non-null   object \n",
      "dtypes: float64(1), int64(1), object(14)\n",
      "memory usage: 320.1+ KB\n"
     ]
    }
   ],
   "source": [
    "# breaking down to have a data frame of only tv shows on Netflix\n",
    "netflix_tvshows = netflix_info.loc[netflix_info[\"type\"]==\"TV Show\"]\n",
    "netflix_tvshows_df = pd.DataFrame(netflix_tvshows)\n",
    "netflix_tvshows_df.info()"

   ]
  },
  {
   "cell_type": "code",

   "execution_count": 177,
   "metadata": {},
   "outputs": [],
   "source": [
    "adult_2015 = len(netflix_adult_2015)"

   "execution_count": 4,
   "metadata": {},
   "outputs": [
    {
     "name": "stdout",
     "output_type": "stream",
     "text": [
      "<class 'pandas.core.frame.DataFrame'>\n",
      "Int64Index: 5377 entries, 1 to 7786\n",
      "Data columns (total 16 columns):\n",
      " #   Column           Non-Null Count  Dtype  \n",
      "---  ------           --------------  -----  \n",
      " 0   show_id          5377 non-null   object \n",
      " 1   type             5377 non-null   object \n",
      " 2   title            5377 non-null   object \n",
      " 3   director         5214 non-null   object \n",
      " 4   cast             4951 non-null   object \n",
      " 5   country          5147 non-null   object \n",
      " 6   country.1        926 non-null    object \n",
      " 7   country.2        324 non-null    object \n",
      " 8   YEAR_added       5377 non-null   float64\n",
      " 9   release_year     5377 non-null   int64  \n",
      " 10  rating           5372 non-null   object \n",
      " 11  duration         5377 non-null   object \n",
      " 12  TYPE1/listed_in  5377 non-null   object \n",
      " 13  TYPE2            4063 non-null   object \n",
      " 14  TYPE3            2106 non-null   object \n",
      " 15  description      5377 non-null   object \n",
      "dtypes: float64(1), int64(1), object(14)\n",
      "memory usage: 714.1+ KB\n"
     ]
    }
   ],
   "source": [
    "# breaking down to have a data frame of only movies on Netflix\n",
    "netflix_movies = netflix_info.loc[netflix_info[\"type\"]==\"Movie\"]\n",
    "netflix_movies_df = pd.DataFrame(netflix_movies)\n",
    "netflix_movies_df.info()"

   ]
  },
  {
   "cell_type": "code",

   "execution_count": 178,
   "metadata": {},
   "outputs": [],
   "source": [
    "\n",
    "netflix_childrens_2015 = netflix_info_revised_2015.loc[(netflix_info_revised_2015[\"rating\"]== 'TV-14') | (netflix_info_revised_2015[\"rating\"]== 'TV-PG') | \n",
    "                                                       (netflix_info_revised_2015[\"rating\"]== 'PG-13') | (netflix_info_revised_2015[\"rating\"]== 'TV-Y') |\n",
    "                                                       (netflix_info_revised_2015[\"rating\"]== 'TV-Y7') | (netflix_info_revised_2015[\"rating\"]== 'PG') |\n",
    "                                                       (netflix_info_revised_2015[\"rating\"]== 'TV-G') | (netflix_info_revised_2015[\"rating\"]== 'G') | \n",
    "                                                       (netflix_info_revised_2015[\"rating\"]== 'TV-Y7-FV')]\n",
    "netflix_childrens_2015 = pd.DataFrame(netflix_childrens_2015)"

   "execution_count": 5,
   "metadata": {},
   "outputs": [
    {
     "data": {
      "text/plain": [
       "2410"
      ]
     },
     "execution_count": 5,
     "metadata": {},
     "output_type": "execute_result"
    }
   ],
   "source": [
    "# getting the total number of tv shows\n",
    "show_counts = netflix_tvshows[\"show_id\"].value_counts()\n",
    "total_shows = len(show_counts)\n",
    "total_shows"

   ]
  },
  {
   "cell_type": "code",

   "execution_count": 179,
   "metadata": {},
   "outputs": [],
   "source": [
    "childrens_2015 = len(netflix_childrens_2015)"
   ]
  },
  {
   "cell_type": "markdown",
   "metadata": {},
   "source": [
    "2016"

   "execution_count": 6,
   "metadata": {},
   "outputs": [
    {
     "data": {
      "text/plain": [
       "5377"
      ]
     },
     "execution_count": 6,
     "metadata": {},
     "output_type": "execute_result"
    }
   ],
   "source": [
    "# getting the total number of movies\n",
    "movie_counts = netflix_movies[\"show_id\"].value_counts()\n",
    "total_movies = len(movie_counts)\n",
    "total_movies"

   ]
  },
  {
   "cell_type": "code",

   "execution_count": 180,
   "metadata": {},
   "outputs": [],
   "source": [
    "netflix_info_revised_2016 = netflix_info_2016.drop(['type', 'title', 'director','cast', 'country', 'country.1', 'country.2', 'release_year',\n",
    "                                                    'duration', 'TYPE1/listed_in','TYPE2', 'TYPE3', 'description'], axis = 1)"

   "execution_count": 7,
   "metadata": {},
   "outputs": [
    {
     "data": {
      "text/plain": [
       "30.949017593424937"
      ]
     },
     "execution_count": 7,
     "metadata": {},
     "output_type": "execute_result"
    }
   ],
   "source": [
    "# creating calculations to show total count of tv shows on Netflix\n",
    "show_counts_nf = netflix_tvshows[\"show_id\"].value_counts()\n",
    "total_shows_nf = len(show_counts_nf)\n",
    "#total_shows_nf\n",
    "\n",
    "# calculating percentage of tv shows on Netflix\n",
    "shows_per_nf = (100*(total_shows_nf / total_netflix))\n",
    "shows_per_nf"

   ]
  },
  {
   "cell_type": "code",

   "execution_count": 181,
   "metadata": {},
   "outputs": [],
   "source": [
    "netflix_adult_2016 = netflix_info_revised_2016.loc[(netflix_info_revised_2016[\"rating\"]== 'TV-MA') | (netflix_info_revised_2016[\"rating\"]== 'R') |\n",
    "                                           (netflix_info_revised_2016[\"rating\"]== 'NR') | (netflix_info_revised_2016[\"rating\"]== 'NC-17')]\n",
    "netflix_adult_2016 = pd.DataFrame(netflix_adult_2016)"

   "execution_count": 8,
   "metadata": {},
   "outputs": [
    {
     "data": {
      "text/plain": [
       "69.05098240657506"
      ]
     },
     "execution_count": 8,
     "metadata": {},
     "output_type": "execute_result"
    }
   ],
   "source": [
    "# creating calculations to show total count of movies on Netflix\n",
    "movie_counts_nf = netflix_movies[\"show_id\"].value_counts()\n",
    "total_movies_nf = len(movie_counts_nf)\n",
    "#total_movies_nf\n",
    "\n",
    "# calculating percentage of tv shows on Netflix\n",
    "movies_per_nf = (100*(total_movies_nf / total_netflix))\n",
    "movies_per_nf"

   ]
  },
  {
   "cell_type": "code",

   "execution_count": 182,
   "metadata": {},
   "outputs": [],
   "source": [
    "adult_2016 = len(netflix_adult_2016)"

   "execution_count": 10,
   "metadata": {},
   "outputs": [
    {
     "data": {
      "text/html": [
       "<div>\n",
       "<style scoped>\n",
       "    .dataframe tbody tr th:only-of-type {\n",
       "        vertical-align: middle;\n",
       "    }\n",
       "\n",
       "    .dataframe tbody tr th {\n",
       "        vertical-align: top;\n",
       "    }\n",
       "\n",
       "    .dataframe thead th {\n",
       "        text-align: right;\n",
       "    }\n",
       "</style>\n",
       "<table border=\"1\" class=\"dataframe\">\n",
       "  <thead>\n",
       "    <tr style=\"text-align: right;\">\n",
       "      <th></th>\n",
       "      <th>Total Count</th>\n",
       "      <th>Percentage</th>\n",
       "    </tr>\n",
       "    <tr>\n",
       "      <th>type</th>\n",
       "      <th></th>\n",
       "      <th></th>\n",
       "    </tr>\n",
       "  </thead>\n",
       "  <tbody>\n",
       "    <tr>\n",
       "      <th>Movie</th>\n",
       "      <td>5377</td>\n",
       "      <td>69.050982</td>\n",
       "    </tr>\n",
       "    <tr>\n",
       "      <th>TV Show</th>\n",
       "      <td>2410</td>\n",
       "      <td>30.949018</td>\n",
       "    </tr>\n",
       "  </tbody>\n",
       "</table>\n",
       "</div>"
      ],
      "text/plain": [
       "         Total Count  Percentage\n",
       "type                            \n",
       "Movie           5377   69.050982\n",
       "TV Show         2410   30.949018"
      ]
     },
     "execution_count": 10,
     "metadata": {},
     "output_type": "execute_result"
    },
    {
     "data": {
      "image/png": "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\n",
      "text/plain": [
       "<Figure size 432x288 with 1 Axes>"
      ]
     },
     "metadata": {},
     "output_type": "display_data"
    }
   ],
   "source": [
    "# creating pie chart for comparison\n",
    "netflix_gb = netflix_info.groupby([\"show_id\", \"type\"])\n",
    "netflix_gb_df = pd.DataFrame(netflix_gb.size())\n",
    "\n",
    "# Creating Data Frame\n",
    "movies_shows_nf = pd.DataFrame(netflix_gb_df.groupby([\"type\"]).count())\n",
    "movies_shows_nf.columns = [\"Total Count\"]\n",
    "\n",
    "# Calculating percentages\n",
    "movies_shows_nf[\"Percentage\"] = (100*(movies_shows_nf[\"Total Count\"] / movies_shows_nf[\"Total Count\"].sum()))\n",
    "# Creating Column\n",
    "movies_shows_nf[\"Percentage\"] = movies_shows_nf[\"Percentage\"]\n",
    "\n",
    "# Created pie chart\n",
    "movies_showsnf_pd = movies_shows_nf.plot(kind='pie', y=\"Total Count\", autopct='%1.1f%%', startangle=80, explode=(0.1,0), shadow=True,\n",
    "                              colors = [\"red\", \"grey\"])\n",
    "movies_showsnf_pd.set_title(\"Movie vs TV Shows Added Overall\")\n",
    "movies_showsnf_pd.set_ylabel(' ')\n",
    "\n",
    "# Added count of tv shows and movies\n",
    "plt.savefig(\"overall_moviesvshows.png\")\n",
    "movies_shows_nf"

   ]
  },
  {
   "cell_type": "code",
   "execution_count": 183,
   "metadata": {},
   "outputs": [],
   "source": [

    "netflix_childrens_2016 = netflix_info_revised_2016.loc[(netflix_info_revised_2016[\"rating\"]== 'TV-14') | (netflix_info_revised_2016[\"rating\"]== 'TV-PG') | \n",
    "                                                       (netflix_info_revised_2016[\"rating\"]== 'PG-13') | (netflix_info_revised_2016[\"rating\"]== 'TV-Y') |\n",
    "                                                       (netflix_info_revised_2016[\"rating\"]== 'TV-Y7') | (netflix_info_revised_2016[\"rating\"]== 'PG') |\n",
    "                                                       (netflix_info_revised_2016[\"rating\"]== 'TV-G') | (netflix_info_revised_2016[\"rating\"]== 'G') | \n",
    "                                                       (netflix_info_revised_2016[\"rating\"]== 'TV-Y7-FV')]\n",
    "netflix_childrens_2016 = pd.DataFrame(netflix_childrens_2016)"

    "# starting comparisons for 2014"

   ]
  },
  {
   "cell_type": "code",

   "execution_count": 184,
   "metadata": {},
   "outputs": [],
   "source": [
    "childrens_2016 = len(netflix_childrens_2016)"
   ]
  },
  {
   "cell_type": "markdown",
   "metadata": {},
   "source": [
    "2017"

   "execution_count": 11,
   "metadata": {},
   "outputs": [
    {
     "data": {
      "text/plain": [
       "24"
      ]
     },
     "execution_count": 11,
     "metadata": {},
     "output_type": "execute_result"
    }
   ],
   "source": [
    "# creating data frame of total number of tv shows and movies for 2014\n",
    "netflix_total_2014 = netflix_info.loc[netflix_info[\"YEAR_added\"]==2014]\n",
    "netflix_2014 = pd.DataFrame(netflix_total_2014)\n",
    "#netflix_2014\n",
    "\n",
    "# calculating total number of tv shows and movies for 2014\n",
    "netflix_2014_num = netflix_2014[\"show_id\"].value_counts()\n",
    "total_14 = len(netflix_2014_num)\n",
    "total_14"

   ]
  },
  {
   "cell_type": "code",

   "execution_count": 185,
   "metadata": {},
   "outputs": [],
   "source": [
    "netflix_info_revised_2017 = netflix_info_2017.drop(['type', 'title', 'director','cast', 'country', 'country.1', 'country.2', 'release_year',\n",
    "                                                    'duration', 'TYPE1/listed_in','TYPE2', 'TYPE3', 'description'], axis = 1)"

   "execution_count": 12,
   "metadata": {},
   "outputs": [
    {
     "name": "stdout",
     "output_type": "stream",
     "text": [
      "<class 'pandas.core.frame.DataFrame'>\n",
      "Int64Index: 5 entries, 2498 to 7520\n",
      "Data columns (total 16 columns):\n",
      " #   Column           Non-Null Count  Dtype  \n",
      "---  ------           --------------  -----  \n",
      " 0   show_id          5 non-null      object \n",
      " 1   type             5 non-null      object \n",
      " 2   title            5 non-null      object \n",
      " 3   director         0 non-null      object \n",
      " 4   cast             5 non-null      object \n",
      " 5   country          5 non-null      object \n",
      " 6   country.1        3 non-null      object \n",
      " 7   country.2        1 non-null      object \n",
      " 8   YEAR_added       5 non-null      float64\n",
      " 9   release_year     5 non-null      int64  \n",
      " 10  rating           5 non-null      object \n",
      " 11  duration         5 non-null      object \n",
      " 12  TYPE1/listed_in  5 non-null      object \n",
      " 13  TYPE2            3 non-null      object \n",
      " 14  TYPE3            1 non-null      object \n",
      " 15  description      5 non-null      object \n",
      "dtypes: float64(1), int64(1), object(14)\n",
      "memory usage: 680.0+ bytes\n"
     ]
    }
   ],
   "source": [
    "# breaking down data frame into shows added in 2014\n",
    "netflix_tvshows2014 = netflix_tvshows_df.loc[netflix_tvshows_df[\"YEAR_added\"]==2014]\n",
    "netflix_shows2014 = pd.DataFrame(netflix_tvshows2014)\n",
    "netflix_shows2014.info()"

   ]
  },
  {
   "cell_type": "code",

   "execution_count": 186,
   "metadata": {},
   "outputs": [],
   "source": [
    "netflix_adult_2017 = netflix_info_revised_2017.loc[(netflix_info_revised_2017[\"rating\"]== 'TV-MA') | (netflix_info_revised_2017[\"rating\"]== 'R') |\n",
    "                                           (netflix_info_revised_2017[\"rating\"]== 'NR') | (netflix_info_revised_2017[\"rating\"]== 'NC-17')]\n",
    "netflix_adult_2017 = pd.DataFrame(netflix_adult_2017)"

   "execution_count": 13,
   "metadata": {},
   "outputs": [
    {
     "name": "stdout",
     "output_type": "stream",
     "text": [
      "<class 'pandas.core.frame.DataFrame'>\n",
      "Int64Index: 19 entries, 914 to 7680\n",
      "Data columns (total 16 columns):\n",
      " #   Column           Non-Null Count  Dtype  \n",
      "---  ------           --------------  -----  \n",
      " 0   show_id          19 non-null     object \n",
      " 1   type             19 non-null     object \n",
      " 2   title            19 non-null     object \n",
      " 3   director         18 non-null     object \n",
      " 4   cast             15 non-null     object \n",
      " 5   country          19 non-null     object \n",
      " 6   country.1        4 non-null      object \n",
      " 7   country.2        2 non-null      object \n",
      " 8   YEAR_added       19 non-null     float64\n",
      " 9   release_year     19 non-null     int64  \n",
      " 10  rating           19 non-null     object \n",
      " 11  duration         19 non-null     object \n",
      " 12  TYPE1/listed_in  19 non-null     object \n",
      " 13  TYPE2            7 non-null      object \n",
      " 14  TYPE3            0 non-null      object \n",
      " 15  description      19 non-null     object \n",
      "dtypes: float64(1), int64(1), object(14)\n",
      "memory usage: 2.5+ KB\n"
     ]
    }
   ],
   "source": [
    "# breaking down data frame into movies added in 2014\n",
    "netflix_movies2014 = netflix_movies_df.loc[netflix_movies_df[\"YEAR_added\"]==2014]\n",
    "netflix_movies_14 = pd.DataFrame(netflix_movies2014)\n",
    "netflix_movies_14.info()"

   ]
  },
  {
   "cell_type": "code",

   "execution_count": 187,
   "metadata": {},
   "outputs": [],
   "source": [
    "adult_2017 = len(netflix_adult_2017)"

   "execution_count": 14,
   "metadata": {},
   "outputs": [
    {
     "data": {
      "text/plain": [
       "20.833333333333336"
      ]
     },
     "execution_count": 14,
     "metadata": {},
     "output_type": "execute_result"
    }
   ],
   "source": [
    "# creating calculations to show total count of tv shows in 2014\n",
    "show_counts14 = netflix_shows2014[\"show_id\"].value_counts()\n",
    "total_shows14 = len(show_counts14)\n",
    "#total_shows14\n",
    "\n",
    "# calculating percentage of tv shows in 2014\n",
    "shows_per_14 = (100*(total_shows14 / total_14))\n",
    "shows_per_14"

   ]
  },
  {
   "cell_type": "code",

   "execution_count": 188,
   "metadata": {},
   "outputs": [],
   "source": [
    "netflix_childrens_2017 = netflix_info_revised_2017.loc[(netflix_info_revised_2017[\"rating\"]== 'TV-14') | (netflix_info_revised_2017[\"rating\"]== 'TV-PG') | \n",
    "                                                       (netflix_info_revised_2017[\"rating\"]== 'PG-13') | (netflix_info_revised_2017[\"rating\"]== 'TV-Y') |\n",
    "                                                       (netflix_info_revised_2017[\"rating\"]== 'TV-Y7') | (netflix_info_revised_2017[\"rating\"]== 'PG') |\n",
    "                                                       (netflix_info_revised_2017[\"rating\"]== 'TV-G') | (netflix_info_revised_2017[\"rating\"]== 'G') | \n",
    "                                                       (netflix_info_revised_2017[\"rating\"]== 'TV-Y7-FV')]\n",
    "netflix_childrens_2017 = pd.DataFrame(netflix_childrens_2017)"

   "execution_count": 15,
   "metadata": {},
   "outputs": [
    {
     "data": {
      "text/plain": [
       "79.16666666666666"
      ]
     },
     "execution_count": 15,
     "metadata": {},
     "output_type": "execute_result"
    }
   ],
   "source": [
    "# creating calculations to show total count of movies in 2014\n",
    "movie_counts14 = netflix_movies_14[\"show_id\"].value_counts()\n",
    "total_movies14 = len(movie_counts14)\n",
    "#total_movies14\n",
    "\n",
    "# calculating percentage of tv shows in 2014\n",
    "movies_per_14 = (100*(total_movies14 / total_14))\n",
    "movies_per_14"

   ]
  },
  {
   "cell_type": "code",

   "execution_count": 189,
   "metadata": {},
   "outputs": [],
   "source": [
    "childrens_2017 = len(netflix_childrens_2017)"
   ]
  },
  {
   "cell_type": "markdown",
   "metadata": {},
   "source": [
    "2018"

   "execution_count": 16,
   "metadata": {},
   "outputs": [
    {
     "data": {
      "text/html": [
       "<div>\n",
       "<style scoped>\n",
       "    .dataframe tbody tr th:only-of-type {\n",
       "        vertical-align: middle;\n",
       "    }\n",
       "\n",
       "    .dataframe tbody tr th {\n",
       "        vertical-align: top;\n",
       "    }\n",
       "\n",
       "    .dataframe thead th {\n",
       "        text-align: right;\n",
       "    }\n",
       "</style>\n",
       "<table border=\"1\" class=\"dataframe\">\n",
       "  <thead>\n",
       "    <tr style=\"text-align: right;\">\n",
       "      <th></th>\n",
       "      <th>Total Count</th>\n",
       "      <th>Percentage</th>\n",
       "    </tr>\n",
       "    <tr>\n",
       "      <th>type</th>\n",
       "      <th></th>\n",
       "      <th></th>\n",
       "    </tr>\n",
       "  </thead>\n",
       "  <tbody>\n",
       "    <tr>\n",
       "      <th>Movie</th>\n",
       "      <td>19</td>\n",
       "      <td>79.166667</td>\n",
       "    </tr>\n",
       "    <tr>\n",
       "      <th>TV Show</th>\n",
       "      <td>5</td>\n",
       "      <td>20.833333</td>\n",
       "    </tr>\n",
       "  </tbody>\n",
       "</table>\n",
       "</div>"
      ],
      "text/plain": [
       "         Total Count  Percentage\n",
       "type                            \n",
       "Movie             19   79.166667\n",
       "TV Show            5   20.833333"
      ]
     },
     "execution_count": 16,
     "metadata": {},
     "output_type": "execute_result"
    },
    {
     "data": {
      "image/png": "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\n",
      "text/plain": [
       "<Figure size 432x288 with 1 Axes>"
      ]
     },
     "metadata": {},
     "output_type": "display_data"
    }
   ],
   "source": [
    "# creating pie chart for comparison\n",
    "netflix_2014_gb = netflix_2014.groupby([\"show_id\", \"type\"])\n",
    "netflix_2014_df = pd.DataFrame(netflix_2014_gb.size())\n",
    "\n",
    "# Creating Data Frame\n",
    "movies_shows14 = pd.DataFrame(netflix_2014_df.groupby([\"type\"]).count())\n",
    "movies_shows14.columns = [\"Total Count\"]\n",
    "\n",
    "# Calculating percentages\n",
    "movies_shows14[\"Percentage\"] = (100*(movies_shows14[\"Total Count\"] / movies_shows14[\"Total Count\"].sum()))\n",
    "# Creating Column\n",
    "movies_shows14[\"Percentage\"] = movies_shows14[\"Percentage\"]\n",
    "\n",
    "# Created pie chart\n",
    "movies_shows14_pd = movies_shows14.plot(kind='pie', y=\"Total Count\", autopct='%1.1f%%', startangle=80, explode=(0.1,0), shadow=True,\n",
    "                              colors = [\"red\", \"grey\"])\n",
    "movies_shows14_pd.set_title(\"Movie vs TV Shows Added 2014\")\n",
    "movies_shows14_pd.set_ylabel(' ')\n",
    "\n",
    "# Added count of tv shows and movies\n",
    "plt.savefig(\"moviesvshows2014_percentages.png\")\n",
    "movies_shows14"
   ]
  },
  {
   "cell_type": "code",
   "execution_count": null,
   "metadata": {},
   "outputs": [],
   "source": [
    "# starting comparisons for 2015"
   ]
  },
  {
   "cell_type": "code",
   "execution_count": 17,
   "metadata": {},
   "outputs": [
    {
     "data": {
      "text/plain": [
       "79"
      ]
     },
     "execution_count": 17,
     "metadata": {},
     "output_type": "execute_result"
    }
   ],
   "source": [
    "# creating data frame of total number of tv shows and movies for 2015\n",
    "netflix_total_2015 = netflix_info.loc[netflix_info[\"YEAR_added\"]==2015]\n",
    "netflix_2015 = pd.DataFrame(netflix_total_2015)\n",
    "#netflix_2015\n",
    "\n",
    "# calculating total number of tv shows and movies for 2015\n",
    "netflix_2015_num = netflix_2015[\"show_id\"].value_counts()\n",
    "total_15 = len(netflix_2015_num)\n",
    "total_15"
   ]
  },
  {
   "cell_type": "code",
   "execution_count": 18,
   "metadata": {},
   "outputs": [
    {
     "name": "stdout",
     "output_type": "stream",
     "text": [
      "<class 'pandas.core.frame.DataFrame'>\n",
      "Int64Index: 21 entries, 610 to 7542\n",
      "Data columns (total 16 columns):\n",
      " #   Column           Non-Null Count  Dtype  \n",
      "---  ------           --------------  -----  \n",
      " 0   show_id          21 non-null     object \n",
      " 1   type             21 non-null     object \n",
      " 2   title            21 non-null     object \n",
      " 3   director         3 non-null      object \n",
      " 4   cast             19 non-null     object \n",
      " 5   country          20 non-null     object \n",
      " 6   country.1        4 non-null      object \n",
      " 7   country.2        1 non-null      object \n",
      " 8   YEAR_added       21 non-null     float64\n",
      " 9   release_year     21 non-null     int64  \n",
      " 10  rating           21 non-null     object \n",
      " 11  duration         21 non-null     object \n",
      " 12  TYPE1/listed_in  21 non-null     object \n",
      " 13  TYPE2            14 non-null     object \n",
      " 14  TYPE3            10 non-null     object \n",
      " 15  description      21 non-null     object \n",
      "dtypes: float64(1), int64(1), object(14)\n",
      "memory usage: 2.8+ KB\n"
     ]
    }
   ],
   "source": [
    "# breaking down data frame into shows added in 2015\n",
    "netflix_tvshows2015 = netflix_tvshows_df.loc[netflix_tvshows_df[\"YEAR_added\"]==2015]\n",
    "netflix_shows2015 = pd.DataFrame(netflix_tvshows2015)\n",
    "netflix_shows2015.info()"
   ]
  },
  {
   "cell_type": "code",
   "execution_count": 19,
   "metadata": {},
   "outputs": [
    {
     "name": "stdout",
     "output_type": "stream",
     "text": [
      "<class 'pandas.core.frame.DataFrame'>\n",
      "Int64Index: 58 entries, 128 to 7704\n",
      "Data columns (total 16 columns):\n",
      " #   Column           Non-Null Count  Dtype  \n",
      "---  ------           --------------  -----  \n",
      " 0   show_id          58 non-null     object \n",
      " 1   type             58 non-null     object \n",
      " 2   title            58 non-null     object \n",
      " 3   director         56 non-null     object \n",
      " 4   cast             49 non-null     object \n",
      " 5   country          54 non-null     object \n",
      " 6   country.1        9 non-null      object \n",
      " 7   country.2        4 non-null      object \n",
      " 8   YEAR_added       58 non-null     float64\n",
      " 9   release_year     58 non-null     int64  \n",
      " 10  rating           58 non-null     object \n",
      " 11  duration         58 non-null     object \n",
      " 12  TYPE1/listed_in  58 non-null     object \n",
      " 13  TYPE2            30 non-null     object \n",
      " 14  TYPE3            12 non-null     object \n",
      " 15  description      58 non-null     object \n",
      "dtypes: float64(1), int64(1), object(14)\n",
      "memory usage: 7.7+ KB\n"
     ]
    }
   ],
   "source": [
    "# breaking down data frame into movies added in 2015\n",
    "netflix_movies2015 = netflix_movies_df.loc[netflix_movies_df[\"YEAR_added\"]==2015]\n",
    "netflix_movies_15 = pd.DataFrame(netflix_movies2015)\n",
    "netflix_movies_15.info()"
   ]
  },
  {
   "cell_type": "code",
   "execution_count": 20,
   "metadata": {},
   "outputs": [
    {
     "data": {
      "text/plain": [
       "26.582278481012654"
      ]
     },
     "execution_count": 20,
     "metadata": {},
     "output_type": "execute_result"
    }
   ],
   "source": [
    "# creating calculations to show total count of tv shows in 2015\n",
    "show_counts15 = netflix_shows2015[\"show_id\"].value_counts()\n",
    "total_shows15 = len(show_counts15)\n",
    "#total_shows15\n",
    "\n",
    "# calculating percentage of tv shows in 2015\n",
    "shows_per_15 = (100*(total_shows15 / total_15))\n",
    "shows_per_15"
   ]
  },
  {
   "cell_type": "code",
   "execution_count": 21,
   "metadata": {},
   "outputs": [
    {
     "data": {
      "text/plain": [
       "73.41772151898735"
      ]
     },
     "execution_count": 21,
     "metadata": {},
     "output_type": "execute_result"
    }
   ],
   "source": [
    "# creating calculations to show total count of movies in 2015\n",
    "movie_counts15 = netflix_movies_15[\"show_id\"].value_counts()\n",
    "total_movies15 = len(movie_counts15)\n",
    "#total_movies15\n",
    "\n",
    "# calculating percentage of tv shows in 2015\n",
    "movies_per_15 = (100*(total_movies15 / total_15))\n",
    "movies_per_15"
   ]
  },
  {
   "cell_type": "code",
   "execution_count": 22,
   "metadata": {},
   "outputs": [
    {
     "data": {
      "text/html": [
       "<div>\n",
       "<style scoped>\n",
       "    .dataframe tbody tr th:only-of-type {\n",
       "        vertical-align: middle;\n",
       "    }\n",
       "\n",
       "    .dataframe tbody tr th {\n",
       "        vertical-align: top;\n",
       "    }\n",
       "\n",
       "    .dataframe thead th {\n",
       "        text-align: right;\n",
       "    }\n",
       "</style>\n",
       "<table border=\"1\" class=\"dataframe\">\n",
       "  <thead>\n",
       "    <tr style=\"text-align: right;\">\n",
       "      <th></th>\n",
       "      <th>Total Count</th>\n",
       "      <th>Percentage</th>\n",
       "    </tr>\n",
       "    <tr>\n",
       "      <th>type</th>\n",
       "      <th></th>\n",
       "      <th></th>\n",
       "    </tr>\n",
       "  </thead>\n",
       "  <tbody>\n",
       "    <tr>\n",
       "      <th>Movie</th>\n",
       "      <td>58</td>\n",
       "      <td>73.417722</td>\n",
       "    </tr>\n",
       "    <tr>\n",
       "      <th>TV Show</th>\n",
       "      <td>21</td>\n",
       "      <td>26.582278</td>\n",
       "    </tr>\n",
       "  </tbody>\n",
       "</table>\n",
       "</div>"
      ],
      "text/plain": [
       "         Total Count  Percentage\n",
       "type                            \n",
       "Movie             58   73.417722\n",
       "TV Show           21   26.582278"
      ]
     },
     "execution_count": 22,
     "metadata": {},
     "output_type": "execute_result"
    },
    {
     "data": {
      "image/png": "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\n",
      "text/plain": [
       "<Figure size 432x288 with 1 Axes>"
      ]
     },
     "metadata": {},
     "output_type": "display_data"
    }
   ],
   "source": [
    "# creating pie chart for comparison\n",
    "netflix_2015_gb = netflix_2015.groupby([\"show_id\", \"type\"])\n",
    "netflix_2015_df = pd.DataFrame(netflix_2015_gb.size())\n",
    "\n",
    "# Creating Data Frame\n",
    "movies_shows15 = pd.DataFrame(netflix_2015_df.groupby([\"type\"]).count())\n",
    "movies_shows15.columns = [\"Total Count\"]\n",
    "\n",
    "# Calculating percentages\n",
    "movies_shows15[\"Percentage\"] = (100*(movies_shows15[\"Total Count\"] / movies_shows15[\"Total Count\"].sum()))\n",
    "# Creating Column\n",
    "movies_shows15[\"Percentage\"] = movies_shows15[\"Percentage\"]\n",
    "\n",
    "# Created pie chart\n",
    "movies_shows15_pd = movies_shows15.plot(kind='pie', y=\"Total Count\", autopct='%1.1f%%', startangle=80, explode=(0.1,0), shadow=True,\n",
    "                              colors = [\"red\", \"grey\"])\n",
    "movies_shows15_pd.set_title(\"Movie vs TV Shows Added 2015\")\n",
    "movies_shows15_pd.set_ylabel(' ')\n",
    "\n",
    "# Added count of tv shows and movies\n",
    "plt.savefig(\"moviesvshows2015_percentages.png\")\n",
    "movies_shows15"
   ]
  },
  {
   "cell_type": "code",
   "execution_count": null,
   "metadata": {},
   "outputs": [],
   "source": [
    "# starting comparisons for 2016"
   ]
  },
  {
   "cell_type": "code",
   "execution_count": 23,
   "metadata": {},
   "outputs": [
    {
     "data": {
      "text/plain": [
       "432"
      ]
     },
     "execution_count": 23,
     "metadata": {},
     "output_type": "execute_result"
    }
   ],
   "source": [
    "# creating data frame of total number of tv shows and movies for 2016\n",
    "netflix_total_2016 = netflix_info.loc[netflix_info[\"YEAR_added\"]==2016]\n",
    "netflix_2016 = pd.DataFrame(netflix_total_2016)\n",
    "#netflix_2016\n",
    "\n",
    "# calculating total number of tv shows and movies for 2016\n",
    "netflix_2016_num = netflix_2016[\"show_id\"].value_counts()\n",
    "total_16 = len(netflix_2016_num)\n",
    "total_16"
   ]
  },
  {
   "cell_type": "code",
   "execution_count": 24,
   "metadata": {},
   "outputs": [
    {
     "name": "stdout",
     "output_type": "stream",
     "text": [
      "<class 'pandas.core.frame.DataFrame'>\n",
      "Int64Index: 174 entries, 137 to 7767\n",
      "Data columns (total 16 columns):\n",
      " #   Column           Non-Null Count  Dtype  \n",
      "---  ------           --------------  -----  \n",
      " 0   show_id          174 non-null    object \n",
      " 1   type             174 non-null    object \n",
      " 2   title            174 non-null    object \n",
      " 3   director         8 non-null      object \n",
      " 4   cast             160 non-null    object \n",
      " 5   country          164 non-null    object \n",
      " 6   country.1        27 non-null     object \n",
      " 7   country.2        14 non-null     object \n",
      " 8   YEAR_added       174 non-null    float64\n",
      " 9   release_year     174 non-null    int64  \n",
      " 10  rating           173 non-null    object \n",
      " 11  duration         174 non-null    object \n",
      " 12  TYPE1/listed_in  174 non-null    object \n",
      " 13  TYPE2            128 non-null    object \n",
      " 14  TYPE3            96 non-null     object \n",
      " 15  description      174 non-null    object \n",
      "dtypes: float64(1), int64(1), object(14)\n",
      "memory usage: 23.1+ KB\n"
     ]
    }
   ],
   "source": [
    "# breaking down data frame into shows added in 2016\n",
    "netflix_tvshows2016 = netflix_tvshows_df.loc[netflix_tvshows_df[\"YEAR_added\"]==2016]\n",
    "netflix_shows2016 = pd.DataFrame(netflix_tvshows2016)\n",
    "netflix_shows2016.info()"
   ]
  },
  {
   "cell_type": "code",
   "execution_count": 25,
   "metadata": {},
   "outputs": [
    {
     "name": "stdout",
     "output_type": "stream",
     "text": [
      "<class 'pandas.core.frame.DataFrame'>\n",
      "Int64Index: 258 entries, 1 to 7770\n",
      "Data columns (total 16 columns):\n",
      " #   Column           Non-Null Count  Dtype  \n",
      "---  ------           --------------  -----  \n",
      " 0   show_id          258 non-null    object \n",
      " 1   type             258 non-null    object \n",
      " 2   title            258 non-null    object \n",
      " 3   director         239 non-null    object \n",
      " 4   cast             221 non-null    object \n",
      " 5   country          249 non-null    object \n",
      " 6   country.1        44 non-null     object \n",
      " 7   country.2        20 non-null     object \n",
      " 8   YEAR_added       258 non-null    float64\n",
      " 9   release_year     258 non-null    int64  \n",
      " 10  rating           256 non-null    object \n",
      " 11  duration         258 non-null    object \n",
      " 12  TYPE1/listed_in  258 non-null    object \n",
      " 13  TYPE2            155 non-null    object \n",
      " 14  TYPE3            59 non-null     object \n",
      " 15  description      258 non-null    object \n",
      "dtypes: float64(1), int64(1), object(14)\n",
      "memory usage: 34.3+ KB\n"
     ]
    }
   ],
   "source": [
    "# breaking down data frame into movies added in 2016\n",
    "netflix_movies2016 = netflix_movies_df.loc[netflix_movies_df[\"YEAR_added\"]==2016]\n",
    "netflix_movies_16 = pd.DataFrame(netflix_movies2016)\n",
    "netflix_movies_16.info()"
   ]
  },
  {
   "cell_type": "code",
   "execution_count": 26,
   "metadata": {},
   "outputs": [
    {
     "data": {
      "text/plain": [
       "40.27777777777778"
      ]
     },
     "execution_count": 26,
     "metadata": {},
     "output_type": "execute_result"
    }
   ],
   "source": [
    "# creating calculations to show total count of tv shows in 2016\n",
    "show_counts16 = netflix_shows2016[\"show_id\"].value_counts()\n",
    "total_shows16 = len(show_counts16)\n",
    "#total_shows16\n",
    "\n",
    "# calculating percentage of tv shows in 2016\n",
    "shows_per_16 = (100*(total_shows16 / total_16))\n",
    "shows_per_16"
   ]
  },
  {
   "cell_type": "code",
   "execution_count": 27,
   "metadata": {},
   "outputs": [
    {
     "data": {
      "text/plain": [
       "59.72222222222222"
      ]
     },
     "execution_count": 27,
     "metadata": {},
     "output_type": "execute_result"
    }
   ],
   "source": [
    "# creating calculations to show total count of movies in 2016\n",
    "movie_counts16 = netflix_movies_16[\"show_id\"].value_counts()\n",
    "total_movies16 = len(movie_counts16)\n",
    "#total_movies16\n",
    "\n",
    "# calculating percentage of tv shows in 2016\n",
    "movies_per_16 = (100*(total_movies16 / total_16))\n",
    "movies_per_16"
   ]
  },
  {
   "cell_type": "code",
   "execution_count": 28,
   "metadata": {},
   "outputs": [
    {
     "data": {
      "text/html": [
       "<div>\n",
       "<style scoped>\n",
       "    .dataframe tbody tr th:only-of-type {\n",
       "        vertical-align: middle;\n",
       "    }\n",
       "\n",
       "    .dataframe tbody tr th {\n",
       "        vertical-align: top;\n",
       "    }\n",
       "\n",
       "    .dataframe thead th {\n",
       "        text-align: right;\n",
       "    }\n",
       "</style>\n",
       "<table border=\"1\" class=\"dataframe\">\n",
       "  <thead>\n",
       "    <tr style=\"text-align: right;\">\n",
       "      <th></th>\n",
       "      <th>Total Count</th>\n",
       "      <th>Percentage</th>\n",
       "    </tr>\n",
       "    <tr>\n",
       "      <th>type</th>\n",
       "      <th></th>\n",
       "      <th></th>\n",
       "    </tr>\n",
       "  </thead>\n",
       "  <tbody>\n",
       "    <tr>\n",
       "      <th>Movie</th>\n",
       "      <td>258</td>\n",
       "      <td>59.722222</td>\n",
       "    </tr>\n",
       "    <tr>\n",
       "      <th>TV Show</th>\n",
       "      <td>174</td>\n",
       "      <td>40.277778</td>\n",
       "    </tr>\n",
       "  </tbody>\n",
       "</table>\n",
       "</div>"
      ],
      "text/plain": [
       "         Total Count  Percentage\n",
       "type                            \n",
       "Movie            258   59.722222\n",
       "TV Show          174   40.277778"
      ]
     },
     "execution_count": 28,
     "metadata": {},
     "output_type": "execute_result"
    },
    {
     "data": {
      "image/png": "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\n",
      "text/plain": [
       "<Figure size 432x288 with 1 Axes>"
      ]
     },
     "metadata": {},
     "output_type": "display_data"
    }
   ],
   "source": [
    "# creating pie chart for comparison\n",
    "netflix_2016_gb = netflix_2016.groupby([\"show_id\", \"type\"])\n",
    "netflix_2016_df = pd.DataFrame(netflix_2016_gb.size())\n",
    "\n",
    "# Creating Data Frame\n",
    "movies_shows16 = pd.DataFrame(netflix_2016_df.groupby([\"type\"]).count())\n",
    "movies_shows16.columns = [\"Total Count\"]\n",
    "\n",
    "# Calculating percentages\n",
    "movies_shows16[\"Percentage\"] = (100*(movies_shows16[\"Total Count\"] / movies_shows16[\"Total Count\"].sum()))\n",
    "# Creating Column\n",
    "movies_shows16[\"Percentage\"] = movies_shows16[\"Percentage\"]\n",
    "\n",
    "# Created pie chart\n",
    "movies_shows16_pd = movies_shows16.plot(kind='pie', y=\"Total Count\", autopct='%1.1f%%', startangle=80, explode=(0.1,0), shadow=True,\n",
    "                              colors = [\"red\", \"grey\"])\n",
    "movies_shows16_pd.set_title(\"Movie vs TV Shows Added 2016\")\n",
    "movies_shows16_pd.set_ylabel(' ')\n",
    "\n",
    "# Added count of tv shows and movies\n",
    "plt.savefig(\"moviesvshows2016_percentages.png\")\n",
    "movies_shows16"
   ]
  },
  {
   "cell_type": "code",
   "execution_count": null,
   "metadata": {},
   "outputs": [],
   "source": [
    "# starting camprisons for 2017"
   ]
  },
  {
   "cell_type": "code",
   "execution_count": 29,
   "metadata": {},
   "outputs": [
    {
     "data": {
      "text/plain": [
       "1201"
      ]
     },
     "execution_count": 29,
     "metadata": {},
     "output_type": "execute_result"
    }
   ],
   "source": [
    "# creating data frame of total number of tv shows and movies for 2017\n",
    "netflix_total_2017 = netflix_info.loc[netflix_info[\"YEAR_added\"]==2017]\n",
    "netflix_2017 = pd.DataFrame(netflix_total_2017)\n",
    "#netflix_2017\n",
    "\n",
    "# calculating total number of tv shows and movies for 2017\n",
    "netflix_2017_num = netflix_2017[\"show_id\"].value_counts()\n",
    "total_17 = len(netflix_2017_num)\n",
    "total_17"
   ]
  },
  {
   "cell_type": "code",
   "execution_count": 30,
   "metadata": {},
   "outputs": [
    {
     "name": "stdout",
     "output_type": "stream",
     "text": [
      "<class 'pandas.core.frame.DataFrame'>\n",
      "Int64Index: 337 entries, 5 to 7766\n",
      "Data columns (total 16 columns):\n",
      " #   Column           Non-Null Count  Dtype  \n",
      "---  ------           --------------  -----  \n",
      " 0   show_id          337 non-null    object \n",
      " 1   type             337 non-null    object \n",
      " 2   title            337 non-null    object \n",
      " 3   director         31 non-null     object \n",
      " 4   cast             304 non-null    object \n",
      " 5   country          296 non-null    object \n",
      " 6   country.1        24 non-null     object \n",
      " 7   country.2        8 non-null      object \n",
      " 8   YEAR_added       337 non-null    float64\n",
      " 9   release_year     337 non-null    int64  \n",
      " 10  rating           337 non-null    object \n",
      " 11  duration         337 non-null    object \n",
      " 12  TYPE1/listed_in  337 non-null    object \n",
      " 13  TYPE2            291 non-null    object \n",
      " 14  TYPE3            183 non-null    object \n",
      " 15  description      337 non-null    object \n",
      "dtypes: float64(1), int64(1), object(14)\n",
      "memory usage: 44.8+ KB\n"
     ]
    }
   ],
   "source": [
    "# breaking down data frame into shows added in 2017\n",
    "netflix_tvshows2017 = netflix_tvshows_df.loc[netflix_tvshows_df[\"YEAR_added\"]==2017]\n",
    "netflix_shows2017 = pd.DataFrame(netflix_tvshows2017)\n",
    "netflix_shows2017.info()"
   ]
  },
  {
   "cell_type": "code",
   "execution_count": 31,
   "metadata": {},
   "outputs": [
    {
     "name": "stdout",
     "output_type": "stream",
     "text": [
      "<class 'pandas.core.frame.DataFrame'>\n",
      "Int64Index: 864 entries, 3 to 7772\n",
      "Data columns (total 16 columns):\n",
      " #   Column           Non-Null Count  Dtype  \n",
      "---  ------           --------------  -----  \n",
      " 0   show_id          864 non-null    object \n",
      " 1   type             864 non-null    object \n",
      " 2   title            864 non-null    object \n",
      " 3   director         848 non-null    object \n",
      " 4   cast             755 non-null    object \n",
      " 5   country          839 non-null    object \n",
      " 6   country.1        162 non-null    object \n",
      " 7   country.2        48 non-null     object \n",
      " 8   YEAR_added       864 non-null    float64\n",
      " 9   release_year     864 non-null    int64  \n",
      " 10  rating           861 non-null    object \n",
      " 11  duration         864 non-null    object \n",
      " 12  TYPE1/listed_in  864 non-null    object \n",
      " 13  TYPE2            623 non-null    object \n",
      " 14  TYPE3            325 non-null    object \n",
      " 15  description      864 non-null    object \n",
      "dtypes: float64(1), int64(1), object(14)\n",
      "memory usage: 114.8+ KB\n"
     ]
    }
   ],
   "source": [
    "# breaking down data frame into movies added in 2017\n",
    "netflix_movies2017 = netflix_movies_df.loc[netflix_movies_df[\"YEAR_added\"]==2017]\n",
    "netflix_movies_17 = pd.DataFrame(netflix_movies2017)\n",
    "netflix_movies_17.info()"
   ]
  },
  {
   "cell_type": "code",
   "execution_count": 32,
   "metadata": {},
   "outputs": [
    {
     "data": {
      "text/plain": [
       "28.059950041631975"
      ]
     },
     "execution_count": 32,
     "metadata": {},
     "output_type": "execute_result"
    }
   ],
   "source": [
    "# creating calculations to show total count of tv shows in 2017\n",
    "show_counts17 = netflix_shows2017[\"show_id\"].value_counts()\n",
    "total_shows17 = len(show_counts17)\n",
    "#total_shows17\n",
    "\n",
    "# calculating percentage of tv shows in 2017\n",
    "shows_per_17 = (100*(total_shows17 / total_17))\n",
    "shows_per_17"
   ]
  },
  {
   "cell_type": "code",
   "execution_count": 33,
   "metadata": {},
   "outputs": [
    {
     "data": {
      "text/plain": [
       "71.94004995836802"
      ]
     },
     "execution_count": 33,
     "metadata": {},
     "output_type": "execute_result"
    }
   ],
   "source": [
    "# creating calculations to show total count of movies in 2017\n",
    "movie_counts17 = netflix_movies_17[\"show_id\"].value_counts()\n",
    "total_movies17 = len(movie_counts17)\n",
    "#total_movies17\n",
    "\n",
    "# calculating percentage of tv shows in 2017\n",
    "movies_per_17 = (100*(total_movies17 / total_17))\n",
    "movies_per_17"
   ]
  },
  {
   "cell_type": "code",
   "execution_count": 34,
   "metadata": {},
   "outputs": [
    {
     "data": {
      "text/html": [
       "<div>\n",
       "<style scoped>\n",
       "    .dataframe tbody tr th:only-of-type {\n",
       "        vertical-align: middle;\n",
       "    }\n",
       "\n",
       "    .dataframe tbody tr th {\n",
       "        vertical-align: top;\n",
       "    }\n",
       "\n",
       "    .dataframe thead th {\n",
       "        text-align: right;\n",
       "    }\n",
       "</style>\n",
       "<table border=\"1\" class=\"dataframe\">\n",
       "  <thead>\n",
       "    <tr style=\"text-align: right;\">\n",
       "      <th></th>\n",
       "      <th>Total Count</th>\n",
       "      <th>Percentage</th>\n",
       "    </tr>\n",
       "    <tr>\n",
       "      <th>type</th>\n",
       "      <th></th>\n",
       "      <th></th>\n",
       "    </tr>\n",
       "  </thead>\n",
       "  <tbody>\n",
       "    <tr>\n",
       "      <th>Movie</th>\n",
       "      <td>864</td>\n",
       "      <td>71.94005</td>\n",
       "    </tr>\n",
       "    <tr>\n",
       "      <th>TV Show</th>\n",
       "      <td>337</td>\n",
       "      <td>28.05995</td>\n",
       "    </tr>\n",
       "  </tbody>\n",
       "</table>\n",
       "</div>"
      ],
      "text/plain": [
       "         Total Count  Percentage\n",
       "type                            \n",
       "Movie            864    71.94005\n",
       "TV Show          337    28.05995"
      ]
     },
     "execution_count": 34,
     "metadata": {},
     "output_type": "execute_result"
    },
    {
     "data": {
      "image/png": "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\n",
      "text/plain": [
       "<Figure size 432x288 with 1 Axes>"
      ]
     },
     "metadata": {},
     "output_type": "display_data"
    }
   ],
   "source": [
    "# creating pie chart for comparison\n",
    "netflix_2017_gb = netflix_2017.groupby([\"show_id\", \"type\"])\n",
    "netflix_2017_df = pd.DataFrame(netflix_2017_gb.size())\n",
    "\n",
    "# Creating Data Frame\n",
    "movies_shows17 = pd.DataFrame(netflix_2017_df.groupby([\"type\"]).count())\n",
    "movies_shows17.columns = [\"Total Count\"]\n",
    "\n",
    "# Calculating percentages\n",
    "movies_shows17[\"Percentage\"] = (100*(movies_shows17[\"Total Count\"] / movies_shows17[\"Total Count\"].sum()))\n",
    "# Creating Column\n",
    "movies_shows17[\"Percentage\"] = movies_shows17[\"Percentage\"]\n",
    "\n",
    "# Created pie chart\n",
    "movies_shows17_pd = movies_shows17.plot(kind='pie', y=\"Total Count\", autopct='%1.1f%%', startangle=80, explode=(0.1,0), shadow=True,\n",
    "                              colors = [\"red\", \"grey\"])\n",
    "movies_shows17_pd.set_title(\"Movie vs TV Shows Added 2017\")\n",
    "movies_shows17_pd.set_ylabel(' ')\n",
    "\n",
    "# Added count of tv shows and movies\n",
    "plt.savefig(\"moviesvshows2017_percentages.png\")\n",
    "movies_shows17"
   ]
  },
  {
   "cell_type": "code",
   "execution_count": null,
   "metadata": {},
   "outputs": [],
   "source": [
    "# starting camprisons for 2018"
   ]
  },
  {
   "cell_type": "code",
   "execution_count": 35,
   "metadata": {},
   "outputs": [
    {
     "data": {
      "text/plain": [
       "1661"
      ]
     },
     "execution_count": 35,
     "metadata": {},
     "output_type": "execute_result"
    }
   ],
   "source": [
    "# creating data frame of total number of tv shows and movies for 2018\n",
    "netflix_total_2018 = netflix_info.loc[netflix_info[\"YEAR_added\"]==2018]\n",
    "netflix_2018 = pd.DataFrame(netflix_total_2018)\n",
    "#netflix_2018\n",
    "\n",
    "# calculating total number of tv shows and movies for 2018\n",
    "netflix_2018_num = netflix_2018[\"show_id\"].value_counts()\n",
    "total_18 = len(netflix_2018_num)\n",
    "total_18"
   ]
  },
  {
   "cell_type": "code",
   "execution_count": 36,
   "metadata": {},
   "outputs": [
    {
     "name": "stdout",
     "output_type": "stream",
     "text": [
      "<class 'pandas.core.frame.DataFrame'>\n",
      "Int64Index: 406 entries, 11 to 7759\n",
      "Data columns (total 16 columns):\n",
      " #   Column           Non-Null Count  Dtype  \n",
      "---  ------           --------------  -----  \n",
      " 0   show_id          406 non-null    object \n",
      " 1   type             406 non-null    object \n",
      " 2   title            406 non-null    object \n",
      " 3   director         23 non-null     object \n",
      " 4   cast             349 non-null    object \n",
      " 5   country          331 non-null    object \n",
      " 6   country.1        39 non-null     object \n",
      " 7   country.2        11 non-null     object \n",
      " 8   YEAR_added       406 non-null    float64\n",
      " 9   release_year     406 non-null    int64  \n",
      " 10  rating           405 non-null    object \n",
      " 11  duration         406 non-null    object \n",
      " 12  TYPE1/listed_in  406 non-null    object \n",
      " 13  TYPE2            321 non-null    object \n",
      " 14  TYPE3            201 non-null    object \n",
      " 15  description      406 non-null    object \n",
      "dtypes: float64(1), int64(1), object(14)\n",
      "memory usage: 53.9+ KB\n"
     ]
    }
   ],
   "source": [
    "# breaking down data frame into shows added in 2018\n",
    "netflix_tvshows2018 = netflix_tvshows_df.loc[netflix_tvshows_df[\"YEAR_added\"]==2018]\n",
    "netflix_shows2018 = pd.DataFrame(netflix_tvshows2018)\n",
    "netflix_shows2018.info()"
   ]
  },
  {
   "cell_type": "code",
   "execution_count": 37,
   "metadata": {},
   "outputs": [
    {
     "name": "stdout",
     "output_type": "stream",
     "text": [
      "<class 'pandas.core.frame.DataFrame'>\n",
      "Int64Index: 1255 entries, 2 to 7780\n",
      "Data columns (total 16 columns):\n",
      " #   Column           Non-Null Count  Dtype  \n",
      "---  ------           --------------  -----  \n",
      " 0   show_id          1255 non-null   object \n",
      " 1   type             1255 non-null   object \n",
      " 2   title            1255 non-null   object \n",
      " 3   director         1206 non-null   object \n",
      " 4   cast             1160 non-null   object \n",
      " 5   country          1209 non-null   object \n",
      " 6   country.1        200 non-null    object \n",
      " 7   country.2        77 non-null     object \n",
      " 8   YEAR_added       1255 non-null   float64\n",
      " 9   release_year     1255 non-null   int64  \n",
      " 10  rating           1255 non-null   object \n",
      " 11  duration         1255 non-null   object \n",
      " 12  TYPE1/listed_in  1255 non-null   object \n",
      " 13  TYPE2            971 non-null    object \n",
      " 14  TYPE3            545 non-null    object \n",
      " 15  description      1255 non-null   object \n",
      "dtypes: float64(1), int64(1), object(14)\n",
      "memory usage: 166.7+ KB\n"
     ]
    }
   ],
   "source": [
    "# breaking down data frame into movies added in 2018\n",
    "netflix_movies2018 = netflix_movies_df.loc[netflix_movies_df[\"YEAR_added\"]==2018]\n",
    "netflix_movies_18 = pd.DataFrame(netflix_movies2018)\n",
    "netflix_movies_18.info()"
   ]
  },
  {
   "cell_type": "code",
   "execution_count": 38,
   "metadata": {},
   "outputs": [
    {
     "data": {
      "text/plain": [
       "24.44310656231186"
      ]
     },
     "execution_count": 38,
     "metadata": {},
     "output_type": "execute_result"
    }
   ],
   "source": [
    "# creating calculations to show total count of tv shows in 2018\n",
    "show_counts18 = netflix_shows2018[\"show_id\"].value_counts()\n",
    "total_shows18 = len(show_counts18)\n",
    "#total_shows18\n",
    "\n",
    "# calculating percentage of tv shows in 2018\n",
    "shows_per_18 = (100*(total_shows18 / total_18))\n",
    "shows_per_18"
   ]
  },
  {
   "cell_type": "code",
   "execution_count": 39,
   "metadata": {},
   "outputs": [
    {
     "data": {
      "text/plain": [
       "75.55689343768815"
      ]
     },
     "execution_count": 39,
     "metadata": {},
     "output_type": "execute_result"
    }
   ],
   "source": [
    "# creating calculations to show total count of movies in 2018\n",
    "movie_counts18 = netflix_movies_18[\"show_id\"].value_counts()\n",
    "total_movies18 = len(movie_counts18)\n",
    "#total_movies18\n",
    "\n",
    "# calculating percentage of tv shows in 2018\n",
    "movies_per_18 = (100*(total_movies18 / total_18))\n",
    "movies_per_18"
   ]
  },
  {
   "cell_type": "code",
   "execution_count": 40,
   "metadata": {},
   "outputs": [
    {
     "data": {
      "text/html": [
       "<div>\n",
       "<style scoped>\n",
       "    .dataframe tbody tr th:only-of-type {\n",
       "        vertical-align: middle;\n",
       "    }\n",
       "\n",
       "    .dataframe tbody tr th {\n",
       "        vertical-align: top;\n",
       "    }\n",
       "\n",
       "    .dataframe thead th {\n",
       "        text-align: right;\n",
       "    }\n",
       "</style>\n",
       "<table border=\"1\" class=\"dataframe\">\n",
       "  <thead>\n",
       "    <tr style=\"text-align: right;\">\n",
       "      <th></th>\n",
       "      <th>Total Count</th>\n",
       "      <th>Percentage</th>\n",
       "    </tr>\n",
       "    <tr>\n",
       "      <th>type</th>\n",
       "      <th></th>\n",
       "      <th></th>\n",
       "    </tr>\n",
       "  </thead>\n",
       "  <tbody>\n",
       "    <tr>\n",
       "      <th>Movie</th>\n",
       "      <td>1255</td>\n",
       "      <td>75.556893</td>\n",
       "    </tr>\n",
       "    <tr>\n",
       "      <th>TV Show</th>\n",
       "      <td>406</td>\n",
       "      <td>24.443107</td>\n",
       "    </tr>\n",
       "  </tbody>\n",
       "</table>\n",
       "</div>"
      ],
      "text/plain": [
       "         Total Count  Percentage\n",
       "type                            \n",
       "Movie           1255   75.556893\n",
       "TV Show          406   24.443107"
      ]
     },
     "execution_count": 40,
     "metadata": {},
     "output_type": "execute_result"
    },
    {
     "data": {
      "image/png": "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\n",
      "text/plain": [
       "<Figure size 432x288 with 1 Axes>"
      ]
     },
     "metadata": {},
     "output_type": "display_data"
    }
   ],
   "source": [
    "# creating pie chart for comparison\n",
    "netflix_2018_gb = netflix_2018.groupby([\"show_id\", \"type\"])\n",
    "netflix_2018_df = pd.DataFrame(netflix_2018_gb.size())\n",
    "\n",
    "# Creating Data Frame\n",
    "movies_shows18 = pd.DataFrame(netflix_2018_df.groupby([\"type\"]).count())\n",
    "movies_shows18.columns = [\"Total Count\"]\n",
    "\n",
    "# Calculating percentages\n",
    "movies_shows18[\"Percentage\"] = (100*(movies_shows18[\"Total Count\"] / movies_shows18[\"Total Count\"].sum()))\n",
    "# Creating Column\n",
    "movies_shows18[\"Percentage\"] = movies_shows18[\"Percentage\"]\n",
    "\n",
    "# Created pie chart\n",
    "movies_shows18_pd = movies_shows18.plot(kind='pie', y=\"Total Count\", autopct='%1.1f%%', startangle=80, explode=(0.1,0), shadow=True,\n",
    "                              colors = [\"red\", \"grey\"])\n",
    "movies_shows18_pd.set_title(\"Movie vs TV Shows Added 2018\")\n",
    "movies_shows18_pd.set_ylabel(' ')\n",
    "\n",
    "# Added count of tv shows and movies\n",
    "plt.savefig(\"moviesvshows2018_percentages.png\")\n",
    "movies_shows18"
   ]
  },
  {
   "cell_type": "code",
   "execution_count": null,
   "metadata": {},
   "outputs": [],
   "source": [
    "# starting camprisons for 2019"
   ]
  },
  {
   "cell_type": "code",
   "execution_count": 41,
   "metadata": {},
   "outputs": [
    {
     "data": {
      "text/plain": [
       "2136"
      ]
     },
     "execution_count": 41,
     "metadata": {},
     "output_type": "execute_result"
    }
   ],
   "source": [
    "# creating data frame of total number of tv shows and movies for 2019\n",
    "netflix_total_2019 = netflix_info.loc[netflix_info[\"YEAR_added\"]==2019]\n",
    "netflix_2019 = pd.DataFrame(netflix_total_2019)\n",
    "#netflix_2019\n",
    "\n",
    "# calculating total number of tv shows and movies for 2019\n",
    "netflix_2019_num = netflix_2019[\"show_id\"].value_counts()\n",
    "total_19 = len(netflix_2019_num)\n",
    "total_19"
   ]
  },
  {
   "cell_type": "code",
   "execution_count": 42,
   "metadata": {},
   "outputs": [
    {
     "data": {
      "text/plain": [
       "2136"
      ]
     },
     "execution_count": 42,
     "metadata": {},
     "output_type": "execute_result"
    }
   ],
   "source": [
    "# creating data frame of total number of tv shows and movies for 2019\n",
    "netflix_total_2019 = netflix_info.loc[netflix_info[\"YEAR_added\"]==2019]\n",
    "netflix_2019 = pd.DataFrame(netflix_total_2019)\n",
    "#netflix_2019\n",
    "\n",
    "# calculating total number of tv shows and movies for 2019\n",
    "netflix_2019_num = netflix_2019[\"show_id\"].value_counts()\n",
    "total_19 = len(netflix_2019_num)\n",
    "total_19"
   ]
  },
  {
   "cell_type": "code",
   "execution_count": 43,
   "metadata": {},
   "outputs": [
    {
     "name": "stdout",
     "output_type": "stream",
     "text": [
      "<class 'pandas.core.frame.DataFrame'>\n",
      "Int64Index: 639 entries, 12 to 7779\n",
      "Data columns (total 16 columns):\n",
      " #   Column           Non-Null Count  Dtype  \n",
      "---  ------           --------------  -----  \n",
      " 0   show_id          639 non-null    object \n",
      " 1   type             639 non-null    object \n",
      " 2   title            639 non-null    object \n",
      " 3   director         35 non-null     object \n",
      " 4   cast             567 non-null    object \n",
      " 5   country          556 non-null    object \n",
      " 6   country.1        45 non-null     object \n",
      " 7   country.2        9 non-null      object \n",
      " 8   YEAR_added       639 non-null    float64\n",
      " 9   release_year     639 non-null    int64  \n",
      " 10  rating           639 non-null    object \n",
      " 11  duration         639 non-null    object \n",
      " 12  TYPE1/listed_in  639 non-null    object \n",
      " 13  TYPE2            535 non-null    object \n",
      " 14  TYPE3            341 non-null    object \n",
      " 15  description      639 non-null    object \n",
      "dtypes: float64(1), int64(1), object(14)\n",
      "memory usage: 84.9+ KB\n"
     ]
    }
   ],
   "source": [
    "# breaking down data frame into shows added in 2019\n",
    "netflix_tvshows2019 = netflix_tvshows_df.loc[netflix_tvshows_df[\"YEAR_added\"]==2019]\n",
    "netflix_shows2019 = pd.DataFrame(netflix_tvshows2019)\n",
    "netflix_shows2019.info()"
   ]
  },
  {
   "cell_type": "code",
   "execution_count": 44,
   "metadata": {},
   "outputs": [
    {
     "name": "stdout",
     "output_type": "stream",
     "text": [
      "<class 'pandas.core.frame.DataFrame'>\n",
      "Int64Index: 1497 entries, 7 to 7783\n",
      "Data columns (total 16 columns):\n",
      " #   Column           Non-Null Count  Dtype  \n",
      "---  ------           --------------  -----  \n",
      " 0   show_id          1497 non-null   object \n",
      " 1   type             1497 non-null   object \n",
      " 2   title            1497 non-null   object \n",
      " 3   director         1454 non-null   object \n",
      " 4   cast             1395 non-null   object \n",
      " 5   country          1422 non-null   object \n",
      " 6   country.1        256 non-null    object \n",
      " 7   country.2        79 non-null     object \n",
      " 8   YEAR_added       1497 non-null   float64\n",
      " 9   release_year     1497 non-null   int64  \n",
      " 10  rating           1497 non-null   object \n",
      " 11  duration         1497 non-null   object \n",
      " 12  TYPE1/listed_in  1497 non-null   object \n",
      " 13  TYPE2            1165 non-null   object \n",
      " 14  TYPE3            607 non-null    object \n",
      " 15  description      1497 non-null   object \n",
      "dtypes: float64(1), int64(1), object(14)\n",
      "memory usage: 198.8+ KB\n"
     ]
    }
   ],
   "source": [
    "# breaking down data frame into movies added in 2019\n",
    "netflix_movies2019 = netflix_movies_df.loc[netflix_movies_df[\"YEAR_added\"]==2019]\n",
    "netflix_movies_19 = pd.DataFrame(netflix_movies2019)\n",
    "netflix_movies_19.info()"
   ]
  },
  {
   "cell_type": "code",
   "execution_count": 45,
   "metadata": {},
   "outputs": [
    {
     "data": {
      "text/plain": [
       "29.91573033707865"
      ]
     },
     "execution_count": 45,
     "metadata": {},
     "output_type": "execute_result"
    }
   ],
   "source": [
    "# creating calculations to show total count of tv shows in 2019\n",
    "show_counts19 = netflix_shows2019[\"show_id\"].value_counts()\n",
    "total_shows19 = len(show_counts19)\n",
    "#total_shows19\n",
    "\n",
    "# calculating percentage of tv shows in 2019\n",
    "shows_per_19 = (100*(total_shows19 / total_19))\n",
    "shows_per_19"
   ]
  },
  {
   "cell_type": "code",
   "execution_count": 46,
   "metadata": {},
   "outputs": [
    {
     "data": {
      "text/plain": [
       "70.08426966292134"
      ]
     },
     "execution_count": 46,
     "metadata": {},
     "output_type": "execute_result"
    }
   ],
   "source": [
    "# creating calculations to show total count of movies in 2019\n",
    "movie_counts19 = netflix_movies_19[\"show_id\"].value_counts()\n",
    "total_movies19 = len(movie_counts19)\n",
    "#total_movies19\n",
    "\n",
    "# calculating percentage of tv shows in 2019\n",
    "movies_per_19 = (100*(total_movies19 / total_19))\n",
    "movies_per_19"
   ]
  },
  {
   "cell_type": "code",
   "execution_count": 47,
   "metadata": {},
   "outputs": [
    {
     "data": {
      "text/html": [
       "<div>\n",
       "<style scoped>\n",
       "    .dataframe tbody tr th:only-of-type {\n",
       "        vertical-align: middle;\n",
       "    }\n",
       "\n",
       "    .dataframe tbody tr th {\n",
       "        vertical-align: top;\n",
       "    }\n",
       "\n",
       "    .dataframe thead th {\n",
       "        text-align: right;\n",
       "    }\n",
       "</style>\n",
       "<table border=\"1\" class=\"dataframe\">\n",
       "  <thead>\n",
       "    <tr style=\"text-align: right;\">\n",
       "      <th></th>\n",
       "      <th>Total Count</th>\n",
       "      <th>Percentage</th>\n",
       "    </tr>\n",
       "    <tr>\n",
       "      <th>type</th>\n",
       "      <th></th>\n",
       "      <th></th>\n",
       "    </tr>\n",
       "  </thead>\n",
       "  <tbody>\n",
       "    <tr>\n",
       "      <th>Movie</th>\n",
       "      <td>1497</td>\n",
       "      <td>70.08427</td>\n",
       "    </tr>\n",
       "    <tr>\n",
       "      <th>TV Show</th>\n",
       "      <td>639</td>\n",
       "      <td>29.91573</td>\n",
       "    </tr>\n",
       "  </tbody>\n",
       "</table>\n",
       "</div>"
      ],
      "text/plain": [
       "         Total Count  Percentage\n",
       "type                            \n",
       "Movie           1497    70.08427\n",
       "TV Show          639    29.91573"
      ]
     },
     "execution_count": 47,
     "metadata": {},
     "output_type": "execute_result"
    },
    {
     "data": {
      "image/png": "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\n",
      "text/plain": [
       "<Figure size 432x288 with 1 Axes>"
      ]
     },
     "metadata": {},
     "output_type": "display_data"
    }
   ],
   "source": [
    "# creating pie chart for comparison\n",
    "netflix_2019_gb = netflix_2019.groupby([\"show_id\", \"type\"])\n",
    "netflix_2019_df = pd.DataFrame(netflix_2019_gb.size())\n",
    "\n",
    "# Creating Data Frame\n",
    "movies_shows19 = pd.DataFrame(netflix_2019_df.groupby([\"type\"]).count())\n",
    "movies_shows19.columns = [\"Total Count\"]\n",
    "\n",
    "# Calculating percentages\n",
    "movies_shows19[\"Percentage\"] = (100*(movies_shows19[\"Total Count\"] / movies_shows19[\"Total Count\"].sum()))\n",
    "# Creating Column\n",
    "movies_shows19[\"Percentage\"] = movies_shows19[\"Percentage\"]\n",
    "\n",
    "# Created pie chart\n",
    "movies_shows19_pd = movies_shows19.plot(kind='pie', y=\"Total Count\", autopct='%1.1f%%', startangle=80, explode=(0.1,0), shadow=True,\n",
    "                              colors = [\"red\", \"grey\"])\n",
    "movies_shows19_pd.set_title(\"Movie vs TV Shows Added 2019\")\n",
    "movies_shows19_pd.set_ylabel(' ')\n",
    "\n",
    "# Added count of tv shows and movies\n",
    "plt.savefig(\"moviesvshows2019_percentages.png\")\n",
    "movies_shows19"
   ]
  },
  {
   "cell_type": "code",
   "execution_count": null,
   "metadata": {},
   "outputs": [],
   "source": [
    "# starting camprisons for 2020"
   ]
  },
  {
   "cell_type": "code",
   "execution_count": 48,
   "metadata": {},
   "outputs": [
    {
     "data": {
      "text/plain": [
       "2008"
      ]
     },
     "execution_count": 48,
     "metadata": {},
     "output_type": "execute_result"
    }
   ],
   "source": [
    "# creating data frame of total number of tv shows and movies for 2020\n",
    "netflix_total_2020 = netflix_info.loc[netflix_info[\"YEAR_added\"]==2020]\n",
    "netflix_2020 = pd.DataFrame(netflix_total_2020)\n",
    "#netflix_2018\n",
    "\n",
    "# calculating total number of tv shows and movies for 2020\n",
    "netflix_2020_num = netflix_2020[\"show_id\"].value_counts()\n",
    "total_20 = len(netflix_2020_num)\n",
    "total_20"
   ]
  },
  {
   "cell_type": "code",
   "execution_count": 49,
   "metadata": {},
   "outputs": [
    {
     "name": "stdout",
     "output_type": "stream",
     "text": [
      "<class 'pandas.core.frame.DataFrame'>\n",
      "Int64Index: 696 entries, 0 to 7785\n",
      "Data columns (total 16 columns):\n",
      " #   Column           Non-Null Count  Dtype  \n",
      "---  ------           --------------  -----  \n",
      " 0   show_id          696 non-null    object \n",
      " 1   type             696 non-null    object \n",
      " 2   title            696 non-null    object \n",
      " 3   director         74 non-null     object \n",
      " 4   cast             596 non-null    object \n",
      " 5   country          638 non-null    object \n",
      " 6   country.1        66 non-null     object \n",
      " 7   country.2        20 non-null     object \n",
      " 8   YEAR_added       696 non-null    float64\n",
      " 9   release_year     696 non-null    int64  \n",
      " 10  rating           696 non-null    object \n",
      " 11  duration         696 non-null    object \n",
      " 12  TYPE1/listed_in  696 non-null    object \n",
      " 13  TYPE2            533 non-null    object \n",
      " 14  TYPE3            313 non-null    object \n",
      " 15  description      696 non-null    object \n",
      "dtypes: float64(1), int64(1), object(14)\n",
      "memory usage: 92.4+ KB\n"
     ]
    }
   ],
   "source": [
    "# breaking down data frame into shows added in 2020\n",
    "netflix_tvshows2020 = netflix_tvshows_df.loc[netflix_tvshows_df[\"YEAR_added\"]==2020]\n",
    "netflix_shows2020 = pd.DataFrame(netflix_tvshows2020)\n",
    "netflix_shows2020.info()"
   ]
  },
  {
   "cell_type": "code",
   "execution_count": 50,
   "metadata": {},
   "outputs": [
    {
     "name": "stdout",
     "output_type": "stream",
     "text": [
      "<class 'pandas.core.frame.DataFrame'>\n",
      "Int64Index: 1312 entries, 4 to 7786\n",
      "Data columns (total 16 columns):\n",
      " #   Column           Non-Null Count  Dtype  \n",
      "---  ------           --------------  -----  \n",
      " 0   show_id          1312 non-null   object \n",
      " 1   type             1312 non-null   object \n",
      " 2   title            1312 non-null   object \n",
      " 3   director         1282 non-null   object \n",
      " 4   cast             1245 non-null   object \n",
      " 5   country          1251 non-null   object \n",
      " 6   country.1        231 non-null    object \n",
      " 7   country.2        86 non-null     object \n",
      " 8   YEAR_added       1312 non-null   float64\n",
      " 9   release_year     1312 non-null   int64  \n",
      " 10  rating           1312 non-null   object \n",
      " 11  duration         1312 non-null   object \n",
      " 12  TYPE1/listed_in  1312 non-null   object \n",
      " 13  TYPE2            1035 non-null   object \n",
      " 14  TYPE3            525 non-null    object \n",
      " 15  description      1312 non-null   object \n",
      "dtypes: float64(1), int64(1), object(14)\n",
      "memory usage: 174.2+ KB\n"
     ]
    }
   ],
   "source": [
    "# breaking down data frame into movies added in 2020\n",
    "netflix_movies2020 = netflix_movies_df.loc[netflix_movies_df[\"YEAR_added\"]==2020]\n",
    "netflix_movies_20 = pd.DataFrame(netflix_movies2020)\n",
    "netflix_movies_20.info()"
   ]
  },
  {
   "cell_type": "code",
   "execution_count": 51,
   "metadata": {},
   "outputs": [
    {
     "data": {
      "text/plain": [
       "34.66135458167331"
      ]
     },
     "execution_count": 51,
     "metadata": {},
     "output_type": "execute_result"
    }
   ],
   "source": [
    "# creating calculations to show total count of tv shows in 2020\n",
    "show_counts20 = netflix_shows2020[\"show_id\"].value_counts()\n",
    "total_shows20 = len(show_counts20)\n",
    "#total_shows20\n",
    "\n",
    "# calculating percentage of tv shows in 2020\n",
    "shows_per_20 = (100*(total_shows20 / total_20))\n",
    "shows_per_20"
   ]
  },
  {
   "cell_type": "code",
   "execution_count": 52,
   "metadata": {},
   "outputs": [
    {
     "data": {
      "text/plain": [
       "65.33864541832669"
      ]
     },
     "execution_count": 52,
     "metadata": {},
     "output_type": "execute_result"
    }
   ],
   "source": [
    "# creating calculations to show total count of movies in 2020\n",
    "movie_counts20 = netflix_movies_20[\"show_id\"].value_counts()\n",
    "total_movies20 = len(movie_counts20)\n",
    "#total_movies20\n",
    "\n",
    "# calculating percentage of tv shows in 2020\n",
    "movies_per_20 = (100*(total_movies20 / total_20))\n",
    "movies_per_20"
   ]
  },
  {
   "cell_type": "code",
   "execution_count": 53,
   "metadata": {},
   "outputs": [
    {
     "data": {
      "text/html": [
       "<div>\n",
       "<style scoped>\n",
       "    .dataframe tbody tr th:only-of-type {\n",
       "        vertical-align: middle;\n",
       "    }\n",
       "\n",
       "    .dataframe tbody tr th {\n",
       "        vertical-align: top;\n",
       "    }\n",
       "\n",
       "    .dataframe thead th {\n",
       "        text-align: right;\n",
       "    }\n",
       "</style>\n",
       "<table border=\"1\" class=\"dataframe\">\n",
       "  <thead>\n",
       "    <tr style=\"text-align: right;\">\n",
       "      <th></th>\n",
       "      <th>Total Count</th>\n",
       "      <th>Percentage</th>\n",
       "    </tr>\n",
       "    <tr>\n",
       "      <th>type</th>\n",
       "      <th></th>\n",
       "      <th></th>\n",
       "    </tr>\n",
       "  </thead>\n",
       "  <tbody>\n",
       "    <tr>\n",
       "      <th>Movie</th>\n",
       "      <td>1312</td>\n",
       "      <td>65.338645</td>\n",
       "    </tr>\n",
       "    <tr>\n",
       "      <th>TV Show</th>\n",
       "      <td>696</td>\n",
       "      <td>34.661355</td>\n",
       "    </tr>\n",
       "  </tbody>\n",
       "</table>\n",
       "</div>"
      ],
      "text/plain": [
       "         Total Count  Percentage\n",
       "type                            \n",
       "Movie           1312   65.338645\n",
       "TV Show          696   34.661355"
      ]
     },
     "execution_count": 53,
     "metadata": {},
     "output_type": "execute_result"
    },
    {
     "data": {
      "image/png": "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\n",
      "text/plain": [
       "<Figure size 432x288 with 1 Axes>"
      ]
     },
     "metadata": {},
     "output_type": "display_data"
    }
   ],
   "source": [
    "# creating pie chart for comparison\n",
    "netflix_2020_gb = netflix_2020.groupby([\"show_id\", \"type\"])\n",
    "netflix_2020_df = pd.DataFrame(netflix_2020_gb.size())\n",
    "\n",
    "# Creating Data Frame\n",
    "movies_shows20 = pd.DataFrame(netflix_2020_df.groupby([\"type\"]).count())\n",
    "movies_shows20.columns = [\"Total Count\"]\n",
    "\n",
    "# Calculating percentages\n",
    "movies_shows20[\"Percentage\"] = (100*(movies_shows20[\"Total Count\"] / movies_shows20[\"Total Count\"].sum()))\n",
    "# Creating Column\n",
    "movies_shows20[\"Percentage\"] = movies_shows20[\"Percentage\"]\n",
    "\n",
    "# Created pie chart\n",
    "movies_shows20_pd = movies_shows20.plot(kind='pie', y=\"Total Count\", autopct='%1.1f%%', startangle=80, explode=(0.1,0), shadow=True,\n",
    "                              colors = [\"red\", \"grey\"])\n",
    "movies_shows20_pd.set_title(\"Movie vs TV Shows Added 2020\")\n",
    "movies_shows20_pd.set_ylabel(' ')\n",
    "\n",
    "# Added count of tv shows and movies\n",
    "plt.savefig(\"moviesvshows2020_percentages.png\")\n",
    "movies_shows20"
   ]
  },
  {
   "cell_type": "code",
   "execution_count": null,
   "metadata": {},
   "outputs": [],
   "source": [
    "# starting camprisons for 2021"
   ]
  },
  {
   "cell_type": "code",
   "execution_count": 54,
   "metadata": {},
   "outputs": [
    {
     "data": {
      "text/plain": [
       "117"
      ]
     },
     "execution_count": 54,
     "metadata": {},
     "output_type": "execute_result"
    }
   ],
   "source": [
    "# creating data frame of total number of tv shows and movies for 2021\n",
    "netflix_total_2021 = netflix_info.loc[netflix_info[\"YEAR_added\"]==2021]\n",
    "netflix_2021 = pd.DataFrame(netflix_total_2021)\n",
    "#netflix_2021\n",
    "\n",
    "# calculating total number of tv shows and movies for 2019\n",
    "netflix_2021_num = netflix_2021[\"show_id\"].value_counts()\n",
    "total_21 = len(netflix_2021_num)\n",
    "total_21"
   ]
  },
  {
   "cell_type": "code",
   "execution_count": 55,
   "metadata": {},
   "outputs": [
    {
     "name": "stdout",
     "output_type": "stream",
     "text": [
      "<class 'pandas.core.frame.DataFrame'>\n",
      "Int64Index: 29 entries, 980 to 6701\n",
      "Data columns (total 16 columns):\n",
      " #   Column           Non-Null Count  Dtype  \n",
      "---  ------           --------------  -----  \n",
      " 0   show_id          29 non-null     object \n",
      " 1   type             29 non-null     object \n",
      " 2   title            29 non-null     object \n",
      " 3   director         4 non-null      object \n",
      " 4   cast             24 non-null     object \n",
      " 5   country          24 non-null     object \n",
      " 6   country.1        3 non-null      object \n",
      " 7   country.2        1 non-null      object \n",
      " 8   YEAR_added       29 non-null     float64\n",
      " 9   release_year     29 non-null     int64  \n",
      " 10  rating           29 non-null     object \n",
      " 11  duration         29 non-null     object \n",
      " 12  TYPE1/listed_in  29 non-null     object \n",
      " 13  TYPE2            23 non-null     object \n",
      " 14  TYPE3            10 non-null     object \n",
      " 15  description      29 non-null     object \n",
      "dtypes: float64(1), int64(1), object(14)\n",
      "memory usage: 3.9+ KB\n"
     ]
    }
   ],
   "source": [
    "# breaking down data frame into shows added in 2021\n",
    "netflix_tvshows2021 = netflix_tvshows_df.loc[netflix_tvshows_df[\"YEAR_added\"]==2021]\n",
    "netflix_shows2021 = pd.DataFrame(netflix_tvshows2021)\n",
    "netflix_shows2021.info()"
   ]
  },
  {
   "cell_type": "code",
   "execution_count": 56,
   "metadata": {},
   "outputs": [
    {
     "name": "stdout",
     "output_type": "stream",
     "text": [
      "<class 'pandas.core.frame.DataFrame'>\n",
      "Int64Index: 88 entries, 57 to 7644\n",
      "Data columns (total 16 columns):\n",
      " #   Column           Non-Null Count  Dtype  \n",
      "---  ------           --------------  -----  \n",
      " 0   show_id          88 non-null     object \n",
      " 1   type             88 non-null     object \n",
      " 2   title            88 non-null     object \n",
      " 3   director         85 non-null     object \n",
      " 4   cast             85 non-null     object \n",
      " 5   country          78 non-null     object \n",
      " 6   country.1        18 non-null     object \n",
      " 7   country.2        7 non-null      object \n",
      " 8   YEAR_added       88 non-null     float64\n",
      " 9   release_year     88 non-null     int64  \n",
      " 10  rating           88 non-null     object \n",
      " 11  duration         88 non-null     object \n",
      " 12  TYPE1/listed_in  88 non-null     object \n",
      " 13  TYPE2            66 non-null     object \n",
      " 14  TYPE3            29 non-null     object \n",
      " 15  description      88 non-null     object \n",
      "dtypes: float64(1), int64(1), object(14)\n",
      "memory usage: 11.7+ KB\n"
     ]
    }
   ],
   "source": [
    "# breaking down data frame into movies added in 2021\n",
    "netflix_movies2021 = netflix_movies_df.loc[netflix_movies_df[\"YEAR_added\"]==2021]\n",
    "netflix_movies_21 = pd.DataFrame(netflix_movies2021)\n",
    "netflix_movies_21.info()"
   ]
  },
  {
   "cell_type": "code",
   "execution_count": 57,
   "metadata": {},
   "outputs": [
    {
     "data": {
      "text/plain": [
       "24.786324786324787"
      ]
     },
     "execution_count": 57,
     "metadata": {},
     "output_type": "execute_result"
    }
   ],
   "source": [
    "# creating calculations to show total count of tv shows in 2021\n",
    "show_counts21 = netflix_shows2021[\"show_id\"].value_counts()\n",
    "total_shows21 = len(show_counts21)\n",
    "#total_shows21\n",
    "\n",
    "# calculating percentage of tv shows in 2021\n",
    "shows_per_21 = (100*(total_shows21 / total_21))\n",
    "shows_per_21"
   ]
  },
  {
   "cell_type": "code",
   "execution_count": 58,
   "metadata": {},
   "outputs": [
    {
     "data": {
      "text/plain": [
       "75.21367521367522"
      ]
     },
     "execution_count": 58,
     "metadata": {},
     "output_type": "execute_result"
    }
   ],
   "source": [
    "# creating calculations to show total count of movies in 2020\n",
    "movie_counts21 = netflix_movies_21[\"show_id\"].value_counts()\n",
    "total_movies21 = len(movie_counts21)\n",
    "#total_movies21\n",
    "\n",
    "# calculating percentage of tv shows in 2021\n",
    "movies_per_21 = (100*(total_movies21 / total_21))\n",
    "movies_per_21"
   ]
  },
  {
   "cell_type": "code",
   "execution_count": 59,
   "metadata": {},
   "outputs": [
    {
     "data": {
      "text/html": [
       "<div>\n",
       "<style scoped>\n",
       "    .dataframe tbody tr th:only-of-type {\n",
       "        vertical-align: middle;\n",
       "    }\n",
       "\n",
       "    .dataframe tbody tr th {\n",
       "        vertical-align: top;\n",
       "    }\n",
       "\n",
       "    .dataframe thead th {\n",
       "        text-align: right;\n",
       "    }\n",
       "</style>\n",
       "<table border=\"1\" class=\"dataframe\">\n",
       "  <thead>\n",
       "    <tr style=\"text-align: right;\">\n",
       "      <th></th>\n",
       "      <th>Total Count</th>\n",
       "      <th>Percentage</th>\n",
       "    </tr>\n",
       "    <tr>\n",
       "      <th>type</th>\n",
       "      <th></th>\n",
       "      <th></th>\n",
       "    </tr>\n",
       "  </thead>\n",
       "  <tbody>\n",
       "    <tr>\n",
       "      <th>Movie</th>\n",
       "      <td>88</td>\n",
       "      <td>75.213675</td>\n",
       "    </tr>\n",
       "    <tr>\n",
       "      <th>TV Show</th>\n",
       "      <td>29</td>\n",
       "      <td>24.786325</td>\n",
       "    </tr>\n",
       "  </tbody>\n",
       "</table>\n",
       "</div>"
      ],
      "text/plain": [
       "         Total Count  Percentage\n",
       "type                            \n",
       "Movie             88   75.213675\n",
       "TV Show           29   24.786325"
      ]
     },
     "execution_count": 59,
     "metadata": {},
     "output_type": "execute_result"
    },
    {
     "data": {
      "image/png": "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\n",
      "text/plain": [
       "<Figure size 432x288 with 1 Axes>"
      ]
     },
     "metadata": {},
     "output_type": "display_data"
    }
   ],
   "source": [
    "# creating pie chart for comparison\n",
    "netflix_2021_gb = netflix_2021.groupby([\"show_id\", \"type\"])\n",
    "netflix_2021_df = pd.DataFrame(netflix_2021_gb.size())\n",
    "\n",
    "# Creating Data Frame\n",
    "movies_shows21 = pd.DataFrame(netflix_2021_df.groupby([\"type\"]).count())\n",
    "movies_shows21.columns = [\"Total Count\"]\n",
    "\n",
    "# Calculating percentages\n",
    "movies_shows21[\"Percentage\"] = (100*(movies_shows21[\"Total Count\"] / movies_shows21[\"Total Count\"].sum()))\n",
    "# Creating Column\n",
    "movies_shows21[\"Percentage\"] = movies_shows21[\"Percentage\"]\n",
    "\n",
    "# Created pie chart\n",
    "movies_shows21_pd = movies_shows21.plot(kind='pie', y=\"Total Count\", autopct='%1.1f%%', startangle=80, explode=(0.1,0), shadow=True,\n",
    "                              colors = [\"red\", \"grey\"])\n",
    "movies_shows21_pd.set_title(\"Movie vs TV Shows Added 2021\")\n",
    "movies_shows21_pd.set_ylabel(' ')\n",
    "\n",
    "# Added count of tv shows and movies\n",
    "plt.savefig(\"moviesvshows2021_percentages.png\")\n",
    "movies_shows21"
   ]
  },
  {
   "cell_type": "code",
   "execution_count": null,
   "metadata": {},
   "outputs": [],
   "source": [
    "# setting up line chart to show growth of tv shows and movies through the years"
   ]
  },
  {
   "cell_type": "code",
   "execution_count": 60,
   "metadata": {},
   "outputs": [
    {
     "data": {
      "text/plain": [
       "<function matplotlib.pyplot.show(close=None, block=None)>"
      ]
     },
     "execution_count": 60,
     "metadata": {},
     "output_type": "execute_result"
    },
    {
     "data": {
      "image/png": "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\n",
      "text/plain": [
       "<Figure size 432x288 with 1 Axes>"
      ]
     },
     "metadata": {
      "needs_background": "light"
     },
     "output_type": "display_data"
    }
   ],
   "source": [
    "# setting up markers for chart\n",
    "years_x = [2014, 2015, 2016, 2017, 2018, 2019, 2020]\n",
    "tv_show_y = [total_shows14, total_shows15, total_shows16, total_shows17, \\\n",
    "            total_shows18, total_shows19, total_shows20]\n",
    "movies_y = [total_movies14, total_movies15, total_movies16, total_movies17, \\\n",
    "           total_movies18, total_movies19, total_movies20]\n",
    "\n",
    "# plotting chart\n",
    "plt.plot(years_x, tv_show_y, marker='^', markersize=8, color='grey', linewidth=2, label=\"TV Shows\")\n",
    "plt.plot(years_x, movies_y, marker='o', markersize=8, color='red', linewidth=2, label=\"Movies\")\n",
    "plt.legend()\n",
    "plt.savefig(\"moviesvshows_overall_line.png\")\n",
    "plt.show"

   ]
  },
  {
   "cell_type": "code",
   "execution_count": 190,
   "metadata": {},
   "outputs": [],
   "source": [
    "netflix_info_revised_2018 = netflix_info_2018.drop(['type', 'title', 'director','cast', 'country', 'country.1', 'country.2', 'release_year',\n",
    "                                                    'duration', 'TYPE1/listed_in','TYPE2', 'TYPE3', 'description'], axis = 1)"
   ]
  },
  {
   "cell_type": "code",
   "execution_count": 191,
   "metadata": {},
   "outputs": [],
   "source": [
    "netflix_adult_2018 = netflix_info_revised_2018.loc[(netflix_info_revised_2018[\"rating\"]== 'TV-MA') | (netflix_info_revised_2018[\"rating\"]== 'R') |\n",
    "                                           (netflix_info_revised_2018[\"rating\"]== 'NR') | (netflix_info_revised_2018[\"rating\"]== 'NC-17')]\n",
    "netflix_adult_2018 = pd.DataFrame(netflix_adult_2018)"
   ]
  },
  {
   "cell_type": "code",
   "execution_count": 192,
   "metadata": {},
   "outputs": [],
   "source": [
    "adult_2018 = len(netflix_adult_2018)"
   ]
  },
  {
   "cell_type": "code",
   "execution_count": 193,
   "metadata": {},
   "outputs": [],
   "source": [
    "netflix_childrens_2018 = netflix_info_revised_2018.loc[(netflix_info_revised_2018[\"rating\"]== 'TV-14') | (netflix_info_revised_2018[\"rating\"]== 'TV-PG') | \n",
    "                                                       (netflix_info_revised_2018[\"rating\"]== 'PG-13') | (netflix_info_revised_2018[\"rating\"]== 'TV-Y') |\n",
    "                                                       (netflix_info_revised_2018[\"rating\"]== 'TV-Y7') | (netflix_info_revised_2018[\"rating\"]== 'PG') |\n",
    "                                                       (netflix_info_revised_2018[\"rating\"]== 'TV-G') | (netflix_info_revised_2018[\"rating\"]== 'G') | \n",
    "                                                       (netflix_info_revised_2018[\"rating\"]== 'TV-Y7-FV')]\n",
    "netflix_childrens_2018 = pd.DataFrame(netflix_childrens_2018)"
   ]
  },
  {
   "cell_type": "code",
   "execution_count": 194,
   "metadata": {},
   "outputs": [],
   "source": [
    "childrens_2018 = len(netflix_childrens_2018)"
   ]
  },
  {
   "cell_type": "markdown",
   "metadata": {},
   "source": [
    "2019"
   ]
  },
  {
   "cell_type": "code",
   "execution_count": 195,
   "metadata": {},
   "outputs": [],
   "source": [
    "netflix_info_revised_2019 = netflix_info_2019.drop(['type', 'title', 'director','cast', 'country', 'country.1', 'country.2', 'release_year',\n",
    "                                                    'duration', 'TYPE1/listed_in','TYPE2', 'TYPE3', 'description'], axis = 1)"
   ]
  },
  {
   "cell_type": "code",
   "execution_count": 196,
   "metadata": {},
   "outputs": [],
   "source": [
    "netflix_adult_2019 = netflix_info_revised_2019.loc[(netflix_info_revised_2019[\"rating\"]== 'TV-MA') | (netflix_info_revised_2019[\"rating\"]== 'R') |\n",
    "                                           (netflix_info_revised_2019[\"rating\"]== 'NR') | (netflix_info_revised_2019[\"rating\"]== 'NC-17')]\n",
    "netflix_adult_2019 = pd.DataFrame(netflix_adult_2019)"
   ]
  },
  {
   "cell_type": "code",
   "execution_count": 197,
   "metadata": {},
   "outputs": [],
   "source": [
    "adult_2019 = len(netflix_adult_2019)"
   ]
  },
  {
   "cell_type": "code",
   "execution_count": 198,
   "metadata": {},
   "outputs": [],
   "source": [
    "netflix_childrens_2019 = netflix_info_revised_2019.loc[(netflix_info_revised_2019[\"rating\"]== 'TV-14') | (netflix_info_revised_2019[\"rating\"]== 'TV-PG') | \n",
    "                                                       (netflix_info_revised_2019[\"rating\"]== 'PG-13') | (netflix_info_revised_2019[\"rating\"]== 'TV-Y') |\n",
    "                                                       (netflix_info_revised_2019[\"rating\"]== 'TV-Y7') | (netflix_info_revised_2019[\"rating\"]== 'PG') |\n",
    "                                                       (netflix_info_revised_2019[\"rating\"]== 'TV-G') | (netflix_info_revised_2019[\"rating\"]== 'G') | \n",
    "                                                       (netflix_info_revised_2019[\"rating\"]== 'TV-Y7-FV')]\n",
    "netflix_childrens_2019 = pd.DataFrame(netflix_childrens_2019)"
   ]
  },
  {
   "cell_type": "code",
   "execution_count": 199,
   "metadata": {},
   "outputs": [],
   "source": [
    "childrens_2019 = len(netflix_childrens_2019)"
   ]
  },
  {
   "cell_type": "markdown",
   "metadata": {},
   "source": [
    "2020"
   ]
  },
  {
   "cell_type": "code",
   "execution_count": 200,
   "metadata": {},
   "outputs": [],
   "source": [
    "netflix_info_revised_2020 = netflix_info_2020.drop(['type', 'title', 'director','cast', 'country', 'country.1', 'country.2', 'release_year',\n",
    "                                                    'duration', 'TYPE1/listed_in','TYPE2', 'TYPE3', 'description'], axis = 1)"
   ]
  },
  {
   "cell_type": "code",
   "execution_count": 201,
   "metadata": {},
   "outputs": [],
   "source": [
    "netflix_adult_2020 = netflix_info_revised_2020.loc[(netflix_info_revised_2020[\"rating\"]== 'TV-MA') | (netflix_info_revised_2020[\"rating\"]== 'R') |\n",
    "                                           (netflix_info_revised_2020[\"rating\"]== 'NR') | (netflix_info_revised_2020[\"rating\"]== 'NC-17')]\n",
    "netflix_adult_2020 = pd.DataFrame(netflix_adult_2020)"
   ]
  },
  {
   "cell_type": "code",
   "execution_count": 202,
   "metadata": {},
   "outputs": [],
   "source": [
    "adult_2020 = len(netflix_adult_2020)"
   ]
  },
  {
   "cell_type": "code",
   "execution_count": 203,
   "metadata": {},
   "outputs": [],
   "source": [
    "netflix_childrens_2020 = netflix_info_revised_2020.loc[(netflix_info_revised_2020[\"rating\"]== 'TV-14') | (netflix_info_revised_2020[\"rating\"]== 'TV-PG') | \n",
    "                                                       (netflix_info_revised_2020[\"rating\"]== 'PG-13') | (netflix_info_revised_2020[\"rating\"]== 'TV-Y') |\n",
    "                                                       (netflix_info_revised_2020[\"rating\"]== 'TV-Y7') | (netflix_info_revised_2020[\"rating\"]== 'PG') |\n",
    "                                                       (netflix_info_revised_2020[\"rating\"]== 'TV-G') | (netflix_info_revised_2020[\"rating\"]== 'G') | \n",
    "                                                       (netflix_info_revised_2020[\"rating\"]== 'TV-Y7-FV')]\n",
    "netflix_childrens_2020 = pd.DataFrame(netflix_childrens_2020)"
   ]
  },
  {
   "cell_type": "code",
   "execution_count": 204,
   "metadata": {},
   "outputs": [],
   "source": [
    "childrens_2020 = len(netflix_childrens_2020)"
   ]
  },
  {
   "cell_type": "markdown",
   "metadata": {},
   "source": [
    "2021"
   ]
  },
  {
   "cell_type": "code",
   "execution_count": 205,
   "metadata": {},
   "outputs": [],
   "source": [
    "netflix_info_revised_2021 = netflix_info_2021.drop(['type', 'title', 'director','cast', 'country', 'country.1', 'country.2', 'release_year',\n",
    "                                                    'duration', 'TYPE1/listed_in','TYPE2', 'TYPE3', 'description'], axis = 1)"
   ]
  },
  {
   "cell_type": "code",
   "execution_count": 206,
   "metadata": {},
   "outputs": [],
   "source": [
    "netflix_adult_2021 = netflix_info_revised_2021.loc[(netflix_info_revised_2021[\"rating\"]== 'TV-MA') | (netflix_info_revised_2021[\"rating\"]== 'R') |\n",
    "                                           (netflix_info_revised_2021[\"rating\"]== 'NR') | (netflix_info_revised_2021[\"rating\"]== 'NC-17')]\n",
    "netflix_adult_2021 = pd.DataFrame(netflix_adult_2021)"
   ]
  },
  {
   "cell_type": "code",
   "execution_count": 207,
   "metadata": {},
   "outputs": [],
   "source": [
    "adult_2021 = len(netflix_adult_2021)"
   ]
  },
  {
   "cell_type": "code",
   "execution_count": 208,
   "metadata": {},
   "outputs": [],
   "source": [
    "netflix_childrens_2021 = netflix_info_revised_2021.loc[(netflix_info_revised_2021[\"rating\"]== 'TV-14') | (netflix_info_revised_2021[\"rating\"]== 'TV-PG') | \n",
    "                                                       (netflix_info_revised_2021[\"rating\"]== 'PG-13') | (netflix_info_revised_2021[\"rating\"]== 'TV-Y') |\n",
    "                                                       (netflix_info_revised_2021[\"rating\"]== 'TV-Y7') | (netflix_info_revised_2021[\"rating\"]== 'PG') |\n",
    "                                                       (netflix_info_revised_2021[\"rating\"]== 'TV-G') | (netflix_info_revised_2021[\"rating\"]== 'G') | \n",
    "                                                       (netflix_info_revised_2021[\"rating\"]== 'TV-Y7-FV')]\n",
    "netflix_childrens_2021 = pd.DataFrame(netflix_childrens_2021)"
   ]
  },
  {
   "cell_type": "code",
   "execution_count": 209,
   "metadata": {},
   "outputs": [],
   "source": [
    "childrens_2021 = len(netflix_childrens_2021)"
   ]
  },
  {
   "cell_type": "code",
   "execution_count": 211,
   "metadata": {},
   "outputs": [
    {
     "name": "stdout",
     "output_type": "stream",
     "text": [
      "<class 'int'>\n"
     ]
    }
   ],
   "source": [
    "#print(type(childrens_2021))"
   ]
  },
  {
   "cell_type": "code",
   "execution_count": 223,
   "metadata": {},
   "outputs": [
    {
     "data": {
      "image/png": "iVBORw0KGgoAAAANSUhEUgAAAZcAAAEWCAYAAACqitpwAAAAOXRFWHRTb2Z0d2FyZQBNYXRwbG90bGliIHZlcnNpb24zLjMuMiwgaHR0cHM6Ly9tYXRwbG90bGliLm9yZy8vihELAAAACXBIWXMAAAsTAAALEwEAmpwYAABLeUlEQVR4nO3dd3gU1frA8e+bHjoEpEMAgVAFEhAs2AVUijQVkCKKvdxrA/V3xWtDQK8VERXpKCBVRRSkCKIQivQOQhI6hCSQhJTz+2MmsAkpm2Q3m/J+nmef3Z1y5p1t786ZM+eIMQallFLKlbw8HYBSSqniR5OLUkopl9PkopRSyuU0uSillHI5TS5KKaVcTpOLUkopl9PkUkBEpL+I/OLpONKISKCILBKRcyIy2wXl3SwiEa5eVhUeIjJeRP7PfqzvocpWkUsuItJPRMJFJE5EjorIYhG5wdNx5cQYM90Yc6en43DQG6gKBBlj+mS1kIgMFhEjIn3dFYiIHBKR23NYppyIfCgih+33fp/9vLILtm9E5Or8lmOX5ZEfXREZKSJJ9muTdnvJldswxjxmjHnTFWW563ssIpNE5C1XxGiXl+1nU0Tai8ivInJGRE6KyGwRqe4wX0TkPRE5bd9Gi4g4zH9TRLaKSLKIjMxmO9/k9DkVkbtFZLWIRIvIMRH5UkTKOsz3F5GJIhJjz/+3w7xGIrLA3oczIrJERBpnKP9f9nrn7HL8s3vtilRysV+MD4F3sH4Y6wDjgO4eDCtHIuLj6RgyURfYY4xJzmG5QcAZ+94jRMQPWAY0AzoD5YDrgNNAO0/FVQh9Z4wp43Ab7emAMlNUv8dZqAhMAIKxvlOxwDcO84cBPYBrgJbAPcCjDvP3AS8BP2a1ATvpNnAilvLAW0ANoAlQCxjjMH8k0NCO8xbgJRHpbM+rACwEGmO9J+uABQ4xdAKGA7fZ+1ofeCPbaIwxReJmv3BxQJ9slvHH+tBG2bcPAX973s1ABNYbeQI4ivWm3wXswfoBfcWhrJHAHOA7rA/MRuAah/nDgf32vB3AvQ7zBgNrgP/Z5b5lT1ttzxd73gngHLAFaO6wn1OAk8A/wGuAl0O5q4GxwFngINAlm9ejCbACiAa2A93s6W8AF4Ek+zUdmsX6dYFUoBeQDFR1mBcITLLj2AG8CEQ4zDfA1Q7PJwFvOb4X9uOp9jbi7VheyiSOh4HjQJnc7qvDtj/D+gLHAn8BDex5q+xYz9vbv8+efg+w2S7vD6ClQ3mHgBfs9+2c/RkJAErb+5FqlxUH1MgQZ3vgGODtMO1eYIv9uB0QDsTY+/yBk9+PkcC0TKY7+zmNBg5gJe3BwBGsz+cgJ97DF4HvM2z3E+BDN36Pn+fy93iIPW8Y1mf6or2NRfb0GsD3WN+pg8AzGV63WVjfuVj7sxPm7Gczk9jbALEOz/8Ahjk8Hwr8mcl604CRmUz3ATZhJaZ03yknYukJbHV4Hgnc6fD8TeDbLNatZG8vyH4+A3jHYf5twLFst+9soJ6+Yf1jTQZ8slnmv8CfwFVAFfuNfdPhQ5kM/AfwBR6xP2wzgLJY/4oTgPoOH7okrOojX6wfk4OArz2/j/2h9QLuw/pxqu7wpU0GnrY/HIGkTy6dgA1Y/xYE64cxbd0pWP8YymL9Q9iD/eNvl5Fkx+4NPI715ZNMXgtfrH9FrwB+wK32l6exw/5d8WOUoYz/A9bZj7cC/3aYNwr43f4Q1ga2kYfkYj8/BNyeTRzfApOzmZ/Tvk7CSvLt7PdjOg5fqkxibYP1w3Wt/ToPsmP0d4h3nf3+VwJ2Ao9ltm9ZxLsfuMPh+WxguP14LfCg/bgM0N7J70em7yfOfU6H2Pv5FnAYKxH7A3far2OZ7N5DoLpdbgX7uY/9+oW68Xv8X/t9vwu4AFTMGKP93Avru/Yf+7NRHyuJdnJ43RLscryBd3H48SeHz2YmsT+XYf1zwLUOz8NwSD4O07NKLi8CH2X2OXUilg+xP+dYR1iG9H8Qe+OQfDKs2wM46vD8b+w/Xvbzyjgkn0zLcDZQT9+A/uSUKa0v7V0OzzsBhxw+lPHY/xixfrxNhjd+A9DD4UPn+CHxwvqXdGMW294MdLcfDwYOZ5g/mMvJ5VaspNEe+6jEnu4NJAJNHaY9CqxwKGOfw7xS9j5UyySeG7H+ITuWPzPtA4xzyWUv8Jz9eATwt8O8A0Bnh+fDcF9y+RUYlc38nPZ1EvCVw7y7gF3ZxPo59o+Zw7TdwE0O8Q5wmDcaGJ/ZvmUR71vARIfP4Xmgrv18FdaRZeVcfj9GYv1jj3a41chkuc2k/5zudZjXgit/gE4DrZx4DxcDj9iP7wF2ZBGnq77HPg7zT2AnYa5MLtdy5XdxBPCNw+u21GFeUyDe2c9mhnJbYv2JudFhWgoQ4vC8of0aS4Z1r0guWH/a9gHlM/uc5hDLHVi1Co0cyjJAQIZlDmWybi2so5wHMrwnjt93X7u84KxiKErnXE4DlXM4f1EDqyopzT/2tEtlGGNS7Mfx9v1xh/nxWP8W0xxJe2CMScU6HK8BICIDRWSzffIsGmiOlc2vWDcjY8xvwKdY/xCPi8gEESlnr++XyT7UdHh+zKGcC/ZDx5jT1ACO2HFnVVaWROR6oB7WUQNYR3gtRKSVY/kZynaX01j/jrPizL4ec3h8gcxfszR1gefT3lv7/a1N+s9SbsrLaAbQ0z4h2hPYaIxJe/2GAo2AXSKyXkTuyUW5s4wxFRxuUU58TjN+/jHGZPedyMpkYID9eABWlVJmXPU9djxXmN3rXxeokeG9fAXrvEKajO9lQG7Pk9on2hcDzxpjfneYFYd1jjBNOSDO2L/QOfgQ+K8x5lwm27vRoeHG9gzz2mN9xnobY/Y4xJG2fcdYYjOsWwX4BRhnjJmZw36QcX1HRSm5rMU6fO2RzTJRWB+mNHXsaXlVO+2BiHhhZfQoEakLfAk8hXVYWAGrWkgc1s32w2OM+dgYE4pVHdcI6/D3FFa1V8Z9iMxD7FFAbTvuvJQ1CGt/NovIMazzFAAD7fujOLw+dtmOLmAdWaWpls22cvqiLQU6iUjpLObnd18zOgK8neGHulSGL1tWcvzRMMbswPrB7AL0w/ohSJu31xjzAFaV0HvAnGz2O1tOfk5dZT7QUkSaYx25TM9iOXd/jzO+/keAgxney7LGmLvyWN4V7Nd5KdbRbsakuh3rZH6aa+xpzrgNGGO30EpLgGtFpJ8x5ndzueFGM4dYWmOdmH/IGLPs0k4YcxbrO5tlLCJSESuxLDTGvO3Efhw3xpzOKvgik1zs7P0f4DMR6SEipUTEV0S6iEhaq5iZwGsiUsVuovofrMPNvAoVkZ72v5jnsKqs/sQ6cWuwztkgIkOw/hE6RUTaisi1IuKLVSWSAKTYR1WzgLdFpKz9of13HvfhL7vsl+zX6WagK5ePRLKLLwDoi1XV1crh9jTQ3349ZgEjRKSiiNSy5znaDPQTEW+7RcpN2WzyOFZdeFamYv1IfC8iISLiJSJBIvKKiNyVn33NYvtfAo/Z75GISGm7mWfZLNbPWFaQiJTPYbkZwDNAR6xzLgCIyAARqWIfhUXbk1OuXN0p+fqc5oYxJgGrAcwMrPN0h7NYzt3f44zv5TogRkReFuvaLm8RaS4ibfNYXjoiUhP4DfjMGDM+k0WmAP8WkZoiUgOrIcIkh/V97e+bF+AjIgEi4m3PboT1I97KvoH1uZ6XRSzNgZ+Bp40xi7KI5TX7OxuCde52kr1uOWAJsMYYMzyLdYeKSFM7Cb3muB+Zcqb+rjDdsOpsw7F+TI5htQC6zp4XAHyMlaGP2o8DTOZ1xD5kqDPEaok1wFyui3VsLbYJaOOw7NtY9aungA+AlcDD9rzB2OdXHJa/NA3rH8kWrEPNU1j/8tJOmlbE+iKdxPpB/Q8ZWotlKDfLeliso6KVWCcVM7YUGkkW51yA++3XzzfD9AA73nuwjkqmYP0AZtZaLAzr304sVnKYSdb19d2xTiRHAy9kEVN5rGqCI/brtt9+3YOc2NdJpK+Hz7j9x+z9jQb62tM6A+vtaUexEkBZe94hHOrhM76WwESs6p9oMjnvYS9TB6sl0o8Zpk/DOocQZ79+PRzmxZH1Ob9M309y8TkFrgZMhvUjgBsyvo4ZX0N72g1Yn8chBfU9zvh+YJ3T2Gy/9vPtaTWwPn/HsM5D/OmwfMb3LtjeBx9nPpvA6/bycY43h/mCdU7ujH0bjcP5Fvs1NRlug7N4zbI954LVBDo1QyzbHeb7Y30201oiOjbQGUT6VpNptzoOy/zbXi/G3pZ/du+x2CupDMS6oOlqY8yAnJZVSoGI1AF2YTUwifF0PMqziky1mFKq8LLPd/0bq+mrJhZFYbxyXClVhNgNDo5jNVLonMPiqoTQajGllFIup9ViSimlXK7YVotVrlzZBAcHezoMpZQqUjZs2HDKGFMlv+UU2+QSHBxMeHi4p8NQSqkiRURc0tuGVosppZRyOU0uSimlXE6Ti1JKKZcrtudcMpOUlERERAQJCQmeDkXlQkBAALVq1cLX19fToSilnFSikktERARly5YlODgYEXd0DKtczRjD6dOniYiIoF69ep4ORynlpBJVLZaQkEBQUJAmliJERAgKCtKjTeVescfgmy4QezznZZVTSlRyATSxFEH6nim3WzkaDv8JK9/zdCTFRomqFlNKqSucOQAbJ4NJhY1ToHoLKF8HAipAQDnwLwcB5cE3wNORFimaXDxg3rx59OzZk507dxISEpLpMjfffDNjx44lLCwsy3JGjhxJmTJleOGFF5g0aRJ33nknNWrUyHTZsWPH8tVXX+Hj44O3tzfPP/88AwcOzHTZ7KxYsQI/Pz+uu+66XK8LEB0dzYwZM3jiiSfytL5SLnX+FHx9B6TaoyanJsGi5zJf1tvPSjL+5aykc+lx+QyPy6V/nDbPvxx4u/knN/YYzBkCvSdB2ao5Lu5OmlyyMX9TJGOW7CYqOp4aFQJ5sVNjerR2agj6bM2cOZMbbriBb7/9lpEjR+Y/UGDSpEk0b9480+Qyfvx4fv31V9atW0e5cuU4d+4c8+fPz9N2VqxYQZkyZfKVXMaNG6fJRXnemQMwpbuVYBx5+0OfSeDlDQkxkBANiTH243PpH8ces+4TYiDpfM7b9CuTdRJKl5AqZJ7E/EpDdtXEjtV793yQjxcn/zS5ZGH+pkhGzN1KfJI1wmxkdDwj5m4FyFeCiYuLY82aNSxfvpxu3bpdSi7x8fEMGTKEHTt20KRJE+Lj4y+tU6ZMGeLi4gCYM2cOP/zwA5MmTbo0f86cOYSHh9O/f38CAwNZu3YtgYGBl+a/8847LF++nHLlygFQvnx5Bg0aBMCyZct44YUXSE5Opm3btnz++ef4+/sTHBzMoEGDWLRoEUlJScyePZuAgADGjx+Pt7c306ZN45NPPiEkJITHHnuMw4etUW0//PBDrr/+ekaOHMnhw4c5cOAAhw8f5rnnnuOZZ55h+PDh7N+/n1atWnHHHXcwZsyYPL+WSuVZ5EaY0ddKDF4+l49cADCwb2nuf5xTkiAx1k4257JOSInnLiekC6fgzP7L81KTst+GeIN/WYeEVP7yYy8f+HumVb23eTrc9LJHj15KbHJ5Y9F2dkRlPabRpsPRXExJTTctPimFl+ZsYea6TIcHp2mNcrzetVm2250/fz6dO3emUaNGVKpUiY0bN9KmTRs+//xzSpUqxZYtW9iyZQtt2rRxel969+7Np59+mmk1WmxsLLGxsTRo0OCK9RISEhg8eDDLli2jUaNGDBw4kM8//5znnnsOgMqVK7Nx40bGjRt3qVrtscceu1QVB9CvXz/+9a9/ccMNN3D48GE6derEzp07Adi1axfLly8nNjaWxo0b8/jjjzNq1Ci2bdvG5s2bnd4/pVxq71KYNRBKBUHFinBqT/r5KRchYl3uy/X2hVKVrFteGAPJCRkS0rkMj2OufBz9j/U49tjlJGlSPX70UmKTS04yJpacpjtr5syZl36877//fmbOnEmbNm1YtWoVzzzzDAAtW7akZcuW+dpOGmNMlq2tdu/eTb169WjUqBEAgwYN4rPPPrsUX8+ePQEIDQ1l7ty5mZaxdOlSduzYcel5TEwMsbGxANx99934+/vj7+/PVVddxfHj2sxTedim6bDoGbiqCfSfA2WreTqiy0TAN9C65faII/YYfHQNpP08pVz0+NFLiU0uOR1hXD/qNyKj46+YXrNCIN892iFP2zx9+jS//fYb27ZtQ0RISUlBRBg9ejSQdZNbx+m5vd6jXLlylC5dmgMHDlC/fv1083IaKM7f3x8Ab29vkpOTM10mNTX1imq4jOvnVIZSbmcM/D4WfnsL6t8MfadaVUnFxcrR1tGKIw8fvZS461yc9WKnxgT6eqebFujrzYudGue5zDlz5jBw4ED++ecfDh06xJEjR6hXrx6rV6+mY8eOTJ8+HYBt27axZcuWS+tVrVqVnTt3kpqayrx58zItu2zZspeOGDIaMWIETz75JDExVjVgTEwMEyZMICQkhEOHDrFv3z4Apk6dyk033ZTtPmTczp133smnn3566XlO1V3ZxamUW6SmwI/PW4mlRV/oN7t4JRawqvFSLqafltfqPRcpsUcuOUk7ae/K1mIzZ85k+PDh6ab16tWLGTNm8MEHHzBkyBBatmxJq1ataNeu3aVlRo0axT333EPt2rVp3rz5pZP7jgYPHsxjjz2W6Qn9xx9/nLi4ONq2bYuvry++vr48//zzBAQE8M0339CnT59LJ/Qfe+yxbPeha9eu9O7dmwULFvDJJ5/w8ccf8+STT9KyZUuSk5Pp2LEj48ePz3L9oKAgrr/+epo3b06XLl30hL5yr6R4+P5h2PUDXP8c3PY6eBXD/9SPrfZ0BFeQnKpGiqqwsDCTcbCwnTt30qRJEw9FpPJD3zuVaxfOwIz7IGI9dHkPrn3U0xEVCSKywRiT9QV2TtIjF6VU8XP2H5jWC6IPQ9/J0LS7pyMqcTS5KKWKl6NbYHpvq1nvwPlQN28X/Kr80eSilCo+9i+H7x60Ttg/tMRqcqw8ohie2VJKlUhbZllHLBVqw9BfNbF4mCYXpVTRZgys/hDmPgJ1OsCQxVA+/30AqvzRajGlVNGVmgI/j4B1X0CznnDvePDxz3k9B+7qoLak0yOXAubt7U2rVq0u3Q4dOpSv8hYuXMioUaMAqwv+sWPH5mr9sWPHEhISQvPmzbnmmmuYMmVKnuJYsWIFf/zxR57Whcu9JSvltKQEq3v5dV9A+yeh19d5Siwj5m4lMjoew+UOaudvinRPzCWIJpecuHj408DAQDZv3nzpFhwcnK/yunXrdsWFmc5y7Ip/27ZtrFq1KscuYbKiyUUVqPizMPVe2LEA7nwbOr+Tp4sjxyzZfann80tFJ6UwZsluV0VaYmlyyYmbhz+Ni4vjtttuo02bNrRo0YIFCxYAcOjQIUJCQnj44Ydp3rw5/fv3Z+nSpVx//fU0bNiQdeusbh0mTZrEU089la7M/fv3p+tVee/evYSGhl6x7XfeeYdx48Zl2RV/69atadGiBQ899BCJiYkABAcH8/rrr1+Kd9euXRw6dIjx48fzv//9j1atWvH7779z8uRJevXqRdu2bWnbti1r1qwBrKOrhx56iJtvvpn69evz8ccfA6Triv/FF1905UusiptzETCxs3VxZK+v4bqncl4nC1GZ9B+Y3XTlPLedcxGRicA9wAljTHN7WiXgOyAYOAT0NcacteeNAIYCKcAzxpgl9vRQYBIQCPwEPGtc0a3A4uFwbGv2yyRfhKhwqwO4Dd9Yy3v7Zb18tRbQZVS2RcbHx9OqVSsA6tWrx+zZs5k3bx7lypXj1KlTtG/fnm7dugGwb98+Zs+ezYQJE2jbti0zZsxg9erVLFy4kHfeeSfLAb8aNGhA+fLl2bx5M61ateKbb75h8ODB6ZbRrvhVkXR8O0zrDRfj4MG5UK9jnovaezwWby8hOfXKnxNvL2Hcin30bF2LauV1eOO8cOeRyySgc4Zpw4FlxpiGwDL7OSLSFLgfaGavM05E0nqN/BwYBjS0bxnLdJ9zh62WKGDdR2c+jktuOFaLzZs3D2MMr7zyCi1btuT2228nMjLyUtf09erVo0WLFnh5edGsWTNuu+02RIQWLVrkeK7m4Ycf5ptvviElJYXvvvuOfv36pZuf2674V61adWm+Y1f8WcWxdOlSnnrqKVq1akW3bt0y7Yq/cuXK2hW/ct7B360jFozVIiwfiWXR31F0/2wNAb5e+Pmk/xn09RbqVCrF6J93c92oZQyauI4ftkSRmJySRWkqM247cjHGrBKR4AyTuwM3248nAyuAl+3p3xpjEoGDIrIPaCcih4Byxpi1ACIyBegBLM53gDkcYVwaH4G0fzXGGu6090SXjo8wffp0Tp48yYYNG/D19SU4OPhSt/qOXdZ7eXldeu7l5ZVj9/W9evXijTfe4NZbbyU0NJSgoKB087UrflWkbPse5j0GFevBgO+ta1nyICkllXd/2sXENQcJrVuRcf3bsHb/6Uxbix06dZ7vN0bw/YYInpqxifKBvnRvVYM+obVpXrNcln/OlKWgz7lUNcYcBbDvr7Kn1wSOOCwXYU+raT/OOD1TIjJMRMJFJPzkyZP5izS78RFc6Ny5c1x11VX4+vqyfPly/vnnH5eUGxAQQKdOnXj88ccZMmRIpstoV/yqSFg7DuY8BDVD4aGf85xYTsQk0O/LP5m45iCDrwtm5iPtqVougB6ta7Jm+K0cHHU3a4bfeqkZcnDl0jx/Z2N+f/lWpg5tx02NqvDt+iN0/XQ1XT76na9+P8CpuERX7mmxUlhO6Gf2F8BkMz1TxpgJxpgwY0xYlSpV8hdRAY2P0L9/f8LDwwkLC2P69OmEhIS4tGwR4c4778x0/uOPP84tt9xC27Ztad68OTfddBOlSpVK1xV/WrWcM13xz5s379IJ/Y8//pjw8HBatmxJ06ZNs+2GH9J3xa8n9BUAqamw5FVYMgKadIUH5+d5COG/Dpzmro9Xsy0yho/ub8XIbs2uqA7LireXcGPDKnz8QGvWv3o7b/Vojr+vN2/9uJP27yzjkSnh/LL9GEn5HKW2uHFrl/t2tdgPDif0dwM3G2OOikh1YIUxprF9Mh9jzLv2ckuAkVgn/ZcbY0Ls6Q/Y6+fYd7Z2uW9dw3Lu3DnefPNNT4eSbyXtvSvxkhNh/uNWdVjbR6wu8728c14vA2MMX/1+kFE/76JupVKMfzCURlXLuiTEvcdjmb0hgrkbIzkVl0jlMn70aFWTPmG1aVzNNdvwhKLa5f5CYBAwyr5f4DB9hoh8ANTAOnG/zhiTIiKxItIe+AsYCHxSwDEXSffeey/79+/nt99+83QoSuVOwjn4tj8c+h1uH2kN8pWH8xtxicm8NOdvftp6jM7NqjGmT0vKBvi6LMyGVcvyyl1NeKlTY1buOcns8Agmrz3EV6sP0rJWefqE1qLrNTWoUCqbFqbFmDubIs/EOnlfWUQigNexksosERkKHAb6ABhjtovILGAHkAw8aYxJa5rxOJebIi/GFSfzS4CshkNWqlCLiYLpfeDkLrj3C7jm/jwVs+9ELI9O3cDBU+cZ0SWEYR3ru+0EvI+3F7c1qcptTapy5vxF5m+KZPaGCP5vwXbe/GEndzSrSp/QWtzYsAreXiWnEUCJG4kyJCREW3kUMcYYdu3apdVixd2JXdYAXwnRcN9UaHBrnor5YUsUL83ZQik/bz55oA0dGgTlvJIbbIs8x5wNESzYHMnZC0lUKxdAzzY16R1ai/pVyngkJme4qlqsRCWXgwcPUrZsWYKCgjTBFBHGGE6fPk1sbCz16tXzdDjKXf5ZCzPvA29/GDAHql+T6yIyNjP+rF+bQnEBZGJyCr/tPMHsDRGs2H2CVANhdSvSO7QWd7es7tKqOlfQ5JKDzJJLUlISERERl64jUUVDQEAAtWrVwte3cH0JlYvsWAjfP2w1MR7wPVQMznURJ2ISeHLGRtYfOsvg64J55a4mTrcGK0gnYhKYuymS2eFH2H/yPIG+3nRpXo3eYbVoXy8Ir0JQbabJJQeZJRelVCHz1wRY/BLUCoMHvoPSua/C+uvAaZ6csYnzicmM6tWC7q0Kf3f5xhg2HYlmdngEP/wdRWxiMrUrBdKrTS16talF7UqlPBabJpccaHJRqhAzBpa9Aav/B43vsjqg9MvdD2rGZsafDwgtkk2AE5JSWLL9GLPDI1iz/xTGQIf6QfQJq0WX5tUJ9Mt9E+z80OSSA00uShVSyRdh4dOw5VsIHQx3vQ/euWu46tjMuFOzqoztc02hO3eRF5HR8Xy/IYI5GyI4fOYCZfx9uKdldfqE1aJNnYoFcq5Yk0sONLkoVQglxsKsgbD/N7jlNej4Qq6vYXFsZvxyZ/c2M/aU1FTDukNnmLMhgp+2HuXCxRTqVylN71Cr2qxqOfc1VNDkkgNNLkoVMrHHYXpvq9v8bh9D6wG5LsKxmfHHD7TmugaV3RBo4RKXmMxPW48yJzyCdYfO4CXQsVEVeofW4o6mVfH3cW21mSaXHGhyUaoQObUXpvWE86eg7xRoeEeuVndsZtymTgXG9Q8tFM2MC9qhU+eZsyGC7zdGcPRcQrqemvediGXsL3uu6N05tzS55ECTi1KFxJH1MKMviBf0n2X1bpwLRaWZcUFKSTWs2XeK2RsiWLL9GBeTUxHS9+ob6OvNuz1b5DrBFNW+xZRSJcmun6zu8stWs0aOrFQ/53UcrDt4hidnbCQuIZmP7m9VJJoZFwRvL6Fjoyp0bFSFc/FJdBy9nHPxSemWiU9KYcyS3Xk6enEFTS5KKfcInwg/Pm9dbd9vNpRxfhgMYwxfrz7Iu4utZsbThl5bJJsZF4Tygb7EZEgsaaKi4ws4mss0uSilXMsYWP4OrBoNV98BfSaBv/N9acUlJvPynC38uPVosWpm7E41KgQSmUkiqVHhypFgC0rJrrhUSrlWShIsfMpKLK0HwAMzc5VY9p2Ipfunq1m87SgjuoQwfkCoJhYnvNipMYG+6VuNBfp682Knxh6KSI9clFKukhgHswfDvl/hppfh5hG5uoblxy1HeWnO3wT6eTPt4WtLRDNjV0k7rzJmye58txZzFU0uSqn8izsJM/rA0b/hng8hbIjTqyalpDJq8S6+Xl2ymxnnV4/WNT2aTDLS5KKUypvYYzBnCNw2EuY9aj2/bzqE3OV0ESdiEnhqxibWHTqjzYyLGU0uSqm8WTnaGodlclfwKw2DFkLtdk6vrs2MizdNLkqp3Is9BpumAAZSLsL9C5xOLI7NjOtoM+NiS5OLUip3UpJhxn1WyzCwejTeOhvqdshx1bjEZF7+fgs/brGaGY/pcw3ltDVYsaSVm0op552LhImd4Ojmy9NSkmDzdKtjymzsOxFLj8/WsHjrUYbbzYw1sRRfmlyUUs7Z/TOMvwGiNoNXhp54TSqsfC/LVX/aepTun67h7PmLTBt6LY/d1KDYdZOv0tNqMaVU9pIvwtKR8OdnUK0FlK4Mp/akXyblIkSsu2LVpJRU3lu8i69WH6R1nQqM69+G6uU9d9W4KjiaXJRSWTtzwOp4MmoTtBsGd7wJvs5dg+LYzHhQh7q8endTbWZcgmhyUUplbttcWPSsdZV936nQtJvTqzo2M/7wvlaF6uI+VTA0uSil0kuKh5+Hw4ZJUKst9PoaKtZ1alXHZsa1KwYydWg7QqqVc2+8qlDS5KKUuuzELuuq+xM74Prn4NbXwNu5Fl2OzYzvbFqVsX21mXFJ5pHkIiL/Ah7GGjhtKzAEKAV8BwQDh4C+xpiz9vIjgKFACvCMMWZJwUetVDFmDGyaBotfAt9S0P97aHi706vvOxHLY9M2cuBkHMO7hPBox/raGqyEK/DkIiI1gWeApsaYeBGZBdwPNAWWGWNGichwYDjwsog0tec3A2oAS0WkkTEmpaBjV6pYSoyFH/4NW2dB8I3Q80soVz3bVeZvirzUA2/FUr7EJSZTNsCXaUOv5bqrtTdj5cR1LiJSWkS87MeNRKSbiOT3WNcHCBQRH6wjliigOzDZnj8Z6GE/7g58a4xJNMYcBPYBzndgpJTK2tG/4YubYNscuOVVGLjAqcQyYu5WIqPjMcCZC0kkpRqevu1qTSzqEmfaBa4CAuwjjmVYVViT8rpBY0wkMBY4DBwFzhljfgGqGmOO2sscBa6yV6kJHHEoIsKeppTKK2Pgry/gq9sh6QIM+gFueunKiyMzMWbJbuKT0lccGANfrjrormhVEeRMchFjzAWgJ/CJMeZerCqsPBGRilhHI/WwqrlKi8iA7FbJZJrJouxhIhIuIuEnT57Ma4hKFW/xZ+G7Adb5lfq3wGNrIPh6p1fPalx2T47Xrgofp5KLiHQA+gM/2tPyc67mduCgMeakMSYJmAtcBxwXker2BqsDJ+zlI4DaDuvXwqpGu4IxZoIxJswYE1alSpV8hKhUMXX4Lxh/I+xZAne+Df2+g9JBTq++93hsloNLenK8dlX4OJNcngNGAPOMMdtFpD6wPB/bPAy0F5FSYjUnuQ3YCSwEBtnLDAIW2I8XAveLiL+I1AMaAlf2M6GUylpqKvz+AXzTBcQLhi6B657K1TDE4YfO0Hv8Wkr7eeOf4Up7T4/XrgqfHI9AjDErgZUOzw9gtfbKE2PMXyIyB9gIJAObgAlAGWCWiAzFSkB97OW32y3KdtjLP6ktxZTKhbgT1kiR+3+DZvdC148goHyuiliy/RjPzNxEzQqBTH6oHRv+OVuoxmtXhY8Yk+npi8sLiCziynMc54Bw4AtjTIKbYsuXsLAwEx4e7ukwlPKsAytg7jBIOAed34XQIbk6WgGY9uc//GfBNlrWqsDEwW2pVNrPPbGqQkFENhhjwvJbjjPnTg4AVYCZ9vP7gONAI+BL4MH8BqGUcrGUZFg5ClaNhcoN4cF5ULVZroowxvC/pXv5eNlebmlchc/6t6GUn3bqoZzjzCeltTGmo8PzRSKyyhjTUUS2uyswpVQenYuE7x+Gw39AqwFw12hrjPtcSE5J5bX52/h2/RH6hNbinZ4t8PXWHo2V85xJLlVEpI4x5jCAiNQB0q6Uuui2yJRSubd7Mcx/3Bod8t4JcM19uS4i/mIKT8/cyNKdJ3jqlqt5/s5G2pWLyjVnksvzwGoR2Y91zUk94AkRKc3lK+qVUp6UfBGWvg5/jrMG9Oo9CSpfnetizp6/yNDJ69l0JJo3uzfjwQ7BLg9VlQzOtBb7SUQaAiFYyWWXw0n8D90Ym1LKGfkY0MtRxNkLDJq4jiNn4xnXrw1dWmTfDYxS2XH27FwoVm/FPkBLEcEYM8VtUSmlnLPte1j4LHh5wX3ToEnXPBWz61gMgyau48LFFKY+1I5r6zt/YaVSmckxuYjIVKABsBmry3uwmiZrclHKUy5esAb02jjZGtCr90SoUCdPRf154DSPTAmntJ8Psx/roIN7KZdw5sglDKt7/OwviFFKFYwTu2D2YDi5M9cDemX009ajPPftZuoElWLyQ+2oqV24KBdxJrlsA6ph9WCslPKUtAG9fnrRalo84Hu42vkBvTKa/MchRi7aTmidinw1KIwKpfTiSOU6ziSXysAOEVkHJKZNNMZ0c1tUSqn0EmPhh3/B1tlQr6M1oFfZankqyhjD2F9289ny/dzRtCqfPNCaAN+cu9pXKjecSS4j3R2EUiobUZutce3PHrIG9LrxeafGXclMUkoqI+ZuZc6GCB5oV4c3uzfDRy+OVG7gbMeVSqmCljag16//B6UqWwN65WLclYwuXEzmiekbWbH7JP+6vRHP3Ha1Xhyp3CbL5CIiq40xN4hILOk7rhTAGGO0SYlS7nLhDCx4Cnb/CI06Q/dxuRp3JaPTcYk8NDmcrRHRvNuzBQ+0y1vLMqWclWVyMcbcYN+XLbhwlFIc/su6KDLuOHR6B9o/keuejB0dOXOBgRPXERUdzxcPhnFH06ouDFapzOVY2Wpf55LjNKVUPqWmwu/vWwN6eXlbA3p1eDJfiWVb5Dl6fv4HZ85fZMYj12piUQXGmRP66frpFhEfrCv2lVKuEnfCGnflwPI8D+iV0Zp9p3h06gbKBfgw8/EOXH2VVkKogpPdOZcRwCtAoIjEpE3G6gl5QgHEplTJsH+5lVgSY+CeDyF0cL6OVgAW/h3F87M2U79yGSY/1I5q5XPf15hS+ZHdOZd3gXdF5F1jzIgCjEmpkiElGVa8a1WFVW4EA+fnekCvzHy9+iBv/rCDdvUq8eXAMMoH5u3qfaXyw5mmyCNEpCLQEAhwmL7KnYEpVSzFHrOuWen0Dvw8Ag6vhdYDoEvuB/TKKDXVMOrnXUxYdYAuzavxv/ta6cWRymOc6bjyYeBZoBZW55XtgbXArW6NTKniaOVo+GctfH0nePtZV9q37JvvYi8mp/LSnL+ZvzmKgR3q8nrXZnh76TUsynOcOaH/LNAW+NMYc4uIhABvuDcspYqh2GNWL8YYa6TIgYugbvt8FxuXmMzj0zbw+95TvNipMU/c3EAvjlQe50y/Dwlpg4OJiL8xZhfQ2L1hKVUM/fQSpCZbj719YeusfBd5MjaR+yes5Y/9pxnduyVP3qJX3avCwZnkEiEiFYD5wK8isgCIcmdQShU7Zw/DzoWXn6dchM3TIfZ4nos8dOo8vT7/g30n4vhyYCh9w2q7IFClXMOZE/r32g9HishyoDzws1ujUqq4mTWQ9L0oASYVVr4H93yQ6+K2REQz5Jv1pBrDzEfa07pORdfEqZSLZJtcRMQL2GKMaQ7aiaVSeXJsKxzddOX0lIsQsS7Xxa3cc5LHp22gUmk/Jj/UjgZVyrggSKVcK9vkYoxJFZG/RaSOMeZwQQWlVLGRkgTzn4DSVeDJdVCqUr6Km7sxgpfmbKFh1bJMHtKWq8rpxZGqcHKmtVh1YLs9WNj5tIk6WJhSTljzIRzbAn2n5CuxGGOYsOoA7y7exXUNghj/YCjlAvTiSFV4OZNcXN7s2G4g8BXQHKsi+iFgN/AdEAwcAvoaY87ay48AhgIpwDPGmCWujkkplzux07qupdm90LR7notJTTW89eNOJq45SNdrajC2T0v8ffTiSFW4eWqwsI+An40xvUXEDyiF1Y/ZMmPMKBEZDgwHXhaRpsD9WB1o1gCWikgjY0yKG+JSyjVSkq3qMP+ycNfYPBeTmJzC87P+5octR3no+nq8dncTvPTiSFUEFPj4piJSDugIfA1gjLlojIkGugOT7cUmAz3sx92Bb40xicaYg8A+oF1BxqxUrq39FKI2wl1joHTlPBURm5DEkG/W88OWo7xyVwj/d48mFlV0eGLw7PrASeAbEdkkIl+JSGmgqjHmKIB9f5W9fE3giMP6Efa0K4jIMBEJF5HwkydPum8PlMrOyT2w/B0IuQea9cxTESdiEuj7xZ+sO3iG/913DcM66lX3qmjJMrmIyDL7/j0Xb9MHaAN8boxpjdVIYHg2y2f2jTKZTMMYM8EYE2aMCatSpUr+I1Uqt1JTYMET4FcK7v4gT13n7z8ZR8/P/+Cf0+eZOLgt97au5YZAlXKv7M65VBeRm4BuIvItGX7kjTEb87jNCCDCGPOX/XwOVnI5LiLVjTFHRaQ6cMJhecdLj2uhPQSowurPzyFiPdw7AcrmftTHTYfP8tCk9XiJ8O2w9rSsVcH1MSpVALJLLv/B+tGvBWS8hNiQx16RjTHHROSIiDQ2xuwGbgN22LdBwCj7foG9ykJghoh8gHVCvyGQ+yvPlHK30/vhtzehUec89XT8267jPDl9E1eV82fykHYEV85fF/xKeVJ2g4XNAeaIyP8ZY9508XafBqbbLcUOAEOwquhmichQ4DDQx45ju4jMwko+ycCT2lJMFTqpqbDgKfDxt0aTzGV12KzwI4yYu5Wm1csxcXBbqpT1d0+cShUQZ5oivyki3bBaeAGsMMb8kJ+NGmM2A2GZzLoti+XfBt7OzzaVcqv1X8LhP6D7OChX3enVjDGMW7GfMUt2c2PDynw+IJQy/s5cfqZU4ebMYGHvYjX9nW5PelZErtehj5WynTkIS0fC1XdAq35Or5aSanhj0XamrP2HHq1qMLr3Nfj5eKIBp1Ku58xfpLuBVsaYVAARmQxsAjS5KJWaCgufBvGGrh9mWx02f1MkY5bsJio6nurlA6hc1o8tETE82rE+L3cO0WtYVLHi7PF3BeCM/bi8e0JRqgja8A0c+h26fgTls24yPH9TJCPmbiU+yTpdGHUugahzCfRoVYMRdzUpqGiVKjDOJJd3gU32WC6Cde5Fj1qUij4Mv/4H6t8MbQZlu+iYJbsvJRZH6w+ddVNwSnmWMyf0Z4rICqAtVnJ52RhzzN2BKVWoGQMLn7Eed/04x9ZhUdHxuZquVFHnVLWY3R3LwhwXVKqk2DgFDiyHu9+HinVzXLx6hQCiohOumF6jQqA7olPK47RpilK5dS4SfnkNgm+E0IecWqXhVVeOFhno682LnRq7OjqlCgVNLkrlhjGw6FlITYZun4BXzl+h79YfZuWeU9zYsDI1KwQiQM0KgbzbswU9WmfaB6tSRV621WIi4gVsMcY0L6B4lCrc/p4J+36Fzu9BpXo5Lv7XgdO8Nn8bNzaszDeD2+Ljrf/nVMmQ7SfdvrblbxGpU0DxKFV4xRyFn4dDnQ7QbliOix85c4HHp2+kdqVSfNqvjSYWVaI4c0K/OrBdRNZhdY8PgDGmm9uiUqqwMQZ++BckJ0L3z3KsDotNSGLo5PWkpBq+HtSW8oE63r0qWZxJLm+4PQqlCruts2HPYrjzbQhqkO2iKamGZ7/dzP6T55n6UDvqae/GqgRy5jqXlSJSF2hojFkqIqUAb/eHplQhEXscFr8EtdpB+8dzXPy9n3fx264TvNmjOdddnbchjpUq6nKsBBaRR7AG9PrCnlQTmO/GmJQqPIyBn56Hixfs6rDs/1fNDj/ChFUHGNihLg+2z/n6F6WKK2fOMD4JXA/EABhj9nJ5fHulirft82DnIrhlBFRplO2i6w+d4ZV5W7nh6sr8556mBRSgUoWTM8kl0RhzMe2JiPiQxRj2ShUr50/BTy9AjTbQ4elsFz1y5gKPTt1A7Yql+ExbhinlVHJZKSKvAIEicgcwG1jk3rCUKgR+ehESYqzqMO+sT0/GJSbz8ORwklNS+WpQGOVLacswpZxJLsOBk8BW4FHgJ+A1dwallMftWAjb58JNL0PVrKu4UlINz327iX0n4xjXP5T6Va7s5kWpksiZ1mKp9gBhf2FVh+02xmi1mCq+LpyBH/8N1VrCDc9lu+joJbtYuvME/+3ejBsaasswpdI4M8zx3cB4YD9Wl/v1RORRY8xidwenlEcsfhniz8KD88A76yquORsi+GLlAQa0r8PADsEFF59SRYAzF1G+D9xijNkHICINgB8BTS6q+Nm9GLbOgpuGQ7UWWS624Z8zvDJ3K9c1COL1rs0KMECligZnzrmcSEsstgPACTfFo5TnxJ+FRc9B1eZw4/NZLhZx1moZVqNCAOP6t8FXW4YpdYUsj1xEpKf9cLuI/ATMwjrn0gdYXwCxKVWwlrwK509Cv+/Axy/TRc7bLcMSk1P5dlhbKpTKfDmlSrrsqsW6Ojw+DtxkPz4JVHRbREp5wt5fYfN064ilRqtMF0lNNfzru83sOR7LpCHtuDqTAcCUUpYsk4sxZkhBBqKUxyScg4XPQJUQq+lxFsb+sptfdhzn9a5N6dioSgEGqFTR40xrsXrA00Cw4/La5b4qNn55DeKOwX3TwMc/00XmbYpg3Ir9PNCuDoOvCy7Y+JQqgpxpLTYf+BrrqvxUt0ajVEHb/xtsnALXPwu1QjNdZOPhs7z8/Vba16/Ef7s3Q0QKOEilih5nkkuCMeZjV29YRLyBcCDSGHOPiFQCvsM6QjoE9DXGnLWXHQEMBVKAZ4wxS1wdjyqBEmOt6rCghnDzK5kuEhkdz7ApG6hePoDP+4dqyzClnOTMN+UjEXldRDqISJu0mwu2/Syw0+H5cGCZMaYhsMx+jog0Be4HmgGdgXF2YlIqf359Hc5FWH2H+QZcMfvCxWQemRxOYlIKXw8Ko2JpbRmmlLOcOXJpATwI3MrlajFjP88TEakF3A28DfzbntwduNl+PBlYAbxsT//WGJMIHBSRfUA7YG1et68UB1dB+NfQ/kmoc+0Vs9Nahu06FsPEwW25+qqyHghSqaLLmeRyL1Dfsdt9F/gQeAlw/MZWNcYcBTDGHBWRtDFjagJ/OiwXYU+7gogMA4YB1KlTx4XhqmLl4nlY8BRUqg+3Zt4H6we/7mHJ9uP83z1NubmxDl+kVG45Uy32N1DBVRsUkXuwrvrf4OwqmUzLtONMY8wEY0yYMSasShVtKqqysPQNiD5sVYf5lbpi9oLNkXy6fB/3t63NQ9cHF3x8ShUDzhy5VAV2ich6IDFtYj6aIl8PdBORu4AAoJyITAOOi0h1+6ilOpe7mIkAajusXwuIyuO2VUn3zx+w7gto9yjUve6K2ZsOn+XFOVtoV68S/+3eXFuGKZVHziSX1125QWPMCGAEgIjcDLxgjBkgImOAQcAo+36BvcpCYIaIfADUABoC61wZkyohLl6ABU9Chbpw+5Uf66joeIZN3UDVcv6MHxCKn4+2DFMqr5wZz2VlQQSClVRmichQ4DBWH2YYY7aLyCxgB5AMPGmMSSmgmFRxsvxtOHMABi0Cv9LpZl24mMwjU8KJv5jC9IevpZK2DFMqX5y5Qj+Wy+c4/ABf4Lwxplx+N26MWYHVKgxjzGngtiyWexurZZlSeXNkHaz9DMIegnod081KTTW8MPtvdhyN4etBYTSqqi3DlMovZ45c0n3TRKQHVlNgpYqGpASrOqx8Lbjjv1fM/nDZXn7aeoxX72rCrSFVPRCgUsVPriuVjTHzycc1LkoVuBXvwqk90PUj8E9/VLLo7yg+XraXPqG1ePjGeh4KUKnix5lqsZ4OT72AMLJoCqxUoROxAf74GNoMhKvT17r+fSSaF2b/Tdvgirx1r7YMU8qVnGkt5jiuSzJWv1/d3RKNUq6UnAgLnoCy1eHOt9LNOnYugUemhFOlrNUyzN9HexRSypWcOeei47qoomnlaDi5C/rPgYDylybHX0zhkSnhnE9MZurQ6wkqk3k3+0qpvMtumOP/ZLOeMca86YZ4lHKNqM2w+n9wTT9oeMelycYYXpjzN9uizvHVwDAaV9OWYUq5Q3ZHLuczmVYaq+v7IECTiyqcki9arcNKV4HO76Sb9dGyvfy45SgjuoRwWxNtGaaUu2Q3zPH7aY9FpCxWF/lDgG+B97NaTymPW/0BHN8G98+EwIqXJv+45SgfLt1Lrza1GNaxvgcDVKr4y/aciz2A17+B/ljd4LdJG8BLqULp2FZYNQZa9IGQuy5N3hpxjudnbya0bkXe6aktw5Ryt+zOuYwBegITgBbGmLgCi0qpvEhJgvlPWEcrXUZfmnw8JoGHp6wnqLQ/XzyoLcOUKgjZXUT5PFZHka8BUSISY99iRSSmYMJTKhfWfAjHtsDdH0CpSgAkJKUwbEo4sQnJfDUojMraMkypApHdORftElYVHSd2Wk2Pm90LTa3RIIwxvDhnC1siz/HFgFCaVM93d3hKKSdpAlFFX0qyVR3mXxbuGntp8qe/7WPR31G82Kkxdzar5sEAlSp5nLlCX6nCbe2nELURek+E0pUBWLz1KO//uoeerWvy+E0NPBygUiWPHrmoou3kHlj+DoTcA82sbvC2RZ7j37P+pnWdCrzTs4W2DFPKAzS5qKIrNcW6WNKvlHUSX4QTMVafYRVL+TLhwTACfLVlmFKeoNViquj6azxErIOeX0LZqlbLsKkbiL6QxJzHO1ClrLYMU8pTNLmooun0flj2X2jUBVr0wRjDy99vYfORaMYPCKVZjfI5l6GUchutFlNFT2oqLHgKfPzhnv+BCONW7GfBZqtlWOfm2jJMKU/TIxdV9Kz/Eg7/Ad3HQbnq/LztGGOW7KZ7qxo8cbO2DFOqMNAjF1W0nDkIS0fC1XdAq35sjzrHv77bzDW1K/Ber5baMkypQkKTiyo6UlNh4dMg3tD1Q07EJfLI5HAqlPLlywdDtWWYUoWIJhdVdGz4Bg79Dp3eJqFUdR6duoEzFy7y5cAwrioX4OnolFIO9JyLKvxij8G3/az+w+rfgmn9ICNmb2HT4Wg+79+G5jW1ZZhShY0mF1X4rXwPIjeAlw90+5jxqw4yb1Mk/76jEV1aVPd0dEqpTGhyUYXbiV2wYbL9RFi5P4bRS/6h6zU1ePrWqz0amlIqa3rORRVOxsDWOSSP74gxKQBcTDUcmT+SljXLM6a3tgxTqjAr8OQiIrVFZLmI7BSR7SLyrD29koj8KiJ77fuKDuuMEJF9IrJbRDoVdMyqgEUfgRn3wfdD8Uq5SFoK8SOZXl4r6dfMX1uGKVXIeeLIJRl43hjTBGgPPCkiTYHhwDJjTENgmf0ce979QDOgMzBORPSXpThKTYG/voBx7eHQ7/wtISSR/q32IhWf1WOzKEApVVgUeHIxxhw1xmy0H8cCO4GaQHcgrXJ9MtDDftwd+NYYk2iMOQjsA9oVaNDK/U7shImdYPFLUPtaeOJPfFLi8ZfkdIv5SzIhSTs9FKRSylkePaEvIsFAa+AvoKox5ihYCUhErrIXqwn86bBahD0ts/KGAcMA6tSp46aolUslJ8Lv78PvH1gjSfb8Elr04cjZeHqlvkfCxdQrVqlZIZA1HghVKeU8jyUXESkDfA88Z4yJyebkbGYzTGYLGmMmABMAwsLCMl1GFSKH/7SuuD+1B1reB53eIcGvIhN+28dny/eRmmrw8RKSUy+/lYG+3rzYqbEHg1ZKOcMjyUVEfLESy3RjzFx78nERqW4ftVQHTtjTI4DaDqvXAqIKLlrlcgkxVv9g4V9D+Tow4Hu4+nZ+23WcNxat4p/TF7i7RXVevbsJ6w6eYcyS3URFx1OjQiAvdmpMj9aZHrgqpQqRAk8uYh2ifA3sNMZ84DBrITAIGGXfL3CYPkNEPgBqAA2BdQUXsXKpXT/Bj89D3DFo/yTc8gqH47x4Y9J6lu06QYMqpZk29FpuaFgZgB6ta2oyUaoI8sSRy/XAg8BWEdlsT3sFK6nMEpGhwGGgD4AxZruIzAJ2YLU0e9KkXfigio7Y49bJ+h3z4apmcN80Eqq24vMV+/l85X58vIQRXUIYcn09/Hz08iuliroCTy7GmNVkfh4F4LYs1nkbeNttQSn3MQY2TYNfXoWkBLj1/zDXPcPSPWf574yVHDkTT9dravDqXU2oVl47n1SquNDuX5T7nN4Pi561ejKuez10/YhD1GDk1M2s2H2ShleVYcYj13Jdg8qejlQp5WKaXJTrpSTB2k9hxSjw9oeuHxHfvD/jVh7gi5Wr8PPx4rW7mzDoumB8vbUKTKniSJOLcq2oTVbz4mNboUlXTJfRLDnsxZv/+53I6Hh6tKrBK3c10fFXlCrmNLko17h4AVa8A2s/g9JXQd+pHKhyK6/P3s7ve08RUq0s3w1rz7X1gzwdqVKqAGhyUfm3/zdY9BxE/wOhg7lw03/45I+TfDV9FQE+3vznnqYM7FAXH60CU6rE0OSi8u7CGVjyKvw9A4Kuxgz+kZ9iGvDWZ5s5ei6Bnm1qMrxLCFeV1SowpUoaTS4q94yBbd/D4pchIRpufIH9TR7n9Z/2s3rfRppUL8cnD7QmLLiSpyNVSnmIJheVO9FHrCvs9y6BGm240GUuH2314+tP1xHo580b3ZrR/9o6WgWmVAmnyUU5JzUF1n8Fy/4LJhXT6R0WBXbj7am7OR6TSN+wWrzUOYTKZfw9HalSqhDQ5KJydmKn1bw4Yj00uI0D7d/i1eUxrD2wheY1y/H5gFDa1KmYczlKqRJDk4vKWnIirBoLq/8H/mWJ7/o570ddw6RvDlHa34c3ezSnX7s6eHvpWPZKqfQ0uajM/bMWFj0Dp/ZgWvZlcY1nGPnzcU7GHeL+trV5sVMIlUr7eTpKpVQhpclFpZdwDpa+cWmslSN3T+X5jVVYt+4wLWuVZ8LAMFrVruDpKJVShZwmF3XZrh/hxxcg9iiJYY/yfnIfvp53knIBsbzbswV9w2prFZhSyimaXJQ91sqLsGMB5qqmLL/mfV7604/T50/Qr10dXrizMRW1CkwplQuaXEoyY2DTVPjlNUhK4ETbl3j6nxv5a2ksrWoH8s3gtrSoVd7TUSqliiBNLiWVw1grybU7MK7M03y4GiqUSmR0r5b0Dq2Fl1aBKaXySJNLSZOSBH98Aivfw3j7saHF6zy2vRln4pMZ0L4uz9/RmPKlfD0dpVKqiNPkUpJEboSFz8DxrZwL7sy/Yvvz23pvQuuWZVK3ZjSvqVVgSinX0ORSnMUegzlDoPs4q+uWP8eRWqoK3wa/zau76xFU2o+xfZrQs3VNrQJTSrmUJpfibOVo62LI8TfAxTj21e7NQ5Fdidjty6AOwfzrjkaUD9QqMKWU62lyKS5SkiHuGJyLhJgIdm1ZR8M9E/HGkHoxjtf8XmLG3la0Da7IF92b06R6OU9HrJQqxjS5FAWpqXD+xKXEYd1HwrkI+z7SSiwm9dIqIVgtjRFIMt6EXNhI//Zdeat7C0S0Ckwp5V6aXDzNGGtEx6ySRkwExByF1KR0q6V6+xMfWJ04/6qcLRXKqTJBRBFEZEpFNkTG85XPaALEWsdfUujjvYq+O/ciPVp6Yi+VUiWMJhd3SziXZdIw5yIhJgpJjk+3Sor4EONbhdPeVThOAyJ92/FPcgX2J1bgSEolokwlzlIWzl8+Agnw9SKotD8VS/tyn3yIYNKV6UUqfc7PAHoVxF4rpUo4TS4O5m+KZOLPa3k1fgxvBb7E0M7t6dG6ZtYrXDzvcHQRRfLZI1w8c4SU6Ai8YiPxO38U3+Tz6VZJxYvTUpGjJogjKZWJMo05aoKIMkEcNZWIMkGcojxljB9Bpf2oWNq6r1Taj+DS/oTajx1vQWX8KOV3+a3c88bT+JvkdNv1l2Ta++536eullFJZ0eRim78pkhFzt/KKmUlb793cd34an82NwfdIaZqXiSP57GGIicQnLoqA+GOUTTxOqZTYdGX4AGdNeaJMEMdMJaJMA46aShwjiDj/aiSUqo4pU40KZQKtpGAnh1Zl/Lm11OVEUbGUH34+eR8meEe3H+k+dyvxSSmXpgX6evNuzxY0ynOpSinlvCKTXESkM/AR4A18ZYwZ5cryxyzZTZmkU/TzX4aXGAb4/MYAfoONl5c5a8pw1ASxnyDO+jQgNqAq8aWqkVS6BqZcTXwq1KRCuTJ20vCnQWlfKpX2p3ygb4H2Jpx2tDVmyW6iouOpUSGQFzs1zv4oTCmlXKhIJBcR8QY+A+4AIoD1IrLQGLPDVduIio7nvz7zLp2pSDZe/JUawriU7jzV/SZKVa5DxQoVqV3alyb+PoW+xVWP1jU1mSilPKZIJBegHbDPGHMAQES+BboDLksuLcrH0ydhJT5ipRcfSaWN1z5iSjWkw7UdXLUZpZQqEfJesV+wagJHHJ5H2NPSEZFhIhIuIuEnT57M1QY+rP5rpi2sPqr+Sx7CVUqpkq2oJJfM6qDMFROMmWCMCTPGhFWpUiVXG6ifsB1/ubKFVf2E7bkqRymlVNGpFosAajs8rwVEuXQLj612aXFKKVWSFZUjl/VAQxGpJyJ+wP3AQg/HpJRSKgtF4sjFGJMsIk8BS7CaIk80xmh9lVJKFVJFIrkAGGN+An7ydBxKKaVyVlSqxZRSShUhmlyUUkq5nBhzRYveYkFETgL/5HH1ysApF4bjScVlX4rLfoDuS2FVXPYlv/tR1xiTu2s5MlFsk0t+iEi4MSbM03G4QnHZl+KyH6D7UlgVl30pLPuh1WJKKaVcTpOLUkopl9PkkrkJng7AhYrLvhSX/QDdl8KquOxLodgPPeeilFLK5fTIRSmllMtpclFKKeVyJSK5iEhtEVkuIjtFZLuIPGtPryQiv4rIXvu+oj09yF4+TkQ+zaLMhSKyrSD3w96uy/ZFRFaIyG4R2Wzfriqi++EnIhNEZI+I7BKRXgW1H67cFxEp6/BebBaRUyLyYVHcF3veAyKyVUS2iMjPIlK5CO/LffZ+bBeR0YV8P+4QkQ32a79BRG51KCvUnr5PRD4WceOQusaYYn8DqgNt7MdlgT1AU2A0MNyePhx4z35cGrgBeAz4NJPyegIzgG1FeV+AFUBYUX9PgDeAt+zHXkDlorovGcrdAHQsivuC1W/hibT3wl5/ZBHdlyDgMFDFfj4ZuK0Q70droIb9uDkQ6VDWOqAD1hhZi4Eubou7IN/swnIDFgB3ALuB6g5v4O4Myw3O5IesDLDafnMLPLm4eF9W4KHk4uL9OAKU9vQ+uGJfHOY1tPdLiuK+AL7ASaCu/UM2HhhWRPelLbDU4fmDwLjCvh/2dAFOA/72Mrsc5j0AfOGuOEtEtZgjEQnGyux/AVWNMUcB7HtnqoXeBN4HLrgrRme5YF8AvrGrYP7PrYfI2cjPfohIBfvhmyKyUURmi0hVN4abLRe9J2B98b8z9q+AJ+RnX4wxScDjwFasgf2aAl+7M97s5PN92QeEiEiwiPgAPUg/eGGBycN+9AI2GWMSsYaGj3CYl+lw8a5SopKLiJQBvgeeM8bE5GH9VsDVxph5ro4tD7Hka19s/Y0xLYAb7duDrorPWS7YDx+skUnXGGPaAGuBsS4M0Wkuek/S3A/MzH9UeeOC74ovVnJpDdQAtgAjXBqk87Hka1+MMWex9uU74HfgEJCc3TrukNv9EJFmwHvAo2mTMlnMbX9eSkxysT/s3wPTjTFz7cnHRaS6Pb86Vh1xdjoAoSJyCKtqrJGIrHBPxFlz0b5gjIm072OxziG1c0/EmXPRfpzGOopMS/izgTZuCDdbrnpP7GWvAXyMMRvcEmzO23fFvrQCMMbst4++ZgHXuSfirLnwu7LIGHOtMaYDVnXUXnfFnJnc7oeI1ML6Tgw0xuy3J0dg/RFL4/rh4h2UiORiV/d8Dew0xnzgMGshMMh+PAirLjNLxpjPjTE1jDHBWCf+9hhjbnZ9xFlz1b6IiE9a6x37g3sPUGCt31z4nhhgEXCzPek2YIdLg82Bq/bFwQN46KjFhfsSCTQVkbTede8Adroy1py48n0RuyWl3SLrCeAr10ab7bZztR92VfGPwAhjzJq0he2qs1gRaW+XORDnP5O556mTUgV5w0oEBuvQfLN9uwurFcgyrH8hy4BKDuscAs4AcVgZv2mGMoPxTGsxl+wLVsuYDXY524GPAO+ith/29LrAKrusZUCdovieOMw7AIQU9e8KVqurnXZZi4CgIrwvM7H+tOwA7i/M+wG8Bpx3WHYzcJU9LwzrT+R+4FPc2GBEu39RSinlciWiWkwppVTB0uSilFLK5TS5KKWUcjlNLkoppVxOk4tSSimX0+SilIuIZbWIdHGY1ldEfvZkXEp5gjZFVsqFRKQ5Vi8BrQFvrGsMOpvLV0nnpixvY0yKayNUqmBoclHKxezxPs5jXah6HusizxZY/aCNNMYssDsgnGovA/CUMeYPEbkZeB04CrQyxjQt2OiVcg1NLkq5mIiUBjYCF4EfgO3GmGl2txzrsI5qDJBqjEkQkYbATGNMmJ1cfgSaG2MOeiJ+pVzBx9MBKFXcGGPOi8h3WF2I9AW6isgL9uwAoA5Wh4Gf2j1tpwCNHIpYp4lFFXWaXJRyj1T7JkAvY8xux5kiMhI4DlyD1bAmwWH2+QKKUSm30dZiSrnXEuDptIHYRKS1Pb08cNQYk4o1jo63h+JTyi00uSjlXm9iDfm7RUS22c8BxgGDRORPrCoxPVpRxYqe0FdKKeVyeuSilFLK5TS5KKWUcjlNLkoppVxOk4tSSimX0+SilFLK5TS5KKWUcjlNLkoppVzu/wH9qV9Ar0blewAAAABJRU5ErkJggg==\n",
      "text/plain": [
       "<Figure size 432x288 with 1 Axes>"
      ]
     },
     "metadata": {
      "needs_background": "light"
     },
     "output_type": "display_data"
    }
   ],
   "source": [
    "x_year = [2014,2015,2016,2017,2018,2019,2020]\n",
    "y1 = [adult_2014,adult_2015, adult_2016, adult_2017,adult_2018,adult_2019,adult_2020]\n",
    "plt.plot(x_year,y1, label = \"Adult Content\", marker = 'o')\n",
    "y2 = [childrens_2014,childrens_2015,childrens_2016,childrens_2017,childrens_2018,childrens_2019,childrens_2020]\n",
    "plt.plot(x_year,y2, label = \"Family Content\", marker = '^')\n",
    "plt.title('Comparison of Adult Content vs. Family Content 2014-2020')\n",
    "plt.xlabel('Year')\n",
    "plt.ylabel('Number of ratings')\n",
    "plt.legend()\n",
    "plt.savefig(\"images/Final_Comparison_Line_graph.png\")\n",
    "plt.show()"
   ]
  },
  {
   "cell_type": "code",
   "execution_count": null,
   "metadata": {},
   "outputs": [],
   "source": []
  }
 ],
 "metadata": {
  "kernelspec": {
   "display_name": "Python 3",
   "language": "python",
   "name": "python3"
  },
  "language_info": {
   "codemirror_mode": {
    "name": "ipython",
    "version": 3
   },
   "file_extension": ".py",
   "mimetype": "text/x-python",
   "name": "python",
   "nbconvert_exporter": "python",
   "pygments_lexer": "ipython3",
   "version": "3.8.5"
  }
 },
 "nbformat": 4,
 "nbformat_minor": 4
}
