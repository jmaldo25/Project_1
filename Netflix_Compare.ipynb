{
 "cells": [
  {
   "cell_type": "code",
   "execution_count": 70,
   "metadata": {},
   "outputs": [
    {
     "data": {
      "text/html": [
       "<div>\n",
       "<style scoped>\n",
       "    .dataframe tbody tr th:only-of-type {\n",
       "        vertical-align: middle;\n",
       "    }\n",
       "\n",
       "    .dataframe tbody tr th {\n",
       "        vertical-align: top;\n",
       "    }\n",
       "\n",
       "    .dataframe thead th {\n",
       "        text-align: right;\n",
       "    }\n",
       "</style>\n",
       "<table border=\"1\" class=\"dataframe\">\n",
       "  <thead>\n",
       "    <tr style=\"text-align: right;\">\n",
       "      <th></th>\n",
       "      <th>show_id</th>\n",
       "      <th>type</th>\n",
       "      <th>title</th>\n",
       "      <th>director</th>\n",
       "      <th>cast</th>\n",
       "      <th>country</th>\n",
       "      <th>country.1</th>\n",
       "      <th>country.2</th>\n",
       "      <th>YEAR_added</th>\n",
       "      <th>release_year</th>\n",
       "      <th>rating</th>\n",
       "      <th>duration</th>\n",
       "      <th>TYPE1/listed_in</th>\n",
       "      <th>TYPE2</th>\n",
       "      <th>TYPE3</th>\n",
       "      <th>description</th>\n",
       "    </tr>\n",
       "  </thead>\n",
       "  <tbody>\n",
       "    <tr>\n",
       "      <th>0</th>\n",
       "      <td>s1</td>\n",
       "      <td>TV Show</td>\n",
       "      <td>3%</td>\n",
       "      <td>NaN</td>\n",
       "      <td>João Miguel, Bianca Comparato, Michel Gomes, R...</td>\n",
       "      <td>Brazil</td>\n",
       "      <td>NaN</td>\n",
       "      <td>NaN</td>\n",
       "      <td>2020.0</td>\n",
       "      <td>2020</td>\n",
       "      <td>TV-MA</td>\n",
       "      <td>4 Seasons</td>\n",
       "      <td>International TV Shows</td>\n",
       "      <td>TV Dramas</td>\n",
       "      <td>TV Sci-Fi &amp; Fantasy</td>\n",
       "      <td>In a future where the elite inhabit an island ...</td>\n",
       "    </tr>\n",
       "    <tr>\n",
       "      <th>1</th>\n",
       "      <td>s2</td>\n",
       "      <td>Movie</td>\n",
       "      <td>7:19</td>\n",
       "      <td>Jorge Michel Grau</td>\n",
       "      <td>Demián Bichir, Héctor Bonilla, Oscar Serrano, ...</td>\n",
       "      <td>Mexico</td>\n",
       "      <td>NaN</td>\n",
       "      <td>NaN</td>\n",
       "      <td>2016.0</td>\n",
       "      <td>2016</td>\n",
       "      <td>TV-MA</td>\n",
       "      <td>93 min</td>\n",
       "      <td>Dramas</td>\n",
       "      <td>International Movies</td>\n",
       "      <td>NaN</td>\n",
       "      <td>After a devastating earthquake hits Mexico Cit...</td>\n",
       "    </tr>\n",
       "    <tr>\n",
       "      <th>2</th>\n",
       "      <td>s3</td>\n",
       "      <td>Movie</td>\n",
       "      <td>23:59</td>\n",
       "      <td>Gilbert Chan</td>\n",
       "      <td>Tedd Chan, Stella Chung, Henley Hii, Lawrence ...</td>\n",
       "      <td>Singapore</td>\n",
       "      <td>NaN</td>\n",
       "      <td>NaN</td>\n",
       "      <td>2018.0</td>\n",
       "      <td>2011</td>\n",
       "      <td>R</td>\n",
       "      <td>78 min</td>\n",
       "      <td>Horror Movies</td>\n",
       "      <td>International Movies</td>\n",
       "      <td>NaN</td>\n",
       "      <td>When an army recruit is found dead, his fellow...</td>\n",
       "    </tr>\n",
       "    <tr>\n",
       "      <th>3</th>\n",
       "      <td>s4</td>\n",
       "      <td>Movie</td>\n",
       "      <td>9</td>\n",
       "      <td>Shane Acker</td>\n",
       "      <td>Elijah Wood, John C. Reilly, Jennifer Connelly...</td>\n",
       "      <td>United States</td>\n",
       "      <td>NaN</td>\n",
       "      <td>NaN</td>\n",
       "      <td>2017.0</td>\n",
       "      <td>2009</td>\n",
       "      <td>PG-13</td>\n",
       "      <td>80 min</td>\n",
       "      <td>Action &amp; Adventure</td>\n",
       "      <td>Independent Movies</td>\n",
       "      <td>Sci-Fi &amp; Fantasy</td>\n",
       "      <td>In a postapocalyptic world, rag-doll robots hi...</td>\n",
       "    </tr>\n",
       "    <tr>\n",
       "      <th>4</th>\n",
       "      <td>s5</td>\n",
       "      <td>Movie</td>\n",
       "      <td>21</td>\n",
       "      <td>Robert Luketic</td>\n",
       "      <td>Jim Sturgess, Kevin Spacey, Kate Bosworth, Aar...</td>\n",
       "      <td>United States</td>\n",
       "      <td>NaN</td>\n",
       "      <td>NaN</td>\n",
       "      <td>2020.0</td>\n",
       "      <td>2008</td>\n",
       "      <td>PG-13</td>\n",
       "      <td>123 min</td>\n",
       "      <td>Dramas</td>\n",
       "      <td>NaN</td>\n",
       "      <td>NaN</td>\n",
       "      <td>A brilliant group of students become card-coun...</td>\n",
       "    </tr>\n",
       "  </tbody>\n",
       "</table>\n",
       "</div>"
      ],
      "text/plain": [
       "  show_id     type  title           director  \\\n",
       "0      s1  TV Show     3%                NaN   \n",
       "1      s2    Movie   7:19  Jorge Michel Grau   \n",
       "2      s3    Movie  23:59       Gilbert Chan   \n",
       "3      s4    Movie      9        Shane Acker   \n",
       "4      s5    Movie     21     Robert Luketic   \n",
       "\n",
       "                                                cast        country country.1  \\\n",
       "0  João Miguel, Bianca Comparato, Michel Gomes, R...         Brazil       NaN   \n",
       "1  Demián Bichir, Héctor Bonilla, Oscar Serrano, ...         Mexico       NaN   \n",
       "2  Tedd Chan, Stella Chung, Henley Hii, Lawrence ...      Singapore       NaN   \n",
       "3  Elijah Wood, John C. Reilly, Jennifer Connelly...  United States       NaN   \n",
       "4  Jim Sturgess, Kevin Spacey, Kate Bosworth, Aar...  United States       NaN   \n",
       "\n",
       "  country.2  YEAR_added  release_year rating   duration  \\\n",
       "0       NaN      2020.0          2020  TV-MA  4 Seasons   \n",
       "1       NaN      2016.0          2016  TV-MA     93 min   \n",
       "2       NaN      2018.0          2011      R     78 min   \n",
       "3       NaN      2017.0          2009  PG-13     80 min   \n",
       "4       NaN      2020.0          2008  PG-13    123 min   \n",
       "\n",
       "          TYPE1/listed_in                  TYPE2                 TYPE3  \\\n",
       "0  International TV Shows              TV Dramas   TV Sci-Fi & Fantasy   \n",
       "1                  Dramas   International Movies                   NaN   \n",
       "2           Horror Movies   International Movies                   NaN   \n",
       "3      Action & Adventure     Independent Movies      Sci-Fi & Fantasy   \n",
       "4                  Dramas                    NaN                   NaN   \n",
       "\n",
       "                                         description  \n",
       "0  In a future where the elite inhabit an island ...  \n",
       "1  After a devastating earthquake hits Mexico Cit...  \n",
       "2  When an army recruit is found dead, his fellow...  \n",
       "3  In a postapocalyptic world, rag-doll robots hi...  \n",
       "4  A brilliant group of students become card-coun...  "
      ]
     },
     "execution_count": 70,
     "metadata": {},
     "output_type": "execute_result"
    }
   ],
   "source": [
    "# Dependencies and Setup\n",
    "import matplotlib.pyplot as plt\n",
    "import pandas as pd\n",
    "import scipy.stats as st\n",
    "import numpy as np\n",
    "from scipy import stats\n",
    "\n",
    "# Set up read of csv file\n",
    "netflix_path = \"netflix_template.csv\"\n",
    "\n",
    "netflix_info = pd.read_csv(netflix_path)\n",
    "\n",
    "# testing to ensure csv was read\n",
    "netflix_info.head()"
   ]
  },
  {
   "cell_type": "code",
   "execution_count": 72,
   "metadata": {},
   "outputs": [],
   "source": [
    "import seaborn as sns\n",
    "# loc to find ratings and count on overall dataset\n",
    "netflix_info_ratings = netflix_info['rating'].value_counts()\n",
    "#netflix_info_ratings"
   ]
  },
  {
   "cell_type": "code",
   "execution_count": 73,
   "metadata": {},
   "outputs": [],
   "source": [
    "# create DFs for each rating to be used later\n",
    "netflix_info_tvma = netflix_info.loc[netflix_info[\"rating\"]== 'TV-MA']\n",
    "netflix_info_tvma = pd.DataFrame(netflix_info_tvma)\n",
    "\n",
    "netflix_info_tv14 = netflix_info.loc[netflix_info[\"rating\"]== 'TV-14']\n",
    "netflix_info_tv14 = pd.DataFrame(netflix_info_tv14)\n",
    "\n",
    "netflix_info_tvpg = netflix_info.loc[netflix_info[\"rating\"]=='TV-PG']\n",
    "netflix_info_tvpg =pd.DataFrame(netflix_info_tvpg)\n",
    "\n",
    "netflix_info_r = netflix_info.loc[netflix_info[\"rating\"]=='R']\n",
    "netflix_info_r =pd.DataFrame(netflix_info_r)\n",
    "\n",
    "netflix_info_pg13 = netflix_info.loc[netflix_info[\"rating\"]=='PG-13']\n",
    "netflix_info_pg13 =pd.DataFrame(netflix_info_pg13)\n",
    "\n",
    "netflix_info_tvy = netflix_info.loc[netflix_info[\"rating\"]=='TV-Y']\n",
    "netflix_info_tvy =pd.DataFrame(netflix_info_tvy)\n",
    "\n",
    "netflix_info_tvy7 = netflix_info.loc[netflix_info[\"rating\"]=='TV-Y7']\n",
    "netflix_info_tvy7 =pd.DataFrame(netflix_info_tvy7)\n",
    "\n",
    "netflix_info_pg = netflix_info.loc[netflix_info[\"rating\"]=='PG']\n",
    "netflix_info_pg =pd.DataFrame(netflix_info_pg)\n",
    "\n",
    "netflix_info_tvg = netflix_info.loc[netflix_info[\"rating\"]=='TV-G']\n",
    "netflix_info_tvg =pd.DataFrame(netflix_info_tvg)\n",
    "\n",
    "netflix_info_nr = netflix_info.loc[netflix_info[\"rating\"]=='NR']\n",
    "netflix_info_nr =pd.DataFrame(netflix_info_nr)\n",
    "\n",
    "netflix_info_g = netflix_info.loc[netflix_info[\"rating\"]=='G']\n",
    "netflix_info_g =pd.DataFrame(netflix_info_g)\n",
    "\n",
    "netflix_info_tvy7fv = netflix_info.loc[netflix_info[\"rating\"]=='TV-Y7-FV']\n",
    "netflix_info_tvy7fv =pd.DataFrame(netflix_info_tvy7fv)\n",
    "\n",
    "netflix_info_ur = netflix_info.loc[netflix_info[\"rating\"]=='UR']\n",
    "netflix_info_ur =pd.DataFrame(netflix_info_ur)\n",
    "\n",
    "netflix_info_nc17 = netflix_info.loc[netflix_info[\"rating\"]=='NC-17']\n",
    "netflix_info_nc17 =pd.DataFrame(netflix_info_nc17)\n"
   ]
  },
  {
   "cell_type": "code",
   "execution_count": 75,
   "metadata": {},
   "outputs": [],
   "source": [
    "# find percentage of each rating\n",
    "percent_tvma = len(netflix_info_tvma) / len(netflix_info) *100\n",
    "percent_tv14 = len(netflix_info_tv14) / len(netflix_info) *100\n",
    "percent_tvpg = len(netflix_info_tvpg) / len(netflix_info) *100\n",
    "percent_r = len(netflix_info_r) / len(netflix_info) *100\n",
    "percent_pg13 = len(netflix_info_pg13) / len(netflix_info) *100\n",
    "percent_tvy = len(netflix_info_tvy) / len(netflix_info) *100\n",
    "percent_tvy7 = len(netflix_info_tvy7) / len(netflix_info) *100\n",
    "percent_pg = len(netflix_info_pg) / len(netflix_info) *100\n",
    "percent_tvg = len(netflix_info_tvg) / len(netflix_info) *100\n",
    "percent_nr = len(netflix_info_nr) / len(netflix_info) *100\n",
    "percent_g = len(netflix_info_g) / len(netflix_info) *100\n",
    "percent_tvy7fv = len(netflix_info_tvy7fv) / len(netflix_info) *100\n",
    "percent_ur = len(netflix_info_ur) / len(netflix_info) *100\n",
    "percent_nc17 = len(netflix_info_nc17) / len(netflix_info) *100\n",
    "\n",
    "\n",
    "percentage_ratings = pd.DataFrame({ 'Rating': ['TV-MA', 'TV-14', 'TV-PG', 'R', 'PG-13', 'TV-Y', 'TV-Y7', 'PG',\n",
    "                                                     'TV-G', 'NR', 'G', 'TV-Y7-FV', 'UR', 'NC-17'],\n",
    "                                          'Percentage': [percent_tvma, percent_tv14, percent_tvpg, percent_r, percent_pg13, percent_tvy, percent_tvy7,\n",
    "                                                         percent_pg, percent_tvg, percent_nr, percent_g, percent_tvy7fv, percent_ur, percent_nc17]})\n",
    "#percentage_ratings"
   ]
  },
  {
   "cell_type": "code",
   "execution_count": 76,
   "metadata": {},
   "outputs": [],
   "source": [
    "values = percentage_ratings['Percentage']\n",
    "labels = percentage_ratings['Rating']\n",
    "#plt.pie(values,labels = labels,autopct='%1.1f%%',explode=(0.1,0,0,0,0,0,0,0,0,0,0,0,0,0))\n",
    "#plt.title('Overall Ratings for Netflix')\n",
    "#plt.legend(labels,loc=3)"
   ]
  },
  {
   "cell_type": "code",
   "execution_count": 77,
   "metadata": {},
   "outputs": [
    {
     "data": {
      "image/png": "[encoded data removed]",
      "text/plain": [
       "<Figure size 1008x360 with 1 Axes>"
      ]
     },
     "metadata": {
      "needs_background": "light"
     },
     "output_type": "display_data"
    }
   ],
   "source": [
    "#create bar graph to show data comparison\n",
    "plt.figure(figsize=(14,5))\n",
    "g = sns.barplot(x=values, y=labels)\n",
    "plt.title('Overall Rating Percentage')\n",
    "plt.xlabel('Percentage')\n",
    "plt.ylabel('Rating')\n",
    "plt.savefig(\"images/overall_rating_percentages.png\")\n",
    "plt.show()\n"
   ]
  },
  {
   "cell_type": "code",
   "execution_count": 79,
   "metadata": {},
   "outputs": [],
   "source": [
    "# find info for items added in 2014\n",
    "netflix_info_2014 = netflix_info.loc[netflix_info[\"YEAR_added\"]==2014]\n",
    "netflix_info_2014 = pd.DataFrame(netflix_info_2014)\n",
    "#netflix_info_2014.head()\n"
   ]
  },
  {
   "cell_type": "code",
   "execution_count": 81,
   "metadata": {},
   "outputs": [],
   "source": [
    "#Find overall count of ratings for 2014\n",
    "netflix_info_2014_ratings = netflix_info_2014['rating'].value_counts()\n",
    "#netflix_info_2014_ratings"
   ]
  },
  {
   "cell_type": "code",
   "execution_count": 82,
   "metadata": {},
   "outputs": [],
   "source": [
    "# create DFs for each rating to be used later\n",
    "netflix_info_2014_tvma = netflix_info_2014.loc[netflix_info_2014[\"rating\"]== 'TV-MA']\n",
    "netflix_info_2014_tvma = pd.DataFrame(netflix_info_2014_tvma)\n",
    "\n",
    "netflix_info_2014_tvpg = netflix_info_2014.loc[netflix_info_2014[\"rating\"]=='TV-PG']\n",
    "netflix_info_2014_tvpg =pd.DataFrame(netflix_info_2014_tvpg)\n",
    "\n",
    "netflix_info_2014_pg = netflix_info_2014.loc[netflix_info_2014[\"rating\"]=='PG']\n",
    "netflix_info_2014_pg =pd.DataFrame(netflix_info_2014_pg)\n",
    "\n",
    "netflix_info_2014_tvy = netflix_info_2014.loc[netflix_info_2014[\"rating\"]=='TV-Y']\n",
    "netflix_info_2014_tvy =pd.DataFrame(netflix_info_2014_tvy)\n",
    "\n",
    "netflix_info_2014_tv14 = netflix_info_2014.loc[netflix_info_2014[\"rating\"]=='TV-14']\n",
    "netflix_info_2014_tv14 =pd.DataFrame(netflix_info_2014_tv14)\n",
    "\n",
    "netflix_info_2014_tvg = netflix_info_2014.loc[netflix_info_2014[\"rating\"]=='TV-G']\n",
    "netflix_info_2014_tvg =pd.DataFrame(netflix_info_2014_tvg)\n",
    "\n",
    "netflix_info_2014_g = netflix_info_2014.loc[netflix_info_2014[\"rating\"]=='G']\n",
    "netflix_info_2014_g =pd.DataFrame(netflix_info_2014_g)\n"
   ]
  },
  {
   "cell_type": "code",
   "execution_count": 83,
   "metadata": {},
   "outputs": [],
   "source": [
    "# find percentage of each rating\n",
    "percent_tvma_2014 = len(netflix_info_2014_tvma) / len(netflix_info_2014) *100\n",
    "percent_tvpg_2014 = len(netflix_info_2014_tvpg) / len(netflix_info_2014) *100\n",
    "percent_pg_2014 = len(netflix_info_2014_pg) / len(netflix_info_2014) *100\n",
    "percent_tvy_2014 = len(netflix_info_2014_tvy) / len(netflix_info_2014) *100\n",
    "percent_tv14_2014 = len(netflix_info_2014_tv14) / len(netflix_info_2014) *100\n",
    "percent_tvg_2014 = len(netflix_info_2014_tvg) / len(netflix_info_2014) *100\n",
    "percent_g_2014 = len(netflix_info_2014_g) / len(netflix_info_2014) *100\n",
    "\n",
    "percentage_2014_ratings = pd.DataFrame({ 'Rating': ['TV-MA', 'TV-PG', 'PG', 'TV-Y', 'TV-14', 'TV-G', 'G'],\n",
    "                                          'Percentage': [percent_tvma_2014, percent_tvpg_2014, percent_pg_2014, percent_tvy_2014,\n",
    "                                                       percent_tv14_2014, percent_tvg_2014, percent_g_2014]})           \n",
    "#percentage_2014_ratings"
   ]
  },
  {
   "cell_type": "code",
   "execution_count": 84,
   "metadata": {},
   "outputs": [],
   "source": [
    "#plt.pie(percentages_2014_ratings['Percentage'],labels = percentages_2014_ratings['Rating'],autopct='%1.1f%%',explode=(0.1,0,0,0,0,0,0))\n",
    "#plt.title('Ratings for 2014')\n"
   ]
  },
  {
   "cell_type": "code",
   "execution_count": 85,
   "metadata": {},
   "outputs": [
    {
     "data": {
      "image/png": "[encoded data removed]",
      "text/plain": [
       "<Figure size 1008x360 with 1 Axes>"
      ]
     },
     "metadata": {
      "needs_background": "light"
     },
     "output_type": "display_data"
    }
   ],
   "source": [
    "#create bar graph to show data comparison\n",
    "values = percentage_2014_ratings['Percentage']\n",
    "labels = percentage_2014_ratings['Rating']\n",
    "\n",
    "plt.figure(figsize=(14,5))\n",
    "g = sns.barplot(x=values, y=labels)\n",
    "plt.title('2014 Rating Percentage')\n",
    "plt.xlabel('Percentage')\n",
    "plt.ylabel('Rating')\n",
    "plt.savefig(\"images/2014_rating_percentages.png\")\n",
    "plt.show()"
   ]
  },
  {
   "cell_type": "code",
   "execution_count": 86,
   "metadata": {},
   "outputs": [],
   "source": [
    "# find info for items added in 2015\n",
    "netflix_info_2015 = netflix_info.loc[netflix_info[\"YEAR_added\"]==2015]\n",
    "netflix_info_2015 = pd.DataFrame(netflix_info_2015)\n",
    "#netflix_info_2015.head()"
   ]
  },
  {
   "cell_type": "code",
   "execution_count": 87,
   "metadata": {},
   "outputs": [],
   "source": [
    "#Find overall count of ratings for 2015\n",
    "netflix_info_2015_ratings = netflix_info_2015['rating'].value_counts()\n",
    "#netflix_info_2015_ratings"
   ]
  },
  {
   "cell_type": "code",
   "execution_count": 88,
   "metadata": {},
   "outputs": [],
   "source": [
    "netflix_info_2015_tvma = netflix_info_2015.loc[netflix_info_2015[\"rating\"]== 'TV-MA']\n",
    "netflix_info_2015_tvma = pd.DataFrame(netflix_info_2015_tvma)\n",
    "\n",
    "netflix_info_2015_tv14 = netflix_info_2015.loc[netflix_info_2015[\"rating\"]== 'TV-14']\n",
    "netflix_info_2015_tv14 = pd.DataFrame(netflix_info_2015_tv14)\n",
    "\n",
    "netflix_info_2015_tvpg = netflix_info_2015.loc[netflix_info_2015[\"rating\"]=='TV-PG']\n",
    "netflix_info_2015_tvpg =pd.DataFrame(netflix_info_2015_tvpg)\n",
    "\n",
    "netflix_info_2015_r = netflix_info_2015.loc[netflix_info_2015[\"rating\"]=='R']\n",
    "netflix_info_2015_r =pd.DataFrame(netflix_info_2015_r)\n",
    "\n",
    "netflix_info_2015_pg13 = netflix_info_2015.loc[netflix_info_2015[\"rating\"]=='PG-13']\n",
    "netflix_info_2015_pg13 =pd.DataFrame(netflix_info_2015_pg13)\n",
    "\n",
    "netflix_info_2015_tvy = netflix_info_2015.loc[netflix_info_2015[\"rating\"]=='TV-Y']\n",
    "netflix_info_2015_tvy =pd.DataFrame(netflix_info_2015_tvy)\n",
    "\n",
    "netflix_info_2015_tvy7 = netflix_info_2015.loc[netflix_info_2015[\"rating\"]=='TV-Y7']\n",
    "netflix_info_2015_tvy7 =pd.DataFrame(netflix_info_2015_tvy7)\n",
    "\n",
    "netflix_info_2015_pg = netflix_info_2015.loc[netflix_info_2015[\"rating\"]=='PG']\n",
    "netflix_info_2015_pg =pd.DataFrame(netflix_info_2015_pg)\n",
    "\n",
    "netflix_info_2015_tvg = netflix_info_2015.loc[netflix_info_2015[\"rating\"]=='TV-G']\n",
    "netflix_info_2015_tvg =pd.DataFrame(netflix_info_tvg)\n",
    "\n",
    "netflix_info_2015_nr = netflix_info_2015.loc[netflix_info_2015[\"rating\"]=='NR']\n",
    "netflix_info_2015_nr =pd.DataFrame(netflix_info_2015_nr)\n",
    "\n",
    "netflix_info_2015_g = netflix_info_2015.loc[netflix_info_2015[\"rating\"]=='G']\n",
    "netflix_info_2015_g =pd.DataFrame(netflix_info_2015_g)\n",
    "\n",
    "netflix_info_2015_tvy7fv = netflix_info_2015.loc[netflix_info_2015[\"rating\"]=='TV-Y7-FV']\n",
    "netflix_info_2015_tvy7fv =pd.DataFrame(netflix_info_2015_tvy7fv)\n",
    "\n",
    "netflix_info_2015_ur = netflix_info_2015.loc[netflix_info_2015[\"rating\"]=='UR']\n",
    "netflix_info_2015_ur =pd.DataFrame(netflix_info_2015_ur)\n",
    "\n",
    "netflix_info_2015_nc17 = netflix_info_2015.loc[netflix_info_2015[\"rating\"]=='NC-17']\n",
    "netflix_info_2015_nc17 =pd.DataFrame(netflix_info_2015_nc17)\n"
   ]
  },
  {
   "cell_type": "code",
   "execution_count": 89,
   "metadata": {},
   "outputs": [],
   "source": [
    "# find percentage of each rating\n",
    "percent_tvma_2015 = len(netflix_info_2015_tvma) / len(netflix_info_2015) *100\n",
    "percent_tv14_2015 = len(netflix_info_2015_tv14) / len(netflix_info_2015) *100\n",
    "percent_tvpg_2015 = len(netflix_info_2015_tvpg) / len(netflix_info_2015) *100\n",
    "percent_r_2015 = len(netflix_info_2015_r) / len(netflix_info_2015) *100\n",
    "percent_pg13_2015 = len(netflix_info_2015_pg13) / len(netflix_info_2015) *100\n",
    "percent_tvy_2015 = len(netflix_info_2015_tvy) / len(netflix_info_2015) *100\n",
    "percent_tvy7_2015 = len(netflix_info_2015_tvy7) / len(netflix_info_2015) *100\n",
    "percent_pg_2015 = len(netflix_info_2015_pg) / len(netflix_info_2015) *100\n",
    "percent_tvg_2015 = len(netflix_info_2015_tvg) / len(netflix_info) *100\n",
    "percent_nr_2015 = len(netflix_info_2015_nr) / len(netflix_info) *100\n",
    "percent_g_2015= len(netflix_info_2015_g) / len(netflix_info) *100\n",
    "percent_tvy7fv_2015 = len(netflix_info_2015_tvy7fv) / len(netflix_info) *100\n",
    "percent_ur_2015 = len(netflix_info_2015_ur) / len(netflix_info_2015) *100\n",
    "percent_nc17_2015 = len(netflix_info_2015_nc17) / len(netflix_info_2015) *100\n",
    "\n",
    "\n",
    "percentage_ratings_2015 = pd.DataFrame({ 'Rating': ['TV-MA', 'TV-14', 'TV-PG', 'R', 'PG-13', 'TV-Y', 'TV-Y7', 'PG',\n",
    "                                                     'TV-G', 'NR', 'G', 'TV-Y7-FV', 'UR', 'NC-17'],\n",
    "                                          'Percentage': [percent_tvma, percent_tv14, percent_tvpg, percent_r, percent_pg13, percent_tvy, percent_tvy7,\n",
    "                                                         percent_pg, percent_tvg, percent_nr, percent_g, percent_tvy7fv, percent_ur, percent_nc17]})\n",
    "#percentage_ratings_2015"
   ]
  },
  {
   "cell_type": "code",
   "execution_count": 90,
   "metadata": {},
   "outputs": [
    {
     "data": {
      "image/png": "[encoded data removed]",
      "text/plain": [
       "<Figure size 1008x360 with 1 Axes>"
      ]
     },
     "metadata": {
      "needs_background": "light"
     },
     "output_type": "display_data"
    }
   ],
   "source": [
    "#create bar graph to show data comparison\n",
    "values = percentage_ratings_2015['Percentage']\n",
    "labels = percentage_ratings_2015['Rating']\n",
    "\n",
    "plt.figure(figsize=(14,5))\n",
    "g = sns.barplot(x=values, y=labels)\n",
    "plt.title('2015 Rating Percentage')\n",
    "plt.xlabel('Percentage')\n",
    "plt.ylabel('Rating')\n",
    "plt.savefig(\"images/2015_rating_percentages.png\")\n",
    "plt.show()"
   ]
  },
  {
   "cell_type": "code",
   "execution_count": null,
   "metadata": {},
   "outputs": [],
   "source": []
  },
  {
   "cell_type": "code",
   "execution_count": null,
   "metadata": {},
   "outputs": [],
   "source": []
  },
  {
   "cell_type": "code",
   "execution_count": null,
   "metadata": {},
   "outputs": [],
   "source": []
  },
  {
   "cell_type": "code",
   "execution_count": null,
   "metadata": {},
   "outputs": [],
   "source": []
  },
  {
   "cell_type": "code",
   "execution_count": null,
   "metadata": {},
   "outputs": [],
   "source": []
  },
  {
   "cell_type": "code",
   "execution_count": null,
   "metadata": {},
   "outputs": [],
   "source": []
  }
 ],
 "metadata": {
  "kernelspec": {
   "display_name": "Python 3",
   "language": "python",
   "name": "python3"
  },
  "language_info": {
   "codemirror_mode": {
    "name": "ipython",
    "version": 3
   },
   "file_extension": ".py",
   "mimetype": "text/x-python",
   "name": "python",
   "nbconvert_exporter": "python",
   "pygments_lexer": "ipython3",
   "version": "3.8.5"
  }
 },
 "nbformat": 4,
 "nbformat_minor": 4
}
